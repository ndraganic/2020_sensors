{
 "cells": [
  {
   "cell_type": "markdown",
   "metadata": {},
   "source": [
    "# Sensor Data - Data Scientist Assignment\n",
    "*Niko Draganić*\n",
    "\n",
    "#### Opis zadatka\n",
    "\n",
    "> Dani su podatci prikupljeni iz različitih senzora automobila u razdoblju od 1.1.2020. do 23.6.2020.\n",
    "Potrebno je analizirati dani set podataka i predvidjeti koji će senzori u narednih 7 dana prestati raditi.\n",
    "Točnije,iz danih podataka potrebno je izračunati failure rate senzora i napraviti prediktivni model za prestanak rada senzora (failure prediction).\n",
    "\n",
    "#### Kratak opis rješenja\n",
    "Za početak sam provjerio i analizirao sadržaj, metrike i distribuciju varijabli. Uočio sam da je zastupljenost kvarova u podacima vrlo mala (manja od 1:15000) te da su dodatno modeli senzora, koji prema vlastitoj logici pune podatke u varijable, vrlo neravnomjerno brojčano raspoređeni.  \n",
    "Dodatnom usporedbom zaključio sam da postoje modeli senzora koji su iznimno kvarljivi, kao i modeli koji se iznimno rijetko kvare. Zbog toga sam odlučio ne tretirati dataset kao cjelinu, nego razbiti ga na grupe i to koristeći UMAP transformaciju kako bih iz višedimenzionalnih podataka dobio 2D projekciju. \n",
    "Naknadno sam i *resampling* metodom SMOTE povećao (sintetizirao) broj uzoraka koji predstavljaju kvar. Na kraju sam trenirao modele koristeći XGBoost gradijentni boosting, najprije pojedinačno na grupiranim podacima i svim indikatorima, a zatim i na svim podacima uz primjenu indikatora koji su u zadatku označeni kao prediktivni. U oba slučaja sam dobio točnost modela (za cjelinu) od oko 88%.\n",
    "\n",
    "U nastavku je detaljan kod kako sam pristupio rješavanju zadatka. Notebook je dostupan na [github-u](https://github.com/ndraganic/2020_sensors/), a cijelo rješenje, uključujući i podatke na [deepnote-u](https://beta.deepnote.com/project/ec00c6c0-46e3-4d3f-b21d-ddedb5b5b33a).\n",
    "\n",
    "#### Zaključak\n",
    "Jedan korak kojeg sam htio, ali nisam stigao napraviti, nakon što sam koristeći XGBoost dobio značajne indikatore bio je generiranje moving average-a, i sličnih analitičkih indikatora te ponovno treniranje modela. Za prvu ruku, zadovoljan sam rješenjem kojeg nudim u nastavku.\n"
   ]
  },
  {
   "cell_type": "code",
   "execution_count": 1,
   "metadata": {},
   "outputs": [],
   "source": [
    "# imports\n",
    "import pandas as pd\n",
    "import numpy as np\n",
    "\n",
    "import plotly as py\n",
    "import plotly.graph_objects as go\n",
    "from plotly.subplots import make_subplots\n",
    "from plotly import express as px\n",
    "\n",
    "import datetime\n",
    "\n",
    "import umap\n",
    "\n",
    "from sklearn.model_selection import train_test_split\n",
    "from sklearn.preprocessing import StandardScaler\n",
    "from sklearn.metrics import accuracy_score\n",
    "from imblearn.over_sampling import SMOTE\n",
    "import xgboost as xgb"
   ]
  },
  {
   "cell_type": "markdown",
   "metadata": {},
   "source": [
    "## Data Exploration\n",
    "Na početku svakog DS projekta potrebno je upoznati se s podacima - doznati domene varijabli, distribucije podataka i eventualno logičke odnose između njih. Ovime dobivamo značajne informacije koje nam pomažu u kasnijem postavljanju i interpretaciji modela.\n",
    "\n",
    "Za početak odabirem proizvoljnu datoteku sa podacima na jedan datum."
   ]
  },
  {
   "cell_type": "code",
   "execution_count": 2,
   "metadata": {},
   "outputs": [
    {
     "data": {
      "text/html": [
       "<div>\n",
       "<style scoped>\n",
       "    .dataframe tbody tr th:only-of-type {\n",
       "        vertical-align: middle;\n",
       "    }\n",
       "\n",
       "    .dataframe tbody tr th {\n",
       "        vertical-align: top;\n",
       "    }\n",
       "\n",
       "    .dataframe thead th {\n",
       "        text-align: right;\n",
       "    }\n",
       "</style>\n",
       "<table border=\"1\" class=\"dataframe\">\n",
       "  <thead>\n",
       "    <tr style=\"text-align: right;\">\n",
       "      <th></th>\n",
       "      <th>date</th>\n",
       "      <th>serial_number</th>\n",
       "      <th>type</th>\n",
       "      <th>capacity</th>\n",
       "      <th>failure</th>\n",
       "      <th>stat_1_normalized</th>\n",
       "      <th>stat_1_raw</th>\n",
       "      <th>stat_2_normalized</th>\n",
       "      <th>stat_2_raw</th>\n",
       "      <th>stat_3_normalized</th>\n",
       "      <th>...</th>\n",
       "      <th>stat_250_normalized</th>\n",
       "      <th>stat_250_raw</th>\n",
       "      <th>stat_251_normalized</th>\n",
       "      <th>stat_251_raw</th>\n",
       "      <th>stat_252_normalized</th>\n",
       "      <th>stat_252_raw</th>\n",
       "      <th>stat_254_normalized</th>\n",
       "      <th>stat_254_raw</th>\n",
       "      <th>stat_255_normalized</th>\n",
       "      <th>stat_255_raw</th>\n",
       "    </tr>\n",
       "  </thead>\n",
       "  <tbody>\n",
       "    <tr>\n",
       "      <th>0</th>\n",
       "      <td>2020-03-11</td>\n",
       "      <td>MJ0351YNG9Z0XA</td>\n",
       "      <td>HDS5C3030ALA630</td>\n",
       "      <td>3000592982016</td>\n",
       "      <td>0</td>\n",
       "      <td>100</td>\n",
       "      <td>0</td>\n",
       "      <td>135.0</td>\n",
       "      <td>108.0</td>\n",
       "      <td>143</td>\n",
       "      <td>...</td>\n",
       "      <td>NaN</td>\n",
       "      <td>NaN</td>\n",
       "      <td>NaN</td>\n",
       "      <td>NaN</td>\n",
       "      <td>NaN</td>\n",
       "      <td>NaN</td>\n",
       "      <td>NaN</td>\n",
       "      <td>NaN</td>\n",
       "      <td>NaN</td>\n",
       "      <td>NaN</td>\n",
       "    </tr>\n",
       "    <tr>\n",
       "      <th>1</th>\n",
       "      <td>2020-03-11</td>\n",
       "      <td>Z305B2QN</td>\n",
       "      <td>ST4000DM000</td>\n",
       "      <td>4000787030016</td>\n",
       "      <td>0</td>\n",
       "      <td>116</td>\n",
       "      <td>109628640</td>\n",
       "      <td>NaN</td>\n",
       "      <td>NaN</td>\n",
       "      <td>96</td>\n",
       "      <td>...</td>\n",
       "      <td>NaN</td>\n",
       "      <td>NaN</td>\n",
       "      <td>NaN</td>\n",
       "      <td>NaN</td>\n",
       "      <td>NaN</td>\n",
       "      <td>NaN</td>\n",
       "      <td>NaN</td>\n",
       "      <td>NaN</td>\n",
       "      <td>NaN</td>\n",
       "      <td>NaN</td>\n",
       "    </tr>\n",
       "    <tr>\n",
       "      <th>2</th>\n",
       "      <td>2020-03-11</td>\n",
       "      <td>MJ0351YNG9Z7LA</td>\n",
       "      <td>HDS5C3030ALA630</td>\n",
       "      <td>3000592982016</td>\n",
       "      <td>0</td>\n",
       "      <td>100</td>\n",
       "      <td>0</td>\n",
       "      <td>136.0</td>\n",
       "      <td>104.0</td>\n",
       "      <td>123</td>\n",
       "      <td>...</td>\n",
       "      <td>NaN</td>\n",
       "      <td>NaN</td>\n",
       "      <td>NaN</td>\n",
       "      <td>NaN</td>\n",
       "      <td>NaN</td>\n",
       "      <td>NaN</td>\n",
       "      <td>NaN</td>\n",
       "      <td>NaN</td>\n",
       "      <td>NaN</td>\n",
       "      <td>NaN</td>\n",
       "    </tr>\n",
       "    <tr>\n",
       "      <th>3</th>\n",
       "      <td>2020-03-11</td>\n",
       "      <td>MJ0351YNGABYAA</td>\n",
       "      <td>HDS5C3030ALA630</td>\n",
       "      <td>3000592982016</td>\n",
       "      <td>0</td>\n",
       "      <td>100</td>\n",
       "      <td>0</td>\n",
       "      <td>136.0</td>\n",
       "      <td>104.0</td>\n",
       "      <td>137</td>\n",
       "      <td>...</td>\n",
       "      <td>NaN</td>\n",
       "      <td>NaN</td>\n",
       "      <td>NaN</td>\n",
       "      <td>NaN</td>\n",
       "      <td>NaN</td>\n",
       "      <td>NaN</td>\n",
       "      <td>NaN</td>\n",
       "      <td>NaN</td>\n",
       "      <td>NaN</td>\n",
       "      <td>NaN</td>\n",
       "    </tr>\n",
       "    <tr>\n",
       "      <th>4</th>\n",
       "      <td>2020-03-11</td>\n",
       "      <td>WD-WMC4N2899475</td>\n",
       "      <td>WD30EFRX</td>\n",
       "      <td>3000592982016</td>\n",
       "      <td>0</td>\n",
       "      <td>200</td>\n",
       "      <td>0</td>\n",
       "      <td>NaN</td>\n",
       "      <td>NaN</td>\n",
       "      <td>175</td>\n",
       "      <td>...</td>\n",
       "      <td>NaN</td>\n",
       "      <td>NaN</td>\n",
       "      <td>NaN</td>\n",
       "      <td>NaN</td>\n",
       "      <td>NaN</td>\n",
       "      <td>NaN</td>\n",
       "      <td>NaN</td>\n",
       "      <td>NaN</td>\n",
       "      <td>NaN</td>\n",
       "      <td>NaN</td>\n",
       "    </tr>\n",
       "  </tbody>\n",
       "</table>\n",
       "<p>5 rows × 95 columns</p>\n",
       "</div>"
      ],
      "text/plain": [
       "         date    serial_number             type       capacity  failure  \\\n",
       "0  2020-03-11   MJ0351YNG9Z0XA  HDS5C3030ALA630  3000592982016        0   \n",
       "1  2020-03-11         Z305B2QN      ST4000DM000  4000787030016        0   \n",
       "2  2020-03-11   MJ0351YNG9Z7LA  HDS5C3030ALA630  3000592982016        0   \n",
       "3  2020-03-11   MJ0351YNGABYAA  HDS5C3030ALA630  3000592982016        0   \n",
       "4  2020-03-11  WD-WMC4N2899475         WD30EFRX  3000592982016        0   \n",
       "\n",
       "   stat_1_normalized  stat_1_raw  stat_2_normalized  stat_2_raw  \\\n",
       "0                100           0              135.0       108.0   \n",
       "1                116   109628640                NaN         NaN   \n",
       "2                100           0              136.0       104.0   \n",
       "3                100           0              136.0       104.0   \n",
       "4                200           0                NaN         NaN   \n",
       "\n",
       "   stat_3_normalized  ...  stat_250_normalized  stat_250_raw  \\\n",
       "0                143  ...                  NaN           NaN   \n",
       "1                 96  ...                  NaN           NaN   \n",
       "2                123  ...                  NaN           NaN   \n",
       "3                137  ...                  NaN           NaN   \n",
       "4                175  ...                  NaN           NaN   \n",
       "\n",
       "   stat_251_normalized  stat_251_raw  stat_252_normalized  stat_252_raw  \\\n",
       "0                  NaN           NaN                  NaN           NaN   \n",
       "1                  NaN           NaN                  NaN           NaN   \n",
       "2                  NaN           NaN                  NaN           NaN   \n",
       "3                  NaN           NaN                  NaN           NaN   \n",
       "4                  NaN           NaN                  NaN           NaN   \n",
       "\n",
       "   stat_254_normalized  stat_254_raw  stat_255_normalized  stat_255_raw  \n",
       "0                  NaN           NaN                  NaN           NaN  \n",
       "1                  NaN           NaN                  NaN           NaN  \n",
       "2                  NaN           NaN                  NaN           NaN  \n",
       "3                  NaN           NaN                  NaN           NaN  \n",
       "4                  NaN           NaN                  NaN           NaN  \n",
       "\n",
       "[5 rows x 95 columns]"
      ]
     },
     "execution_count": 2,
     "metadata": {},
     "output_type": "execute_result"
    }
   ],
   "source": [
    "# reading the data\n",
    "df = pd.read_csv('2020-03-11.csv')\n",
    "df.head()"
   ]
  },
  {
   "cell_type": "code",
   "execution_count": 3,
   "metadata": {},
   "outputs": [
    {
     "data": {
      "text/html": [
       "<div>\n",
       "<style scoped>\n",
       "    .dataframe tbody tr th:only-of-type {\n",
       "        vertical-align: middle;\n",
       "    }\n",
       "\n",
       "    .dataframe tbody tr th {\n",
       "        vertical-align: top;\n",
       "    }\n",
       "\n",
       "    .dataframe thead th {\n",
       "        text-align: right;\n",
       "    }\n",
       "</style>\n",
       "<table border=\"1\" class=\"dataframe\">\n",
       "  <thead>\n",
       "    <tr style=\"text-align: right;\">\n",
       "      <th></th>\n",
       "      <th>date</th>\n",
       "      <th>serial_number</th>\n",
       "      <th>type</th>\n",
       "      <th>capacity</th>\n",
       "      <th>failure</th>\n",
       "      <th>stat_1_normalized</th>\n",
       "      <th>stat_1_raw</th>\n",
       "      <th>stat_2_normalized</th>\n",
       "      <th>stat_2_raw</th>\n",
       "      <th>stat_3_normalized</th>\n",
       "      <th>...</th>\n",
       "      <th>stat_250_normalized</th>\n",
       "      <th>stat_250_raw</th>\n",
       "      <th>stat_251_normalized</th>\n",
       "      <th>stat_251_raw</th>\n",
       "      <th>stat_252_normalized</th>\n",
       "      <th>stat_252_raw</th>\n",
       "      <th>stat_254_normalized</th>\n",
       "      <th>stat_254_raw</th>\n",
       "      <th>stat_255_normalized</th>\n",
       "      <th>stat_255_raw</th>\n",
       "    </tr>\n",
       "  </thead>\n",
       "  <tbody>\n",
       "    <tr>\n",
       "      <th>62318</th>\n",
       "      <td>2020-03-11</td>\n",
       "      <td>Z3016V0V</td>\n",
       "      <td>ST4000DM000</td>\n",
       "      <td>4000787030016</td>\n",
       "      <td>0</td>\n",
       "      <td>120</td>\n",
       "      <td>243439816</td>\n",
       "      <td>NaN</td>\n",
       "      <td>NaN</td>\n",
       "      <td>91</td>\n",
       "      <td>...</td>\n",
       "      <td>NaN</td>\n",
       "      <td>NaN</td>\n",
       "      <td>NaN</td>\n",
       "      <td>NaN</td>\n",
       "      <td>NaN</td>\n",
       "      <td>NaN</td>\n",
       "      <td>NaN</td>\n",
       "      <td>NaN</td>\n",
       "      <td>NaN</td>\n",
       "      <td>NaN</td>\n",
       "    </tr>\n",
       "    <tr>\n",
       "      <th>62319</th>\n",
       "      <td>2020-03-11</td>\n",
       "      <td>MJ1323YNG1LZJC</td>\n",
       "      <td>HDS5C3030ALA630</td>\n",
       "      <td>3000592982016</td>\n",
       "      <td>0</td>\n",
       "      <td>100</td>\n",
       "      <td>0</td>\n",
       "      <td>100.0</td>\n",
       "      <td>0.0</td>\n",
       "      <td>124</td>\n",
       "      <td>...</td>\n",
       "      <td>NaN</td>\n",
       "      <td>NaN</td>\n",
       "      <td>NaN</td>\n",
       "      <td>NaN</td>\n",
       "      <td>NaN</td>\n",
       "      <td>NaN</td>\n",
       "      <td>NaN</td>\n",
       "      <td>NaN</td>\n",
       "      <td>NaN</td>\n",
       "      <td>NaN</td>\n",
       "    </tr>\n",
       "    <tr>\n",
       "      <th>62320</th>\n",
       "      <td>2020-03-11</td>\n",
       "      <td>Z301EVVA</td>\n",
       "      <td>ST4000DM000</td>\n",
       "      <td>4000787030016</td>\n",
       "      <td>0</td>\n",
       "      <td>117</td>\n",
       "      <td>145926776</td>\n",
       "      <td>NaN</td>\n",
       "      <td>NaN</td>\n",
       "      <td>91</td>\n",
       "      <td>...</td>\n",
       "      <td>NaN</td>\n",
       "      <td>NaN</td>\n",
       "      <td>NaN</td>\n",
       "      <td>NaN</td>\n",
       "      <td>NaN</td>\n",
       "      <td>NaN</td>\n",
       "      <td>NaN</td>\n",
       "      <td>NaN</td>\n",
       "      <td>NaN</td>\n",
       "      <td>NaN</td>\n",
       "    </tr>\n",
       "    <tr>\n",
       "      <th>62321</th>\n",
       "      <td>2020-03-11</td>\n",
       "      <td>S300YQMQ</td>\n",
       "      <td>ST4000DM000</td>\n",
       "      <td>4000787030016</td>\n",
       "      <td>0</td>\n",
       "      <td>120</td>\n",
       "      <td>242667368</td>\n",
       "      <td>NaN</td>\n",
       "      <td>NaN</td>\n",
       "      <td>97</td>\n",
       "      <td>...</td>\n",
       "      <td>NaN</td>\n",
       "      <td>NaN</td>\n",
       "      <td>NaN</td>\n",
       "      <td>NaN</td>\n",
       "      <td>NaN</td>\n",
       "      <td>NaN</td>\n",
       "      <td>NaN</td>\n",
       "      <td>NaN</td>\n",
       "      <td>NaN</td>\n",
       "      <td>NaN</td>\n",
       "    </tr>\n",
       "    <tr>\n",
       "      <th>62322</th>\n",
       "      <td>2020-03-11</td>\n",
       "      <td>Z304Z66M</td>\n",
       "      <td>ST4000DM000</td>\n",
       "      <td>4000787030016</td>\n",
       "      <td>0</td>\n",
       "      <td>116</td>\n",
       "      <td>114684960</td>\n",
       "      <td>NaN</td>\n",
       "      <td>NaN</td>\n",
       "      <td>97</td>\n",
       "      <td>...</td>\n",
       "      <td>NaN</td>\n",
       "      <td>NaN</td>\n",
       "      <td>NaN</td>\n",
       "      <td>NaN</td>\n",
       "      <td>NaN</td>\n",
       "      <td>NaN</td>\n",
       "      <td>NaN</td>\n",
       "      <td>NaN</td>\n",
       "      <td>NaN</td>\n",
       "      <td>NaN</td>\n",
       "    </tr>\n",
       "  </tbody>\n",
       "</table>\n",
       "<p>5 rows × 95 columns</p>\n",
       "</div>"
      ],
      "text/plain": [
       "             date   serial_number             type       capacity  failure  \\\n",
       "62318  2020-03-11        Z3016V0V      ST4000DM000  4000787030016        0   \n",
       "62319  2020-03-11  MJ1323YNG1LZJC  HDS5C3030ALA630  3000592982016        0   \n",
       "62320  2020-03-11        Z301EVVA      ST4000DM000  4000787030016        0   \n",
       "62321  2020-03-11        S300YQMQ      ST4000DM000  4000787030016        0   \n",
       "62322  2020-03-11        Z304Z66M      ST4000DM000  4000787030016        0   \n",
       "\n",
       "       stat_1_normalized  stat_1_raw  stat_2_normalized  stat_2_raw  \\\n",
       "62318                120   243439816                NaN         NaN   \n",
       "62319                100           0              100.0         0.0   \n",
       "62320                117   145926776                NaN         NaN   \n",
       "62321                120   242667368                NaN         NaN   \n",
       "62322                116   114684960                NaN         NaN   \n",
       "\n",
       "       stat_3_normalized  ...  stat_250_normalized  stat_250_raw  \\\n",
       "62318                 91  ...                  NaN           NaN   \n",
       "62319                124  ...                  NaN           NaN   \n",
       "62320                 91  ...                  NaN           NaN   \n",
       "62321                 97  ...                  NaN           NaN   \n",
       "62322                 97  ...                  NaN           NaN   \n",
       "\n",
       "       stat_251_normalized  stat_251_raw  stat_252_normalized  stat_252_raw  \\\n",
       "62318                  NaN           NaN                  NaN           NaN   \n",
       "62319                  NaN           NaN                  NaN           NaN   \n",
       "62320                  NaN           NaN                  NaN           NaN   \n",
       "62321                  NaN           NaN                  NaN           NaN   \n",
       "62322                  NaN           NaN                  NaN           NaN   \n",
       "\n",
       "       stat_254_normalized  stat_254_raw  stat_255_normalized  stat_255_raw  \n",
       "62318                  NaN           NaN                  NaN           NaN  \n",
       "62319                  NaN           NaN                  NaN           NaN  \n",
       "62320                  NaN           NaN                  NaN           NaN  \n",
       "62321                  NaN           NaN                  NaN           NaN  \n",
       "62322                  NaN           NaN                  NaN           NaN  \n",
       "\n",
       "[5 rows x 95 columns]"
      ]
     },
     "execution_count": 3,
     "metadata": {},
     "output_type": "execute_result"
    }
   ],
   "source": [
    "df.tail()"
   ]
  },
  {
   "cell_type": "markdown",
   "metadata": {},
   "source": [
    "Provjeravam koje varijable se nalaze u *datasetu*:"
   ]
  },
  {
   "cell_type": "code",
   "execution_count": 4,
   "metadata": {},
   "outputs": [
    {
     "data": {
      "text/plain": [
       "Index(['date', 'serial_number', 'type', 'capacity', 'failure',\n",
       "       'stat_1_normalized', 'stat_1_raw', 'stat_2_normalized', 'stat_2_raw',\n",
       "       'stat_3_normalized', 'stat_3_raw', 'stat_4_normalized', 'stat_4_raw',\n",
       "       'stat_5_normalized', 'stat_5_raw', 'stat_7_normalized', 'stat_7_raw',\n",
       "       'stat_8_normalized', 'stat_8_raw', 'stat_9_normalized', 'stat_9_raw',\n",
       "       'stat_10_normalized', 'stat_10_raw', 'stat_11_normalized',\n",
       "       'stat_11_raw', 'stat_12_normalized', 'stat_12_raw',\n",
       "       'stat_13_normalized', 'stat_13_raw', 'stat_15_normalized',\n",
       "       'stat_15_raw', 'stat_22_normalized', 'stat_22_raw',\n",
       "       'stat_183_normalized', 'stat_183_raw', 'stat_184_normalized',\n",
       "       'stat_184_raw', 'stat_187_normalized', 'stat_187_raw',\n",
       "       'stat_188_normalized', 'stat_188_raw', 'stat_189_normalized',\n",
       "       'stat_189_raw', 'stat_190_normalized', 'stat_190_raw',\n",
       "       'stat_191_normalized', 'stat_191_raw', 'stat_192_normalized',\n",
       "       'stat_192_raw', 'stat_193_normalized', 'stat_193_raw',\n",
       "       'stat_194_normalized', 'stat_194_raw', 'stat_195_normalized',\n",
       "       'stat_195_raw', 'stat_196_normalized', 'stat_196_raw',\n",
       "       'stat_197_normalized', 'stat_197_raw', 'stat_198_normalized',\n",
       "       'stat_198_raw', 'stat_199_normalized', 'stat_199_raw',\n",
       "       'stat_200_normalized', 'stat_200_raw', 'stat_201_normalized',\n",
       "       'stat_201_raw', 'stat_220_normalized', 'stat_220_raw',\n",
       "       'stat_222_normalized', 'stat_222_raw', 'stat_223_normalized',\n",
       "       'stat_223_raw', 'stat_224_normalized', 'stat_224_raw',\n",
       "       'stat_225_normalized', 'stat_225_raw', 'stat_226_normalized',\n",
       "       'stat_226_raw', 'stat_240_normalized', 'stat_240_raw',\n",
       "       'stat_241_normalized', 'stat_241_raw', 'stat_242_normalized',\n",
       "       'stat_242_raw', 'stat_250_normalized', 'stat_250_raw',\n",
       "       'stat_251_normalized', 'stat_251_raw', 'stat_252_normalized',\n",
       "       'stat_252_raw', 'stat_254_normalized', 'stat_254_raw',\n",
       "       'stat_255_normalized', 'stat_255_raw'],\n",
       "      dtype='object')"
      ]
     },
     "execution_count": 4,
     "metadata": {},
     "output_type": "execute_result"
    }
   ],
   "source": [
    "df.columns"
   ]
  },
  {
   "cell_type": "markdown",
   "metadata": {},
   "source": [
    "Varijable su detaljnije opisane u zadatku:\n",
    "\n",
    "> Svaki dnevni zapis pojedinog senzora sadrži podatke:\n",
    "+ date - datum snapshota, format: yyyy-mm-dd\n",
    "+ serial_number - serijski broj senzora\n",
    "+ type - tip senzora\n",
    "+ capacity - kapacitet\n",
    "+ failure - “0” ako je senzor ispravan, “1” ako je to zadnji dan kada je senzor ispravno\n",
    "radio\n",
    "+ stat_n_normalized i stat_n_raw - ukupno 90 stupaca za 45 različitih statistika koje\n",
    "generira pojedini senzor (45 raw i 45 normalized vrijednosti)\n",
    "\n",
    "Postavlja se pitanje je li bolje koristiti sirove ili normalizirane podatke. Odgovor ću probati naći tokom idućih par poglavlja.\n",
    "\n",
    "Provjeravam kako stojimo s kvarovima u ovom datasetu:"
   ]
  },
  {
   "cell_type": "code",
   "execution_count": 5,
   "metadata": {},
   "outputs": [
    {
     "data": {
      "text/html": [
       "<div>\n",
       "<style scoped>\n",
       "    .dataframe tbody tr th:only-of-type {\n",
       "        vertical-align: middle;\n",
       "    }\n",
       "\n",
       "    .dataframe tbody tr th {\n",
       "        vertical-align: top;\n",
       "    }\n",
       "\n",
       "    .dataframe thead th {\n",
       "        text-align: right;\n",
       "    }\n",
       "</style>\n",
       "<table border=\"1\" class=\"dataframe\">\n",
       "  <thead>\n",
       "    <tr style=\"text-align: right;\">\n",
       "      <th></th>\n",
       "      <th>date</th>\n",
       "      <th>serial_number</th>\n",
       "      <th>type</th>\n",
       "      <th>capacity</th>\n",
       "      <th>failure</th>\n",
       "      <th>stat_1_normalized</th>\n",
       "      <th>stat_1_raw</th>\n",
       "      <th>stat_2_normalized</th>\n",
       "      <th>stat_2_raw</th>\n",
       "      <th>stat_3_normalized</th>\n",
       "      <th>...</th>\n",
       "      <th>stat_250_normalized</th>\n",
       "      <th>stat_250_raw</th>\n",
       "      <th>stat_251_normalized</th>\n",
       "      <th>stat_251_raw</th>\n",
       "      <th>stat_252_normalized</th>\n",
       "      <th>stat_252_raw</th>\n",
       "      <th>stat_254_normalized</th>\n",
       "      <th>stat_254_raw</th>\n",
       "      <th>stat_255_normalized</th>\n",
       "      <th>stat_255_raw</th>\n",
       "    </tr>\n",
       "  </thead>\n",
       "  <tbody>\n",
       "    <tr>\n",
       "      <th>45926</th>\n",
       "      <td>2020-03-11</td>\n",
       "      <td>Z300GYT5</td>\n",
       "      <td>ST4000DM000</td>\n",
       "      <td>4000787030016</td>\n",
       "      <td>1</td>\n",
       "      <td>114</td>\n",
       "      <td>71204576</td>\n",
       "      <td>NaN</td>\n",
       "      <td>NaN</td>\n",
       "      <td>91</td>\n",
       "      <td>...</td>\n",
       "      <td>NaN</td>\n",
       "      <td>NaN</td>\n",
       "      <td>NaN</td>\n",
       "      <td>NaN</td>\n",
       "      <td>NaN</td>\n",
       "      <td>NaN</td>\n",
       "      <td>NaN</td>\n",
       "      <td>NaN</td>\n",
       "      <td>NaN</td>\n",
       "      <td>NaN</td>\n",
       "    </tr>\n",
       "  </tbody>\n",
       "</table>\n",
       "<p>1 rows × 95 columns</p>\n",
       "</div>"
      ],
      "text/plain": [
       "             date serial_number         type       capacity  failure  \\\n",
       "45926  2020-03-11      Z300GYT5  ST4000DM000  4000787030016        1   \n",
       "\n",
       "       stat_1_normalized  stat_1_raw  stat_2_normalized  stat_2_raw  \\\n",
       "45926                114    71204576                NaN         NaN   \n",
       "\n",
       "       stat_3_normalized  ...  stat_250_normalized  stat_250_raw  \\\n",
       "45926                 91  ...                  NaN           NaN   \n",
       "\n",
       "       stat_251_normalized  stat_251_raw  stat_252_normalized  stat_252_raw  \\\n",
       "45926                  NaN           NaN                  NaN           NaN   \n",
       "\n",
       "       stat_254_normalized  stat_254_raw  stat_255_normalized  stat_255_raw  \n",
       "45926                  NaN           NaN                  NaN           NaN  \n",
       "\n",
       "[1 rows x 95 columns]"
      ]
     },
     "execution_count": 5,
     "metadata": {},
     "output_type": "execute_result"
    }
   ],
   "source": [
    "# nr of failures\n",
    "df[df.failure==1].head()"
   ]
  },
  {
   "cell_type": "code",
   "execution_count": 6,
   "metadata": {},
   "outputs": [
    {
     "data": {
      "text/plain": [
       "62323"
      ]
     },
     "execution_count": 6,
     "metadata": {},
     "output_type": "execute_result"
    }
   ],
   "source": [
    "# nr of rows\n",
    "df.index.size"
   ]
  },
  {
   "cell_type": "markdown",
   "metadata": {},
   "source": [
    "Jedan kvar u 62323 opservacije. Očekujem da su podaci iznimno nebalansirani, odnosno da broj uočenih kvarova bude manji od 1 u 10000 zabilježenih podataka."
   ]
  },
  {
   "cell_type": "code",
   "execution_count": 7,
   "metadata": {},
   "outputs": [
    {
     "data": {
      "text/plain": [
       "62323"
      ]
     },
     "execution_count": 7,
     "metadata": {},
     "output_type": "execute_result"
    }
   ],
   "source": [
    "# nr of unique rows\n",
    "df.serial_number.unique().size"
   ]
  },
  {
   "cell_type": "markdown",
   "metadata": {},
   "source": [
    "`serial_number` je primarni ključ svakog dokumenta. Provjeravam kakav je odnos po tipovima senzora:"
   ]
  },
  {
   "cell_type": "code",
   "execution_count": 8,
   "metadata": {},
   "outputs": [
    {
     "data": {
      "text/plain": [
       "type\n",
       "ST4000DM000        33891\n",
       "HMS5C4040ALE640     7076\n",
       "HDS5C3030ALA630     4557\n",
       "HDS722020ALA330     4402\n",
       "HMS5C4040BLE640     3091\n",
       "HDS5C4040ALE630     2705\n",
       "ST6000DX000         1882\n",
       "WD30EFRX            1052\n",
       "HDS723030ALA640      998\n",
       "HN                   636\n",
       "WD60EFRX             458\n",
       "WD5000LPVX           295\n",
       "ST4000DX000          207\n",
       "MD04ABA400V          146\n",
       "WD20EFRX             128\n",
       "WD1600AAJS           100\n",
       "WD10EADS              72\n",
       "ST9250315AS           54\n",
       "ST3160316AS           51\n",
       "ST320LT007            47\n",
       "DT01ACA300            47\n",
       "WD40EFRX              46\n",
       "ST31500541AS          45\n",
       "HUH728080ALE600       45\n",
       "MD04ABA500V           45\n",
       "ST3160318AS           44\n",
       "HDS724040ALE640       43\n",
       "ST9320325AS           23\n",
       "WD5000BPKT            20\n",
       "WD800AAJS             14\n",
       "WD10EACS              12\n",
       "WD3200BEKX            10\n",
       "HDS723030BLE640        9\n",
       "HDS723020BLA642        8\n",
       "WD2500BPVT             8\n",
       "WD1600AAJB             6\n",
       "ST2000VN000            6\n",
       "WD800AAJB              5\n",
       "WD800BB                5\n",
       "WD5002ABYS             5\n",
       "WD800JB                4\n",
       "WD2500AAJS             3\n",
       "ST250LT007             2\n",
       "WD5003ABYX             2\n",
       "WD3200AAJB             2\n",
       "WD3200AAJS             2\n",
       "HDT725025VLA380        1\n",
       "HDS5C3030BLE630        1\n",
       "WD3200LPVX             1\n",
       "WD2500AAJB             1\n",
       "ST3500320AS            1\n",
       "WD3200BEKT             1\n",
       "WD3200AAKS             1\n",
       "WD800JD                1\n",
       "WD10EADX               1\n",
       "WD10EARS               1\n",
       "WD15EARS               1\n",
       "WD1600BPVT             1\n",
       "WD2500BEVT             1\n",
       "WD800LB                1\n",
       "Name: serial_number, dtype: int64"
      ]
     },
     "execution_count": 8,
     "metadata": {},
     "output_type": "execute_result"
    }
   ],
   "source": [
    "df.groupby('type').count().loc[:, 'serial_number'].sort_values(ascending=False)"
   ]
  },
  {
   "cell_type": "code",
   "execution_count": 9,
   "metadata": {},
   "outputs": [
    {
     "data": {
      "text/plain": [
       "60"
      ]
     },
     "execution_count": 9,
     "metadata": {},
     "output_type": "execute_result"
    }
   ],
   "source": [
    "df.type.unique().size"
   ]
  },
  {
   "cell_type": "code",
   "execution_count": 10,
   "metadata": {},
   "outputs": [
    {
     "data": {
      "text/plain": [
       "0.967379619081238"
      ]
     },
     "execution_count": 10,
     "metadata": {},
     "output_type": "execute_result"
    }
   ],
   "source": [
    "df.groupby('type').count().loc[:, 'serial_number'].nlargest(10).sum() / df.index.size"
   ]
  },
  {
   "cell_type": "markdown",
   "metadata": {},
   "source": [
    "Vidimio i vrlo neravnomjernu raspodjelu senzora po tipovima. Od 60 različitih tipova senzora, 10 najzastupljenijih ima 96.7% podataka, dok jedan najzastupljeniji generira preko 50% podataka.\n",
    "\n",
    "> Ovo je prvi veliki problem kod modeliranja. S obzirom da modeli senzora nisu zastupljeni jednakom količinom podataka, potrebno je dodatnu pažnju posvetiti *sampling* metodama.\n",
    "\n",
    "Iduće što provjeravam je popunjenost parametara. Očekujem da je popunjenost varijable sa *sirovim* podacima i te iste normalizirane varijable jednaka."
   ]
  },
  {
   "cell_type": "code",
   "execution_count": 11,
   "metadata": {},
   "outputs": [
    {
     "data": {
      "text/plain": [
       "stat_1_raw      100.000000\n",
       "stat_2_raw       38.204194\n",
       "stat_3_raw      100.000000\n",
       "stat_4_raw      100.000000\n",
       "stat_5_raw      100.000000\n",
       "stat_7_raw      100.000000\n",
       "stat_8_raw       38.204194\n",
       "stat_9_raw      100.000000\n",
       "stat_10_raw     100.000000\n",
       "stat_11_raw       4.646760\n",
       "stat_12_raw     100.000000\n",
       "stat_13_raw       0.000000\n",
       "stat_15_raw       0.000000\n",
       "stat_22_raw       0.072204\n",
       "stat_183_raw     57.956132\n",
       "stat_184_raw     58.171141\n",
       "stat_187_raw     58.171141\n",
       "stat_188_raw     58.171141\n",
       "stat_189_raw     58.169536\n",
       "stat_190_raw     58.172745\n",
       "stat_191_raw     59.544630\n",
       "stat_192_raw     99.756109\n",
       "stat_193_raw     98.735619\n",
       "stat_194_raw     99.998395\n",
       "stat_195_raw      4.800796\n",
       "stat_196_raw     41.830464\n",
       "stat_197_raw    100.000000\n",
       "stat_198_raw    100.000000\n",
       "stat_199_raw    100.000000\n",
       "stat_200_raw      4.646760\n",
       "stat_201_raw      0.000000\n",
       "stat_220_raw      0.306468\n",
       "stat_222_raw      0.306468\n",
       "stat_223_raw      1.326958\n",
       "stat_224_raw      0.306468\n",
       "stat_225_raw      1.020490\n",
       "stat_226_raw      0.306468\n",
       "stat_240_raw     58.476004\n",
       "stat_241_raw     58.070054\n",
       "stat_242_raw     58.070054\n",
       "stat_250_raw      0.078623\n",
       "stat_251_raw      0.078623\n",
       "stat_252_raw      0.078623\n",
       "stat_254_raw      0.235868\n",
       "stat_255_raw      0.000000\n",
       "dtype: float64"
      ]
     },
     "execution_count": 11,
     "metadata": {},
     "output_type": "execute_result"
    }
   ],
   "source": [
    "df.iloc[:, 6::2].isnull().sum().apply(lambda x: (62323-x)/62323*100)"
   ]
  },
  {
   "cell_type": "markdown",
   "metadata": {},
   "source": [
    "Parametri koji imaju stopostotnu popunjenost su: `stat_1/3/4/5/7/9/10/12/197/198/199`. Dodatno, preko 90% popunjenosti imaju `stat_192/193/194`, dok iznad 50% popunjenosti imaju još `stat_183/184/187/188/189/190/191/240/241/242`. S druge strane, `stat_13/15/201/255` su potpuno prazni, dok još `stat_22/250/251/252` imaju popunjenost manju od 0.1%. Statistike za ove nepopunjene kolone trebat će pustiti na cijelom datasetu, no u slučaju da je i u drugim danima njihova popunjenost loša, za potrebe ovog zadatka one će biti zanemarene.\n",
    "\n",
    "Parametri koji su najviše popunjeni odgovaraju i uputama zadatka za najidikativnije parametre, osim parametra stat_201, čiju veću popunjenost očekujemo kod povećanja broja *failurea*:\n",
    "> Metrike koje se smatraju kao dobri indikatori ispravnosti senzora i mogu biti indikatori kritičnog stanja su stat_n, za n iz skupa: 5, 10, 184, 187, 188, 196, 197, 198, 201\n",
    "\n",
    "Nakon toga provjeravam osnovne statističke parametre za stats kolone, najprije za normalizirane, a zatim i za sirove podatke."
   ]
  },
  {
   "cell_type": "code",
   "execution_count": 12,
   "metadata": {},
   "outputs": [
    {
     "data": {
      "text/html": [
       "<div>\n",
       "<style scoped>\n",
       "    .dataframe tbody tr th:only-of-type {\n",
       "        vertical-align: middle;\n",
       "    }\n",
       "\n",
       "    .dataframe tbody tr th {\n",
       "        vertical-align: top;\n",
       "    }\n",
       "\n",
       "    .dataframe thead th {\n",
       "        text-align: right;\n",
       "    }\n",
       "</style>\n",
       "<table border=\"1\" class=\"dataframe\">\n",
       "  <thead>\n",
       "    <tr style=\"text-align: right;\">\n",
       "      <th></th>\n",
       "      <th>count</th>\n",
       "      <th>mean</th>\n",
       "      <th>std</th>\n",
       "      <th>min</th>\n",
       "      <th>25_pctl</th>\n",
       "      <th>50_pctl</th>\n",
       "      <th>75_pctl</th>\n",
       "      <th>max</th>\n",
       "    </tr>\n",
       "  </thead>\n",
       "  <tbody>\n",
       "    <tr>\n",
       "      <th>stat_1_normalized</th>\n",
       "      <td>62323.0</td>\n",
       "      <td>112.420391</td>\n",
       "      <td>18.765636</td>\n",
       "      <td>49.0</td>\n",
       "      <td>100.00</td>\n",
       "      <td>112.0</td>\n",
       "      <td>117.0</td>\n",
       "      <td>200.0</td>\n",
       "    </tr>\n",
       "    <tr>\n",
       "      <th>stat_2_normalized</th>\n",
       "      <td>23810.0</td>\n",
       "      <td>128.559429</td>\n",
       "      <td>25.133794</td>\n",
       "      <td>100.0</td>\n",
       "      <td>128.25</td>\n",
       "      <td>133.0</td>\n",
       "      <td>134.0</td>\n",
       "      <td>252.0</td>\n",
       "    </tr>\n",
       "    <tr>\n",
       "      <th>stat_3_normalized</th>\n",
       "      <td>62323.0</td>\n",
       "      <td>105.238243</td>\n",
       "      <td>18.750135</td>\n",
       "      <td>86.0</td>\n",
       "      <td>94.00</td>\n",
       "      <td>98.0</td>\n",
       "      <td>114.0</td>\n",
       "      <td>253.0</td>\n",
       "    </tr>\n",
       "    <tr>\n",
       "      <th>stat_4_normalized</th>\n",
       "      <td>62323.0</td>\n",
       "      <td>99.998139</td>\n",
       "      <td>0.151041</td>\n",
       "      <td>74.0</td>\n",
       "      <td>100.00</td>\n",
       "      <td>100.0</td>\n",
       "      <td>100.0</td>\n",
       "      <td>100.0</td>\n",
       "    </tr>\n",
       "    <tr>\n",
       "      <th>stat_5_normalized</th>\n",
       "      <td>62323.0</td>\n",
       "      <td>105.158032</td>\n",
       "      <td>23.925538</td>\n",
       "      <td>24.0</td>\n",
       "      <td>100.00</td>\n",
       "      <td>100.0</td>\n",
       "      <td>100.0</td>\n",
       "      <td>252.0</td>\n",
       "    </tr>\n",
       "    <tr>\n",
       "      <th>stat_7_normalized</th>\n",
       "      <td>62323.0</td>\n",
       "      <td>92.580107</td>\n",
       "      <td>22.380394</td>\n",
       "      <td>39.0</td>\n",
       "      <td>83.00</td>\n",
       "      <td>87.0</td>\n",
       "      <td>100.0</td>\n",
       "      <td>252.0</td>\n",
       "    </tr>\n",
       "    <tr>\n",
       "      <th>stat_8_normalized</th>\n",
       "      <td>23810.0</td>\n",
       "      <td>115.952373</td>\n",
       "      <td>24.335609</td>\n",
       "      <td>100.0</td>\n",
       "      <td>107.00</td>\n",
       "      <td>113.0</td>\n",
       "      <td>115.0</td>\n",
       "      <td>252.0</td>\n",
       "    </tr>\n",
       "    <tr>\n",
       "      <th>stat_9_normalized</th>\n",
       "      <td>62323.0</td>\n",
       "      <td>92.032283</td>\n",
       "      <td>8.570496</td>\n",
       "      <td>1.0</td>\n",
       "      <td>90.00</td>\n",
       "      <td>95.0</td>\n",
       "      <td>98.0</td>\n",
       "      <td>100.0</td>\n",
       "    </tr>\n",
       "    <tr>\n",
       "      <th>stat_10_normalized</th>\n",
       "      <td>62323.0</td>\n",
       "      <td>101.548257</td>\n",
       "      <td>15.278377</td>\n",
       "      <td>70.0</td>\n",
       "      <td>100.00</td>\n",
       "      <td>100.0</td>\n",
       "      <td>100.0</td>\n",
       "      <td>252.0</td>\n",
       "    </tr>\n",
       "    <tr>\n",
       "      <th>stat_11_normalized</th>\n",
       "      <td>2896.0</td>\n",
       "      <td>101.622238</td>\n",
       "      <td>15.645542</td>\n",
       "      <td>94.0</td>\n",
       "      <td>100.00</td>\n",
       "      <td>100.0</td>\n",
       "      <td>100.0</td>\n",
       "      <td>252.0</td>\n",
       "    </tr>\n",
       "    <tr>\n",
       "      <th>stat_12_normalized</th>\n",
       "      <td>62323.0</td>\n",
       "      <td>99.999743</td>\n",
       "      <td>0.064091</td>\n",
       "      <td>84.0</td>\n",
       "      <td>100.00</td>\n",
       "      <td>100.0</td>\n",
       "      <td>100.0</td>\n",
       "      <td>100.0</td>\n",
       "    </tr>\n",
       "    <tr>\n",
       "      <th>stat_13_normalized</th>\n",
       "      <td>0.0</td>\n",
       "      <td>NaN</td>\n",
       "      <td>NaN</td>\n",
       "      <td>NaN</td>\n",
       "      <td>NaN</td>\n",
       "      <td>NaN</td>\n",
       "      <td>NaN</td>\n",
       "      <td>NaN</td>\n",
       "    </tr>\n",
       "    <tr>\n",
       "      <th>stat_15_normalized</th>\n",
       "      <td>0.0</td>\n",
       "      <td>NaN</td>\n",
       "      <td>NaN</td>\n",
       "      <td>NaN</td>\n",
       "      <td>NaN</td>\n",
       "      <td>NaN</td>\n",
       "      <td>NaN</td>\n",
       "      <td>NaN</td>\n",
       "    </tr>\n",
       "    <tr>\n",
       "      <th>stat_22_normalized</th>\n",
       "      <td>45.0</td>\n",
       "      <td>100.000000</td>\n",
       "      <td>0.000000</td>\n",
       "      <td>100.0</td>\n",
       "      <td>100.00</td>\n",
       "      <td>100.0</td>\n",
       "      <td>100.0</td>\n",
       "      <td>100.0</td>\n",
       "    </tr>\n",
       "    <tr>\n",
       "      <th>stat_183_normalized</th>\n",
       "      <td>36120.0</td>\n",
       "      <td>99.718106</td>\n",
       "      <td>3.637989</td>\n",
       "      <td>1.0</td>\n",
       "      <td>100.00</td>\n",
       "      <td>100.0</td>\n",
       "      <td>100.0</td>\n",
       "      <td>100.0</td>\n",
       "    </tr>\n",
       "    <tr>\n",
       "      <th>stat_184_normalized</th>\n",
       "      <td>36254.0</td>\n",
       "      <td>99.995283</td>\n",
       "      <td>0.162406</td>\n",
       "      <td>94.0</td>\n",
       "      <td>100.00</td>\n",
       "      <td>100.0</td>\n",
       "      <td>100.0</td>\n",
       "      <td>100.0</td>\n",
       "    </tr>\n",
       "    <tr>\n",
       "      <th>stat_187_normalized</th>\n",
       "      <td>36254.0</td>\n",
       "      <td>99.968141</td>\n",
       "      <td>0.709438</td>\n",
       "      <td>52.0</td>\n",
       "      <td>100.00</td>\n",
       "      <td>100.0</td>\n",
       "      <td>100.0</td>\n",
       "      <td>100.0</td>\n",
       "    </tr>\n",
       "    <tr>\n",
       "      <th>stat_188_normalized</th>\n",
       "      <td>36254.0</td>\n",
       "      <td>100.000000</td>\n",
       "      <td>0.000000</td>\n",
       "      <td>100.0</td>\n",
       "      <td>100.00</td>\n",
       "      <td>100.0</td>\n",
       "      <td>100.0</td>\n",
       "      <td>100.0</td>\n",
       "    </tr>\n",
       "    <tr>\n",
       "      <th>stat_189_normalized</th>\n",
       "      <td>36253.0</td>\n",
       "      <td>97.643754</td>\n",
       "      <td>6.587967</td>\n",
       "      <td>1.0</td>\n",
       "      <td>98.00</td>\n",
       "      <td>100.0</td>\n",
       "      <td>100.0</td>\n",
       "      <td>100.0</td>\n",
       "    </tr>\n",
       "    <tr>\n",
       "      <th>stat_190_normalized</th>\n",
       "      <td>36255.0</td>\n",
       "      <td>71.955813</td>\n",
       "      <td>5.284673</td>\n",
       "      <td>55.0</td>\n",
       "      <td>68.00</td>\n",
       "      <td>73.0</td>\n",
       "      <td>76.0</td>\n",
       "      <td>84.0</td>\n",
       "    </tr>\n",
       "    <tr>\n",
       "      <th>stat_191_normalized</th>\n",
       "      <td>37110.0</td>\n",
       "      <td>101.764807</td>\n",
       "      <td>17.460004</td>\n",
       "      <td>1.0</td>\n",
       "      <td>100.00</td>\n",
       "      <td>100.0</td>\n",
       "      <td>100.0</td>\n",
       "      <td>252.0</td>\n",
       "    </tr>\n",
       "    <tr>\n",
       "      <th>stat_192_normalized</th>\n",
       "      <td>62171.0</td>\n",
       "      <td>104.831256</td>\n",
       "      <td>23.084738</td>\n",
       "      <td>46.0</td>\n",
       "      <td>100.00</td>\n",
       "      <td>100.0</td>\n",
       "      <td>100.0</td>\n",
       "      <td>252.0</td>\n",
       "    </tr>\n",
       "    <tr>\n",
       "      <th>stat_193_normalized</th>\n",
       "      <td>61535.0</td>\n",
       "      <td>97.992541</td>\n",
       "      <td>20.808037</td>\n",
       "      <td>1.0</td>\n",
       "      <td>94.00</td>\n",
       "      <td>99.0</td>\n",
       "      <td>100.0</td>\n",
       "      <td>200.0</td>\n",
       "    </tr>\n",
       "    <tr>\n",
       "      <th>stat_194_normalized</th>\n",
       "      <td>62322.0</td>\n",
       "      <td>98.592118</td>\n",
       "      <td>88.072466</td>\n",
       "      <td>16.0</td>\n",
       "      <td>26.00</td>\n",
       "      <td>35.0</td>\n",
       "      <td>193.0</td>\n",
       "      <td>253.0</td>\n",
       "    </tr>\n",
       "    <tr>\n",
       "      <th>stat_195_normalized</th>\n",
       "      <td>2992.0</td>\n",
       "      <td>72.094920</td>\n",
       "      <td>16.804887</td>\n",
       "      <td>17.0</td>\n",
       "      <td>65.00</td>\n",
       "      <td>66.0</td>\n",
       "      <td>76.0</td>\n",
       "      <td>100.0</td>\n",
       "    </tr>\n",
       "    <tr>\n",
       "      <th>stat_196_normalized</th>\n",
       "      <td>26070.0</td>\n",
       "      <td>112.319371</td>\n",
       "      <td>35.793630</td>\n",
       "      <td>21.0</td>\n",
       "      <td>100.00</td>\n",
       "      <td>100.0</td>\n",
       "      <td>100.0</td>\n",
       "      <td>252.0</td>\n",
       "    </tr>\n",
       "    <tr>\n",
       "      <th>stat_197_normalized</th>\n",
       "      <td>62323.0</td>\n",
       "      <td>105.174735</td>\n",
       "      <td>23.901154</td>\n",
       "      <td>85.0</td>\n",
       "      <td>100.00</td>\n",
       "      <td>100.0</td>\n",
       "      <td>100.0</td>\n",
       "      <td>252.0</td>\n",
       "    </tr>\n",
       "    <tr>\n",
       "      <th>stat_198_normalized</th>\n",
       "      <td>62323.0</td>\n",
       "      <td>101.858977</td>\n",
       "      <td>16.221384</td>\n",
       "      <td>85.0</td>\n",
       "      <td>100.00</td>\n",
       "      <td>100.0</td>\n",
       "      <td>100.0</td>\n",
       "      <td>252.0</td>\n",
       "    </tr>\n",
       "    <tr>\n",
       "      <th>stat_199_normalized</th>\n",
       "      <td>62323.0</td>\n",
       "      <td>199.985559</td>\n",
       "      <td>1.201626</td>\n",
       "      <td>100.0</td>\n",
       "      <td>200.00</td>\n",
       "      <td>200.0</td>\n",
       "      <td>200.0</td>\n",
       "      <td>200.0</td>\n",
       "    </tr>\n",
       "    <tr>\n",
       "      <th>stat_200_normalized</th>\n",
       "      <td>2896.0</td>\n",
       "      <td>106.627072</td>\n",
       "      <td>25.018330</td>\n",
       "      <td>1.0</td>\n",
       "      <td>100.00</td>\n",
       "      <td>100.0</td>\n",
       "      <td>100.0</td>\n",
       "      <td>200.0</td>\n",
       "    </tr>\n",
       "    <tr>\n",
       "      <th>stat_201_normalized</th>\n",
       "      <td>0.0</td>\n",
       "      <td>NaN</td>\n",
       "      <td>NaN</td>\n",
       "      <td>NaN</td>\n",
       "      <td>NaN</td>\n",
       "      <td>NaN</td>\n",
       "      <td>NaN</td>\n",
       "      <td>NaN</td>\n",
       "    </tr>\n",
       "    <tr>\n",
       "      <th>stat_220_normalized</th>\n",
       "      <td>191.0</td>\n",
       "      <td>100.000000</td>\n",
       "      <td>0.000000</td>\n",
       "      <td>100.0</td>\n",
       "      <td>100.00</td>\n",
       "      <td>100.0</td>\n",
       "      <td>100.0</td>\n",
       "      <td>100.0</td>\n",
       "    </tr>\n",
       "    <tr>\n",
       "      <th>stat_222_normalized</th>\n",
       "      <td>191.0</td>\n",
       "      <td>80.780105</td>\n",
       "      <td>2.845832</td>\n",
       "      <td>78.0</td>\n",
       "      <td>78.00</td>\n",
       "      <td>83.0</td>\n",
       "      <td>83.0</td>\n",
       "      <td>98.0</td>\n",
       "    </tr>\n",
       "    <tr>\n",
       "      <th>stat_223_normalized</th>\n",
       "      <td>827.0</td>\n",
       "      <td>105.680774</td>\n",
       "      <td>28.893637</td>\n",
       "      <td>94.0</td>\n",
       "      <td>100.00</td>\n",
       "      <td>100.0</td>\n",
       "      <td>100.0</td>\n",
       "      <td>252.0</td>\n",
       "    </tr>\n",
       "    <tr>\n",
       "      <th>stat_224_normalized</th>\n",
       "      <td>191.0</td>\n",
       "      <td>100.000000</td>\n",
       "      <td>0.000000</td>\n",
       "      <td>100.0</td>\n",
       "      <td>100.00</td>\n",
       "      <td>100.0</td>\n",
       "      <td>100.0</td>\n",
       "      <td>100.0</td>\n",
       "    </tr>\n",
       "    <tr>\n",
       "      <th>stat_225_normalized</th>\n",
       "      <td>636.0</td>\n",
       "      <td>89.320755</td>\n",
       "      <td>9.640022</td>\n",
       "      <td>40.0</td>\n",
       "      <td>86.75</td>\n",
       "      <td>93.0</td>\n",
       "      <td>95.0</td>\n",
       "      <td>100.0</td>\n",
       "    </tr>\n",
       "    <tr>\n",
       "      <th>stat_226_normalized</th>\n",
       "      <td>191.0</td>\n",
       "      <td>100.000000</td>\n",
       "      <td>0.000000</td>\n",
       "      <td>100.0</td>\n",
       "      <td>100.00</td>\n",
       "      <td>100.0</td>\n",
       "      <td>100.0</td>\n",
       "      <td>100.0</td>\n",
       "    </tr>\n",
       "    <tr>\n",
       "      <th>stat_240_normalized</th>\n",
       "      <td>36444.0</td>\n",
       "      <td>99.960899</td>\n",
       "      <td>1.032965</td>\n",
       "      <td>38.0</td>\n",
       "      <td>100.00</td>\n",
       "      <td>100.0</td>\n",
       "      <td>100.0</td>\n",
       "      <td>100.0</td>\n",
       "    </tr>\n",
       "    <tr>\n",
       "      <th>stat_241_normalized</th>\n",
       "      <td>36191.0</td>\n",
       "      <td>100.060789</td>\n",
       "      <td>2.464819</td>\n",
       "      <td>100.0</td>\n",
       "      <td>100.00</td>\n",
       "      <td>100.0</td>\n",
       "      <td>100.0</td>\n",
       "      <td>200.0</td>\n",
       "    </tr>\n",
       "    <tr>\n",
       "      <th>stat_242_normalized</th>\n",
       "      <td>36191.0</td>\n",
       "      <td>100.060789</td>\n",
       "      <td>2.464819</td>\n",
       "      <td>100.0</td>\n",
       "      <td>100.00</td>\n",
       "      <td>100.0</td>\n",
       "      <td>100.0</td>\n",
       "      <td>200.0</td>\n",
       "    </tr>\n",
       "    <tr>\n",
       "      <th>stat_250_normalized</th>\n",
       "      <td>49.0</td>\n",
       "      <td>1.000000</td>\n",
       "      <td>0.000000</td>\n",
       "      <td>1.0</td>\n",
       "      <td>1.00</td>\n",
       "      <td>1.0</td>\n",
       "      <td>1.0</td>\n",
       "      <td>1.0</td>\n",
       "    </tr>\n",
       "    <tr>\n",
       "      <th>stat_251_normalized</th>\n",
       "      <td>49.0</td>\n",
       "      <td>1.000000</td>\n",
       "      <td>0.000000</td>\n",
       "      <td>1.0</td>\n",
       "      <td>1.00</td>\n",
       "      <td>1.0</td>\n",
       "      <td>1.0</td>\n",
       "      <td>1.0</td>\n",
       "    </tr>\n",
       "    <tr>\n",
       "      <th>stat_252_normalized</th>\n",
       "      <td>49.0</td>\n",
       "      <td>27.265306</td>\n",
       "      <td>44.161057</td>\n",
       "      <td>1.0</td>\n",
       "      <td>1.00</td>\n",
       "      <td>1.0</td>\n",
       "      <td>100.0</td>\n",
       "      <td>100.0</td>\n",
       "    </tr>\n",
       "    <tr>\n",
       "      <th>stat_254_normalized</th>\n",
       "      <td>147.0</td>\n",
       "      <td>114.285714</td>\n",
       "      <td>35.112344</td>\n",
       "      <td>100.0</td>\n",
       "      <td>100.00</td>\n",
       "      <td>100.0</td>\n",
       "      <td>100.0</td>\n",
       "      <td>200.0</td>\n",
       "    </tr>\n",
       "    <tr>\n",
       "      <th>stat_255_normalized</th>\n",
       "      <td>0.0</td>\n",
       "      <td>NaN</td>\n",
       "      <td>NaN</td>\n",
       "      <td>NaN</td>\n",
       "      <td>NaN</td>\n",
       "      <td>NaN</td>\n",
       "      <td>NaN</td>\n",
       "      <td>NaN</td>\n",
       "    </tr>\n",
       "  </tbody>\n",
       "</table>\n",
       "</div>"
      ],
      "text/plain": [
       "                       count        mean        std    min  25_pctl  50_pctl  \\\n",
       "stat_1_normalized    62323.0  112.420391  18.765636   49.0   100.00    112.0   \n",
       "stat_2_normalized    23810.0  128.559429  25.133794  100.0   128.25    133.0   \n",
       "stat_3_normalized    62323.0  105.238243  18.750135   86.0    94.00     98.0   \n",
       "stat_4_normalized    62323.0   99.998139   0.151041   74.0   100.00    100.0   \n",
       "stat_5_normalized    62323.0  105.158032  23.925538   24.0   100.00    100.0   \n",
       "stat_7_normalized    62323.0   92.580107  22.380394   39.0    83.00     87.0   \n",
       "stat_8_normalized    23810.0  115.952373  24.335609  100.0   107.00    113.0   \n",
       "stat_9_normalized    62323.0   92.032283   8.570496    1.0    90.00     95.0   \n",
       "stat_10_normalized   62323.0  101.548257  15.278377   70.0   100.00    100.0   \n",
       "stat_11_normalized    2896.0  101.622238  15.645542   94.0   100.00    100.0   \n",
       "stat_12_normalized   62323.0   99.999743   0.064091   84.0   100.00    100.0   \n",
       "stat_13_normalized       0.0         NaN        NaN    NaN      NaN      NaN   \n",
       "stat_15_normalized       0.0         NaN        NaN    NaN      NaN      NaN   \n",
       "stat_22_normalized      45.0  100.000000   0.000000  100.0   100.00    100.0   \n",
       "stat_183_normalized  36120.0   99.718106   3.637989    1.0   100.00    100.0   \n",
       "stat_184_normalized  36254.0   99.995283   0.162406   94.0   100.00    100.0   \n",
       "stat_187_normalized  36254.0   99.968141   0.709438   52.0   100.00    100.0   \n",
       "stat_188_normalized  36254.0  100.000000   0.000000  100.0   100.00    100.0   \n",
       "stat_189_normalized  36253.0   97.643754   6.587967    1.0    98.00    100.0   \n",
       "stat_190_normalized  36255.0   71.955813   5.284673   55.0    68.00     73.0   \n",
       "stat_191_normalized  37110.0  101.764807  17.460004    1.0   100.00    100.0   \n",
       "stat_192_normalized  62171.0  104.831256  23.084738   46.0   100.00    100.0   \n",
       "stat_193_normalized  61535.0   97.992541  20.808037    1.0    94.00     99.0   \n",
       "stat_194_normalized  62322.0   98.592118  88.072466   16.0    26.00     35.0   \n",
       "stat_195_normalized   2992.0   72.094920  16.804887   17.0    65.00     66.0   \n",
       "stat_196_normalized  26070.0  112.319371  35.793630   21.0   100.00    100.0   \n",
       "stat_197_normalized  62323.0  105.174735  23.901154   85.0   100.00    100.0   \n",
       "stat_198_normalized  62323.0  101.858977  16.221384   85.0   100.00    100.0   \n",
       "stat_199_normalized  62323.0  199.985559   1.201626  100.0   200.00    200.0   \n",
       "stat_200_normalized   2896.0  106.627072  25.018330    1.0   100.00    100.0   \n",
       "stat_201_normalized      0.0         NaN        NaN    NaN      NaN      NaN   \n",
       "stat_220_normalized    191.0  100.000000   0.000000  100.0   100.00    100.0   \n",
       "stat_222_normalized    191.0   80.780105   2.845832   78.0    78.00     83.0   \n",
       "stat_223_normalized    827.0  105.680774  28.893637   94.0   100.00    100.0   \n",
       "stat_224_normalized    191.0  100.000000   0.000000  100.0   100.00    100.0   \n",
       "stat_225_normalized    636.0   89.320755   9.640022   40.0    86.75     93.0   \n",
       "stat_226_normalized    191.0  100.000000   0.000000  100.0   100.00    100.0   \n",
       "stat_240_normalized  36444.0   99.960899   1.032965   38.0   100.00    100.0   \n",
       "stat_241_normalized  36191.0  100.060789   2.464819  100.0   100.00    100.0   \n",
       "stat_242_normalized  36191.0  100.060789   2.464819  100.0   100.00    100.0   \n",
       "stat_250_normalized     49.0    1.000000   0.000000    1.0     1.00      1.0   \n",
       "stat_251_normalized     49.0    1.000000   0.000000    1.0     1.00      1.0   \n",
       "stat_252_normalized     49.0   27.265306  44.161057    1.0     1.00      1.0   \n",
       "stat_254_normalized    147.0  114.285714  35.112344  100.0   100.00    100.0   \n",
       "stat_255_normalized      0.0         NaN        NaN    NaN      NaN      NaN   \n",
       "\n",
       "                     75_pctl    max  \n",
       "stat_1_normalized      117.0  200.0  \n",
       "stat_2_normalized      134.0  252.0  \n",
       "stat_3_normalized      114.0  253.0  \n",
       "stat_4_normalized      100.0  100.0  \n",
       "stat_5_normalized      100.0  252.0  \n",
       "stat_7_normalized      100.0  252.0  \n",
       "stat_8_normalized      115.0  252.0  \n",
       "stat_9_normalized       98.0  100.0  \n",
       "stat_10_normalized     100.0  252.0  \n",
       "stat_11_normalized     100.0  252.0  \n",
       "stat_12_normalized     100.0  100.0  \n",
       "stat_13_normalized       NaN    NaN  \n",
       "stat_15_normalized       NaN    NaN  \n",
       "stat_22_normalized     100.0  100.0  \n",
       "stat_183_normalized    100.0  100.0  \n",
       "stat_184_normalized    100.0  100.0  \n",
       "stat_187_normalized    100.0  100.0  \n",
       "stat_188_normalized    100.0  100.0  \n",
       "stat_189_normalized    100.0  100.0  \n",
       "stat_190_normalized     76.0   84.0  \n",
       "stat_191_normalized    100.0  252.0  \n",
       "stat_192_normalized    100.0  252.0  \n",
       "stat_193_normalized    100.0  200.0  \n",
       "stat_194_normalized    193.0  253.0  \n",
       "stat_195_normalized     76.0  100.0  \n",
       "stat_196_normalized    100.0  252.0  \n",
       "stat_197_normalized    100.0  252.0  \n",
       "stat_198_normalized    100.0  252.0  \n",
       "stat_199_normalized    200.0  200.0  \n",
       "stat_200_normalized    100.0  200.0  \n",
       "stat_201_normalized      NaN    NaN  \n",
       "stat_220_normalized    100.0  100.0  \n",
       "stat_222_normalized     83.0   98.0  \n",
       "stat_223_normalized    100.0  252.0  \n",
       "stat_224_normalized    100.0  100.0  \n",
       "stat_225_normalized     95.0  100.0  \n",
       "stat_226_normalized    100.0  100.0  \n",
       "stat_240_normalized    100.0  100.0  \n",
       "stat_241_normalized    100.0  200.0  \n",
       "stat_242_normalized    100.0  200.0  \n",
       "stat_250_normalized      1.0    1.0  \n",
       "stat_251_normalized      1.0    1.0  \n",
       "stat_252_normalized    100.0  100.0  \n",
       "stat_254_normalized    100.0  200.0  \n",
       "stat_255_normalized      NaN    NaN  "
      ]
     },
     "execution_count": 12,
     "metadata": {},
     "output_type": "execute_result"
    }
   ],
   "source": [
    "stats_n = {}\n",
    "for x in list(df.iloc[0, 5::2].index):\n",
    "    v = list(df[x].describe().values)\n",
    "    stats_n[x] = v\n",
    "pd.DataFrame.from_dict(stats_n, orient='index', columns=['count', 'mean', 'std', 'min', '25_pctl', '50_pctl', '75_pctl', 'max']).head(100)"
   ]
  },
  {
   "cell_type": "code",
   "execution_count": 13,
   "metadata": {},
   "outputs": [
    {
     "data": {
      "text/html": [
       "<div>\n",
       "<style scoped>\n",
       "    .dataframe tbody tr th:only-of-type {\n",
       "        vertical-align: middle;\n",
       "    }\n",
       "\n",
       "    .dataframe tbody tr th {\n",
       "        vertical-align: top;\n",
       "    }\n",
       "\n",
       "    .dataframe thead th {\n",
       "        text-align: right;\n",
       "    }\n",
       "</style>\n",
       "<table border=\"1\" class=\"dataframe\">\n",
       "  <thead>\n",
       "    <tr style=\"text-align: right;\">\n",
       "      <th></th>\n",
       "      <th>count</th>\n",
       "      <th>mean</th>\n",
       "      <th>std</th>\n",
       "      <th>min</th>\n",
       "      <th>25_pctl</th>\n",
       "      <th>50_pctl</th>\n",
       "      <th>75_pctl</th>\n",
       "      <th>max</th>\n",
       "    </tr>\n",
       "  </thead>\n",
       "  <tbody>\n",
       "    <tr>\n",
       "      <th>stat_1_raw</th>\n",
       "      <td>62323.0</td>\n",
       "      <td>6.998992e+07</td>\n",
       "      <td>8.038318e+07</td>\n",
       "      <td>0.0</td>\n",
       "      <td>0.000000e+00</td>\n",
       "      <td>3.553839e+07</td>\n",
       "      <td>1.365841e+08</td>\n",
       "      <td>1.032731e+09</td>\n",
       "    </tr>\n",
       "    <tr>\n",
       "      <th>stat_2_raw</th>\n",
       "      <td>23810.0</td>\n",
       "      <td>7.411436e+01</td>\n",
       "      <td>4.599855e+01</td>\n",
       "      <td>0.0</td>\n",
       "      <td>0.000000e+00</td>\n",
       "      <td>1.000000e+02</td>\n",
       "      <td>1.040000e+02</td>\n",
       "      <td>1.940000e+02</td>\n",
       "    </tr>\n",
       "    <tr>\n",
       "      <th>stat_3_raw</th>\n",
       "      <td>62323.0</td>\n",
       "      <td>3.681253e+02</td>\n",
       "      <td>1.106354e+03</td>\n",
       "      <td>0.0</td>\n",
       "      <td>0.000000e+00</td>\n",
       "      <td>0.000000e+00</td>\n",
       "      <td>5.430000e+02</td>\n",
       "      <td>9.683000e+03</td>\n",
       "    </tr>\n",
       "    <tr>\n",
       "      <th>stat_4_raw</th>\n",
       "      <td>62323.0</td>\n",
       "      <td>1.369207e+01</td>\n",
       "      <td>1.601450e+02</td>\n",
       "      <td>1.0</td>\n",
       "      <td>4.000000e+00</td>\n",
       "      <td>7.000000e+00</td>\n",
       "      <td>1.500000e+01</td>\n",
       "      <td>2.667400e+04</td>\n",
       "    </tr>\n",
       "    <tr>\n",
       "      <th>stat_5_raw</th>\n",
       "      <td>62323.0</td>\n",
       "      <td>2.659837e+00</td>\n",
       "      <td>2.254024e+02</td>\n",
       "      <td>0.0</td>\n",
       "      <td>0.000000e+00</td>\n",
       "      <td>0.000000e+00</td>\n",
       "      <td>0.000000e+00</td>\n",
       "      <td>4.847200e+04</td>\n",
       "    </tr>\n",
       "    <tr>\n",
       "      <th>stat_7_raw</th>\n",
       "      <td>62323.0</td>\n",
       "      <td>8.289676e+09</td>\n",
       "      <td>1.195670e+12</td>\n",
       "      <td>0.0</td>\n",
       "      <td>0.000000e+00</td>\n",
       "      <td>6.429945e+07</td>\n",
       "      <td>3.167897e+08</td>\n",
       "      <td>2.814713e+14</td>\n",
       "    </tr>\n",
       "    <tr>\n",
       "      <th>stat_8_raw</th>\n",
       "      <td>23810.0</td>\n",
       "      <td>2.884679e+01</td>\n",
       "      <td>1.820432e+01</td>\n",
       "      <td>0.0</td>\n",
       "      <td>0.000000e+00</td>\n",
       "      <td>4.100000e+01</td>\n",
       "      <td>4.200000e+01</td>\n",
       "      <td>4.500000e+01</td>\n",
       "    </tr>\n",
       "    <tr>\n",
       "      <th>stat_9_raw</th>\n",
       "      <td>62323.0</td>\n",
       "      <td>1.585024e+04</td>\n",
       "      <td>1.268414e+04</td>\n",
       "      <td>4.0</td>\n",
       "      <td>5.671000e+03</td>\n",
       "      <td>1.364200e+04</td>\n",
       "      <td>2.194300e+04</td>\n",
       "      <td>9.035800e+04</td>\n",
       "    </tr>\n",
       "    <tr>\n",
       "      <th>stat_10_raw</th>\n",
       "      <td>62323.0</td>\n",
       "      <td>2.523980e+01</td>\n",
       "      <td>2.702671e+03</td>\n",
       "      <td>0.0</td>\n",
       "      <td>0.000000e+00</td>\n",
       "      <td>0.000000e+00</td>\n",
       "      <td>0.000000e+00</td>\n",
       "      <td>3.932160e+05</td>\n",
       "    </tr>\n",
       "    <tr>\n",
       "      <th>stat_11_raw</th>\n",
       "      <td>2896.0</td>\n",
       "      <td>4.010014e+01</td>\n",
       "      <td>1.752334e+02</td>\n",
       "      <td>0.0</td>\n",
       "      <td>0.000000e+00</td>\n",
       "      <td>0.000000e+00</td>\n",
       "      <td>0.000000e+00</td>\n",
       "      <td>6.301000e+03</td>\n",
       "    </tr>\n",
       "    <tr>\n",
       "      <th>stat_12_raw</th>\n",
       "      <td>62323.0</td>\n",
       "      <td>1.122345e+01</td>\n",
       "      <td>6.751231e+01</td>\n",
       "      <td>0.0</td>\n",
       "      <td>3.000000e+00</td>\n",
       "      <td>7.000000e+00</td>\n",
       "      <td>1.500000e+01</td>\n",
       "      <td>1.641500e+04</td>\n",
       "    </tr>\n",
       "    <tr>\n",
       "      <th>stat_13_raw</th>\n",
       "      <td>0.0</td>\n",
       "      <td>NaN</td>\n",
       "      <td>NaN</td>\n",
       "      <td>NaN</td>\n",
       "      <td>NaN</td>\n",
       "      <td>NaN</td>\n",
       "      <td>NaN</td>\n",
       "      <td>NaN</td>\n",
       "    </tr>\n",
       "    <tr>\n",
       "      <th>stat_15_raw</th>\n",
       "      <td>0.0</td>\n",
       "      <td>NaN</td>\n",
       "      <td>NaN</td>\n",
       "      <td>NaN</td>\n",
       "      <td>NaN</td>\n",
       "      <td>NaN</td>\n",
       "      <td>NaN</td>\n",
       "      <td>NaN</td>\n",
       "    </tr>\n",
       "    <tr>\n",
       "      <th>stat_22_raw</th>\n",
       "      <td>45.0</td>\n",
       "      <td>1.000000e+02</td>\n",
       "      <td>0.000000e+00</td>\n",
       "      <td>100.0</td>\n",
       "      <td>1.000000e+02</td>\n",
       "      <td>1.000000e+02</td>\n",
       "      <td>1.000000e+02</td>\n",
       "      <td>1.000000e+02</td>\n",
       "    </tr>\n",
       "    <tr>\n",
       "      <th>stat_183_raw</th>\n",
       "      <td>36120.0</td>\n",
       "      <td>4.282420e+00</td>\n",
       "      <td>3.236095e+02</td>\n",
       "      <td>0.0</td>\n",
       "      <td>0.000000e+00</td>\n",
       "      <td>0.000000e+00</td>\n",
       "      <td>0.000000e+00</td>\n",
       "      <td>4.161400e+04</td>\n",
       "    </tr>\n",
       "    <tr>\n",
       "      <th>stat_184_raw</th>\n",
       "      <td>36254.0</td>\n",
       "      <td>4.716721e-03</td>\n",
       "      <td>1.624056e-01</td>\n",
       "      <td>0.0</td>\n",
       "      <td>0.000000e+00</td>\n",
       "      <td>0.000000e+00</td>\n",
       "      <td>0.000000e+00</td>\n",
       "      <td>6.000000e+00</td>\n",
       "    </tr>\n",
       "    <tr>\n",
       "      <th>stat_187_raw</th>\n",
       "      <td>36254.0</td>\n",
       "      <td>3.185855e-02</td>\n",
       "      <td>7.094377e-01</td>\n",
       "      <td>0.0</td>\n",
       "      <td>0.000000e+00</td>\n",
       "      <td>0.000000e+00</td>\n",
       "      <td>0.000000e+00</td>\n",
       "      <td>4.800000e+01</td>\n",
       "    </tr>\n",
       "    <tr>\n",
       "      <th>stat_188_raw</th>\n",
       "      <td>36254.0</td>\n",
       "      <td>5.366722e+07</td>\n",
       "      <td>2.117462e+09</td>\n",
       "      <td>0.0</td>\n",
       "      <td>0.000000e+00</td>\n",
       "      <td>0.000000e+00</td>\n",
       "      <td>0.000000e+00</td>\n",
       "      <td>1.932765e+11</td>\n",
       "    </tr>\n",
       "    <tr>\n",
       "      <th>stat_189_raw</th>\n",
       "      <td>36253.0</td>\n",
       "      <td>1.352001e+01</td>\n",
       "      <td>7.255704e+02</td>\n",
       "      <td>0.0</td>\n",
       "      <td>0.000000e+00</td>\n",
       "      <td>0.000000e+00</td>\n",
       "      <td>2.000000e+00</td>\n",
       "      <td>6.553500e+04</td>\n",
       "    </tr>\n",
       "    <tr>\n",
       "      <th>stat_190_raw</th>\n",
       "      <td>36255.0</td>\n",
       "      <td>2.804419e+01</td>\n",
       "      <td>5.284673e+00</td>\n",
       "      <td>16.0</td>\n",
       "      <td>2.400000e+01</td>\n",
       "      <td>2.700000e+01</td>\n",
       "      <td>3.200000e+01</td>\n",
       "      <td>4.500000e+01</td>\n",
       "    </tr>\n",
       "    <tr>\n",
       "      <th>stat_191_raw</th>\n",
       "      <td>37110.0</td>\n",
       "      <td>4.541400e+02</td>\n",
       "      <td>1.226640e+04</td>\n",
       "      <td>0.0</td>\n",
       "      <td>0.000000e+00</td>\n",
       "      <td>0.000000e+00</td>\n",
       "      <td>0.000000e+00</td>\n",
       "      <td>2.030169e+06</td>\n",
       "    </tr>\n",
       "    <tr>\n",
       "      <th>stat_192_raw</th>\n",
       "      <td>62171.0</td>\n",
       "      <td>1.661632e+02</td>\n",
       "      <td>5.064014e+02</td>\n",
       "      <td>0.0</td>\n",
       "      <td>0.000000e+00</td>\n",
       "      <td>2.000000e+00</td>\n",
       "      <td>9.200000e+01</td>\n",
       "      <td>6.553500e+04</td>\n",
       "    </tr>\n",
       "    <tr>\n",
       "      <th>stat_193_raw</th>\n",
       "      <td>61535.0</td>\n",
       "      <td>1.401920e+04</td>\n",
       "      <td>1.141972e+05</td>\n",
       "      <td>0.0</td>\n",
       "      <td>2.310000e+02</td>\n",
       "      <td>2.923000e+03</td>\n",
       "      <td>1.407200e+04</td>\n",
       "      <td>9.619168e+06</td>\n",
       "    </tr>\n",
       "    <tr>\n",
       "      <th>stat_194_raw</th>\n",
       "      <td>62322.0</td>\n",
       "      <td>2.851346e+01</td>\n",
       "      <td>5.194680e+00</td>\n",
       "      <td>16.0</td>\n",
       "      <td>2.500000e+01</td>\n",
       "      <td>2.800000e+01</td>\n",
       "      <td>3.200000e+01</td>\n",
       "      <td>4.600000e+01</td>\n",
       "    </tr>\n",
       "    <tr>\n",
       "      <th>stat_195_raw</th>\n",
       "      <td>2992.0</td>\n",
       "      <td>9.535075e+07</td>\n",
       "      <td>8.066448e+07</td>\n",
       "      <td>0.0</td>\n",
       "      <td>9.314246e+06</td>\n",
       "      <td>8.638401e+07</td>\n",
       "      <td>1.662154e+08</td>\n",
       "      <td>2.441018e+08</td>\n",
       "    </tr>\n",
       "    <tr>\n",
       "      <th>stat_196_raw</th>\n",
       "      <td>26070.0</td>\n",
       "      <td>1.920637e+00</td>\n",
       "      <td>3.752589e+01</td>\n",
       "      <td>0.0</td>\n",
       "      <td>0.000000e+00</td>\n",
       "      <td>0.000000e+00</td>\n",
       "      <td>0.000000e+00</td>\n",
       "      <td>1.964000e+03</td>\n",
       "    </tr>\n",
       "    <tr>\n",
       "      <th>stat_197_raw</th>\n",
       "      <td>62323.0</td>\n",
       "      <td>6.862635e-02</td>\n",
       "      <td>1.007230e+01</td>\n",
       "      <td>0.0</td>\n",
       "      <td>0.000000e+00</td>\n",
       "      <td>0.000000e+00</td>\n",
       "      <td>0.000000e+00</td>\n",
       "      <td>2.504000e+03</td>\n",
       "    </tr>\n",
       "    <tr>\n",
       "      <th>stat_198_raw</th>\n",
       "      <td>62323.0</td>\n",
       "      <td>6.485567e-02</td>\n",
       "      <td>1.007133e+01</td>\n",
       "      <td>0.0</td>\n",
       "      <td>0.000000e+00</td>\n",
       "      <td>0.000000e+00</td>\n",
       "      <td>0.000000e+00</td>\n",
       "      <td>2.504000e+03</td>\n",
       "    </tr>\n",
       "    <tr>\n",
       "      <th>stat_199_raw</th>\n",
       "      <td>62323.0</td>\n",
       "      <td>2.609518e+01</td>\n",
       "      <td>1.855822e+03</td>\n",
       "      <td>0.0</td>\n",
       "      <td>0.000000e+00</td>\n",
       "      <td>0.000000e+00</td>\n",
       "      <td>0.000000e+00</td>\n",
       "      <td>4.027290e+05</td>\n",
       "    </tr>\n",
       "    <tr>\n",
       "      <th>stat_200_raw</th>\n",
       "      <td>2896.0</td>\n",
       "      <td>1.110350e+04</td>\n",
       "      <td>3.381268e+04</td>\n",
       "      <td>0.0</td>\n",
       "      <td>0.000000e+00</td>\n",
       "      <td>0.000000e+00</td>\n",
       "      <td>0.000000e+00</td>\n",
       "      <td>3.634290e+05</td>\n",
       "    </tr>\n",
       "    <tr>\n",
       "      <th>stat_201_raw</th>\n",
       "      <td>0.0</td>\n",
       "      <td>NaN</td>\n",
       "      <td>NaN</td>\n",
       "      <td>NaN</td>\n",
       "      <td>NaN</td>\n",
       "      <td>NaN</td>\n",
       "      <td>NaN</td>\n",
       "      <td>NaN</td>\n",
       "    </tr>\n",
       "    <tr>\n",
       "      <th>stat_220_raw</th>\n",
       "      <td>191.0</td>\n",
       "      <td>0.000000e+00</td>\n",
       "      <td>0.000000e+00</td>\n",
       "      <td>0.0</td>\n",
       "      <td>0.000000e+00</td>\n",
       "      <td>0.000000e+00</td>\n",
       "      <td>0.000000e+00</td>\n",
       "      <td>0.000000e+00</td>\n",
       "    </tr>\n",
       "    <tr>\n",
       "      <th>stat_222_raw</th>\n",
       "      <td>191.0</td>\n",
       "      <td>7.977168e+03</td>\n",
       "      <td>1.112801e+03</td>\n",
       "      <td>919.0</td>\n",
       "      <td>7.137000e+03</td>\n",
       "      <td>7.149000e+03</td>\n",
       "      <td>9.047000e+03</td>\n",
       "      <td>9.054000e+03</td>\n",
       "    </tr>\n",
       "    <tr>\n",
       "      <th>stat_223_raw</th>\n",
       "      <td>827.0</td>\n",
       "      <td>1.404232e+02</td>\n",
       "      <td>3.058064e+02</td>\n",
       "      <td>0.0</td>\n",
       "      <td>0.000000e+00</td>\n",
       "      <td>3.000000e+01</td>\n",
       "      <td>1.835000e+02</td>\n",
       "      <td>6.301000e+03</td>\n",
       "    </tr>\n",
       "    <tr>\n",
       "      <th>stat_224_raw</th>\n",
       "      <td>191.0</td>\n",
       "      <td>0.000000e+00</td>\n",
       "      <td>0.000000e+00</td>\n",
       "      <td>0.0</td>\n",
       "      <td>0.000000e+00</td>\n",
       "      <td>0.000000e+00</td>\n",
       "      <td>0.000000e+00</td>\n",
       "      <td>0.000000e+00</td>\n",
       "    </tr>\n",
       "    <tr>\n",
       "      <th>stat_225_raw</th>\n",
       "      <td>636.0</td>\n",
       "      <td>1.128567e+05</td>\n",
       "      <td>9.734905e+04</td>\n",
       "      <td>4088.0</td>\n",
       "      <td>5.146100e+04</td>\n",
       "      <td>7.926700e+04</td>\n",
       "      <td>1.411430e+05</td>\n",
       "      <td>6.064350e+05</td>\n",
       "    </tr>\n",
       "    <tr>\n",
       "      <th>stat_226_raw</th>\n",
       "      <td>191.0</td>\n",
       "      <td>3.708901e+02</td>\n",
       "      <td>2.643788e+01</td>\n",
       "      <td>278.0</td>\n",
       "      <td>3.715000e+02</td>\n",
       "      <td>3.770000e+02</td>\n",
       "      <td>3.830000e+02</td>\n",
       "      <td>4.200000e+02</td>\n",
       "    </tr>\n",
       "    <tr>\n",
       "      <th>stat_240_raw</th>\n",
       "      <td>36444.0</td>\n",
       "      <td>1.427510e+13</td>\n",
       "      <td>5.012966e+13</td>\n",
       "      <td>0.0</td>\n",
       "      <td>2.895000e+03</td>\n",
       "      <td>7.065000e+03</td>\n",
       "      <td>1.835200e+04</td>\n",
       "      <td>2.814406e+14</td>\n",
       "    </tr>\n",
       "    <tr>\n",
       "      <th>stat_241_raw</th>\n",
       "      <td>36191.0</td>\n",
       "      <td>1.889598e+10</td>\n",
       "      <td>7.859757e+09</td>\n",
       "      <td>8520553.0</td>\n",
       "      <td>1.358367e+10</td>\n",
       "      <td>1.960794e+10</td>\n",
       "      <td>2.454164e+10</td>\n",
       "      <td>4.296138e+10</td>\n",
       "    </tr>\n",
       "    <tr>\n",
       "      <th>stat_242_raw</th>\n",
       "      <td>36191.0</td>\n",
       "      <td>8.315690e+10</td>\n",
       "      <td>5.288055e+11</td>\n",
       "      <td>31049.0</td>\n",
       "      <td>1.396609e+09</td>\n",
       "      <td>1.137981e+10</td>\n",
       "      <td>1.343750e+11</td>\n",
       "      <td>3.231224e+13</td>\n",
       "    </tr>\n",
       "    <tr>\n",
       "      <th>stat_250_raw</th>\n",
       "      <td>49.0</td>\n",
       "      <td>1.014976e+08</td>\n",
       "      <td>7.453877e+07</td>\n",
       "      <td>2846246.0</td>\n",
       "      <td>1.264557e+07</td>\n",
       "      <td>1.426260e+08</td>\n",
       "      <td>1.652114e+08</td>\n",
       "      <td>1.903087e+08</td>\n",
       "    </tr>\n",
       "    <tr>\n",
       "      <th>stat_251_raw</th>\n",
       "      <td>49.0</td>\n",
       "      <td>1.931838e+08</td>\n",
       "      <td>1.517914e+08</td>\n",
       "      <td>16429.0</td>\n",
       "      <td>1.121620e+05</td>\n",
       "      <td>2.712894e+08</td>\n",
       "      <td>3.265751e+08</td>\n",
       "      <td>3.682148e+08</td>\n",
       "    </tr>\n",
       "    <tr>\n",
       "      <th>stat_252_raw</th>\n",
       "      <td>49.0</td>\n",
       "      <td>8.863608e+07</td>\n",
       "      <td>6.958404e+07</td>\n",
       "      <td>0.0</td>\n",
       "      <td>0.000000e+00</td>\n",
       "      <td>1.263791e+08</td>\n",
       "      <td>1.489056e+08</td>\n",
       "      <td>1.701534e+08</td>\n",
       "    </tr>\n",
       "    <tr>\n",
       "      <th>stat_254_raw</th>\n",
       "      <td>147.0</td>\n",
       "      <td>0.000000e+00</td>\n",
       "      <td>0.000000e+00</td>\n",
       "      <td>0.0</td>\n",
       "      <td>0.000000e+00</td>\n",
       "      <td>0.000000e+00</td>\n",
       "      <td>0.000000e+00</td>\n",
       "      <td>0.000000e+00</td>\n",
       "    </tr>\n",
       "    <tr>\n",
       "      <th>stat_255_raw</th>\n",
       "      <td>0.0</td>\n",
       "      <td>NaN</td>\n",
       "      <td>NaN</td>\n",
       "      <td>NaN</td>\n",
       "      <td>NaN</td>\n",
       "      <td>NaN</td>\n",
       "      <td>NaN</td>\n",
       "      <td>NaN</td>\n",
       "    </tr>\n",
       "  </tbody>\n",
       "</table>\n",
       "</div>"
      ],
      "text/plain": [
       "                count          mean           std        min       25_pctl  \\\n",
       "stat_1_raw    62323.0  6.998992e+07  8.038318e+07        0.0  0.000000e+00   \n",
       "stat_2_raw    23810.0  7.411436e+01  4.599855e+01        0.0  0.000000e+00   \n",
       "stat_3_raw    62323.0  3.681253e+02  1.106354e+03        0.0  0.000000e+00   \n",
       "stat_4_raw    62323.0  1.369207e+01  1.601450e+02        1.0  4.000000e+00   \n",
       "stat_5_raw    62323.0  2.659837e+00  2.254024e+02        0.0  0.000000e+00   \n",
       "stat_7_raw    62323.0  8.289676e+09  1.195670e+12        0.0  0.000000e+00   \n",
       "stat_8_raw    23810.0  2.884679e+01  1.820432e+01        0.0  0.000000e+00   \n",
       "stat_9_raw    62323.0  1.585024e+04  1.268414e+04        4.0  5.671000e+03   \n",
       "stat_10_raw   62323.0  2.523980e+01  2.702671e+03        0.0  0.000000e+00   \n",
       "stat_11_raw    2896.0  4.010014e+01  1.752334e+02        0.0  0.000000e+00   \n",
       "stat_12_raw   62323.0  1.122345e+01  6.751231e+01        0.0  3.000000e+00   \n",
       "stat_13_raw       0.0           NaN           NaN        NaN           NaN   \n",
       "stat_15_raw       0.0           NaN           NaN        NaN           NaN   \n",
       "stat_22_raw      45.0  1.000000e+02  0.000000e+00      100.0  1.000000e+02   \n",
       "stat_183_raw  36120.0  4.282420e+00  3.236095e+02        0.0  0.000000e+00   \n",
       "stat_184_raw  36254.0  4.716721e-03  1.624056e-01        0.0  0.000000e+00   \n",
       "stat_187_raw  36254.0  3.185855e-02  7.094377e-01        0.0  0.000000e+00   \n",
       "stat_188_raw  36254.0  5.366722e+07  2.117462e+09        0.0  0.000000e+00   \n",
       "stat_189_raw  36253.0  1.352001e+01  7.255704e+02        0.0  0.000000e+00   \n",
       "stat_190_raw  36255.0  2.804419e+01  5.284673e+00       16.0  2.400000e+01   \n",
       "stat_191_raw  37110.0  4.541400e+02  1.226640e+04        0.0  0.000000e+00   \n",
       "stat_192_raw  62171.0  1.661632e+02  5.064014e+02        0.0  0.000000e+00   \n",
       "stat_193_raw  61535.0  1.401920e+04  1.141972e+05        0.0  2.310000e+02   \n",
       "stat_194_raw  62322.0  2.851346e+01  5.194680e+00       16.0  2.500000e+01   \n",
       "stat_195_raw   2992.0  9.535075e+07  8.066448e+07        0.0  9.314246e+06   \n",
       "stat_196_raw  26070.0  1.920637e+00  3.752589e+01        0.0  0.000000e+00   \n",
       "stat_197_raw  62323.0  6.862635e-02  1.007230e+01        0.0  0.000000e+00   \n",
       "stat_198_raw  62323.0  6.485567e-02  1.007133e+01        0.0  0.000000e+00   \n",
       "stat_199_raw  62323.0  2.609518e+01  1.855822e+03        0.0  0.000000e+00   \n",
       "stat_200_raw   2896.0  1.110350e+04  3.381268e+04        0.0  0.000000e+00   \n",
       "stat_201_raw      0.0           NaN           NaN        NaN           NaN   \n",
       "stat_220_raw    191.0  0.000000e+00  0.000000e+00        0.0  0.000000e+00   \n",
       "stat_222_raw    191.0  7.977168e+03  1.112801e+03      919.0  7.137000e+03   \n",
       "stat_223_raw    827.0  1.404232e+02  3.058064e+02        0.0  0.000000e+00   \n",
       "stat_224_raw    191.0  0.000000e+00  0.000000e+00        0.0  0.000000e+00   \n",
       "stat_225_raw    636.0  1.128567e+05  9.734905e+04     4088.0  5.146100e+04   \n",
       "stat_226_raw    191.0  3.708901e+02  2.643788e+01      278.0  3.715000e+02   \n",
       "stat_240_raw  36444.0  1.427510e+13  5.012966e+13        0.0  2.895000e+03   \n",
       "stat_241_raw  36191.0  1.889598e+10  7.859757e+09  8520553.0  1.358367e+10   \n",
       "stat_242_raw  36191.0  8.315690e+10  5.288055e+11    31049.0  1.396609e+09   \n",
       "stat_250_raw     49.0  1.014976e+08  7.453877e+07  2846246.0  1.264557e+07   \n",
       "stat_251_raw     49.0  1.931838e+08  1.517914e+08    16429.0  1.121620e+05   \n",
       "stat_252_raw     49.0  8.863608e+07  6.958404e+07        0.0  0.000000e+00   \n",
       "stat_254_raw    147.0  0.000000e+00  0.000000e+00        0.0  0.000000e+00   \n",
       "stat_255_raw      0.0           NaN           NaN        NaN           NaN   \n",
       "\n",
       "                   50_pctl       75_pctl           max  \n",
       "stat_1_raw    3.553839e+07  1.365841e+08  1.032731e+09  \n",
       "stat_2_raw    1.000000e+02  1.040000e+02  1.940000e+02  \n",
       "stat_3_raw    0.000000e+00  5.430000e+02  9.683000e+03  \n",
       "stat_4_raw    7.000000e+00  1.500000e+01  2.667400e+04  \n",
       "stat_5_raw    0.000000e+00  0.000000e+00  4.847200e+04  \n",
       "stat_7_raw    6.429945e+07  3.167897e+08  2.814713e+14  \n",
       "stat_8_raw    4.100000e+01  4.200000e+01  4.500000e+01  \n",
       "stat_9_raw    1.364200e+04  2.194300e+04  9.035800e+04  \n",
       "stat_10_raw   0.000000e+00  0.000000e+00  3.932160e+05  \n",
       "stat_11_raw   0.000000e+00  0.000000e+00  6.301000e+03  \n",
       "stat_12_raw   7.000000e+00  1.500000e+01  1.641500e+04  \n",
       "stat_13_raw            NaN           NaN           NaN  \n",
       "stat_15_raw            NaN           NaN           NaN  \n",
       "stat_22_raw   1.000000e+02  1.000000e+02  1.000000e+02  \n",
       "stat_183_raw  0.000000e+00  0.000000e+00  4.161400e+04  \n",
       "stat_184_raw  0.000000e+00  0.000000e+00  6.000000e+00  \n",
       "stat_187_raw  0.000000e+00  0.000000e+00  4.800000e+01  \n",
       "stat_188_raw  0.000000e+00  0.000000e+00  1.932765e+11  \n",
       "stat_189_raw  0.000000e+00  2.000000e+00  6.553500e+04  \n",
       "stat_190_raw  2.700000e+01  3.200000e+01  4.500000e+01  \n",
       "stat_191_raw  0.000000e+00  0.000000e+00  2.030169e+06  \n",
       "stat_192_raw  2.000000e+00  9.200000e+01  6.553500e+04  \n",
       "stat_193_raw  2.923000e+03  1.407200e+04  9.619168e+06  \n",
       "stat_194_raw  2.800000e+01  3.200000e+01  4.600000e+01  \n",
       "stat_195_raw  8.638401e+07  1.662154e+08  2.441018e+08  \n",
       "stat_196_raw  0.000000e+00  0.000000e+00  1.964000e+03  \n",
       "stat_197_raw  0.000000e+00  0.000000e+00  2.504000e+03  \n",
       "stat_198_raw  0.000000e+00  0.000000e+00  2.504000e+03  \n",
       "stat_199_raw  0.000000e+00  0.000000e+00  4.027290e+05  \n",
       "stat_200_raw  0.000000e+00  0.000000e+00  3.634290e+05  \n",
       "stat_201_raw           NaN           NaN           NaN  \n",
       "stat_220_raw  0.000000e+00  0.000000e+00  0.000000e+00  \n",
       "stat_222_raw  7.149000e+03  9.047000e+03  9.054000e+03  \n",
       "stat_223_raw  3.000000e+01  1.835000e+02  6.301000e+03  \n",
       "stat_224_raw  0.000000e+00  0.000000e+00  0.000000e+00  \n",
       "stat_225_raw  7.926700e+04  1.411430e+05  6.064350e+05  \n",
       "stat_226_raw  3.770000e+02  3.830000e+02  4.200000e+02  \n",
       "stat_240_raw  7.065000e+03  1.835200e+04  2.814406e+14  \n",
       "stat_241_raw  1.960794e+10  2.454164e+10  4.296138e+10  \n",
       "stat_242_raw  1.137981e+10  1.343750e+11  3.231224e+13  \n",
       "stat_250_raw  1.426260e+08  1.652114e+08  1.903087e+08  \n",
       "stat_251_raw  2.712894e+08  3.265751e+08  3.682148e+08  \n",
       "stat_252_raw  1.263791e+08  1.489056e+08  1.701534e+08  \n",
       "stat_254_raw  0.000000e+00  0.000000e+00  0.000000e+00  \n",
       "stat_255_raw           NaN           NaN           NaN  "
      ]
     },
     "execution_count": 13,
     "metadata": {},
     "output_type": "execute_result"
    }
   ],
   "source": [
    "stats_r = {}\n",
    "for x in list(df.iloc[0, 6::2].index):\n",
    "    v = list(df[x].describe().values)\n",
    "    stats_r[x] = v\n",
    "pd.DataFrame.from_dict(stats_r, orient='index', columns=['count', 'mean', 'std', 'min', '25_pctl', '50_pctl', '75_pctl', 'max']).head(100)"
   ]
  },
  {
   "cell_type": "markdown",
   "metadata": {},
   "source": [
    "Ove analitike radili smo nad jednim datumom podataka, koji predstavlja ~ 1/180 ukupne količine podataka. Sada ćemo na cijelom datasetu pogledati neke od najvažnijih statistika, npr. raspodjelu *failurea* po modelima senzora i popunjenost najslabije popunjenih varijabli u ukupnom datasetu, kao i kod pojave grešaka<sup>1</sup>.\n",
    "\n",
    "Za potrebe analize cijelog dataseta kreiran je novi `.csv` dokument idućim kodom:\n",
    "```python\n",
    "import os\n",
    "import pandas as pd\n",
    "df = pd.read_csv('2020-01-01.csv')\n",
    "cols = list(df.columns)\n",
    "df.to_csv('2020_all.csv', mode='a', header=True, index=False)\n",
    "ls = os.listdir()\n",
    "ls.sort()\n",
    "\n",
    "for f in ls:\n",
    "    fname, fext = os.path.splitext(f)\n",
    "    if fext == '.csv' and fname not in ['2020-01-01', '2020_all']:\n",
    "        df = pd.read_csv(f)\n",
    "        if cols == list(df.columns):\n",
    "            df.to_csv('2020_all.csv', mode='a', header=False, index=False)\n",
    "            print(f, ' appended successfully!')\n",
    "````\n",
    "\n",
    "<sup>1</sup><span style=\"color: silver\"> S obzirom da je cilj zadatka raditi predikciju kvara u idućih 7 dana, nakon transformacije dataseta ponovo ćemo provjeriti popunjenost tih varijabli unutar 7 dana prije kvara.</span>"
   ]
  },
  {
   "cell_type": "code",
   "execution_count": 28,
   "metadata": {},
   "outputs": [],
   "source": [
    "#df = pd.read_csv('2020_all.csv')"
   ]
  },
  {
   "cell_type": "markdown",
   "metadata": {},
   "source": [
    "Kreirani su i razni pomoćni dokumenti zbog veličine datoteke `2020_all.csv`:\n",
    "\n",
    "```python\n",
    "# svi redci (serial_number + date) grupirani po modelu senzora\n",
    "df.loc[:, ['type', 'serial_number']].groupby('type').count().sort_index().to_csv('calc_dist_by_models_ttl.csv')\n",
    "\n",
    "# svi senzori (serial_number) grupirani po modelu senzora\n",
    "df.loc[:, ['type', 'serial_number']].groupby(['type', 'serial_number']).count().reset_index().groupby('type').count().sort_index().to_csv('calc_dist_by_models.csv')\n",
    "\n",
    "# broj kvarova po modelu\n",
    "df.loc[:, ['type', 'failure']].groupby('type').sum().sort_index().to_csv('calc_failed_by_models.csv')\n",
    "```"
   ]
  },
  {
   "cell_type": "code",
   "execution_count": 15,
   "metadata": {},
   "outputs": [
    {
     "data": {
      "text/plain": [
       "10982984"
      ]
     },
     "execution_count": 15,
     "metadata": {},
     "output_type": "execute_result"
    }
   ],
   "source": [
    "# broj redaka po modelu senzora\n",
    "dft = pd.read_csv('calc_dist_by_models_ttl.csv')\n",
    "dft.serial_number.sum() # 10982984"
   ]
  },
  {
   "cell_type": "code",
   "execution_count": 17,
   "metadata": {},
   "outputs": [
    {
     "data": {
      "text/html": [
       "<div>\n",
       "<style scoped>\n",
       "    .dataframe tbody tr th:only-of-type {\n",
       "        vertical-align: middle;\n",
       "    }\n",
       "\n",
       "    .dataframe tbody tr th {\n",
       "        vertical-align: top;\n",
       "    }\n",
       "\n",
       "    .dataframe thead th {\n",
       "        text-align: right;\n",
       "    }\n",
       "</style>\n",
       "<table border=\"1\" class=\"dataframe\">\n",
       "  <thead>\n",
       "    <tr style=\"text-align: right;\">\n",
       "      <th></th>\n",
       "      <th>type</th>\n",
       "      <th>serial_number</th>\n",
       "      <th>model_pct</th>\n",
       "    </tr>\n",
       "  </thead>\n",
       "  <tbody>\n",
       "    <tr>\n",
       "      <th>26</th>\n",
       "      <td>ST4000DM000</td>\n",
       "      <td>35206</td>\n",
       "      <td>49.639750</td>\n",
       "    </tr>\n",
       "    <tr>\n",
       "      <th>12</th>\n",
       "      <td>HMS5C4040BLE640</td>\n",
       "      <td>8480</td>\n",
       "      <td>11.956629</td>\n",
       "    </tr>\n",
       "    <tr>\n",
       "      <th>11</th>\n",
       "      <td>HMS5C4040ALE640</td>\n",
       "      <td>7085</td>\n",
       "      <td>9.989707</td>\n",
       "    </tr>\n",
       "    <tr>\n",
       "      <th>2</th>\n",
       "      <td>HDS5C3030ALA630</td>\n",
       "      <td>4563</td>\n",
       "      <td>6.433738</td>\n",
       "    </tr>\n",
       "    <tr>\n",
       "      <th>5</th>\n",
       "      <td>HDS722020ALA330</td>\n",
       "      <td>4503</td>\n",
       "      <td>6.349139</td>\n",
       "    </tr>\n",
       "    <tr>\n",
       "      <th>4</th>\n",
       "      <td>HDS5C4040ALE630</td>\n",
       "      <td>2714</td>\n",
       "      <td>3.826685</td>\n",
       "    </tr>\n",
       "  </tbody>\n",
       "</table>\n",
       "</div>"
      ],
      "text/plain": [
       "               type  serial_number  model_pct\n",
       "26      ST4000DM000          35206  49.639750\n",
       "12  HMS5C4040BLE640           8480  11.956629\n",
       "11  HMS5C4040ALE640           7085   9.989707\n",
       "2   HDS5C3030ALA630           4563   6.433738\n",
       "5   HDS722020ALA330           4503   6.349139\n",
       "4   HDS5C4040ALE630           2714   3.826685"
      ]
     },
     "execution_count": 17,
     "metadata": {},
     "output_type": "execute_result"
    }
   ],
   "source": [
    "# broj senzora po modelu\n",
    "dfm = pd.read_csv('calc_dist_by_models.csv')\n",
    "dfm.serial_number.sum() # 70923\n",
    "dfm['model_pct'] = dfm.set_index('type').apply(lambda x: x/70923*100).reset_index().serial_number\n",
    "dfm.sort_values(by='model_pct', ascending=False).head(6)"
   ]
  },
  {
   "cell_type": "code",
   "execution_count": 18,
   "metadata": {},
   "outputs": [
    {
     "data": {
      "text/html": [
       "<div>\n",
       "<style scoped>\n",
       "    .dataframe tbody tr th:only-of-type {\n",
       "        vertical-align: middle;\n",
       "    }\n",
       "\n",
       "    .dataframe tbody tr th {\n",
       "        vertical-align: top;\n",
       "    }\n",
       "\n",
       "    .dataframe thead th {\n",
       "        text-align: right;\n",
       "    }\n",
       "</style>\n",
       "<table border=\"1\" class=\"dataframe\">\n",
       "  <thead>\n",
       "    <tr style=\"text-align: right;\">\n",
       "      <th></th>\n",
       "      <th>type</th>\n",
       "      <th>serial_number</th>\n",
       "      <th>model_pct</th>\n",
       "    </tr>\n",
       "  </thead>\n",
       "  <tbody>\n",
       "    <tr>\n",
       "      <th>55</th>\n",
       "      <td>WD3200LPVX</td>\n",
       "      <td>1</td>\n",
       "      <td>0.00141</td>\n",
       "    </tr>\n",
       "    <tr>\n",
       "      <th>10</th>\n",
       "      <td>HDT725025VLA380</td>\n",
       "      <td>1</td>\n",
       "      <td>0.00141</td>\n",
       "    </tr>\n",
       "    <tr>\n",
       "      <th>53</th>\n",
       "      <td>WD3200BEKT</td>\n",
       "      <td>1</td>\n",
       "      <td>0.00141</td>\n",
       "    </tr>\n",
       "    <tr>\n",
       "      <th>52</th>\n",
       "      <td>WD3200AAKS</td>\n",
       "      <td>1</td>\n",
       "      <td>0.00141</td>\n",
       "    </tr>\n",
       "    <tr>\n",
       "      <th>45</th>\n",
       "      <td>WD2500AAJB</td>\n",
       "      <td>1</td>\n",
       "      <td>0.00141</td>\n",
       "    </tr>\n",
       "    <tr>\n",
       "      <th>67</th>\n",
       "      <td>WD800LB</td>\n",
       "      <td>1</td>\n",
       "      <td>0.00141</td>\n",
       "    </tr>\n",
       "  </tbody>\n",
       "</table>\n",
       "</div>"
      ],
      "text/plain": [
       "               type  serial_number  model_pct\n",
       "55       WD3200LPVX              1    0.00141\n",
       "10  HDT725025VLA380              1    0.00141\n",
       "53       WD3200BEKT              1    0.00141\n",
       "52       WD3200AAKS              1    0.00141\n",
       "45       WD2500AAJB              1    0.00141\n",
       "67          WD800LB              1    0.00141"
      ]
     },
     "execution_count": 18,
     "metadata": {},
     "output_type": "execute_result"
    }
   ],
   "source": [
    "dfm.sort_values(by='model_pct', ascending=False).tail(6)"
   ]
  },
  {
   "cell_type": "markdown",
   "metadata": {},
   "source": [
    "Ponovo uočavam sličnu distribuciju po modelima senzora - prva dva modela čine preko 60% ukupnog broja senzora (70923). Od ukupno 68 različitih modela, njih 25 je zastupljeno sa 4 ili manje senzora. Provjeravam distribuciju kvara."
   ]
  },
  {
   "cell_type": "code",
   "execution_count": 19,
   "metadata": {},
   "outputs": [],
   "source": [
    "dff = pd.read_csv('calc_failed_by_models.csv')\n",
    "dff.failure.sum() # 697\n",
    "dff['fail_pct'] = dff.set_index('type').apply(lambda x: x/697*100).reset_index().failure"
   ]
  },
  {
   "cell_type": "markdown",
   "metadata": {},
   "source": [
    "Kako je i pretpostavljeno, broj kvarova se kreće u očekivanom rasponu: **Failure rate je 0.0000635, odnosno  1 kvar u preko 15000 \"zdravih\" zapisa. U odnosu na broj različitih senzora, oko 1% njih doživi kvar.** \n",
    "\n",
    "Sada kad sam ovo izračunao mogu provjeriti omjer kvarova i udjela u broju senzora po modelima. To će mi pokazati pouzdanost modela senzora:"
   ]
  },
  {
   "cell_type": "code",
   "execution_count": 20,
   "metadata": {},
   "outputs": [
    {
     "data": {
      "text/html": [
       "<div>\n",
       "<style scoped>\n",
       "    .dataframe tbody tr th:only-of-type {\n",
       "        vertical-align: middle;\n",
       "    }\n",
       "\n",
       "    .dataframe tbody tr th {\n",
       "        vertical-align: top;\n",
       "    }\n",
       "\n",
       "    .dataframe thead th {\n",
       "        text-align: right;\n",
       "    }\n",
       "</style>\n",
       "<table border=\"1\" class=\"dataframe\">\n",
       "  <thead>\n",
       "    <tr style=\"text-align: right;\">\n",
       "      <th></th>\n",
       "      <th>type</th>\n",
       "      <th>serial_number</th>\n",
       "      <th>model_pct</th>\n",
       "      <th>failure</th>\n",
       "      <th>fail_pct</th>\n",
       "      <th>fail_to_mdl_pct_ratio</th>\n",
       "    </tr>\n",
       "  </thead>\n",
       "  <tbody>\n",
       "    <tr>\n",
       "      <th>67</th>\n",
       "      <td>WD800LB</td>\n",
       "      <td>1</td>\n",
       "      <td>0.001410</td>\n",
       "      <td>1</td>\n",
       "      <td>0.143472</td>\n",
       "      <td>101.754663</td>\n",
       "    </tr>\n",
       "    <tr>\n",
       "      <th>64</th>\n",
       "      <td>WD800BB</td>\n",
       "      <td>5</td>\n",
       "      <td>0.007050</td>\n",
       "      <td>5</td>\n",
       "      <td>0.717360</td>\n",
       "      <td>101.754663</td>\n",
       "    </tr>\n",
       "    <tr>\n",
       "      <th>19</th>\n",
       "      <td>ST250LT007</td>\n",
       "      <td>4</td>\n",
       "      <td>0.005640</td>\n",
       "      <td>4</td>\n",
       "      <td>0.573888</td>\n",
       "      <td>101.754663</td>\n",
       "    </tr>\n",
       "    <tr>\n",
       "      <th>53</th>\n",
       "      <td>WD3200BEKT</td>\n",
       "      <td>1</td>\n",
       "      <td>0.001410</td>\n",
       "      <td>1</td>\n",
       "      <td>0.143472</td>\n",
       "      <td>101.754663</td>\n",
       "    </tr>\n",
       "    <tr>\n",
       "      <th>65</th>\n",
       "      <td>WD800JB</td>\n",
       "      <td>4</td>\n",
       "      <td>0.005640</td>\n",
       "      <td>4</td>\n",
       "      <td>0.573888</td>\n",
       "      <td>101.754663</td>\n",
       "    </tr>\n",
       "    <tr>\n",
       "      <th>66</th>\n",
       "      <td>WD800JD</td>\n",
       "      <td>1</td>\n",
       "      <td>0.001410</td>\n",
       "      <td>1</td>\n",
       "      <td>0.143472</td>\n",
       "      <td>101.754663</td>\n",
       "    </tr>\n",
       "    <tr>\n",
       "      <th>63</th>\n",
       "      <td>WD800AAJS</td>\n",
       "      <td>14</td>\n",
       "      <td>0.019740</td>\n",
       "      <td>14</td>\n",
       "      <td>2.008608</td>\n",
       "      <td>101.754663</td>\n",
       "    </tr>\n",
       "    <tr>\n",
       "      <th>24</th>\n",
       "      <td>ST320LT007</td>\n",
       "      <td>73</td>\n",
       "      <td>0.102929</td>\n",
       "      <td>61</td>\n",
       "      <td>8.751793</td>\n",
       "      <td>85.027869</td>\n",
       "    </tr>\n",
       "    <tr>\n",
       "      <th>41</th>\n",
       "      <td>WD1600AAJB</td>\n",
       "      <td>6</td>\n",
       "      <td>0.008460</td>\n",
       "      <td>4</td>\n",
       "      <td>0.573888</td>\n",
       "      <td>67.836442</td>\n",
       "    </tr>\n",
       "    <tr>\n",
       "      <th>50</th>\n",
       "      <td>WD3200AAJB</td>\n",
       "      <td>2</td>\n",
       "      <td>0.002820</td>\n",
       "      <td>1</td>\n",
       "      <td>0.143472</td>\n",
       "      <td>50.877331</td>\n",
       "    </tr>\n",
       "    <tr>\n",
       "      <th>43</th>\n",
       "      <td>WD1600BPVT</td>\n",
       "      <td>2</td>\n",
       "      <td>0.002820</td>\n",
       "      <td>1</td>\n",
       "      <td>0.143472</td>\n",
       "      <td>50.877331</td>\n",
       "    </tr>\n",
       "    <tr>\n",
       "      <th>62</th>\n",
       "      <td>WD800AAJB</td>\n",
       "      <td>7</td>\n",
       "      <td>0.009870</td>\n",
       "      <td>2</td>\n",
       "      <td>0.286944</td>\n",
       "      <td>29.072761</td>\n",
       "    </tr>\n",
       "    <tr>\n",
       "      <th>59</th>\n",
       "      <td>WD5002ABYS</td>\n",
       "      <td>5</td>\n",
       "      <td>0.007050</td>\n",
       "      <td>1</td>\n",
       "      <td>0.143472</td>\n",
       "      <td>20.350933</td>\n",
       "    </tr>\n",
       "    <tr>\n",
       "      <th>54</th>\n",
       "      <td>WD3200BEKX</td>\n",
       "      <td>11</td>\n",
       "      <td>0.015510</td>\n",
       "      <td>2</td>\n",
       "      <td>0.286944</td>\n",
       "      <td>18.500848</td>\n",
       "    </tr>\n",
       "    <tr>\n",
       "      <th>23</th>\n",
       "      <td>ST3160318AS</td>\n",
       "      <td>47</td>\n",
       "      <td>0.066269</td>\n",
       "      <td>6</td>\n",
       "      <td>0.860832</td>\n",
       "      <td>12.989957</td>\n",
       "    </tr>\n",
       "    <tr>\n",
       "      <th>27</th>\n",
       "      <td>ST4000DX000</td>\n",
       "      <td>212</td>\n",
       "      <td>0.298916</td>\n",
       "      <td>15</td>\n",
       "      <td>2.152080</td>\n",
       "      <td>7.199622</td>\n",
       "    </tr>\n",
       "    <tr>\n",
       "      <th>31</th>\n",
       "      <td>ST9250315AS</td>\n",
       "      <td>56</td>\n",
       "      <td>0.078959</td>\n",
       "      <td>3</td>\n",
       "      <td>0.430416</td>\n",
       "      <td>5.451143</td>\n",
       "    </tr>\n",
       "    <tr>\n",
       "      <th>32</th>\n",
       "      <td>ST9320325AS</td>\n",
       "      <td>24</td>\n",
       "      <td>0.033840</td>\n",
       "      <td>1</td>\n",
       "      <td>0.143472</td>\n",
       "      <td>4.239778</td>\n",
       "    </tr>\n",
       "    <tr>\n",
       "      <th>0</th>\n",
       "      <td>DT01ACA300</td>\n",
       "      <td>48</td>\n",
       "      <td>0.067679</td>\n",
       "      <td>2</td>\n",
       "      <td>0.286944</td>\n",
       "      <td>4.239778</td>\n",
       "    </tr>\n",
       "    <tr>\n",
       "      <th>42</th>\n",
       "      <td>WD1600AAJS</td>\n",
       "      <td>100</td>\n",
       "      <td>0.140998</td>\n",
       "      <td>4</td>\n",
       "      <td>0.573888</td>\n",
       "      <td>4.070187</td>\n",
       "    </tr>\n",
       "    <tr>\n",
       "      <th>22</th>\n",
       "      <td>ST3160316AS</td>\n",
       "      <td>52</td>\n",
       "      <td>0.073319</td>\n",
       "      <td>2</td>\n",
       "      <td>0.286944</td>\n",
       "      <td>3.913641</td>\n",
       "    </tr>\n",
       "    <tr>\n",
       "      <th>44</th>\n",
       "      <td>WD20EFRX</td>\n",
       "      <td>157</td>\n",
       "      <td>0.221367</td>\n",
       "      <td>6</td>\n",
       "      <td>0.860832</td>\n",
       "      <td>3.888713</td>\n",
       "    </tr>\n",
       "    <tr>\n",
       "      <th>35</th>\n",
       "      <td>WD10EADS</td>\n",
       "      <td>265</td>\n",
       "      <td>0.373645</td>\n",
       "      <td>7</td>\n",
       "      <td>1.004304</td>\n",
       "      <td>2.687859</td>\n",
       "    </tr>\n",
       "    <tr>\n",
       "      <th>16</th>\n",
       "      <td>MD04ABA500V</td>\n",
       "      <td>46</td>\n",
       "      <td>0.064859</td>\n",
       "      <td>1</td>\n",
       "      <td>0.143472</td>\n",
       "      <td>2.212058</td>\n",
       "    </tr>\n",
       "    <tr>\n",
       "      <th>56</th>\n",
       "      <td>WD40EFRX</td>\n",
       "      <td>47</td>\n",
       "      <td>0.066269</td>\n",
       "      <td>1</td>\n",
       "      <td>0.143472</td>\n",
       "      <td>2.164993</td>\n",
       "    </tr>\n",
       "    <tr>\n",
       "      <th>49</th>\n",
       "      <td>WD30EFRX</td>\n",
       "      <td>1091</td>\n",
       "      <td>1.538288</td>\n",
       "      <td>22</td>\n",
       "      <td>3.156385</td>\n",
       "      <td>2.051881</td>\n",
       "    </tr>\n",
       "    <tr>\n",
       "      <th>34</th>\n",
       "      <td>WD10EACS</td>\n",
       "      <td>57</td>\n",
       "      <td>0.080369</td>\n",
       "      <td>1</td>\n",
       "      <td>0.143472</td>\n",
       "      <td>1.785170</td>\n",
       "    </tr>\n",
       "    <tr>\n",
       "      <th>61</th>\n",
       "      <td>WD60EFRX</td>\n",
       "      <td>464</td>\n",
       "      <td>0.654231</td>\n",
       "      <td>7</td>\n",
       "      <td>1.004304</td>\n",
       "      <td>1.535092</td>\n",
       "    </tr>\n",
       "    <tr>\n",
       "      <th>26</th>\n",
       "      <td>ST4000DM000</td>\n",
       "      <td>35206</td>\n",
       "      <td>49.639750</td>\n",
       "      <td>412</td>\n",
       "      <td>59.110473</td>\n",
       "      <td>1.190789</td>\n",
       "    </tr>\n",
       "    <tr>\n",
       "      <th>58</th>\n",
       "      <td>WD5000LPVX</td>\n",
       "      <td>324</td>\n",
       "      <td>0.456833</td>\n",
       "      <td>3</td>\n",
       "      <td>0.430416</td>\n",
       "      <td>0.942173</td>\n",
       "    </tr>\n",
       "    <tr>\n",
       "      <th>5</th>\n",
       "      <td>HDS722020ALA330</td>\n",
       "      <td>4503</td>\n",
       "      <td>6.349139</td>\n",
       "      <td>39</td>\n",
       "      <td>5.595409</td>\n",
       "      <td>0.881286</td>\n",
       "    </tr>\n",
       "    <tr>\n",
       "      <th>7</th>\n",
       "      <td>HDS723030ALA640</td>\n",
       "      <td>1000</td>\n",
       "      <td>1.409980</td>\n",
       "      <td>7</td>\n",
       "      <td>1.004304</td>\n",
       "      <td>0.712283</td>\n",
       "    </tr>\n",
       "    <tr>\n",
       "      <th>13</th>\n",
       "      <td>HN</td>\n",
       "      <td>834</td>\n",
       "      <td>1.175923</td>\n",
       "      <td>5</td>\n",
       "      <td>0.717360</td>\n",
       "      <td>0.610040</td>\n",
       "    </tr>\n",
       "    <tr>\n",
       "      <th>2</th>\n",
       "      <td>HDS5C3030ALA630</td>\n",
       "      <td>4563</td>\n",
       "      <td>6.433738</td>\n",
       "      <td>18</td>\n",
       "      <td>2.582496</td>\n",
       "      <td>0.401399</td>\n",
       "    </tr>\n",
       "    <tr>\n",
       "      <th>4</th>\n",
       "      <td>HDS5C4040ALE630</td>\n",
       "      <td>2714</td>\n",
       "      <td>3.826685</td>\n",
       "      <td>8</td>\n",
       "      <td>1.147776</td>\n",
       "      <td>0.299940</td>\n",
       "    </tr>\n",
       "    <tr>\n",
       "      <th>29</th>\n",
       "      <td>ST6000DX000</td>\n",
       "      <td>1888</td>\n",
       "      <td>2.662042</td>\n",
       "      <td>5</td>\n",
       "      <td>0.717360</td>\n",
       "      <td>0.269477</td>\n",
       "    </tr>\n",
       "    <tr>\n",
       "      <th>11</th>\n",
       "      <td>HMS5C4040ALE640</td>\n",
       "      <td>7085</td>\n",
       "      <td>9.989707</td>\n",
       "      <td>11</td>\n",
       "      <td>1.578192</td>\n",
       "      <td>0.157982</td>\n",
       "    </tr>\n",
       "    <tr>\n",
       "      <th>30</th>\n",
       "      <td>ST8000DM002</td>\n",
       "      <td>963</td>\n",
       "      <td>1.357811</td>\n",
       "      <td>1</td>\n",
       "      <td>0.143472</td>\n",
       "      <td>0.105664</td>\n",
       "    </tr>\n",
       "    <tr>\n",
       "      <th>12</th>\n",
       "      <td>HMS5C4040BLE640</td>\n",
       "      <td>8480</td>\n",
       "      <td>11.956629</td>\n",
       "      <td>8</td>\n",
       "      <td>1.147776</td>\n",
       "      <td>0.095995</td>\n",
       "    </tr>\n",
       "    <tr>\n",
       "      <th>37</th>\n",
       "      <td>WD10EALS</td>\n",
       "      <td>1</td>\n",
       "      <td>0.001410</td>\n",
       "      <td>0</td>\n",
       "      <td>0.000000</td>\n",
       "      <td>0.000000</td>\n",
       "    </tr>\n",
       "    <tr>\n",
       "      <th>9</th>\n",
       "      <td>HDS724040ALE640</td>\n",
       "      <td>43</td>\n",
       "      <td>0.060629</td>\n",
       "      <td>0</td>\n",
       "      <td>0.000000</td>\n",
       "      <td>0.000000</td>\n",
       "    </tr>\n",
       "    <tr>\n",
       "      <th>21</th>\n",
       "      <td>ST31500541AS</td>\n",
       "      <td>222</td>\n",
       "      <td>0.313016</td>\n",
       "      <td>0</td>\n",
       "      <td>0.000000</td>\n",
       "      <td>0.000000</td>\n",
       "    </tr>\n",
       "    <tr>\n",
       "      <th>3</th>\n",
       "      <td>HDS5C3030BLE630</td>\n",
       "      <td>1</td>\n",
       "      <td>0.001410</td>\n",
       "      <td>0</td>\n",
       "      <td>0.000000</td>\n",
       "      <td>0.000000</td>\n",
       "    </tr>\n",
       "    <tr>\n",
       "      <th>17</th>\n",
       "      <td>MQ01ABF050</td>\n",
       "      <td>11</td>\n",
       "      <td>0.015510</td>\n",
       "      <td>0</td>\n",
       "      <td>0.000000</td>\n",
       "      <td>0.000000</td>\n",
       "    </tr>\n",
       "    <tr>\n",
       "      <th>25</th>\n",
       "      <td>ST3500320AS</td>\n",
       "      <td>1</td>\n",
       "      <td>0.001410</td>\n",
       "      <td>0</td>\n",
       "      <td>0.000000</td>\n",
       "      <td>0.000000</td>\n",
       "    </tr>\n",
       "    <tr>\n",
       "      <th>6</th>\n",
       "      <td>HDS723020BLA642</td>\n",
       "      <td>8</td>\n",
       "      <td>0.011280</td>\n",
       "      <td>0</td>\n",
       "      <td>0.000000</td>\n",
       "      <td>0.000000</td>\n",
       "    </tr>\n",
       "    <tr>\n",
       "      <th>15</th>\n",
       "      <td>MD04ABA400V</td>\n",
       "      <td>146</td>\n",
       "      <td>0.205857</td>\n",
       "      <td>0</td>\n",
       "      <td>0.000000</td>\n",
       "      <td>0.000000</td>\n",
       "    </tr>\n",
       "    <tr>\n",
       "      <th>60</th>\n",
       "      <td>WD5003ABYX</td>\n",
       "      <td>2</td>\n",
       "      <td>0.002820</td>\n",
       "      <td>0</td>\n",
       "      <td>0.000000</td>\n",
       "      <td>0.000000</td>\n",
       "    </tr>\n",
       "    <tr>\n",
       "      <th>28</th>\n",
       "      <td>ST4000DX002</td>\n",
       "      <td>2</td>\n",
       "      <td>0.002820</td>\n",
       "      <td>0</td>\n",
       "      <td>0.000000</td>\n",
       "      <td>0.000000</td>\n",
       "    </tr>\n",
       "    <tr>\n",
       "      <th>57</th>\n",
       "      <td>WD5000BPKT</td>\n",
       "      <td>24</td>\n",
       "      <td>0.033840</td>\n",
       "      <td>0</td>\n",
       "      <td>0.000000</td>\n",
       "      <td>0.000000</td>\n",
       "    </tr>\n",
       "    <tr>\n",
       "      <th>14</th>\n",
       "      <td>HUH728080ALE600</td>\n",
       "      <td>45</td>\n",
       "      <td>0.063449</td>\n",
       "      <td>0</td>\n",
       "      <td>0.000000</td>\n",
       "      <td>0.000000</td>\n",
       "    </tr>\n",
       "    <tr>\n",
       "      <th>55</th>\n",
       "      <td>WD3200LPVX</td>\n",
       "      <td>1</td>\n",
       "      <td>0.001410</td>\n",
       "      <td>0</td>\n",
       "      <td>0.000000</td>\n",
       "      <td>0.000000</td>\n",
       "    </tr>\n",
       "    <tr>\n",
       "      <th>8</th>\n",
       "      <td>HDS723030BLE640</td>\n",
       "      <td>9</td>\n",
       "      <td>0.012690</td>\n",
       "      <td>0</td>\n",
       "      <td>0.000000</td>\n",
       "      <td>0.000000</td>\n",
       "    </tr>\n",
       "    <tr>\n",
       "      <th>52</th>\n",
       "      <td>WD3200AAKS</td>\n",
       "      <td>1</td>\n",
       "      <td>0.001410</td>\n",
       "      <td>0</td>\n",
       "      <td>0.000000</td>\n",
       "      <td>0.000000</td>\n",
       "    </tr>\n",
       "    <tr>\n",
       "      <th>38</th>\n",
       "      <td>WD10EARS</td>\n",
       "      <td>2</td>\n",
       "      <td>0.002820</td>\n",
       "      <td>0</td>\n",
       "      <td>0.000000</td>\n",
       "      <td>0.000000</td>\n",
       "    </tr>\n",
       "    <tr>\n",
       "      <th>51</th>\n",
       "      <td>WD3200AAJS</td>\n",
       "      <td>3</td>\n",
       "      <td>0.004230</td>\n",
       "      <td>0</td>\n",
       "      <td>0.000000</td>\n",
       "      <td>0.000000</td>\n",
       "    </tr>\n",
       "    <tr>\n",
       "      <th>10</th>\n",
       "      <td>HDT725025VLA380</td>\n",
       "      <td>1</td>\n",
       "      <td>0.001410</td>\n",
       "      <td>0</td>\n",
       "      <td>0.000000</td>\n",
       "      <td>0.000000</td>\n",
       "    </tr>\n",
       "    <tr>\n",
       "      <th>33</th>\n",
       "      <td>WD1001FALS</td>\n",
       "      <td>1</td>\n",
       "      <td>0.001410</td>\n",
       "      <td>0</td>\n",
       "      <td>0.000000</td>\n",
       "      <td>0.000000</td>\n",
       "    </tr>\n",
       "    <tr>\n",
       "      <th>48</th>\n",
       "      <td>WD2500BPVT</td>\n",
       "      <td>8</td>\n",
       "      <td>0.011280</td>\n",
       "      <td>0</td>\n",
       "      <td>0.000000</td>\n",
       "      <td>0.000000</td>\n",
       "    </tr>\n",
       "    <tr>\n",
       "      <th>47</th>\n",
       "      <td>WD2500BEVT</td>\n",
       "      <td>1</td>\n",
       "      <td>0.001410</td>\n",
       "      <td>0</td>\n",
       "      <td>0.000000</td>\n",
       "      <td>0.000000</td>\n",
       "    </tr>\n",
       "  </tbody>\n",
       "</table>\n",
       "</div>"
      ],
      "text/plain": [
       "               type  serial_number  model_pct  failure   fail_pct  \\\n",
       "67          WD800LB              1   0.001410        1   0.143472   \n",
       "64          WD800BB              5   0.007050        5   0.717360   \n",
       "19       ST250LT007              4   0.005640        4   0.573888   \n",
       "53       WD3200BEKT              1   0.001410        1   0.143472   \n",
       "65          WD800JB              4   0.005640        4   0.573888   \n",
       "66          WD800JD              1   0.001410        1   0.143472   \n",
       "63        WD800AAJS             14   0.019740       14   2.008608   \n",
       "24       ST320LT007             73   0.102929       61   8.751793   \n",
       "41       WD1600AAJB              6   0.008460        4   0.573888   \n",
       "50       WD3200AAJB              2   0.002820        1   0.143472   \n",
       "43       WD1600BPVT              2   0.002820        1   0.143472   \n",
       "62        WD800AAJB              7   0.009870        2   0.286944   \n",
       "59       WD5002ABYS              5   0.007050        1   0.143472   \n",
       "54       WD3200BEKX             11   0.015510        2   0.286944   \n",
       "23      ST3160318AS             47   0.066269        6   0.860832   \n",
       "27      ST4000DX000            212   0.298916       15   2.152080   \n",
       "31      ST9250315AS             56   0.078959        3   0.430416   \n",
       "32      ST9320325AS             24   0.033840        1   0.143472   \n",
       "0        DT01ACA300             48   0.067679        2   0.286944   \n",
       "42       WD1600AAJS            100   0.140998        4   0.573888   \n",
       "22      ST3160316AS             52   0.073319        2   0.286944   \n",
       "44         WD20EFRX            157   0.221367        6   0.860832   \n",
       "35         WD10EADS            265   0.373645        7   1.004304   \n",
       "16      MD04ABA500V             46   0.064859        1   0.143472   \n",
       "56         WD40EFRX             47   0.066269        1   0.143472   \n",
       "49         WD30EFRX           1091   1.538288       22   3.156385   \n",
       "34         WD10EACS             57   0.080369        1   0.143472   \n",
       "61         WD60EFRX            464   0.654231        7   1.004304   \n",
       "26      ST4000DM000          35206  49.639750      412  59.110473   \n",
       "58       WD5000LPVX            324   0.456833        3   0.430416   \n",
       "5   HDS722020ALA330           4503   6.349139       39   5.595409   \n",
       "7   HDS723030ALA640           1000   1.409980        7   1.004304   \n",
       "13               HN            834   1.175923        5   0.717360   \n",
       "2   HDS5C3030ALA630           4563   6.433738       18   2.582496   \n",
       "4   HDS5C4040ALE630           2714   3.826685        8   1.147776   \n",
       "29      ST6000DX000           1888   2.662042        5   0.717360   \n",
       "11  HMS5C4040ALE640           7085   9.989707       11   1.578192   \n",
       "30      ST8000DM002            963   1.357811        1   0.143472   \n",
       "12  HMS5C4040BLE640           8480  11.956629        8   1.147776   \n",
       "37         WD10EALS              1   0.001410        0   0.000000   \n",
       "9   HDS724040ALE640             43   0.060629        0   0.000000   \n",
       "21     ST31500541AS            222   0.313016        0   0.000000   \n",
       "3   HDS5C3030BLE630              1   0.001410        0   0.000000   \n",
       "17       MQ01ABF050             11   0.015510        0   0.000000   \n",
       "25      ST3500320AS              1   0.001410        0   0.000000   \n",
       "6   HDS723020BLA642              8   0.011280        0   0.000000   \n",
       "15      MD04ABA400V            146   0.205857        0   0.000000   \n",
       "60       WD5003ABYX              2   0.002820        0   0.000000   \n",
       "28      ST4000DX002              2   0.002820        0   0.000000   \n",
       "57       WD5000BPKT             24   0.033840        0   0.000000   \n",
       "14  HUH728080ALE600             45   0.063449        0   0.000000   \n",
       "55       WD3200LPVX              1   0.001410        0   0.000000   \n",
       "8   HDS723030BLE640              9   0.012690        0   0.000000   \n",
       "52       WD3200AAKS              1   0.001410        0   0.000000   \n",
       "38         WD10EARS              2   0.002820        0   0.000000   \n",
       "51       WD3200AAJS              3   0.004230        0   0.000000   \n",
       "10  HDT725025VLA380              1   0.001410        0   0.000000   \n",
       "33       WD1001FALS              1   0.001410        0   0.000000   \n",
       "48       WD2500BPVT              8   0.011280        0   0.000000   \n",
       "47       WD2500BEVT              1   0.001410        0   0.000000   \n",
       "\n",
       "    fail_to_mdl_pct_ratio  \n",
       "67             101.754663  \n",
       "64             101.754663  \n",
       "19             101.754663  \n",
       "53             101.754663  \n",
       "65             101.754663  \n",
       "66             101.754663  \n",
       "63             101.754663  \n",
       "24              85.027869  \n",
       "41              67.836442  \n",
       "50              50.877331  \n",
       "43              50.877331  \n",
       "62              29.072761  \n",
       "59              20.350933  \n",
       "54              18.500848  \n",
       "23              12.989957  \n",
       "27               7.199622  \n",
       "31               5.451143  \n",
       "32               4.239778  \n",
       "0                4.239778  \n",
       "42               4.070187  \n",
       "22               3.913641  \n",
       "44               3.888713  \n",
       "35               2.687859  \n",
       "16               2.212058  \n",
       "56               2.164993  \n",
       "49               2.051881  \n",
       "34               1.785170  \n",
       "61               1.535092  \n",
       "26               1.190789  \n",
       "58               0.942173  \n",
       "5                0.881286  \n",
       "7                0.712283  \n",
       "13               0.610040  \n",
       "2                0.401399  \n",
       "4                0.299940  \n",
       "29               0.269477  \n",
       "11               0.157982  \n",
       "30               0.105664  \n",
       "12               0.095995  \n",
       "37               0.000000  \n",
       "9                0.000000  \n",
       "21               0.000000  \n",
       "3                0.000000  \n",
       "17               0.000000  \n",
       "25               0.000000  \n",
       "6                0.000000  \n",
       "15               0.000000  \n",
       "60               0.000000  \n",
       "28               0.000000  \n",
       "57               0.000000  \n",
       "14               0.000000  \n",
       "55               0.000000  \n",
       "8                0.000000  \n",
       "52               0.000000  \n",
       "38               0.000000  \n",
       "51               0.000000  \n",
       "10               0.000000  \n",
       "33               0.000000  \n",
       "48               0.000000  \n",
       "47               0.000000  "
      ]
     },
     "execution_count": 20,
     "metadata": {},
     "output_type": "execute_result"
    }
   ],
   "source": [
    "dfm.join(dff.set_index('type'), on='type', ).assign(fail_to_mdl_pct_ratio=lambda x: x.fail_pct/x.model_pct).sort_values(by='fail_to_mdl_pct_ratio', ascending=False).head(60)\n",
    "# dfm.join(dff.set_index('type'), on='type', ).assign(fail_to_mdl_pct_ratio=lambda x: x.fail_pct/x.model_pct).sort_values(by='fail_to_mdl_pct_ratio', ascending=False).to_csv('calc_fail_to_mdl_pct_ratio.csv')"
   ]
  },
  {
   "cell_type": "markdown",
   "metadata": {},
   "source": [
    "Gornjom usporedbom dobivam neke zanimljive rezultate:\n",
    "> Neki modeli WD i ST senzora su iznimno nepouzdani - gotovo svi WD800 senzori su se pokvarili, dok je model `ST320LT007` doživio kvar u 61 od 73 korištena senzora, čime je u ukupnom broju grešaka prisutan 85 puta više nego u ukupnom broju senzora. S druge strane, senzori HMS se pokazuju vrlo pouzdanima, sa 19 kvarova u preko 15500 različitih senzora. Najpopularniji model, `ST4000DM000` čini 50% senzora i 60% grešaka, dakle ispod prosjeka pouzdanosti je (42.2 pctl).\n",
    "\n",
    "Još ću pokazati kretanje parametara kroz vrijeme. Odabirem pokvareni senzor modela `HDS722020ALA330` jer je taj model blizu prosjeku kvarova. Najprije sve kvarove izdvajam u zasebnu datoteku:\n",
    "\n",
    "```python\n",
    "df.loc[df['failure'] == 1, :].to_csv('2020_fails.csv')\n",
    "fails = pd.read_csv('2020_fails.csv')\n",
    "fails.loc[fails['type']=='HDS722020ALA330', :] # JK11E1B9K0M03T\n",
    "df.loc[df['serial_number']=='JK11E1B9K0M03T', :].to_csv('series_JK11E1B9K0M03T.csv', index=False)\n",
    "```"
   ]
  },
  {
   "cell_type": "code",
   "execution_count": 22,
   "metadata": {},
   "outputs": [],
   "source": [
    "sensor = pd.read_csv('series_JK11E1B9K0M03T.csv').set_index('date').iloc[:, 5::2].reset_index().dropna(axis=1, how='all')"
   ]
  },
  {
   "cell_type": "code",
   "execution_count": 23,
   "metadata": {},
   "outputs": [
    {
     "data": {
      "text/html": [
       "<div>\n",
       "<style scoped>\n",
       "    .dataframe tbody tr th:only-of-type {\n",
       "        vertical-align: middle;\n",
       "    }\n",
       "\n",
       "    .dataframe tbody tr th {\n",
       "        vertical-align: top;\n",
       "    }\n",
       "\n",
       "    .dataframe thead th {\n",
       "        text-align: right;\n",
       "    }\n",
       "</style>\n",
       "<table border=\"1\" class=\"dataframe\">\n",
       "  <thead>\n",
       "    <tr style=\"text-align: right;\">\n",
       "      <th></th>\n",
       "      <th>date</th>\n",
       "      <th>stat_1_raw</th>\n",
       "      <th>stat_2_raw</th>\n",
       "      <th>stat_3_raw</th>\n",
       "      <th>stat_4_raw</th>\n",
       "      <th>stat_5_raw</th>\n",
       "      <th>stat_7_raw</th>\n",
       "      <th>stat_8_raw</th>\n",
       "      <th>stat_9_raw</th>\n",
       "      <th>stat_10_raw</th>\n",
       "      <th>stat_12_raw</th>\n",
       "      <th>stat_192_raw</th>\n",
       "      <th>stat_193_raw</th>\n",
       "      <th>stat_194_raw</th>\n",
       "      <th>stat_196_raw</th>\n",
       "      <th>stat_197_raw</th>\n",
       "      <th>stat_198_raw</th>\n",
       "      <th>stat_199_raw</th>\n",
       "    </tr>\n",
       "  </thead>\n",
       "  <tbody>\n",
       "    <tr>\n",
       "      <th>49</th>\n",
       "      <td>2020-02-19</td>\n",
       "      <td>0.0</td>\n",
       "      <td>104.0</td>\n",
       "      <td>483.0</td>\n",
       "      <td>9.0</td>\n",
       "      <td>5.0</td>\n",
       "      <td>0.0</td>\n",
       "      <td>36.0</td>\n",
       "      <td>20913.0</td>\n",
       "      <td>0.0</td>\n",
       "      <td>8.0</td>\n",
       "      <td>10.0</td>\n",
       "      <td>10.0</td>\n",
       "      <td>27.0</td>\n",
       "      <td>7.0</td>\n",
       "      <td>0.0</td>\n",
       "      <td>0.0</td>\n",
       "      <td>0.0</td>\n",
       "    </tr>\n",
       "    <tr>\n",
       "      <th>50</th>\n",
       "      <td>2020-02-20</td>\n",
       "      <td>0.0</td>\n",
       "      <td>104.0</td>\n",
       "      <td>483.0</td>\n",
       "      <td>9.0</td>\n",
       "      <td>5.0</td>\n",
       "      <td>0.0</td>\n",
       "      <td>36.0</td>\n",
       "      <td>20937.0</td>\n",
       "      <td>0.0</td>\n",
       "      <td>8.0</td>\n",
       "      <td>10.0</td>\n",
       "      <td>10.0</td>\n",
       "      <td>27.0</td>\n",
       "      <td>7.0</td>\n",
       "      <td>0.0</td>\n",
       "      <td>0.0</td>\n",
       "      <td>0.0</td>\n",
       "    </tr>\n",
       "    <tr>\n",
       "      <th>51</th>\n",
       "      <td>2020-02-21</td>\n",
       "      <td>0.0</td>\n",
       "      <td>104.0</td>\n",
       "      <td>483.0</td>\n",
       "      <td>9.0</td>\n",
       "      <td>5.0</td>\n",
       "      <td>0.0</td>\n",
       "      <td>36.0</td>\n",
       "      <td>20960.0</td>\n",
       "      <td>0.0</td>\n",
       "      <td>8.0</td>\n",
       "      <td>10.0</td>\n",
       "      <td>10.0</td>\n",
       "      <td>26.0</td>\n",
       "      <td>7.0</td>\n",
       "      <td>0.0</td>\n",
       "      <td>0.0</td>\n",
       "      <td>0.0</td>\n",
       "    </tr>\n",
       "    <tr>\n",
       "      <th>52</th>\n",
       "      <td>2020-02-22</td>\n",
       "      <td>0.0</td>\n",
       "      <td>104.0</td>\n",
       "      <td>483.0</td>\n",
       "      <td>9.0</td>\n",
       "      <td>5.0</td>\n",
       "      <td>0.0</td>\n",
       "      <td>36.0</td>\n",
       "      <td>20985.0</td>\n",
       "      <td>0.0</td>\n",
       "      <td>8.0</td>\n",
       "      <td>10.0</td>\n",
       "      <td>10.0</td>\n",
       "      <td>27.0</td>\n",
       "      <td>7.0</td>\n",
       "      <td>0.0</td>\n",
       "      <td>0.0</td>\n",
       "      <td>0.0</td>\n",
       "    </tr>\n",
       "    <tr>\n",
       "      <th>53</th>\n",
       "      <td>2020-02-23</td>\n",
       "      <td>0.0</td>\n",
       "      <td>104.0</td>\n",
       "      <td>483.0</td>\n",
       "      <td>9.0</td>\n",
       "      <td>5.0</td>\n",
       "      <td>0.0</td>\n",
       "      <td>36.0</td>\n",
       "      <td>21009.0</td>\n",
       "      <td>0.0</td>\n",
       "      <td>8.0</td>\n",
       "      <td>10.0</td>\n",
       "      <td>10.0</td>\n",
       "      <td>27.0</td>\n",
       "      <td>7.0</td>\n",
       "      <td>0.0</td>\n",
       "      <td>0.0</td>\n",
       "      <td>0.0</td>\n",
       "    </tr>\n",
       "    <tr>\n",
       "      <th>54</th>\n",
       "      <td>2020-02-24</td>\n",
       "      <td>0.0</td>\n",
       "      <td>104.0</td>\n",
       "      <td>483.0</td>\n",
       "      <td>9.0</td>\n",
       "      <td>5.0</td>\n",
       "      <td>0.0</td>\n",
       "      <td>36.0</td>\n",
       "      <td>21032.0</td>\n",
       "      <td>0.0</td>\n",
       "      <td>8.0</td>\n",
       "      <td>10.0</td>\n",
       "      <td>10.0</td>\n",
       "      <td>27.0</td>\n",
       "      <td>7.0</td>\n",
       "      <td>0.0</td>\n",
       "      <td>0.0</td>\n",
       "      <td>0.0</td>\n",
       "    </tr>\n",
       "    <tr>\n",
       "      <th>55</th>\n",
       "      <td>2020-02-25</td>\n",
       "      <td>0.0</td>\n",
       "      <td>104.0</td>\n",
       "      <td>483.0</td>\n",
       "      <td>9.0</td>\n",
       "      <td>5.0</td>\n",
       "      <td>0.0</td>\n",
       "      <td>36.0</td>\n",
       "      <td>21057.0</td>\n",
       "      <td>0.0</td>\n",
       "      <td>8.0</td>\n",
       "      <td>10.0</td>\n",
       "      <td>10.0</td>\n",
       "      <td>27.0</td>\n",
       "      <td>7.0</td>\n",
       "      <td>0.0</td>\n",
       "      <td>0.0</td>\n",
       "      <td>0.0</td>\n",
       "    </tr>\n",
       "    <tr>\n",
       "      <th>56</th>\n",
       "      <td>2020-02-26</td>\n",
       "      <td>0.0</td>\n",
       "      <td>104.0</td>\n",
       "      <td>483.0</td>\n",
       "      <td>9.0</td>\n",
       "      <td>5.0</td>\n",
       "      <td>0.0</td>\n",
       "      <td>36.0</td>\n",
       "      <td>21081.0</td>\n",
       "      <td>0.0</td>\n",
       "      <td>8.0</td>\n",
       "      <td>10.0</td>\n",
       "      <td>10.0</td>\n",
       "      <td>27.0</td>\n",
       "      <td>7.0</td>\n",
       "      <td>0.0</td>\n",
       "      <td>0.0</td>\n",
       "      <td>0.0</td>\n",
       "    </tr>\n",
       "    <tr>\n",
       "      <th>57</th>\n",
       "      <td>2020-02-27</td>\n",
       "      <td>0.0</td>\n",
       "      <td>104.0</td>\n",
       "      <td>483.0</td>\n",
       "      <td>9.0</td>\n",
       "      <td>5.0</td>\n",
       "      <td>0.0</td>\n",
       "      <td>36.0</td>\n",
       "      <td>21104.0</td>\n",
       "      <td>0.0</td>\n",
       "      <td>8.0</td>\n",
       "      <td>10.0</td>\n",
       "      <td>10.0</td>\n",
       "      <td>26.0</td>\n",
       "      <td>7.0</td>\n",
       "      <td>0.0</td>\n",
       "      <td>0.0</td>\n",
       "      <td>0.0</td>\n",
       "    </tr>\n",
       "    <tr>\n",
       "      <th>58</th>\n",
       "      <td>2020-02-28</td>\n",
       "      <td>0.0</td>\n",
       "      <td>104.0</td>\n",
       "      <td>483.0</td>\n",
       "      <td>9.0</td>\n",
       "      <td>5.0</td>\n",
       "      <td>0.0</td>\n",
       "      <td>36.0</td>\n",
       "      <td>21129.0</td>\n",
       "      <td>0.0</td>\n",
       "      <td>8.0</td>\n",
       "      <td>10.0</td>\n",
       "      <td>10.0</td>\n",
       "      <td>27.0</td>\n",
       "      <td>7.0</td>\n",
       "      <td>0.0</td>\n",
       "      <td>0.0</td>\n",
       "      <td>0.0</td>\n",
       "    </tr>\n",
       "    <tr>\n",
       "      <th>59</th>\n",
       "      <td>2020-02-29</td>\n",
       "      <td>0.0</td>\n",
       "      <td>104.0</td>\n",
       "      <td>483.0</td>\n",
       "      <td>9.0</td>\n",
       "      <td>5.0</td>\n",
       "      <td>0.0</td>\n",
       "      <td>36.0</td>\n",
       "      <td>21153.0</td>\n",
       "      <td>0.0</td>\n",
       "      <td>8.0</td>\n",
       "      <td>10.0</td>\n",
       "      <td>10.0</td>\n",
       "      <td>26.0</td>\n",
       "      <td>7.0</td>\n",
       "      <td>0.0</td>\n",
       "      <td>0.0</td>\n",
       "      <td>0.0</td>\n",
       "    </tr>\n",
       "    <tr>\n",
       "      <th>60</th>\n",
       "      <td>2020-03-01</td>\n",
       "      <td>0.0</td>\n",
       "      <td>104.0</td>\n",
       "      <td>483.0</td>\n",
       "      <td>9.0</td>\n",
       "      <td>5.0</td>\n",
       "      <td>0.0</td>\n",
       "      <td>36.0</td>\n",
       "      <td>21177.0</td>\n",
       "      <td>0.0</td>\n",
       "      <td>8.0</td>\n",
       "      <td>10.0</td>\n",
       "      <td>10.0</td>\n",
       "      <td>27.0</td>\n",
       "      <td>7.0</td>\n",
       "      <td>0.0</td>\n",
       "      <td>0.0</td>\n",
       "      <td>0.0</td>\n",
       "    </tr>\n",
       "    <tr>\n",
       "      <th>61</th>\n",
       "      <td>2020-03-02</td>\n",
       "      <td>0.0</td>\n",
       "      <td>104.0</td>\n",
       "      <td>483.0</td>\n",
       "      <td>9.0</td>\n",
       "      <td>5.0</td>\n",
       "      <td>0.0</td>\n",
       "      <td>36.0</td>\n",
       "      <td>21200.0</td>\n",
       "      <td>0.0</td>\n",
       "      <td>8.0</td>\n",
       "      <td>10.0</td>\n",
       "      <td>10.0</td>\n",
       "      <td>26.0</td>\n",
       "      <td>7.0</td>\n",
       "      <td>0.0</td>\n",
       "      <td>0.0</td>\n",
       "      <td>0.0</td>\n",
       "    </tr>\n",
       "    <tr>\n",
       "      <th>62</th>\n",
       "      <td>2020-03-03</td>\n",
       "      <td>0.0</td>\n",
       "      <td>104.0</td>\n",
       "      <td>483.0</td>\n",
       "      <td>9.0</td>\n",
       "      <td>5.0</td>\n",
       "      <td>0.0</td>\n",
       "      <td>36.0</td>\n",
       "      <td>21225.0</td>\n",
       "      <td>0.0</td>\n",
       "      <td>8.0</td>\n",
       "      <td>10.0</td>\n",
       "      <td>10.0</td>\n",
       "      <td>26.0</td>\n",
       "      <td>7.0</td>\n",
       "      <td>0.0</td>\n",
       "      <td>0.0</td>\n",
       "      <td>0.0</td>\n",
       "    </tr>\n",
       "    <tr>\n",
       "      <th>63</th>\n",
       "      <td>2020-03-04</td>\n",
       "      <td>0.0</td>\n",
       "      <td>104.0</td>\n",
       "      <td>483.0</td>\n",
       "      <td>9.0</td>\n",
       "      <td>5.0</td>\n",
       "      <td>0.0</td>\n",
       "      <td>36.0</td>\n",
       "      <td>21249.0</td>\n",
       "      <td>0.0</td>\n",
       "      <td>8.0</td>\n",
       "      <td>10.0</td>\n",
       "      <td>10.0</td>\n",
       "      <td>26.0</td>\n",
       "      <td>7.0</td>\n",
       "      <td>0.0</td>\n",
       "      <td>0.0</td>\n",
       "      <td>0.0</td>\n",
       "    </tr>\n",
       "    <tr>\n",
       "      <th>64</th>\n",
       "      <td>2020-03-05</td>\n",
       "      <td>0.0</td>\n",
       "      <td>104.0</td>\n",
       "      <td>483.0</td>\n",
       "      <td>9.0</td>\n",
       "      <td>5.0</td>\n",
       "      <td>0.0</td>\n",
       "      <td>36.0</td>\n",
       "      <td>21272.0</td>\n",
       "      <td>0.0</td>\n",
       "      <td>8.0</td>\n",
       "      <td>10.0</td>\n",
       "      <td>10.0</td>\n",
       "      <td>26.0</td>\n",
       "      <td>7.0</td>\n",
       "      <td>0.0</td>\n",
       "      <td>0.0</td>\n",
       "      <td>0.0</td>\n",
       "    </tr>\n",
       "    <tr>\n",
       "      <th>65</th>\n",
       "      <td>2020-03-06</td>\n",
       "      <td>0.0</td>\n",
       "      <td>104.0</td>\n",
       "      <td>483.0</td>\n",
       "      <td>9.0</td>\n",
       "      <td>5.0</td>\n",
       "      <td>0.0</td>\n",
       "      <td>36.0</td>\n",
       "      <td>21297.0</td>\n",
       "      <td>0.0</td>\n",
       "      <td>8.0</td>\n",
       "      <td>10.0</td>\n",
       "      <td>10.0</td>\n",
       "      <td>26.0</td>\n",
       "      <td>7.0</td>\n",
       "      <td>0.0</td>\n",
       "      <td>0.0</td>\n",
       "      <td>0.0</td>\n",
       "    </tr>\n",
       "    <tr>\n",
       "      <th>66</th>\n",
       "      <td>2020-03-07</td>\n",
       "      <td>0.0</td>\n",
       "      <td>104.0</td>\n",
       "      <td>483.0</td>\n",
       "      <td>9.0</td>\n",
       "      <td>5.0</td>\n",
       "      <td>0.0</td>\n",
       "      <td>36.0</td>\n",
       "      <td>21321.0</td>\n",
       "      <td>0.0</td>\n",
       "      <td>8.0</td>\n",
       "      <td>10.0</td>\n",
       "      <td>10.0</td>\n",
       "      <td>27.0</td>\n",
       "      <td>7.0</td>\n",
       "      <td>0.0</td>\n",
       "      <td>0.0</td>\n",
       "      <td>0.0</td>\n",
       "    </tr>\n",
       "    <tr>\n",
       "      <th>67</th>\n",
       "      <td>2020-03-08</td>\n",
       "      <td>0.0</td>\n",
       "      <td>104.0</td>\n",
       "      <td>483.0</td>\n",
       "      <td>9.0</td>\n",
       "      <td>5.0</td>\n",
       "      <td>0.0</td>\n",
       "      <td>36.0</td>\n",
       "      <td>21344.0</td>\n",
       "      <td>0.0</td>\n",
       "      <td>8.0</td>\n",
       "      <td>10.0</td>\n",
       "      <td>10.0</td>\n",
       "      <td>26.0</td>\n",
       "      <td>7.0</td>\n",
       "      <td>0.0</td>\n",
       "      <td>0.0</td>\n",
       "      <td>0.0</td>\n",
       "    </tr>\n",
       "    <tr>\n",
       "      <th>68</th>\n",
       "      <td>2020-03-09</td>\n",
       "      <td>0.0</td>\n",
       "      <td>104.0</td>\n",
       "      <td>483.0</td>\n",
       "      <td>9.0</td>\n",
       "      <td>5.0</td>\n",
       "      <td>0.0</td>\n",
       "      <td>36.0</td>\n",
       "      <td>21369.0</td>\n",
       "      <td>0.0</td>\n",
       "      <td>8.0</td>\n",
       "      <td>10.0</td>\n",
       "      <td>10.0</td>\n",
       "      <td>27.0</td>\n",
       "      <td>7.0</td>\n",
       "      <td>0.0</td>\n",
       "      <td>0.0</td>\n",
       "      <td>0.0</td>\n",
       "    </tr>\n",
       "    <tr>\n",
       "      <th>69</th>\n",
       "      <td>2020-03-10</td>\n",
       "      <td>0.0</td>\n",
       "      <td>104.0</td>\n",
       "      <td>483.0</td>\n",
       "      <td>9.0</td>\n",
       "      <td>5.0</td>\n",
       "      <td>0.0</td>\n",
       "      <td>36.0</td>\n",
       "      <td>21393.0</td>\n",
       "      <td>0.0</td>\n",
       "      <td>8.0</td>\n",
       "      <td>10.0</td>\n",
       "      <td>10.0</td>\n",
       "      <td>27.0</td>\n",
       "      <td>7.0</td>\n",
       "      <td>0.0</td>\n",
       "      <td>0.0</td>\n",
       "      <td>0.0</td>\n",
       "    </tr>\n",
       "    <tr>\n",
       "      <th>70</th>\n",
       "      <td>2020-03-11</td>\n",
       "      <td>0.0</td>\n",
       "      <td>104.0</td>\n",
       "      <td>483.0</td>\n",
       "      <td>9.0</td>\n",
       "      <td>5.0</td>\n",
       "      <td>0.0</td>\n",
       "      <td>36.0</td>\n",
       "      <td>21417.0</td>\n",
       "      <td>0.0</td>\n",
       "      <td>8.0</td>\n",
       "      <td>10.0</td>\n",
       "      <td>10.0</td>\n",
       "      <td>27.0</td>\n",
       "      <td>7.0</td>\n",
       "      <td>0.0</td>\n",
       "      <td>0.0</td>\n",
       "      <td>0.0</td>\n",
       "    </tr>\n",
       "    <tr>\n",
       "      <th>71</th>\n",
       "      <td>2020-03-12</td>\n",
       "      <td>0.0</td>\n",
       "      <td>104.0</td>\n",
       "      <td>483.0</td>\n",
       "      <td>9.0</td>\n",
       "      <td>5.0</td>\n",
       "      <td>0.0</td>\n",
       "      <td>36.0</td>\n",
       "      <td>21441.0</td>\n",
       "      <td>0.0</td>\n",
       "      <td>8.0</td>\n",
       "      <td>10.0</td>\n",
       "      <td>10.0</td>\n",
       "      <td>27.0</td>\n",
       "      <td>7.0</td>\n",
       "      <td>0.0</td>\n",
       "      <td>0.0</td>\n",
       "      <td>0.0</td>\n",
       "    </tr>\n",
       "    <tr>\n",
       "      <th>72</th>\n",
       "      <td>2020-03-13</td>\n",
       "      <td>0.0</td>\n",
       "      <td>104.0</td>\n",
       "      <td>483.0</td>\n",
       "      <td>9.0</td>\n",
       "      <td>5.0</td>\n",
       "      <td>0.0</td>\n",
       "      <td>36.0</td>\n",
       "      <td>21465.0</td>\n",
       "      <td>0.0</td>\n",
       "      <td>8.0</td>\n",
       "      <td>10.0</td>\n",
       "      <td>10.0</td>\n",
       "      <td>27.0</td>\n",
       "      <td>7.0</td>\n",
       "      <td>0.0</td>\n",
       "      <td>0.0</td>\n",
       "      <td>0.0</td>\n",
       "    </tr>\n",
       "    <tr>\n",
       "      <th>73</th>\n",
       "      <td>2020-03-14</td>\n",
       "      <td>0.0</td>\n",
       "      <td>104.0</td>\n",
       "      <td>483.0</td>\n",
       "      <td>9.0</td>\n",
       "      <td>5.0</td>\n",
       "      <td>0.0</td>\n",
       "      <td>36.0</td>\n",
       "      <td>21489.0</td>\n",
       "      <td>0.0</td>\n",
       "      <td>8.0</td>\n",
       "      <td>10.0</td>\n",
       "      <td>10.0</td>\n",
       "      <td>27.0</td>\n",
       "      <td>7.0</td>\n",
       "      <td>0.0</td>\n",
       "      <td>0.0</td>\n",
       "      <td>0.0</td>\n",
       "    </tr>\n",
       "    <tr>\n",
       "      <th>74</th>\n",
       "      <td>2020-03-15</td>\n",
       "      <td>0.0</td>\n",
       "      <td>104.0</td>\n",
       "      <td>483.0</td>\n",
       "      <td>9.0</td>\n",
       "      <td>5.0</td>\n",
       "      <td>0.0</td>\n",
       "      <td>36.0</td>\n",
       "      <td>21512.0</td>\n",
       "      <td>0.0</td>\n",
       "      <td>8.0</td>\n",
       "      <td>10.0</td>\n",
       "      <td>10.0</td>\n",
       "      <td>27.0</td>\n",
       "      <td>7.0</td>\n",
       "      <td>0.0</td>\n",
       "      <td>0.0</td>\n",
       "      <td>0.0</td>\n",
       "    </tr>\n",
       "    <tr>\n",
       "      <th>75</th>\n",
       "      <td>2020-03-16</td>\n",
       "      <td>0.0</td>\n",
       "      <td>104.0</td>\n",
       "      <td>483.0</td>\n",
       "      <td>9.0</td>\n",
       "      <td>5.0</td>\n",
       "      <td>0.0</td>\n",
       "      <td>36.0</td>\n",
       "      <td>21535.0</td>\n",
       "      <td>0.0</td>\n",
       "      <td>8.0</td>\n",
       "      <td>10.0</td>\n",
       "      <td>10.0</td>\n",
       "      <td>27.0</td>\n",
       "      <td>7.0</td>\n",
       "      <td>0.0</td>\n",
       "      <td>0.0</td>\n",
       "      <td>0.0</td>\n",
       "    </tr>\n",
       "    <tr>\n",
       "      <th>76</th>\n",
       "      <td>2020-03-17</td>\n",
       "      <td>0.0</td>\n",
       "      <td>104.0</td>\n",
       "      <td>483.0</td>\n",
       "      <td>9.0</td>\n",
       "      <td>5.0</td>\n",
       "      <td>0.0</td>\n",
       "      <td>36.0</td>\n",
       "      <td>21560.0</td>\n",
       "      <td>0.0</td>\n",
       "      <td>8.0</td>\n",
       "      <td>10.0</td>\n",
       "      <td>10.0</td>\n",
       "      <td>27.0</td>\n",
       "      <td>7.0</td>\n",
       "      <td>0.0</td>\n",
       "      <td>0.0</td>\n",
       "      <td>0.0</td>\n",
       "    </tr>\n",
       "    <tr>\n",
       "      <th>77</th>\n",
       "      <td>2020-03-18</td>\n",
       "      <td>0.0</td>\n",
       "      <td>104.0</td>\n",
       "      <td>483.0</td>\n",
       "      <td>9.0</td>\n",
       "      <td>5.0</td>\n",
       "      <td>0.0</td>\n",
       "      <td>36.0</td>\n",
       "      <td>21584.0</td>\n",
       "      <td>0.0</td>\n",
       "      <td>8.0</td>\n",
       "      <td>10.0</td>\n",
       "      <td>10.0</td>\n",
       "      <td>27.0</td>\n",
       "      <td>7.0</td>\n",
       "      <td>0.0</td>\n",
       "      <td>0.0</td>\n",
       "      <td>0.0</td>\n",
       "    </tr>\n",
       "    <tr>\n",
       "      <th>78</th>\n",
       "      <td>2020-03-19</td>\n",
       "      <td>0.0</td>\n",
       "      <td>104.0</td>\n",
       "      <td>483.0</td>\n",
       "      <td>9.0</td>\n",
       "      <td>5.0</td>\n",
       "      <td>0.0</td>\n",
       "      <td>36.0</td>\n",
       "      <td>21607.0</td>\n",
       "      <td>0.0</td>\n",
       "      <td>8.0</td>\n",
       "      <td>10.0</td>\n",
       "      <td>10.0</td>\n",
       "      <td>27.0</td>\n",
       "      <td>7.0</td>\n",
       "      <td>0.0</td>\n",
       "      <td>0.0</td>\n",
       "      <td>0.0</td>\n",
       "    </tr>\n",
       "    <tr>\n",
       "      <th>79</th>\n",
       "      <td>2020-03-20</td>\n",
       "      <td>65536.0</td>\n",
       "      <td>104.0</td>\n",
       "      <td>483.0</td>\n",
       "      <td>9.0</td>\n",
       "      <td>5.0</td>\n",
       "      <td>0.0</td>\n",
       "      <td>36.0</td>\n",
       "      <td>21632.0</td>\n",
       "      <td>0.0</td>\n",
       "      <td>8.0</td>\n",
       "      <td>10.0</td>\n",
       "      <td>10.0</td>\n",
       "      <td>27.0</td>\n",
       "      <td>7.0</td>\n",
       "      <td>0.0</td>\n",
       "      <td>0.0</td>\n",
       "      <td>0.0</td>\n",
       "    </tr>\n",
       "    <tr>\n",
       "      <th>80</th>\n",
       "      <td>2020-03-21</td>\n",
       "      <td>0.0</td>\n",
       "      <td>104.0</td>\n",
       "      <td>483.0</td>\n",
       "      <td>9.0</td>\n",
       "      <td>5.0</td>\n",
       "      <td>0.0</td>\n",
       "      <td>36.0</td>\n",
       "      <td>21656.0</td>\n",
       "      <td>0.0</td>\n",
       "      <td>8.0</td>\n",
       "      <td>10.0</td>\n",
       "      <td>10.0</td>\n",
       "      <td>25.0</td>\n",
       "      <td>7.0</td>\n",
       "      <td>0.0</td>\n",
       "      <td>0.0</td>\n",
       "      <td>0.0</td>\n",
       "    </tr>\n",
       "    <tr>\n",
       "      <th>81</th>\n",
       "      <td>2020-03-22</td>\n",
       "      <td>0.0</td>\n",
       "      <td>104.0</td>\n",
       "      <td>483.0</td>\n",
       "      <td>9.0</td>\n",
       "      <td>5.0</td>\n",
       "      <td>0.0</td>\n",
       "      <td>36.0</td>\n",
       "      <td>21680.0</td>\n",
       "      <td>0.0</td>\n",
       "      <td>8.0</td>\n",
       "      <td>10.0</td>\n",
       "      <td>10.0</td>\n",
       "      <td>27.0</td>\n",
       "      <td>7.0</td>\n",
       "      <td>0.0</td>\n",
       "      <td>0.0</td>\n",
       "      <td>0.0</td>\n",
       "    </tr>\n",
       "    <tr>\n",
       "      <th>82</th>\n",
       "      <td>2020-03-23</td>\n",
       "      <td>0.0</td>\n",
       "      <td>104.0</td>\n",
       "      <td>483.0</td>\n",
       "      <td>9.0</td>\n",
       "      <td>5.0</td>\n",
       "      <td>0.0</td>\n",
       "      <td>36.0</td>\n",
       "      <td>21704.0</td>\n",
       "      <td>0.0</td>\n",
       "      <td>8.0</td>\n",
       "      <td>10.0</td>\n",
       "      <td>10.0</td>\n",
       "      <td>26.0</td>\n",
       "      <td>7.0</td>\n",
       "      <td>0.0</td>\n",
       "      <td>0.0</td>\n",
       "      <td>0.0</td>\n",
       "    </tr>\n",
       "    <tr>\n",
       "      <th>83</th>\n",
       "      <td>2020-03-24</td>\n",
       "      <td>0.0</td>\n",
       "      <td>104.0</td>\n",
       "      <td>483.0</td>\n",
       "      <td>9.0</td>\n",
       "      <td>5.0</td>\n",
       "      <td>0.0</td>\n",
       "      <td>36.0</td>\n",
       "      <td>21728.0</td>\n",
       "      <td>0.0</td>\n",
       "      <td>8.0</td>\n",
       "      <td>10.0</td>\n",
       "      <td>10.0</td>\n",
       "      <td>26.0</td>\n",
       "      <td>7.0</td>\n",
       "      <td>0.0</td>\n",
       "      <td>0.0</td>\n",
       "      <td>0.0</td>\n",
       "    </tr>\n",
       "    <tr>\n",
       "      <th>84</th>\n",
       "      <td>2020-03-25</td>\n",
       "      <td>0.0</td>\n",
       "      <td>105.0</td>\n",
       "      <td>627.0</td>\n",
       "      <td>10.0</td>\n",
       "      <td>5.0</td>\n",
       "      <td>0.0</td>\n",
       "      <td>35.0</td>\n",
       "      <td>21751.0</td>\n",
       "      <td>0.0</td>\n",
       "      <td>9.0</td>\n",
       "      <td>11.0</td>\n",
       "      <td>11.0</td>\n",
       "      <td>27.0</td>\n",
       "      <td>7.0</td>\n",
       "      <td>0.0</td>\n",
       "      <td>0.0</td>\n",
       "      <td>0.0</td>\n",
       "    </tr>\n",
       "    <tr>\n",
       "      <th>85</th>\n",
       "      <td>2020-03-26</td>\n",
       "      <td>0.0</td>\n",
       "      <td>105.0</td>\n",
       "      <td>627.0</td>\n",
       "      <td>10.0</td>\n",
       "      <td>5.0</td>\n",
       "      <td>0.0</td>\n",
       "      <td>35.0</td>\n",
       "      <td>21776.0</td>\n",
       "      <td>0.0</td>\n",
       "      <td>9.0</td>\n",
       "      <td>11.0</td>\n",
       "      <td>11.0</td>\n",
       "      <td>26.0</td>\n",
       "      <td>7.0</td>\n",
       "      <td>0.0</td>\n",
       "      <td>0.0</td>\n",
       "      <td>0.0</td>\n",
       "    </tr>\n",
       "    <tr>\n",
       "      <th>86</th>\n",
       "      <td>2020-03-27</td>\n",
       "      <td>0.0</td>\n",
       "      <td>105.0</td>\n",
       "      <td>627.0</td>\n",
       "      <td>10.0</td>\n",
       "      <td>5.0</td>\n",
       "      <td>0.0</td>\n",
       "      <td>35.0</td>\n",
       "      <td>21800.0</td>\n",
       "      <td>0.0</td>\n",
       "      <td>9.0</td>\n",
       "      <td>11.0</td>\n",
       "      <td>11.0</td>\n",
       "      <td>26.0</td>\n",
       "      <td>7.0</td>\n",
       "      <td>0.0</td>\n",
       "      <td>0.0</td>\n",
       "      <td>0.0</td>\n",
       "    </tr>\n",
       "    <tr>\n",
       "      <th>87</th>\n",
       "      <td>2020-03-28</td>\n",
       "      <td>0.0</td>\n",
       "      <td>105.0</td>\n",
       "      <td>627.0</td>\n",
       "      <td>10.0</td>\n",
       "      <td>5.0</td>\n",
       "      <td>0.0</td>\n",
       "      <td>35.0</td>\n",
       "      <td>21823.0</td>\n",
       "      <td>0.0</td>\n",
       "      <td>9.0</td>\n",
       "      <td>11.0</td>\n",
       "      <td>11.0</td>\n",
       "      <td>26.0</td>\n",
       "      <td>7.0</td>\n",
       "      <td>0.0</td>\n",
       "      <td>0.0</td>\n",
       "      <td>0.0</td>\n",
       "    </tr>\n",
       "    <tr>\n",
       "      <th>88</th>\n",
       "      <td>2020-03-29</td>\n",
       "      <td>0.0</td>\n",
       "      <td>105.0</td>\n",
       "      <td>627.0</td>\n",
       "      <td>10.0</td>\n",
       "      <td>5.0</td>\n",
       "      <td>0.0</td>\n",
       "      <td>35.0</td>\n",
       "      <td>21847.0</td>\n",
       "      <td>0.0</td>\n",
       "      <td>9.0</td>\n",
       "      <td>11.0</td>\n",
       "      <td>11.0</td>\n",
       "      <td>26.0</td>\n",
       "      <td>7.0</td>\n",
       "      <td>0.0</td>\n",
       "      <td>0.0</td>\n",
       "      <td>0.0</td>\n",
       "    </tr>\n",
       "    <tr>\n",
       "      <th>89</th>\n",
       "      <td>2020-03-30</td>\n",
       "      <td>0.0</td>\n",
       "      <td>105.0</td>\n",
       "      <td>627.0</td>\n",
       "      <td>10.0</td>\n",
       "      <td>5.0</td>\n",
       "      <td>0.0</td>\n",
       "      <td>35.0</td>\n",
       "      <td>21872.0</td>\n",
       "      <td>0.0</td>\n",
       "      <td>9.0</td>\n",
       "      <td>11.0</td>\n",
       "      <td>11.0</td>\n",
       "      <td>26.0</td>\n",
       "      <td>7.0</td>\n",
       "      <td>0.0</td>\n",
       "      <td>0.0</td>\n",
       "      <td>0.0</td>\n",
       "    </tr>\n",
       "    <tr>\n",
       "      <th>90</th>\n",
       "      <td>2020-03-31</td>\n",
       "      <td>0.0</td>\n",
       "      <td>105.0</td>\n",
       "      <td>627.0</td>\n",
       "      <td>10.0</td>\n",
       "      <td>5.0</td>\n",
       "      <td>0.0</td>\n",
       "      <td>35.0</td>\n",
       "      <td>21896.0</td>\n",
       "      <td>0.0</td>\n",
       "      <td>9.0</td>\n",
       "      <td>11.0</td>\n",
       "      <td>11.0</td>\n",
       "      <td>26.0</td>\n",
       "      <td>7.0</td>\n",
       "      <td>0.0</td>\n",
       "      <td>0.0</td>\n",
       "      <td>0.0</td>\n",
       "    </tr>\n",
       "    <tr>\n",
       "      <th>91</th>\n",
       "      <td>2020-04-01</td>\n",
       "      <td>262148.0</td>\n",
       "      <td>105.0</td>\n",
       "      <td>627.0</td>\n",
       "      <td>10.0</td>\n",
       "      <td>5.0</td>\n",
       "      <td>0.0</td>\n",
       "      <td>35.0</td>\n",
       "      <td>21919.0</td>\n",
       "      <td>0.0</td>\n",
       "      <td>9.0</td>\n",
       "      <td>11.0</td>\n",
       "      <td>11.0</td>\n",
       "      <td>26.0</td>\n",
       "      <td>7.0</td>\n",
       "      <td>0.0</td>\n",
       "      <td>0.0</td>\n",
       "      <td>0.0</td>\n",
       "    </tr>\n",
       "    <tr>\n",
       "      <th>92</th>\n",
       "      <td>2020-04-02</td>\n",
       "      <td>0.0</td>\n",
       "      <td>105.0</td>\n",
       "      <td>627.0</td>\n",
       "      <td>10.0</td>\n",
       "      <td>5.0</td>\n",
       "      <td>0.0</td>\n",
       "      <td>35.0</td>\n",
       "      <td>21944.0</td>\n",
       "      <td>0.0</td>\n",
       "      <td>9.0</td>\n",
       "      <td>11.0</td>\n",
       "      <td>11.0</td>\n",
       "      <td>27.0</td>\n",
       "      <td>7.0</td>\n",
       "      <td>0.0</td>\n",
       "      <td>0.0</td>\n",
       "      <td>0.0</td>\n",
       "    </tr>\n",
       "    <tr>\n",
       "      <th>93</th>\n",
       "      <td>2020-04-03</td>\n",
       "      <td>0.0</td>\n",
       "      <td>105.0</td>\n",
       "      <td>627.0</td>\n",
       "      <td>10.0</td>\n",
       "      <td>5.0</td>\n",
       "      <td>0.0</td>\n",
       "      <td>35.0</td>\n",
       "      <td>21968.0</td>\n",
       "      <td>0.0</td>\n",
       "      <td>9.0</td>\n",
       "      <td>11.0</td>\n",
       "      <td>11.0</td>\n",
       "      <td>26.0</td>\n",
       "      <td>7.0</td>\n",
       "      <td>0.0</td>\n",
       "      <td>0.0</td>\n",
       "      <td>0.0</td>\n",
       "    </tr>\n",
       "    <tr>\n",
       "      <th>94</th>\n",
       "      <td>2020-04-04</td>\n",
       "      <td>0.0</td>\n",
       "      <td>105.0</td>\n",
       "      <td>627.0</td>\n",
       "      <td>10.0</td>\n",
       "      <td>5.0</td>\n",
       "      <td>0.0</td>\n",
       "      <td>35.0</td>\n",
       "      <td>21991.0</td>\n",
       "      <td>0.0</td>\n",
       "      <td>9.0</td>\n",
       "      <td>11.0</td>\n",
       "      <td>11.0</td>\n",
       "      <td>26.0</td>\n",
       "      <td>7.0</td>\n",
       "      <td>0.0</td>\n",
       "      <td>0.0</td>\n",
       "      <td>0.0</td>\n",
       "    </tr>\n",
       "    <tr>\n",
       "      <th>95</th>\n",
       "      <td>2020-04-05</td>\n",
       "      <td>0.0</td>\n",
       "      <td>105.0</td>\n",
       "      <td>627.0</td>\n",
       "      <td>10.0</td>\n",
       "      <td>5.0</td>\n",
       "      <td>0.0</td>\n",
       "      <td>35.0</td>\n",
       "      <td>22016.0</td>\n",
       "      <td>0.0</td>\n",
       "      <td>9.0</td>\n",
       "      <td>11.0</td>\n",
       "      <td>11.0</td>\n",
       "      <td>27.0</td>\n",
       "      <td>7.0</td>\n",
       "      <td>0.0</td>\n",
       "      <td>0.0</td>\n",
       "      <td>0.0</td>\n",
       "    </tr>\n",
       "    <tr>\n",
       "      <th>96</th>\n",
       "      <td>2020-04-06</td>\n",
       "      <td>0.0</td>\n",
       "      <td>105.0</td>\n",
       "      <td>627.0</td>\n",
       "      <td>10.0</td>\n",
       "      <td>5.0</td>\n",
       "      <td>0.0</td>\n",
       "      <td>35.0</td>\n",
       "      <td>22040.0</td>\n",
       "      <td>0.0</td>\n",
       "      <td>9.0</td>\n",
       "      <td>11.0</td>\n",
       "      <td>11.0</td>\n",
       "      <td>26.0</td>\n",
       "      <td>7.0</td>\n",
       "      <td>0.0</td>\n",
       "      <td>0.0</td>\n",
       "      <td>0.0</td>\n",
       "    </tr>\n",
       "    <tr>\n",
       "      <th>97</th>\n",
       "      <td>2020-04-07</td>\n",
       "      <td>0.0</td>\n",
       "      <td>105.0</td>\n",
       "      <td>627.0</td>\n",
       "      <td>10.0</td>\n",
       "      <td>5.0</td>\n",
       "      <td>0.0</td>\n",
       "      <td>35.0</td>\n",
       "      <td>22063.0</td>\n",
       "      <td>0.0</td>\n",
       "      <td>9.0</td>\n",
       "      <td>11.0</td>\n",
       "      <td>11.0</td>\n",
       "      <td>25.0</td>\n",
       "      <td>7.0</td>\n",
       "      <td>0.0</td>\n",
       "      <td>0.0</td>\n",
       "      <td>0.0</td>\n",
       "    </tr>\n",
       "    <tr>\n",
       "      <th>98</th>\n",
       "      <td>2020-04-08</td>\n",
       "      <td>7.0</td>\n",
       "      <td>105.0</td>\n",
       "      <td>627.0</td>\n",
       "      <td>10.0</td>\n",
       "      <td>5.0</td>\n",
       "      <td>0.0</td>\n",
       "      <td>35.0</td>\n",
       "      <td>22088.0</td>\n",
       "      <td>0.0</td>\n",
       "      <td>9.0</td>\n",
       "      <td>11.0</td>\n",
       "      <td>11.0</td>\n",
       "      <td>30.0</td>\n",
       "      <td>7.0</td>\n",
       "      <td>0.0</td>\n",
       "      <td>0.0</td>\n",
       "      <td>0.0</td>\n",
       "    </tr>\n",
       "    <tr>\n",
       "      <th>99</th>\n",
       "      <td>2020-04-09</td>\n",
       "      <td>65544.0</td>\n",
       "      <td>105.0</td>\n",
       "      <td>627.0</td>\n",
       "      <td>10.0</td>\n",
       "      <td>5.0</td>\n",
       "      <td>0.0</td>\n",
       "      <td>35.0</td>\n",
       "      <td>22112.0</td>\n",
       "      <td>0.0</td>\n",
       "      <td>9.0</td>\n",
       "      <td>11.0</td>\n",
       "      <td>11.0</td>\n",
       "      <td>30.0</td>\n",
       "      <td>7.0</td>\n",
       "      <td>0.0</td>\n",
       "      <td>0.0</td>\n",
       "      <td>0.0</td>\n",
       "    </tr>\n",
       "    <tr>\n",
       "      <th>100</th>\n",
       "      <td>2020-04-10</td>\n",
       "      <td>6357009.0</td>\n",
       "      <td>105.0</td>\n",
       "      <td>627.0</td>\n",
       "      <td>10.0</td>\n",
       "      <td>5.0</td>\n",
       "      <td>0.0</td>\n",
       "      <td>35.0</td>\n",
       "      <td>22135.0</td>\n",
       "      <td>0.0</td>\n",
       "      <td>9.0</td>\n",
       "      <td>11.0</td>\n",
       "      <td>11.0</td>\n",
       "      <td>29.0</td>\n",
       "      <td>7.0</td>\n",
       "      <td>0.0</td>\n",
       "      <td>0.0</td>\n",
       "      <td>0.0</td>\n",
       "    </tr>\n",
       "    <tr>\n",
       "      <th>101</th>\n",
       "      <td>2020-04-11</td>\n",
       "      <td>6553651.0</td>\n",
       "      <td>105.0</td>\n",
       "      <td>627.0</td>\n",
       "      <td>10.0</td>\n",
       "      <td>6.0</td>\n",
       "      <td>0.0</td>\n",
       "      <td>35.0</td>\n",
       "      <td>22159.0</td>\n",
       "      <td>0.0</td>\n",
       "      <td>9.0</td>\n",
       "      <td>11.0</td>\n",
       "      <td>11.0</td>\n",
       "      <td>30.0</td>\n",
       "      <td>8.0</td>\n",
       "      <td>0.0</td>\n",
       "      <td>0.0</td>\n",
       "      <td>0.0</td>\n",
       "    </tr>\n",
       "    <tr>\n",
       "      <th>102</th>\n",
       "      <td>2020-04-12</td>\n",
       "      <td>655496.0</td>\n",
       "      <td>105.0</td>\n",
       "      <td>627.0</td>\n",
       "      <td>10.0</td>\n",
       "      <td>6.0</td>\n",
       "      <td>0.0</td>\n",
       "      <td>35.0</td>\n",
       "      <td>22184.0</td>\n",
       "      <td>0.0</td>\n",
       "      <td>9.0</td>\n",
       "      <td>11.0</td>\n",
       "      <td>11.0</td>\n",
       "      <td>30.0</td>\n",
       "      <td>8.0</td>\n",
       "      <td>0.0</td>\n",
       "      <td>0.0</td>\n",
       "      <td>0.0</td>\n",
       "    </tr>\n",
       "    <tr>\n",
       "      <th>103</th>\n",
       "      <td>2020-04-13</td>\n",
       "      <td>5373964.0</td>\n",
       "      <td>105.0</td>\n",
       "      <td>627.0</td>\n",
       "      <td>10.0</td>\n",
       "      <td>7.0</td>\n",
       "      <td>0.0</td>\n",
       "      <td>35.0</td>\n",
       "      <td>22208.0</td>\n",
       "      <td>0.0</td>\n",
       "      <td>9.0</td>\n",
       "      <td>11.0</td>\n",
       "      <td>11.0</td>\n",
       "      <td>27.0</td>\n",
       "      <td>9.0</td>\n",
       "      <td>0.0</td>\n",
       "      <td>0.0</td>\n",
       "      <td>0.0</td>\n",
       "    </tr>\n",
       "    <tr>\n",
       "      <th>104</th>\n",
       "      <td>2020-04-14</td>\n",
       "      <td>58458457.0</td>\n",
       "      <td>105.0</td>\n",
       "      <td>627.0</td>\n",
       "      <td>10.0</td>\n",
       "      <td>8.0</td>\n",
       "      <td>0.0</td>\n",
       "      <td>35.0</td>\n",
       "      <td>22231.0</td>\n",
       "      <td>0.0</td>\n",
       "      <td>9.0</td>\n",
       "      <td>11.0</td>\n",
       "      <td>11.0</td>\n",
       "      <td>27.0</td>\n",
       "      <td>10.0</td>\n",
       "      <td>0.0</td>\n",
       "      <td>0.0</td>\n",
       "      <td>0.0</td>\n",
       "    </tr>\n",
       "    <tr>\n",
       "      <th>105</th>\n",
       "      <td>2020-04-15</td>\n",
       "      <td>43778094.0</td>\n",
       "      <td>105.0</td>\n",
       "      <td>627.0</td>\n",
       "      <td>10.0</td>\n",
       "      <td>10.0</td>\n",
       "      <td>0.0</td>\n",
       "      <td>35.0</td>\n",
       "      <td>22256.0</td>\n",
       "      <td>0.0</td>\n",
       "      <td>9.0</td>\n",
       "      <td>11.0</td>\n",
       "      <td>11.0</td>\n",
       "      <td>27.0</td>\n",
       "      <td>12.0</td>\n",
       "      <td>0.0</td>\n",
       "      <td>0.0</td>\n",
       "      <td>0.0</td>\n",
       "    </tr>\n",
       "    <tr>\n",
       "      <th>106</th>\n",
       "      <td>2020-04-16</td>\n",
       "      <td>851986.0</td>\n",
       "      <td>105.0</td>\n",
       "      <td>627.0</td>\n",
       "      <td>10.0</td>\n",
       "      <td>11.0</td>\n",
       "      <td>0.0</td>\n",
       "      <td>35.0</td>\n",
       "      <td>22280.0</td>\n",
       "      <td>0.0</td>\n",
       "      <td>9.0</td>\n",
       "      <td>11.0</td>\n",
       "      <td>11.0</td>\n",
       "      <td>27.0</td>\n",
       "      <td>13.0</td>\n",
       "      <td>0.0</td>\n",
       "      <td>0.0</td>\n",
       "      <td>0.0</td>\n",
       "    </tr>\n",
       "    <tr>\n",
       "      <th>107</th>\n",
       "      <td>2020-04-17</td>\n",
       "      <td>1572868.0</td>\n",
       "      <td>105.0</td>\n",
       "      <td>627.0</td>\n",
       "      <td>10.0</td>\n",
       "      <td>11.0</td>\n",
       "      <td>0.0</td>\n",
       "      <td>35.0</td>\n",
       "      <td>22303.0</td>\n",
       "      <td>0.0</td>\n",
       "      <td>9.0</td>\n",
       "      <td>11.0</td>\n",
       "      <td>11.0</td>\n",
       "      <td>26.0</td>\n",
       "      <td>13.0</td>\n",
       "      <td>0.0</td>\n",
       "      <td>0.0</td>\n",
       "      <td>0.0</td>\n",
       "    </tr>\n",
       "    <tr>\n",
       "      <th>108</th>\n",
       "      <td>2020-04-18</td>\n",
       "      <td>35258728.0</td>\n",
       "      <td>105.0</td>\n",
       "      <td>627.0</td>\n",
       "      <td>10.0</td>\n",
       "      <td>36.0</td>\n",
       "      <td>0.0</td>\n",
       "      <td>35.0</td>\n",
       "      <td>22327.0</td>\n",
       "      <td>0.0</td>\n",
       "      <td>9.0</td>\n",
       "      <td>11.0</td>\n",
       "      <td>11.0</td>\n",
       "      <td>27.0</td>\n",
       "      <td>66.0</td>\n",
       "      <td>7.0</td>\n",
       "      <td>0.0</td>\n",
       "      <td>0.0</td>\n",
       "    </tr>\n",
       "  </tbody>\n",
       "</table>\n",
       "</div>"
      ],
      "text/plain": [
       "           date  stat_1_raw  stat_2_raw  stat_3_raw  stat_4_raw  stat_5_raw  \\\n",
       "49   2020-02-19         0.0       104.0       483.0         9.0         5.0   \n",
       "50   2020-02-20         0.0       104.0       483.0         9.0         5.0   \n",
       "51   2020-02-21         0.0       104.0       483.0         9.0         5.0   \n",
       "52   2020-02-22         0.0       104.0       483.0         9.0         5.0   \n",
       "53   2020-02-23         0.0       104.0       483.0         9.0         5.0   \n",
       "54   2020-02-24         0.0       104.0       483.0         9.0         5.0   \n",
       "55   2020-02-25         0.0       104.0       483.0         9.0         5.0   \n",
       "56   2020-02-26         0.0       104.0       483.0         9.0         5.0   \n",
       "57   2020-02-27         0.0       104.0       483.0         9.0         5.0   \n",
       "58   2020-02-28         0.0       104.0       483.0         9.0         5.0   \n",
       "59   2020-02-29         0.0       104.0       483.0         9.0         5.0   \n",
       "60   2020-03-01         0.0       104.0       483.0         9.0         5.0   \n",
       "61   2020-03-02         0.0       104.0       483.0         9.0         5.0   \n",
       "62   2020-03-03         0.0       104.0       483.0         9.0         5.0   \n",
       "63   2020-03-04         0.0       104.0       483.0         9.0         5.0   \n",
       "64   2020-03-05         0.0       104.0       483.0         9.0         5.0   \n",
       "65   2020-03-06         0.0       104.0       483.0         9.0         5.0   \n",
       "66   2020-03-07         0.0       104.0       483.0         9.0         5.0   \n",
       "67   2020-03-08         0.0       104.0       483.0         9.0         5.0   \n",
       "68   2020-03-09         0.0       104.0       483.0         9.0         5.0   \n",
       "69   2020-03-10         0.0       104.0       483.0         9.0         5.0   \n",
       "70   2020-03-11         0.0       104.0       483.0         9.0         5.0   \n",
       "71   2020-03-12         0.0       104.0       483.0         9.0         5.0   \n",
       "72   2020-03-13         0.0       104.0       483.0         9.0         5.0   \n",
       "73   2020-03-14         0.0       104.0       483.0         9.0         5.0   \n",
       "74   2020-03-15         0.0       104.0       483.0         9.0         5.0   \n",
       "75   2020-03-16         0.0       104.0       483.0         9.0         5.0   \n",
       "76   2020-03-17         0.0       104.0       483.0         9.0         5.0   \n",
       "77   2020-03-18         0.0       104.0       483.0         9.0         5.0   \n",
       "78   2020-03-19         0.0       104.0       483.0         9.0         5.0   \n",
       "79   2020-03-20     65536.0       104.0       483.0         9.0         5.0   \n",
       "80   2020-03-21         0.0       104.0       483.0         9.0         5.0   \n",
       "81   2020-03-22         0.0       104.0       483.0         9.0         5.0   \n",
       "82   2020-03-23         0.0       104.0       483.0         9.0         5.0   \n",
       "83   2020-03-24         0.0       104.0       483.0         9.0         5.0   \n",
       "84   2020-03-25         0.0       105.0       627.0        10.0         5.0   \n",
       "85   2020-03-26         0.0       105.0       627.0        10.0         5.0   \n",
       "86   2020-03-27         0.0       105.0       627.0        10.0         5.0   \n",
       "87   2020-03-28         0.0       105.0       627.0        10.0         5.0   \n",
       "88   2020-03-29         0.0       105.0       627.0        10.0         5.0   \n",
       "89   2020-03-30         0.0       105.0       627.0        10.0         5.0   \n",
       "90   2020-03-31         0.0       105.0       627.0        10.0         5.0   \n",
       "91   2020-04-01    262148.0       105.0       627.0        10.0         5.0   \n",
       "92   2020-04-02         0.0       105.0       627.0        10.0         5.0   \n",
       "93   2020-04-03         0.0       105.0       627.0        10.0         5.0   \n",
       "94   2020-04-04         0.0       105.0       627.0        10.0         5.0   \n",
       "95   2020-04-05         0.0       105.0       627.0        10.0         5.0   \n",
       "96   2020-04-06         0.0       105.0       627.0        10.0         5.0   \n",
       "97   2020-04-07         0.0       105.0       627.0        10.0         5.0   \n",
       "98   2020-04-08         7.0       105.0       627.0        10.0         5.0   \n",
       "99   2020-04-09     65544.0       105.0       627.0        10.0         5.0   \n",
       "100  2020-04-10   6357009.0       105.0       627.0        10.0         5.0   \n",
       "101  2020-04-11   6553651.0       105.0       627.0        10.0         6.0   \n",
       "102  2020-04-12    655496.0       105.0       627.0        10.0         6.0   \n",
       "103  2020-04-13   5373964.0       105.0       627.0        10.0         7.0   \n",
       "104  2020-04-14  58458457.0       105.0       627.0        10.0         8.0   \n",
       "105  2020-04-15  43778094.0       105.0       627.0        10.0        10.0   \n",
       "106  2020-04-16    851986.0       105.0       627.0        10.0        11.0   \n",
       "107  2020-04-17   1572868.0       105.0       627.0        10.0        11.0   \n",
       "108  2020-04-18  35258728.0       105.0       627.0        10.0        36.0   \n",
       "\n",
       "     stat_7_raw  stat_8_raw  stat_9_raw  stat_10_raw  stat_12_raw  \\\n",
       "49          0.0        36.0     20913.0          0.0          8.0   \n",
       "50          0.0        36.0     20937.0          0.0          8.0   \n",
       "51          0.0        36.0     20960.0          0.0          8.0   \n",
       "52          0.0        36.0     20985.0          0.0          8.0   \n",
       "53          0.0        36.0     21009.0          0.0          8.0   \n",
       "54          0.0        36.0     21032.0          0.0          8.0   \n",
       "55          0.0        36.0     21057.0          0.0          8.0   \n",
       "56          0.0        36.0     21081.0          0.0          8.0   \n",
       "57          0.0        36.0     21104.0          0.0          8.0   \n",
       "58          0.0        36.0     21129.0          0.0          8.0   \n",
       "59          0.0        36.0     21153.0          0.0          8.0   \n",
       "60          0.0        36.0     21177.0          0.0          8.0   \n",
       "61          0.0        36.0     21200.0          0.0          8.0   \n",
       "62          0.0        36.0     21225.0          0.0          8.0   \n",
       "63          0.0        36.0     21249.0          0.0          8.0   \n",
       "64          0.0        36.0     21272.0          0.0          8.0   \n",
       "65          0.0        36.0     21297.0          0.0          8.0   \n",
       "66          0.0        36.0     21321.0          0.0          8.0   \n",
       "67          0.0        36.0     21344.0          0.0          8.0   \n",
       "68          0.0        36.0     21369.0          0.0          8.0   \n",
       "69          0.0        36.0     21393.0          0.0          8.0   \n",
       "70          0.0        36.0     21417.0          0.0          8.0   \n",
       "71          0.0        36.0     21441.0          0.0          8.0   \n",
       "72          0.0        36.0     21465.0          0.0          8.0   \n",
       "73          0.0        36.0     21489.0          0.0          8.0   \n",
       "74          0.0        36.0     21512.0          0.0          8.0   \n",
       "75          0.0        36.0     21535.0          0.0          8.0   \n",
       "76          0.0        36.0     21560.0          0.0          8.0   \n",
       "77          0.0        36.0     21584.0          0.0          8.0   \n",
       "78          0.0        36.0     21607.0          0.0          8.0   \n",
       "79          0.0        36.0     21632.0          0.0          8.0   \n",
       "80          0.0        36.0     21656.0          0.0          8.0   \n",
       "81          0.0        36.0     21680.0          0.0          8.0   \n",
       "82          0.0        36.0     21704.0          0.0          8.0   \n",
       "83          0.0        36.0     21728.0          0.0          8.0   \n",
       "84          0.0        35.0     21751.0          0.0          9.0   \n",
       "85          0.0        35.0     21776.0          0.0          9.0   \n",
       "86          0.0        35.0     21800.0          0.0          9.0   \n",
       "87          0.0        35.0     21823.0          0.0          9.0   \n",
       "88          0.0        35.0     21847.0          0.0          9.0   \n",
       "89          0.0        35.0     21872.0          0.0          9.0   \n",
       "90          0.0        35.0     21896.0          0.0          9.0   \n",
       "91          0.0        35.0     21919.0          0.0          9.0   \n",
       "92          0.0        35.0     21944.0          0.0          9.0   \n",
       "93          0.0        35.0     21968.0          0.0          9.0   \n",
       "94          0.0        35.0     21991.0          0.0          9.0   \n",
       "95          0.0        35.0     22016.0          0.0          9.0   \n",
       "96          0.0        35.0     22040.0          0.0          9.0   \n",
       "97          0.0        35.0     22063.0          0.0          9.0   \n",
       "98          0.0        35.0     22088.0          0.0          9.0   \n",
       "99          0.0        35.0     22112.0          0.0          9.0   \n",
       "100         0.0        35.0     22135.0          0.0          9.0   \n",
       "101         0.0        35.0     22159.0          0.0          9.0   \n",
       "102         0.0        35.0     22184.0          0.0          9.0   \n",
       "103         0.0        35.0     22208.0          0.0          9.0   \n",
       "104         0.0        35.0     22231.0          0.0          9.0   \n",
       "105         0.0        35.0     22256.0          0.0          9.0   \n",
       "106         0.0        35.0     22280.0          0.0          9.0   \n",
       "107         0.0        35.0     22303.0          0.0          9.0   \n",
       "108         0.0        35.0     22327.0          0.0          9.0   \n",
       "\n",
       "     stat_192_raw  stat_193_raw  stat_194_raw  stat_196_raw  stat_197_raw  \\\n",
       "49           10.0          10.0          27.0           7.0           0.0   \n",
       "50           10.0          10.0          27.0           7.0           0.0   \n",
       "51           10.0          10.0          26.0           7.0           0.0   \n",
       "52           10.0          10.0          27.0           7.0           0.0   \n",
       "53           10.0          10.0          27.0           7.0           0.0   \n",
       "54           10.0          10.0          27.0           7.0           0.0   \n",
       "55           10.0          10.0          27.0           7.0           0.0   \n",
       "56           10.0          10.0          27.0           7.0           0.0   \n",
       "57           10.0          10.0          26.0           7.0           0.0   \n",
       "58           10.0          10.0          27.0           7.0           0.0   \n",
       "59           10.0          10.0          26.0           7.0           0.0   \n",
       "60           10.0          10.0          27.0           7.0           0.0   \n",
       "61           10.0          10.0          26.0           7.0           0.0   \n",
       "62           10.0          10.0          26.0           7.0           0.0   \n",
       "63           10.0          10.0          26.0           7.0           0.0   \n",
       "64           10.0          10.0          26.0           7.0           0.0   \n",
       "65           10.0          10.0          26.0           7.0           0.0   \n",
       "66           10.0          10.0          27.0           7.0           0.0   \n",
       "67           10.0          10.0          26.0           7.0           0.0   \n",
       "68           10.0          10.0          27.0           7.0           0.0   \n",
       "69           10.0          10.0          27.0           7.0           0.0   \n",
       "70           10.0          10.0          27.0           7.0           0.0   \n",
       "71           10.0          10.0          27.0           7.0           0.0   \n",
       "72           10.0          10.0          27.0           7.0           0.0   \n",
       "73           10.0          10.0          27.0           7.0           0.0   \n",
       "74           10.0          10.0          27.0           7.0           0.0   \n",
       "75           10.0          10.0          27.0           7.0           0.0   \n",
       "76           10.0          10.0          27.0           7.0           0.0   \n",
       "77           10.0          10.0          27.0           7.0           0.0   \n",
       "78           10.0          10.0          27.0           7.0           0.0   \n",
       "79           10.0          10.0          27.0           7.0           0.0   \n",
       "80           10.0          10.0          25.0           7.0           0.0   \n",
       "81           10.0          10.0          27.0           7.0           0.0   \n",
       "82           10.0          10.0          26.0           7.0           0.0   \n",
       "83           10.0          10.0          26.0           7.0           0.0   \n",
       "84           11.0          11.0          27.0           7.0           0.0   \n",
       "85           11.0          11.0          26.0           7.0           0.0   \n",
       "86           11.0          11.0          26.0           7.0           0.0   \n",
       "87           11.0          11.0          26.0           7.0           0.0   \n",
       "88           11.0          11.0          26.0           7.0           0.0   \n",
       "89           11.0          11.0          26.0           7.0           0.0   \n",
       "90           11.0          11.0          26.0           7.0           0.0   \n",
       "91           11.0          11.0          26.0           7.0           0.0   \n",
       "92           11.0          11.0          27.0           7.0           0.0   \n",
       "93           11.0          11.0          26.0           7.0           0.0   \n",
       "94           11.0          11.0          26.0           7.0           0.0   \n",
       "95           11.0          11.0          27.0           7.0           0.0   \n",
       "96           11.0          11.0          26.0           7.0           0.0   \n",
       "97           11.0          11.0          25.0           7.0           0.0   \n",
       "98           11.0          11.0          30.0           7.0           0.0   \n",
       "99           11.0          11.0          30.0           7.0           0.0   \n",
       "100          11.0          11.0          29.0           7.0           0.0   \n",
       "101          11.0          11.0          30.0           8.0           0.0   \n",
       "102          11.0          11.0          30.0           8.0           0.0   \n",
       "103          11.0          11.0          27.0           9.0           0.0   \n",
       "104          11.0          11.0          27.0          10.0           0.0   \n",
       "105          11.0          11.0          27.0          12.0           0.0   \n",
       "106          11.0          11.0          27.0          13.0           0.0   \n",
       "107          11.0          11.0          26.0          13.0           0.0   \n",
       "108          11.0          11.0          27.0          66.0           7.0   \n",
       "\n",
       "     stat_198_raw  stat_199_raw  \n",
       "49            0.0           0.0  \n",
       "50            0.0           0.0  \n",
       "51            0.0           0.0  \n",
       "52            0.0           0.0  \n",
       "53            0.0           0.0  \n",
       "54            0.0           0.0  \n",
       "55            0.0           0.0  \n",
       "56            0.0           0.0  \n",
       "57            0.0           0.0  \n",
       "58            0.0           0.0  \n",
       "59            0.0           0.0  \n",
       "60            0.0           0.0  \n",
       "61            0.0           0.0  \n",
       "62            0.0           0.0  \n",
       "63            0.0           0.0  \n",
       "64            0.0           0.0  \n",
       "65            0.0           0.0  \n",
       "66            0.0           0.0  \n",
       "67            0.0           0.0  \n",
       "68            0.0           0.0  \n",
       "69            0.0           0.0  \n",
       "70            0.0           0.0  \n",
       "71            0.0           0.0  \n",
       "72            0.0           0.0  \n",
       "73            0.0           0.0  \n",
       "74            0.0           0.0  \n",
       "75            0.0           0.0  \n",
       "76            0.0           0.0  \n",
       "77            0.0           0.0  \n",
       "78            0.0           0.0  \n",
       "79            0.0           0.0  \n",
       "80            0.0           0.0  \n",
       "81            0.0           0.0  \n",
       "82            0.0           0.0  \n",
       "83            0.0           0.0  \n",
       "84            0.0           0.0  \n",
       "85            0.0           0.0  \n",
       "86            0.0           0.0  \n",
       "87            0.0           0.0  \n",
       "88            0.0           0.0  \n",
       "89            0.0           0.0  \n",
       "90            0.0           0.0  \n",
       "91            0.0           0.0  \n",
       "92            0.0           0.0  \n",
       "93            0.0           0.0  \n",
       "94            0.0           0.0  \n",
       "95            0.0           0.0  \n",
       "96            0.0           0.0  \n",
       "97            0.0           0.0  \n",
       "98            0.0           0.0  \n",
       "99            0.0           0.0  \n",
       "100           0.0           0.0  \n",
       "101           0.0           0.0  \n",
       "102           0.0           0.0  \n",
       "103           0.0           0.0  \n",
       "104           0.0           0.0  \n",
       "105           0.0           0.0  \n",
       "106           0.0           0.0  \n",
       "107           0.0           0.0  \n",
       "108           0.0           0.0  "
      ]
     },
     "execution_count": 23,
     "metadata": {},
     "output_type": "execute_result"
    }
   ],
   "source": [
    "sensor.tail(60)"
   ]
  },
  {
   "cell_type": "code",
   "execution_count": 26,
   "metadata": {
    "tags": []
   },
   "outputs": [
    {
     "data": {
      "application/vnd.plotly.v1+json": {
       "config": {
        "plotlyServerURL": "https://plot.ly"
       },
       "data": [
        {
         "name": "stat_1_raw",
         "showlegend": false,
         "type": "scatter",
         "x": [
          "2020-01-01",
          "2020-01-02",
          "2020-01-03",
          "2020-01-04",
          "2020-01-05",
          "2020-01-06",
          "2020-01-07",
          "2020-01-08",
          "2020-01-09",
          "2020-01-10",
          "2020-01-11",
          "2020-01-12",
          "2020-01-13",
          "2020-01-14",
          "2020-01-15",
          "2020-01-16",
          "2020-01-17",
          "2020-01-18",
          "2020-01-19",
          "2020-01-20",
          "2020-01-21",
          "2020-01-22",
          "2020-01-23",
          "2020-01-24",
          "2020-01-25",
          "2020-01-26",
          "2020-01-27",
          "2020-01-28",
          "2020-01-29",
          "2020-01-30",
          "2020-01-31",
          "2020-02-01",
          "2020-02-02",
          "2020-02-03",
          "2020-02-04",
          "2020-02-05",
          "2020-02-06",
          "2020-02-07",
          "2020-02-08",
          "2020-02-09",
          "2020-02-10",
          "2020-02-11",
          "2020-02-12",
          "2020-02-13",
          "2020-02-14",
          "2020-02-15",
          "2020-02-16",
          "2020-02-17",
          "2020-02-18",
          "2020-02-19",
          "2020-02-20",
          "2020-02-21",
          "2020-02-22",
          "2020-02-23",
          "2020-02-24",
          "2020-02-25",
          "2020-02-26",
          "2020-02-27",
          "2020-02-28",
          "2020-02-29",
          "2020-03-01",
          "2020-03-02",
          "2020-03-03",
          "2020-03-04",
          "2020-03-05",
          "2020-03-06",
          "2020-03-07",
          "2020-03-08",
          "2020-03-09",
          "2020-03-10",
          "2020-03-11",
          "2020-03-12",
          "2020-03-13",
          "2020-03-14",
          "2020-03-15",
          "2020-03-16",
          "2020-03-17",
          "2020-03-18",
          "2020-03-19",
          "2020-03-20",
          "2020-03-21",
          "2020-03-22",
          "2020-03-23",
          "2020-03-24",
          "2020-03-25",
          "2020-03-26",
          "2020-03-27",
          "2020-03-28",
          "2020-03-29",
          "2020-03-30",
          "2020-03-31",
          "2020-04-01",
          "2020-04-02",
          "2020-04-03",
          "2020-04-04",
          "2020-04-05",
          "2020-04-06",
          "2020-04-07",
          "2020-04-08",
          "2020-04-09",
          "2020-04-10",
          "2020-04-11",
          "2020-04-12",
          "2020-04-13",
          "2020-04-14",
          "2020-04-15",
          "2020-04-16",
          "2020-04-17",
          "2020-04-18"
         ],
         "xaxis": "x",
         "y": [
          0,
          0,
          0,
          0,
          0,
          0,
          0,
          0,
          0,
          0,
          0,
          0,
          0,
          0,
          0,
          0,
          0,
          0,
          0,
          0,
          0,
          65536,
          0,
          0,
          0,
          0,
          0,
          0,
          0,
          0,
          0,
          0,
          0,
          0,
          0,
          0,
          0,
          0,
          0,
          0,
          0,
          0,
          0,
          0,
          0,
          0,
          0,
          0,
          0,
          0,
          0,
          0,
          0,
          0,
          0,
          0,
          0,
          0,
          0,
          0,
          0,
          0,
          0,
          0,
          0,
          0,
          0,
          0,
          0,
          0,
          0,
          0,
          0,
          0,
          0,
          0,
          0,
          0,
          0,
          65536,
          0,
          0,
          0,
          0,
          0,
          0,
          0,
          0,
          0,
          0,
          0,
          262148,
          0,
          0,
          0,
          0,
          0,
          0,
          7,
          65544,
          6357009,
          6553651,
          655496,
          5373964,
          58458457,
          43778094,
          851986,
          1572868,
          35258728
         ],
         "yaxis": "y"
        },
        {
         "name": "stat_2_raw",
         "showlegend": false,
         "type": "scatter",
         "x": [
          "2020-01-01",
          "2020-01-02",
          "2020-01-03",
          "2020-01-04",
          "2020-01-05",
          "2020-01-06",
          "2020-01-07",
          "2020-01-08",
          "2020-01-09",
          "2020-01-10",
          "2020-01-11",
          "2020-01-12",
          "2020-01-13",
          "2020-01-14",
          "2020-01-15",
          "2020-01-16",
          "2020-01-17",
          "2020-01-18",
          "2020-01-19",
          "2020-01-20",
          "2020-01-21",
          "2020-01-22",
          "2020-01-23",
          "2020-01-24",
          "2020-01-25",
          "2020-01-26",
          "2020-01-27",
          "2020-01-28",
          "2020-01-29",
          "2020-01-30",
          "2020-01-31",
          "2020-02-01",
          "2020-02-02",
          "2020-02-03",
          "2020-02-04",
          "2020-02-05",
          "2020-02-06",
          "2020-02-07",
          "2020-02-08",
          "2020-02-09",
          "2020-02-10",
          "2020-02-11",
          "2020-02-12",
          "2020-02-13",
          "2020-02-14",
          "2020-02-15",
          "2020-02-16",
          "2020-02-17",
          "2020-02-18",
          "2020-02-19",
          "2020-02-20",
          "2020-02-21",
          "2020-02-22",
          "2020-02-23",
          "2020-02-24",
          "2020-02-25",
          "2020-02-26",
          "2020-02-27",
          "2020-02-28",
          "2020-02-29",
          "2020-03-01",
          "2020-03-02",
          "2020-03-03",
          "2020-03-04",
          "2020-03-05",
          "2020-03-06",
          "2020-03-07",
          "2020-03-08",
          "2020-03-09",
          "2020-03-10",
          "2020-03-11",
          "2020-03-12",
          "2020-03-13",
          "2020-03-14",
          "2020-03-15",
          "2020-03-16",
          "2020-03-17",
          "2020-03-18",
          "2020-03-19",
          "2020-03-20",
          "2020-03-21",
          "2020-03-22",
          "2020-03-23",
          "2020-03-24",
          "2020-03-25",
          "2020-03-26",
          "2020-03-27",
          "2020-03-28",
          "2020-03-29",
          "2020-03-30",
          "2020-03-31",
          "2020-04-01",
          "2020-04-02",
          "2020-04-03",
          "2020-04-04",
          "2020-04-05",
          "2020-04-06",
          "2020-04-07",
          "2020-04-08",
          "2020-04-09",
          "2020-04-10",
          "2020-04-11",
          "2020-04-12",
          "2020-04-13",
          "2020-04-14",
          "2020-04-15",
          "2020-04-16",
          "2020-04-17",
          "2020-04-18"
         ],
         "xaxis": "x2",
         "y": [
          104,
          104,
          104,
          104,
          104,
          104,
          104,
          104,
          104,
          104,
          104,
          104,
          104,
          104,
          104,
          104,
          104,
          104,
          104,
          104,
          104,
          104,
          104,
          104,
          104,
          104,
          104,
          104,
          104,
          104,
          104,
          104,
          104,
          104,
          104,
          104,
          104,
          104,
          104,
          104,
          104,
          104,
          104,
          104,
          104,
          104,
          104,
          104,
          104,
          104,
          104,
          104,
          104,
          104,
          104,
          104,
          104,
          104,
          104,
          104,
          104,
          104,
          104,
          104,
          104,
          104,
          104,
          104,
          104,
          104,
          104,
          104,
          104,
          104,
          104,
          104,
          104,
          104,
          104,
          104,
          104,
          104,
          104,
          104,
          105,
          105,
          105,
          105,
          105,
          105,
          105,
          105,
          105,
          105,
          105,
          105,
          105,
          105,
          105,
          105,
          105,
          105,
          105,
          105,
          105,
          105,
          105,
          105,
          105
         ],
         "yaxis": "y2"
        },
        {
         "name": "stat_3_raw",
         "showlegend": false,
         "type": "scatter",
         "x": [
          "2020-01-01",
          "2020-01-02",
          "2020-01-03",
          "2020-01-04",
          "2020-01-05",
          "2020-01-06",
          "2020-01-07",
          "2020-01-08",
          "2020-01-09",
          "2020-01-10",
          "2020-01-11",
          "2020-01-12",
          "2020-01-13",
          "2020-01-14",
          "2020-01-15",
          "2020-01-16",
          "2020-01-17",
          "2020-01-18",
          "2020-01-19",
          "2020-01-20",
          "2020-01-21",
          "2020-01-22",
          "2020-01-23",
          "2020-01-24",
          "2020-01-25",
          "2020-01-26",
          "2020-01-27",
          "2020-01-28",
          "2020-01-29",
          "2020-01-30",
          "2020-01-31",
          "2020-02-01",
          "2020-02-02",
          "2020-02-03",
          "2020-02-04",
          "2020-02-05",
          "2020-02-06",
          "2020-02-07",
          "2020-02-08",
          "2020-02-09",
          "2020-02-10",
          "2020-02-11",
          "2020-02-12",
          "2020-02-13",
          "2020-02-14",
          "2020-02-15",
          "2020-02-16",
          "2020-02-17",
          "2020-02-18",
          "2020-02-19",
          "2020-02-20",
          "2020-02-21",
          "2020-02-22",
          "2020-02-23",
          "2020-02-24",
          "2020-02-25",
          "2020-02-26",
          "2020-02-27",
          "2020-02-28",
          "2020-02-29",
          "2020-03-01",
          "2020-03-02",
          "2020-03-03",
          "2020-03-04",
          "2020-03-05",
          "2020-03-06",
          "2020-03-07",
          "2020-03-08",
          "2020-03-09",
          "2020-03-10",
          "2020-03-11",
          "2020-03-12",
          "2020-03-13",
          "2020-03-14",
          "2020-03-15",
          "2020-03-16",
          "2020-03-17",
          "2020-03-18",
          "2020-03-19",
          "2020-03-20",
          "2020-03-21",
          "2020-03-22",
          "2020-03-23",
          "2020-03-24",
          "2020-03-25",
          "2020-03-26",
          "2020-03-27",
          "2020-03-28",
          "2020-03-29",
          "2020-03-30",
          "2020-03-31",
          "2020-04-01",
          "2020-04-02",
          "2020-04-03",
          "2020-04-04",
          "2020-04-05",
          "2020-04-06",
          "2020-04-07",
          "2020-04-08",
          "2020-04-09",
          "2020-04-10",
          "2020-04-11",
          "2020-04-12",
          "2020-04-13",
          "2020-04-14",
          "2020-04-15",
          "2020-04-16",
          "2020-04-17",
          "2020-04-18"
         ],
         "xaxis": "x3",
         "y": [
          483,
          483,
          483,
          483,
          483,
          483,
          483,
          483,
          483,
          483,
          483,
          483,
          483,
          483,
          483,
          483,
          483,
          483,
          483,
          483,
          483,
          483,
          483,
          483,
          483,
          483,
          483,
          483,
          483,
          483,
          483,
          483,
          483,
          483,
          483,
          483,
          483,
          483,
          483,
          483,
          483,
          483,
          483,
          483,
          483,
          483,
          483,
          483,
          483,
          483,
          483,
          483,
          483,
          483,
          483,
          483,
          483,
          483,
          483,
          483,
          483,
          483,
          483,
          483,
          483,
          483,
          483,
          483,
          483,
          483,
          483,
          483,
          483,
          483,
          483,
          483,
          483,
          483,
          483,
          483,
          483,
          483,
          483,
          483,
          627,
          627,
          627,
          627,
          627,
          627,
          627,
          627,
          627,
          627,
          627,
          627,
          627,
          627,
          627,
          627,
          627,
          627,
          627,
          627,
          627,
          627,
          627,
          627,
          627
         ],
         "yaxis": "y3"
        },
        {
         "name": "stat_4_raw",
         "showlegend": false,
         "type": "scatter",
         "x": [
          "2020-01-01",
          "2020-01-02",
          "2020-01-03",
          "2020-01-04",
          "2020-01-05",
          "2020-01-06",
          "2020-01-07",
          "2020-01-08",
          "2020-01-09",
          "2020-01-10",
          "2020-01-11",
          "2020-01-12",
          "2020-01-13",
          "2020-01-14",
          "2020-01-15",
          "2020-01-16",
          "2020-01-17",
          "2020-01-18",
          "2020-01-19",
          "2020-01-20",
          "2020-01-21",
          "2020-01-22",
          "2020-01-23",
          "2020-01-24",
          "2020-01-25",
          "2020-01-26",
          "2020-01-27",
          "2020-01-28",
          "2020-01-29",
          "2020-01-30",
          "2020-01-31",
          "2020-02-01",
          "2020-02-02",
          "2020-02-03",
          "2020-02-04",
          "2020-02-05",
          "2020-02-06",
          "2020-02-07",
          "2020-02-08",
          "2020-02-09",
          "2020-02-10",
          "2020-02-11",
          "2020-02-12",
          "2020-02-13",
          "2020-02-14",
          "2020-02-15",
          "2020-02-16",
          "2020-02-17",
          "2020-02-18",
          "2020-02-19",
          "2020-02-20",
          "2020-02-21",
          "2020-02-22",
          "2020-02-23",
          "2020-02-24",
          "2020-02-25",
          "2020-02-26",
          "2020-02-27",
          "2020-02-28",
          "2020-02-29",
          "2020-03-01",
          "2020-03-02",
          "2020-03-03",
          "2020-03-04",
          "2020-03-05",
          "2020-03-06",
          "2020-03-07",
          "2020-03-08",
          "2020-03-09",
          "2020-03-10",
          "2020-03-11",
          "2020-03-12",
          "2020-03-13",
          "2020-03-14",
          "2020-03-15",
          "2020-03-16",
          "2020-03-17",
          "2020-03-18",
          "2020-03-19",
          "2020-03-20",
          "2020-03-21",
          "2020-03-22",
          "2020-03-23",
          "2020-03-24",
          "2020-03-25",
          "2020-03-26",
          "2020-03-27",
          "2020-03-28",
          "2020-03-29",
          "2020-03-30",
          "2020-03-31",
          "2020-04-01",
          "2020-04-02",
          "2020-04-03",
          "2020-04-04",
          "2020-04-05",
          "2020-04-06",
          "2020-04-07",
          "2020-04-08",
          "2020-04-09",
          "2020-04-10",
          "2020-04-11",
          "2020-04-12",
          "2020-04-13",
          "2020-04-14",
          "2020-04-15",
          "2020-04-16",
          "2020-04-17",
          "2020-04-18"
         ],
         "xaxis": "x4",
         "y": [
          9,
          9,
          9,
          9,
          9,
          9,
          9,
          9,
          9,
          9,
          9,
          9,
          9,
          9,
          9,
          9,
          9,
          9,
          9,
          9,
          9,
          9,
          9,
          9,
          9,
          9,
          9,
          9,
          9,
          9,
          9,
          9,
          9,
          9,
          9,
          9,
          9,
          9,
          9,
          9,
          9,
          9,
          9,
          9,
          9,
          9,
          9,
          9,
          9,
          9,
          9,
          9,
          9,
          9,
          9,
          9,
          9,
          9,
          9,
          9,
          9,
          9,
          9,
          9,
          9,
          9,
          9,
          9,
          9,
          9,
          9,
          9,
          9,
          9,
          9,
          9,
          9,
          9,
          9,
          9,
          9,
          9,
          9,
          9,
          10,
          10,
          10,
          10,
          10,
          10,
          10,
          10,
          10,
          10,
          10,
          10,
          10,
          10,
          10,
          10,
          10,
          10,
          10,
          10,
          10,
          10,
          10,
          10,
          10
         ],
         "yaxis": "y4"
        },
        {
         "name": "stat_5_raw",
         "showlegend": false,
         "type": "scatter",
         "x": [
          "2020-01-01",
          "2020-01-02",
          "2020-01-03",
          "2020-01-04",
          "2020-01-05",
          "2020-01-06",
          "2020-01-07",
          "2020-01-08",
          "2020-01-09",
          "2020-01-10",
          "2020-01-11",
          "2020-01-12",
          "2020-01-13",
          "2020-01-14",
          "2020-01-15",
          "2020-01-16",
          "2020-01-17",
          "2020-01-18",
          "2020-01-19",
          "2020-01-20",
          "2020-01-21",
          "2020-01-22",
          "2020-01-23",
          "2020-01-24",
          "2020-01-25",
          "2020-01-26",
          "2020-01-27",
          "2020-01-28",
          "2020-01-29",
          "2020-01-30",
          "2020-01-31",
          "2020-02-01",
          "2020-02-02",
          "2020-02-03",
          "2020-02-04",
          "2020-02-05",
          "2020-02-06",
          "2020-02-07",
          "2020-02-08",
          "2020-02-09",
          "2020-02-10",
          "2020-02-11",
          "2020-02-12",
          "2020-02-13",
          "2020-02-14",
          "2020-02-15",
          "2020-02-16",
          "2020-02-17",
          "2020-02-18",
          "2020-02-19",
          "2020-02-20",
          "2020-02-21",
          "2020-02-22",
          "2020-02-23",
          "2020-02-24",
          "2020-02-25",
          "2020-02-26",
          "2020-02-27",
          "2020-02-28",
          "2020-02-29",
          "2020-03-01",
          "2020-03-02",
          "2020-03-03",
          "2020-03-04",
          "2020-03-05",
          "2020-03-06",
          "2020-03-07",
          "2020-03-08",
          "2020-03-09",
          "2020-03-10",
          "2020-03-11",
          "2020-03-12",
          "2020-03-13",
          "2020-03-14",
          "2020-03-15",
          "2020-03-16",
          "2020-03-17",
          "2020-03-18",
          "2020-03-19",
          "2020-03-20",
          "2020-03-21",
          "2020-03-22",
          "2020-03-23",
          "2020-03-24",
          "2020-03-25",
          "2020-03-26",
          "2020-03-27",
          "2020-03-28",
          "2020-03-29",
          "2020-03-30",
          "2020-03-31",
          "2020-04-01",
          "2020-04-02",
          "2020-04-03",
          "2020-04-04",
          "2020-04-05",
          "2020-04-06",
          "2020-04-07",
          "2020-04-08",
          "2020-04-09",
          "2020-04-10",
          "2020-04-11",
          "2020-04-12",
          "2020-04-13",
          "2020-04-14",
          "2020-04-15",
          "2020-04-16",
          "2020-04-17",
          "2020-04-18"
         ],
         "xaxis": "x5",
         "y": [
          5,
          5,
          5,
          5,
          5,
          5,
          5,
          5,
          5,
          5,
          5,
          5,
          5,
          5,
          5,
          5,
          5,
          5,
          5,
          5,
          5,
          5,
          5,
          5,
          5,
          5,
          5,
          5,
          5,
          5,
          5,
          5,
          5,
          5,
          5,
          5,
          5,
          5,
          5,
          5,
          5,
          5,
          5,
          5,
          5,
          5,
          5,
          5,
          5,
          5,
          5,
          5,
          5,
          5,
          5,
          5,
          5,
          5,
          5,
          5,
          5,
          5,
          5,
          5,
          5,
          5,
          5,
          5,
          5,
          5,
          5,
          5,
          5,
          5,
          5,
          5,
          5,
          5,
          5,
          5,
          5,
          5,
          5,
          5,
          5,
          5,
          5,
          5,
          5,
          5,
          5,
          5,
          5,
          5,
          5,
          5,
          5,
          5,
          5,
          5,
          5,
          6,
          6,
          7,
          8,
          10,
          11,
          11,
          36
         ],
         "yaxis": "y5"
        },
        {
         "name": "stat_7_raw",
         "showlegend": false,
         "type": "scatter",
         "x": [
          "2020-01-01",
          "2020-01-02",
          "2020-01-03",
          "2020-01-04",
          "2020-01-05",
          "2020-01-06",
          "2020-01-07",
          "2020-01-08",
          "2020-01-09",
          "2020-01-10",
          "2020-01-11",
          "2020-01-12",
          "2020-01-13",
          "2020-01-14",
          "2020-01-15",
          "2020-01-16",
          "2020-01-17",
          "2020-01-18",
          "2020-01-19",
          "2020-01-20",
          "2020-01-21",
          "2020-01-22",
          "2020-01-23",
          "2020-01-24",
          "2020-01-25",
          "2020-01-26",
          "2020-01-27",
          "2020-01-28",
          "2020-01-29",
          "2020-01-30",
          "2020-01-31",
          "2020-02-01",
          "2020-02-02",
          "2020-02-03",
          "2020-02-04",
          "2020-02-05",
          "2020-02-06",
          "2020-02-07",
          "2020-02-08",
          "2020-02-09",
          "2020-02-10",
          "2020-02-11",
          "2020-02-12",
          "2020-02-13",
          "2020-02-14",
          "2020-02-15",
          "2020-02-16",
          "2020-02-17",
          "2020-02-18",
          "2020-02-19",
          "2020-02-20",
          "2020-02-21",
          "2020-02-22",
          "2020-02-23",
          "2020-02-24",
          "2020-02-25",
          "2020-02-26",
          "2020-02-27",
          "2020-02-28",
          "2020-02-29",
          "2020-03-01",
          "2020-03-02",
          "2020-03-03",
          "2020-03-04",
          "2020-03-05",
          "2020-03-06",
          "2020-03-07",
          "2020-03-08",
          "2020-03-09",
          "2020-03-10",
          "2020-03-11",
          "2020-03-12",
          "2020-03-13",
          "2020-03-14",
          "2020-03-15",
          "2020-03-16",
          "2020-03-17",
          "2020-03-18",
          "2020-03-19",
          "2020-03-20",
          "2020-03-21",
          "2020-03-22",
          "2020-03-23",
          "2020-03-24",
          "2020-03-25",
          "2020-03-26",
          "2020-03-27",
          "2020-03-28",
          "2020-03-29",
          "2020-03-30",
          "2020-03-31",
          "2020-04-01",
          "2020-04-02",
          "2020-04-03",
          "2020-04-04",
          "2020-04-05",
          "2020-04-06",
          "2020-04-07",
          "2020-04-08",
          "2020-04-09",
          "2020-04-10",
          "2020-04-11",
          "2020-04-12",
          "2020-04-13",
          "2020-04-14",
          "2020-04-15",
          "2020-04-16",
          "2020-04-17",
          "2020-04-18"
         ],
         "xaxis": "x6",
         "y": [
          0,
          0,
          0,
          0,
          0,
          0,
          0,
          0,
          0,
          0,
          0,
          0,
          0,
          0,
          0,
          0,
          0,
          0,
          0,
          0,
          0,
          0,
          0,
          0,
          0,
          0,
          0,
          0,
          0,
          0,
          0,
          0,
          0,
          0,
          0,
          0,
          0,
          0,
          0,
          0,
          0,
          0,
          0,
          0,
          0,
          0,
          0,
          0,
          0,
          0,
          0,
          0,
          0,
          0,
          0,
          0,
          0,
          0,
          0,
          0,
          0,
          0,
          0,
          0,
          0,
          0,
          0,
          0,
          0,
          0,
          0,
          0,
          0,
          0,
          0,
          0,
          0,
          0,
          0,
          0,
          0,
          0,
          0,
          0,
          0,
          0,
          0,
          0,
          0,
          0,
          0,
          0,
          0,
          0,
          0,
          0,
          0,
          0,
          0,
          0,
          0,
          0,
          0,
          0,
          0,
          0,
          0,
          0,
          0
         ],
         "yaxis": "y6"
        },
        {
         "name": "stat_8_raw",
         "showlegend": false,
         "type": "scatter",
         "x": [
          "2020-01-01",
          "2020-01-02",
          "2020-01-03",
          "2020-01-04",
          "2020-01-05",
          "2020-01-06",
          "2020-01-07",
          "2020-01-08",
          "2020-01-09",
          "2020-01-10",
          "2020-01-11",
          "2020-01-12",
          "2020-01-13",
          "2020-01-14",
          "2020-01-15",
          "2020-01-16",
          "2020-01-17",
          "2020-01-18",
          "2020-01-19",
          "2020-01-20",
          "2020-01-21",
          "2020-01-22",
          "2020-01-23",
          "2020-01-24",
          "2020-01-25",
          "2020-01-26",
          "2020-01-27",
          "2020-01-28",
          "2020-01-29",
          "2020-01-30",
          "2020-01-31",
          "2020-02-01",
          "2020-02-02",
          "2020-02-03",
          "2020-02-04",
          "2020-02-05",
          "2020-02-06",
          "2020-02-07",
          "2020-02-08",
          "2020-02-09",
          "2020-02-10",
          "2020-02-11",
          "2020-02-12",
          "2020-02-13",
          "2020-02-14",
          "2020-02-15",
          "2020-02-16",
          "2020-02-17",
          "2020-02-18",
          "2020-02-19",
          "2020-02-20",
          "2020-02-21",
          "2020-02-22",
          "2020-02-23",
          "2020-02-24",
          "2020-02-25",
          "2020-02-26",
          "2020-02-27",
          "2020-02-28",
          "2020-02-29",
          "2020-03-01",
          "2020-03-02",
          "2020-03-03",
          "2020-03-04",
          "2020-03-05",
          "2020-03-06",
          "2020-03-07",
          "2020-03-08",
          "2020-03-09",
          "2020-03-10",
          "2020-03-11",
          "2020-03-12",
          "2020-03-13",
          "2020-03-14",
          "2020-03-15",
          "2020-03-16",
          "2020-03-17",
          "2020-03-18",
          "2020-03-19",
          "2020-03-20",
          "2020-03-21",
          "2020-03-22",
          "2020-03-23",
          "2020-03-24",
          "2020-03-25",
          "2020-03-26",
          "2020-03-27",
          "2020-03-28",
          "2020-03-29",
          "2020-03-30",
          "2020-03-31",
          "2020-04-01",
          "2020-04-02",
          "2020-04-03",
          "2020-04-04",
          "2020-04-05",
          "2020-04-06",
          "2020-04-07",
          "2020-04-08",
          "2020-04-09",
          "2020-04-10",
          "2020-04-11",
          "2020-04-12",
          "2020-04-13",
          "2020-04-14",
          "2020-04-15",
          "2020-04-16",
          "2020-04-17",
          "2020-04-18"
         ],
         "xaxis": "x7",
         "y": [
          36,
          36,
          36,
          36,
          36,
          36,
          36,
          36,
          36,
          36,
          36,
          36,
          36,
          36,
          36,
          36,
          36,
          36,
          36,
          36,
          36,
          36,
          36,
          36,
          36,
          36,
          36,
          36,
          36,
          36,
          36,
          36,
          36,
          36,
          36,
          36,
          36,
          36,
          36,
          36,
          36,
          36,
          36,
          36,
          36,
          36,
          36,
          36,
          36,
          36,
          36,
          36,
          36,
          36,
          36,
          36,
          36,
          36,
          36,
          36,
          36,
          36,
          36,
          36,
          36,
          36,
          36,
          36,
          36,
          36,
          36,
          36,
          36,
          36,
          36,
          36,
          36,
          36,
          36,
          36,
          36,
          36,
          36,
          36,
          35,
          35,
          35,
          35,
          35,
          35,
          35,
          35,
          35,
          35,
          35,
          35,
          35,
          35,
          35,
          35,
          35,
          35,
          35,
          35,
          35,
          35,
          35,
          35,
          35
         ],
         "yaxis": "y7"
        },
        {
         "name": "stat_9_raw",
         "showlegend": false,
         "type": "scatter",
         "x": [
          "2020-01-01",
          "2020-01-02",
          "2020-01-03",
          "2020-01-04",
          "2020-01-05",
          "2020-01-06",
          "2020-01-07",
          "2020-01-08",
          "2020-01-09",
          "2020-01-10",
          "2020-01-11",
          "2020-01-12",
          "2020-01-13",
          "2020-01-14",
          "2020-01-15",
          "2020-01-16",
          "2020-01-17",
          "2020-01-18",
          "2020-01-19",
          "2020-01-20",
          "2020-01-21",
          "2020-01-22",
          "2020-01-23",
          "2020-01-24",
          "2020-01-25",
          "2020-01-26",
          "2020-01-27",
          "2020-01-28",
          "2020-01-29",
          "2020-01-30",
          "2020-01-31",
          "2020-02-01",
          "2020-02-02",
          "2020-02-03",
          "2020-02-04",
          "2020-02-05",
          "2020-02-06",
          "2020-02-07",
          "2020-02-08",
          "2020-02-09",
          "2020-02-10",
          "2020-02-11",
          "2020-02-12",
          "2020-02-13",
          "2020-02-14",
          "2020-02-15",
          "2020-02-16",
          "2020-02-17",
          "2020-02-18",
          "2020-02-19",
          "2020-02-20",
          "2020-02-21",
          "2020-02-22",
          "2020-02-23",
          "2020-02-24",
          "2020-02-25",
          "2020-02-26",
          "2020-02-27",
          "2020-02-28",
          "2020-02-29",
          "2020-03-01",
          "2020-03-02",
          "2020-03-03",
          "2020-03-04",
          "2020-03-05",
          "2020-03-06",
          "2020-03-07",
          "2020-03-08",
          "2020-03-09",
          "2020-03-10",
          "2020-03-11",
          "2020-03-12",
          "2020-03-13",
          "2020-03-14",
          "2020-03-15",
          "2020-03-16",
          "2020-03-17",
          "2020-03-18",
          "2020-03-19",
          "2020-03-20",
          "2020-03-21",
          "2020-03-22",
          "2020-03-23",
          "2020-03-24",
          "2020-03-25",
          "2020-03-26",
          "2020-03-27",
          "2020-03-28",
          "2020-03-29",
          "2020-03-30",
          "2020-03-31",
          "2020-04-01",
          "2020-04-02",
          "2020-04-03",
          "2020-04-04",
          "2020-04-05",
          "2020-04-06",
          "2020-04-07",
          "2020-04-08",
          "2020-04-09",
          "2020-04-10",
          "2020-04-11",
          "2020-04-12",
          "2020-04-13",
          "2020-04-14",
          "2020-04-15",
          "2020-04-16",
          "2020-04-17",
          "2020-04-18"
         ],
         "xaxis": "x8",
         "y": [
          19737,
          19760,
          19785,
          19809,
          19833,
          19857,
          19881,
          19905,
          19929,
          19953,
          19977,
          20001,
          20025,
          20049,
          20073,
          20097,
          20121,
          20145,
          20169,
          20193,
          20217,
          20240,
          20265,
          20289,
          20313,
          20337,
          20361,
          20385,
          20409,
          20433,
          20457,
          20481,
          20505,
          20529,
          20552,
          20577,
          20601,
          20625,
          20649,
          20673,
          20697,
          20720,
          20745,
          20769,
          20792,
          20817,
          20841,
          20865,
          20889,
          20913,
          20937,
          20960,
          20985,
          21009,
          21032,
          21057,
          21081,
          21104,
          21129,
          21153,
          21177,
          21200,
          21225,
          21249,
          21272,
          21297,
          21321,
          21344,
          21369,
          21393,
          21417,
          21441,
          21465,
          21489,
          21512,
          21535,
          21560,
          21584,
          21607,
          21632,
          21656,
          21680,
          21704,
          21728,
          21751,
          21776,
          21800,
          21823,
          21847,
          21872,
          21896,
          21919,
          21944,
          21968,
          21991,
          22016,
          22040,
          22063,
          22088,
          22112,
          22135,
          22159,
          22184,
          22208,
          22231,
          22256,
          22280,
          22303,
          22327
         ],
         "yaxis": "y8"
        },
        {
         "name": "stat_10_raw",
         "showlegend": false,
         "type": "scatter",
         "x": [
          "2020-01-01",
          "2020-01-02",
          "2020-01-03",
          "2020-01-04",
          "2020-01-05",
          "2020-01-06",
          "2020-01-07",
          "2020-01-08",
          "2020-01-09",
          "2020-01-10",
          "2020-01-11",
          "2020-01-12",
          "2020-01-13",
          "2020-01-14",
          "2020-01-15",
          "2020-01-16",
          "2020-01-17",
          "2020-01-18",
          "2020-01-19",
          "2020-01-20",
          "2020-01-21",
          "2020-01-22",
          "2020-01-23",
          "2020-01-24",
          "2020-01-25",
          "2020-01-26",
          "2020-01-27",
          "2020-01-28",
          "2020-01-29",
          "2020-01-30",
          "2020-01-31",
          "2020-02-01",
          "2020-02-02",
          "2020-02-03",
          "2020-02-04",
          "2020-02-05",
          "2020-02-06",
          "2020-02-07",
          "2020-02-08",
          "2020-02-09",
          "2020-02-10",
          "2020-02-11",
          "2020-02-12",
          "2020-02-13",
          "2020-02-14",
          "2020-02-15",
          "2020-02-16",
          "2020-02-17",
          "2020-02-18",
          "2020-02-19",
          "2020-02-20",
          "2020-02-21",
          "2020-02-22",
          "2020-02-23",
          "2020-02-24",
          "2020-02-25",
          "2020-02-26",
          "2020-02-27",
          "2020-02-28",
          "2020-02-29",
          "2020-03-01",
          "2020-03-02",
          "2020-03-03",
          "2020-03-04",
          "2020-03-05",
          "2020-03-06",
          "2020-03-07",
          "2020-03-08",
          "2020-03-09",
          "2020-03-10",
          "2020-03-11",
          "2020-03-12",
          "2020-03-13",
          "2020-03-14",
          "2020-03-15",
          "2020-03-16",
          "2020-03-17",
          "2020-03-18",
          "2020-03-19",
          "2020-03-20",
          "2020-03-21",
          "2020-03-22",
          "2020-03-23",
          "2020-03-24",
          "2020-03-25",
          "2020-03-26",
          "2020-03-27",
          "2020-03-28",
          "2020-03-29",
          "2020-03-30",
          "2020-03-31",
          "2020-04-01",
          "2020-04-02",
          "2020-04-03",
          "2020-04-04",
          "2020-04-05",
          "2020-04-06",
          "2020-04-07",
          "2020-04-08",
          "2020-04-09",
          "2020-04-10",
          "2020-04-11",
          "2020-04-12",
          "2020-04-13",
          "2020-04-14",
          "2020-04-15",
          "2020-04-16",
          "2020-04-17",
          "2020-04-18"
         ],
         "xaxis": "x9",
         "y": [
          0,
          0,
          0,
          0,
          0,
          0,
          0,
          0,
          0,
          0,
          0,
          0,
          0,
          0,
          0,
          0,
          0,
          0,
          0,
          0,
          0,
          0,
          0,
          0,
          0,
          0,
          0,
          0,
          0,
          0,
          0,
          0,
          0,
          0,
          0,
          0,
          0,
          0,
          0,
          0,
          0,
          0,
          0,
          0,
          0,
          0,
          0,
          0,
          0,
          0,
          0,
          0,
          0,
          0,
          0,
          0,
          0,
          0,
          0,
          0,
          0,
          0,
          0,
          0,
          0,
          0,
          0,
          0,
          0,
          0,
          0,
          0,
          0,
          0,
          0,
          0,
          0,
          0,
          0,
          0,
          0,
          0,
          0,
          0,
          0,
          0,
          0,
          0,
          0,
          0,
          0,
          0,
          0,
          0,
          0,
          0,
          0,
          0,
          0,
          0,
          0,
          0,
          0,
          0,
          0,
          0,
          0,
          0,
          0
         ],
         "yaxis": "y9"
        },
        {
         "name": "stat_12_raw",
         "showlegend": false,
         "type": "scatter",
         "x": [
          "2020-01-01",
          "2020-01-02",
          "2020-01-03",
          "2020-01-04",
          "2020-01-05",
          "2020-01-06",
          "2020-01-07",
          "2020-01-08",
          "2020-01-09",
          "2020-01-10",
          "2020-01-11",
          "2020-01-12",
          "2020-01-13",
          "2020-01-14",
          "2020-01-15",
          "2020-01-16",
          "2020-01-17",
          "2020-01-18",
          "2020-01-19",
          "2020-01-20",
          "2020-01-21",
          "2020-01-22",
          "2020-01-23",
          "2020-01-24",
          "2020-01-25",
          "2020-01-26",
          "2020-01-27",
          "2020-01-28",
          "2020-01-29",
          "2020-01-30",
          "2020-01-31",
          "2020-02-01",
          "2020-02-02",
          "2020-02-03",
          "2020-02-04",
          "2020-02-05",
          "2020-02-06",
          "2020-02-07",
          "2020-02-08",
          "2020-02-09",
          "2020-02-10",
          "2020-02-11",
          "2020-02-12",
          "2020-02-13",
          "2020-02-14",
          "2020-02-15",
          "2020-02-16",
          "2020-02-17",
          "2020-02-18",
          "2020-02-19",
          "2020-02-20",
          "2020-02-21",
          "2020-02-22",
          "2020-02-23",
          "2020-02-24",
          "2020-02-25",
          "2020-02-26",
          "2020-02-27",
          "2020-02-28",
          "2020-02-29",
          "2020-03-01",
          "2020-03-02",
          "2020-03-03",
          "2020-03-04",
          "2020-03-05",
          "2020-03-06",
          "2020-03-07",
          "2020-03-08",
          "2020-03-09",
          "2020-03-10",
          "2020-03-11",
          "2020-03-12",
          "2020-03-13",
          "2020-03-14",
          "2020-03-15",
          "2020-03-16",
          "2020-03-17",
          "2020-03-18",
          "2020-03-19",
          "2020-03-20",
          "2020-03-21",
          "2020-03-22",
          "2020-03-23",
          "2020-03-24",
          "2020-03-25",
          "2020-03-26",
          "2020-03-27",
          "2020-03-28",
          "2020-03-29",
          "2020-03-30",
          "2020-03-31",
          "2020-04-01",
          "2020-04-02",
          "2020-04-03",
          "2020-04-04",
          "2020-04-05",
          "2020-04-06",
          "2020-04-07",
          "2020-04-08",
          "2020-04-09",
          "2020-04-10",
          "2020-04-11",
          "2020-04-12",
          "2020-04-13",
          "2020-04-14",
          "2020-04-15",
          "2020-04-16",
          "2020-04-17",
          "2020-04-18"
         ],
         "xaxis": "x10",
         "y": [
          8,
          8,
          8,
          8,
          8,
          8,
          8,
          8,
          8,
          8,
          8,
          8,
          8,
          8,
          8,
          8,
          8,
          8,
          8,
          8,
          8,
          8,
          8,
          8,
          8,
          8,
          8,
          8,
          8,
          8,
          8,
          8,
          8,
          8,
          8,
          8,
          8,
          8,
          8,
          8,
          8,
          8,
          8,
          8,
          8,
          8,
          8,
          8,
          8,
          8,
          8,
          8,
          8,
          8,
          8,
          8,
          8,
          8,
          8,
          8,
          8,
          8,
          8,
          8,
          8,
          8,
          8,
          8,
          8,
          8,
          8,
          8,
          8,
          8,
          8,
          8,
          8,
          8,
          8,
          8,
          8,
          8,
          8,
          8,
          9,
          9,
          9,
          9,
          9,
          9,
          9,
          9,
          9,
          9,
          9,
          9,
          9,
          9,
          9,
          9,
          9,
          9,
          9,
          9,
          9,
          9,
          9,
          9,
          9
         ],
         "yaxis": "y10"
        },
        {
         "name": "stat_192_raw",
         "showlegend": false,
         "type": "scatter",
         "x": [
          "2020-01-01",
          "2020-01-02",
          "2020-01-03",
          "2020-01-04",
          "2020-01-05",
          "2020-01-06",
          "2020-01-07",
          "2020-01-08",
          "2020-01-09",
          "2020-01-10",
          "2020-01-11",
          "2020-01-12",
          "2020-01-13",
          "2020-01-14",
          "2020-01-15",
          "2020-01-16",
          "2020-01-17",
          "2020-01-18",
          "2020-01-19",
          "2020-01-20",
          "2020-01-21",
          "2020-01-22",
          "2020-01-23",
          "2020-01-24",
          "2020-01-25",
          "2020-01-26",
          "2020-01-27",
          "2020-01-28",
          "2020-01-29",
          "2020-01-30",
          "2020-01-31",
          "2020-02-01",
          "2020-02-02",
          "2020-02-03",
          "2020-02-04",
          "2020-02-05",
          "2020-02-06",
          "2020-02-07",
          "2020-02-08",
          "2020-02-09",
          "2020-02-10",
          "2020-02-11",
          "2020-02-12",
          "2020-02-13",
          "2020-02-14",
          "2020-02-15",
          "2020-02-16",
          "2020-02-17",
          "2020-02-18",
          "2020-02-19",
          "2020-02-20",
          "2020-02-21",
          "2020-02-22",
          "2020-02-23",
          "2020-02-24",
          "2020-02-25",
          "2020-02-26",
          "2020-02-27",
          "2020-02-28",
          "2020-02-29",
          "2020-03-01",
          "2020-03-02",
          "2020-03-03",
          "2020-03-04",
          "2020-03-05",
          "2020-03-06",
          "2020-03-07",
          "2020-03-08",
          "2020-03-09",
          "2020-03-10",
          "2020-03-11",
          "2020-03-12",
          "2020-03-13",
          "2020-03-14",
          "2020-03-15",
          "2020-03-16",
          "2020-03-17",
          "2020-03-18",
          "2020-03-19",
          "2020-03-20",
          "2020-03-21",
          "2020-03-22",
          "2020-03-23",
          "2020-03-24",
          "2020-03-25",
          "2020-03-26",
          "2020-03-27",
          "2020-03-28",
          "2020-03-29",
          "2020-03-30",
          "2020-03-31",
          "2020-04-01",
          "2020-04-02",
          "2020-04-03",
          "2020-04-04",
          "2020-04-05",
          "2020-04-06",
          "2020-04-07",
          "2020-04-08",
          "2020-04-09",
          "2020-04-10",
          "2020-04-11",
          "2020-04-12",
          "2020-04-13",
          "2020-04-14",
          "2020-04-15",
          "2020-04-16",
          "2020-04-17",
          "2020-04-18"
         ],
         "xaxis": "x11",
         "y": [
          10,
          10,
          10,
          10,
          10,
          10,
          10,
          10,
          10,
          10,
          10,
          10,
          10,
          10,
          10,
          10,
          10,
          10,
          10,
          10,
          10,
          10,
          10,
          10,
          10,
          10,
          10,
          10,
          10,
          10,
          10,
          10,
          10,
          10,
          10,
          10,
          10,
          10,
          10,
          10,
          10,
          10,
          10,
          10,
          10,
          10,
          10,
          10,
          10,
          10,
          10,
          10,
          10,
          10,
          10,
          10,
          10,
          10,
          10,
          10,
          10,
          10,
          10,
          10,
          10,
          10,
          10,
          10,
          10,
          10,
          10,
          10,
          10,
          10,
          10,
          10,
          10,
          10,
          10,
          10,
          10,
          10,
          10,
          10,
          11,
          11,
          11,
          11,
          11,
          11,
          11,
          11,
          11,
          11,
          11,
          11,
          11,
          11,
          11,
          11,
          11,
          11,
          11,
          11,
          11,
          11,
          11,
          11,
          11
         ],
         "yaxis": "y11"
        },
        {
         "name": "stat_193_raw",
         "showlegend": false,
         "type": "scatter",
         "x": [
          "2020-01-01",
          "2020-01-02",
          "2020-01-03",
          "2020-01-04",
          "2020-01-05",
          "2020-01-06",
          "2020-01-07",
          "2020-01-08",
          "2020-01-09",
          "2020-01-10",
          "2020-01-11",
          "2020-01-12",
          "2020-01-13",
          "2020-01-14",
          "2020-01-15",
          "2020-01-16",
          "2020-01-17",
          "2020-01-18",
          "2020-01-19",
          "2020-01-20",
          "2020-01-21",
          "2020-01-22",
          "2020-01-23",
          "2020-01-24",
          "2020-01-25",
          "2020-01-26",
          "2020-01-27",
          "2020-01-28",
          "2020-01-29",
          "2020-01-30",
          "2020-01-31",
          "2020-02-01",
          "2020-02-02",
          "2020-02-03",
          "2020-02-04",
          "2020-02-05",
          "2020-02-06",
          "2020-02-07",
          "2020-02-08",
          "2020-02-09",
          "2020-02-10",
          "2020-02-11",
          "2020-02-12",
          "2020-02-13",
          "2020-02-14",
          "2020-02-15",
          "2020-02-16",
          "2020-02-17",
          "2020-02-18",
          "2020-02-19",
          "2020-02-20",
          "2020-02-21",
          "2020-02-22",
          "2020-02-23",
          "2020-02-24",
          "2020-02-25",
          "2020-02-26",
          "2020-02-27",
          "2020-02-28",
          "2020-02-29",
          "2020-03-01",
          "2020-03-02",
          "2020-03-03",
          "2020-03-04",
          "2020-03-05",
          "2020-03-06",
          "2020-03-07",
          "2020-03-08",
          "2020-03-09",
          "2020-03-10",
          "2020-03-11",
          "2020-03-12",
          "2020-03-13",
          "2020-03-14",
          "2020-03-15",
          "2020-03-16",
          "2020-03-17",
          "2020-03-18",
          "2020-03-19",
          "2020-03-20",
          "2020-03-21",
          "2020-03-22",
          "2020-03-23",
          "2020-03-24",
          "2020-03-25",
          "2020-03-26",
          "2020-03-27",
          "2020-03-28",
          "2020-03-29",
          "2020-03-30",
          "2020-03-31",
          "2020-04-01",
          "2020-04-02",
          "2020-04-03",
          "2020-04-04",
          "2020-04-05",
          "2020-04-06",
          "2020-04-07",
          "2020-04-08",
          "2020-04-09",
          "2020-04-10",
          "2020-04-11",
          "2020-04-12",
          "2020-04-13",
          "2020-04-14",
          "2020-04-15",
          "2020-04-16",
          "2020-04-17",
          "2020-04-18"
         ],
         "xaxis": "x12",
         "y": [
          10,
          10,
          10,
          10,
          10,
          10,
          10,
          10,
          10,
          10,
          10,
          10,
          10,
          10,
          10,
          10,
          10,
          10,
          10,
          10,
          10,
          10,
          10,
          10,
          10,
          10,
          10,
          10,
          10,
          10,
          10,
          10,
          10,
          10,
          10,
          10,
          10,
          10,
          10,
          10,
          10,
          10,
          10,
          10,
          10,
          10,
          10,
          10,
          10,
          10,
          10,
          10,
          10,
          10,
          10,
          10,
          10,
          10,
          10,
          10,
          10,
          10,
          10,
          10,
          10,
          10,
          10,
          10,
          10,
          10,
          10,
          10,
          10,
          10,
          10,
          10,
          10,
          10,
          10,
          10,
          10,
          10,
          10,
          10,
          11,
          11,
          11,
          11,
          11,
          11,
          11,
          11,
          11,
          11,
          11,
          11,
          11,
          11,
          11,
          11,
          11,
          11,
          11,
          11,
          11,
          11,
          11,
          11,
          11
         ],
         "yaxis": "y12"
        },
        {
         "name": "stat_194_raw",
         "showlegend": false,
         "type": "scatter",
         "x": [
          "2020-01-01",
          "2020-01-02",
          "2020-01-03",
          "2020-01-04",
          "2020-01-05",
          "2020-01-06",
          "2020-01-07",
          "2020-01-08",
          "2020-01-09",
          "2020-01-10",
          "2020-01-11",
          "2020-01-12",
          "2020-01-13",
          "2020-01-14",
          "2020-01-15",
          "2020-01-16",
          "2020-01-17",
          "2020-01-18",
          "2020-01-19",
          "2020-01-20",
          "2020-01-21",
          "2020-01-22",
          "2020-01-23",
          "2020-01-24",
          "2020-01-25",
          "2020-01-26",
          "2020-01-27",
          "2020-01-28",
          "2020-01-29",
          "2020-01-30",
          "2020-01-31",
          "2020-02-01",
          "2020-02-02",
          "2020-02-03",
          "2020-02-04",
          "2020-02-05",
          "2020-02-06",
          "2020-02-07",
          "2020-02-08",
          "2020-02-09",
          "2020-02-10",
          "2020-02-11",
          "2020-02-12",
          "2020-02-13",
          "2020-02-14",
          "2020-02-15",
          "2020-02-16",
          "2020-02-17",
          "2020-02-18",
          "2020-02-19",
          "2020-02-20",
          "2020-02-21",
          "2020-02-22",
          "2020-02-23",
          "2020-02-24",
          "2020-02-25",
          "2020-02-26",
          "2020-02-27",
          "2020-02-28",
          "2020-02-29",
          "2020-03-01",
          "2020-03-02",
          "2020-03-03",
          "2020-03-04",
          "2020-03-05",
          "2020-03-06",
          "2020-03-07",
          "2020-03-08",
          "2020-03-09",
          "2020-03-10",
          "2020-03-11",
          "2020-03-12",
          "2020-03-13",
          "2020-03-14",
          "2020-03-15",
          "2020-03-16",
          "2020-03-17",
          "2020-03-18",
          "2020-03-19",
          "2020-03-20",
          "2020-03-21",
          "2020-03-22",
          "2020-03-23",
          "2020-03-24",
          "2020-03-25",
          "2020-03-26",
          "2020-03-27",
          "2020-03-28",
          "2020-03-29",
          "2020-03-30",
          "2020-03-31",
          "2020-04-01",
          "2020-04-02",
          "2020-04-03",
          "2020-04-04",
          "2020-04-05",
          "2020-04-06",
          "2020-04-07",
          "2020-04-08",
          "2020-04-09",
          "2020-04-10",
          "2020-04-11",
          "2020-04-12",
          "2020-04-13",
          "2020-04-14",
          "2020-04-15",
          "2020-04-16",
          "2020-04-17",
          "2020-04-18"
         ],
         "xaxis": "x13",
         "y": [
          25,
          25,
          26,
          26,
          26,
          25,
          25,
          25,
          25,
          25,
          26,
          25,
          25,
          25,
          25,
          25,
          25,
          26,
          26,
          26,
          26,
          26,
          26,
          26,
          26,
          25,
          26,
          25,
          26,
          26,
          26,
          25,
          25,
          25,
          26,
          26,
          27,
          26,
          26,
          27,
          25,
          27,
          27,
          27,
          27,
          26,
          27,
          27,
          27,
          27,
          27,
          26,
          27,
          27,
          27,
          27,
          27,
          26,
          27,
          26,
          27,
          26,
          26,
          26,
          26,
          26,
          27,
          26,
          27,
          27,
          27,
          27,
          27,
          27,
          27,
          27,
          27,
          27,
          27,
          27,
          25,
          27,
          26,
          26,
          27,
          26,
          26,
          26,
          26,
          26,
          26,
          26,
          27,
          26,
          26,
          27,
          26,
          25,
          30,
          30,
          29,
          30,
          30,
          27,
          27,
          27,
          27,
          26,
          27
         ],
         "yaxis": "y13"
        },
        {
         "name": "stat_196_raw",
         "showlegend": false,
         "type": "scatter",
         "x": [
          "2020-01-01",
          "2020-01-02",
          "2020-01-03",
          "2020-01-04",
          "2020-01-05",
          "2020-01-06",
          "2020-01-07",
          "2020-01-08",
          "2020-01-09",
          "2020-01-10",
          "2020-01-11",
          "2020-01-12",
          "2020-01-13",
          "2020-01-14",
          "2020-01-15",
          "2020-01-16",
          "2020-01-17",
          "2020-01-18",
          "2020-01-19",
          "2020-01-20",
          "2020-01-21",
          "2020-01-22",
          "2020-01-23",
          "2020-01-24",
          "2020-01-25",
          "2020-01-26",
          "2020-01-27",
          "2020-01-28",
          "2020-01-29",
          "2020-01-30",
          "2020-01-31",
          "2020-02-01",
          "2020-02-02",
          "2020-02-03",
          "2020-02-04",
          "2020-02-05",
          "2020-02-06",
          "2020-02-07",
          "2020-02-08",
          "2020-02-09",
          "2020-02-10",
          "2020-02-11",
          "2020-02-12",
          "2020-02-13",
          "2020-02-14",
          "2020-02-15",
          "2020-02-16",
          "2020-02-17",
          "2020-02-18",
          "2020-02-19",
          "2020-02-20",
          "2020-02-21",
          "2020-02-22",
          "2020-02-23",
          "2020-02-24",
          "2020-02-25",
          "2020-02-26",
          "2020-02-27",
          "2020-02-28",
          "2020-02-29",
          "2020-03-01",
          "2020-03-02",
          "2020-03-03",
          "2020-03-04",
          "2020-03-05",
          "2020-03-06",
          "2020-03-07",
          "2020-03-08",
          "2020-03-09",
          "2020-03-10",
          "2020-03-11",
          "2020-03-12",
          "2020-03-13",
          "2020-03-14",
          "2020-03-15",
          "2020-03-16",
          "2020-03-17",
          "2020-03-18",
          "2020-03-19",
          "2020-03-20",
          "2020-03-21",
          "2020-03-22",
          "2020-03-23",
          "2020-03-24",
          "2020-03-25",
          "2020-03-26",
          "2020-03-27",
          "2020-03-28",
          "2020-03-29",
          "2020-03-30",
          "2020-03-31",
          "2020-04-01",
          "2020-04-02",
          "2020-04-03",
          "2020-04-04",
          "2020-04-05",
          "2020-04-06",
          "2020-04-07",
          "2020-04-08",
          "2020-04-09",
          "2020-04-10",
          "2020-04-11",
          "2020-04-12",
          "2020-04-13",
          "2020-04-14",
          "2020-04-15",
          "2020-04-16",
          "2020-04-17",
          "2020-04-18"
         ],
         "xaxis": "x14",
         "y": [
          7,
          7,
          7,
          7,
          7,
          7,
          7,
          7,
          7,
          7,
          7,
          7,
          7,
          7,
          7,
          7,
          7,
          7,
          7,
          7,
          7,
          7,
          7,
          7,
          7,
          7,
          7,
          7,
          7,
          7,
          7,
          7,
          7,
          7,
          7,
          7,
          7,
          7,
          7,
          7,
          7,
          7,
          7,
          7,
          7,
          7,
          7,
          7,
          7,
          7,
          7,
          7,
          7,
          7,
          7,
          7,
          7,
          7,
          7,
          7,
          7,
          7,
          7,
          7,
          7,
          7,
          7,
          7,
          7,
          7,
          7,
          7,
          7,
          7,
          7,
          7,
          7,
          7,
          7,
          7,
          7,
          7,
          7,
          7,
          7,
          7,
          7,
          7,
          7,
          7,
          7,
          7,
          7,
          7,
          7,
          7,
          7,
          7,
          7,
          7,
          7,
          8,
          8,
          9,
          10,
          12,
          13,
          13,
          66
         ],
         "yaxis": "y14"
        },
        {
         "name": "stat_197_raw",
         "showlegend": false,
         "type": "scatter",
         "x": [
          "2020-01-01",
          "2020-01-02",
          "2020-01-03",
          "2020-01-04",
          "2020-01-05",
          "2020-01-06",
          "2020-01-07",
          "2020-01-08",
          "2020-01-09",
          "2020-01-10",
          "2020-01-11",
          "2020-01-12",
          "2020-01-13",
          "2020-01-14",
          "2020-01-15",
          "2020-01-16",
          "2020-01-17",
          "2020-01-18",
          "2020-01-19",
          "2020-01-20",
          "2020-01-21",
          "2020-01-22",
          "2020-01-23",
          "2020-01-24",
          "2020-01-25",
          "2020-01-26",
          "2020-01-27",
          "2020-01-28",
          "2020-01-29",
          "2020-01-30",
          "2020-01-31",
          "2020-02-01",
          "2020-02-02",
          "2020-02-03",
          "2020-02-04",
          "2020-02-05",
          "2020-02-06",
          "2020-02-07",
          "2020-02-08",
          "2020-02-09",
          "2020-02-10",
          "2020-02-11",
          "2020-02-12",
          "2020-02-13",
          "2020-02-14",
          "2020-02-15",
          "2020-02-16",
          "2020-02-17",
          "2020-02-18",
          "2020-02-19",
          "2020-02-20",
          "2020-02-21",
          "2020-02-22",
          "2020-02-23",
          "2020-02-24",
          "2020-02-25",
          "2020-02-26",
          "2020-02-27",
          "2020-02-28",
          "2020-02-29",
          "2020-03-01",
          "2020-03-02",
          "2020-03-03",
          "2020-03-04",
          "2020-03-05",
          "2020-03-06",
          "2020-03-07",
          "2020-03-08",
          "2020-03-09",
          "2020-03-10",
          "2020-03-11",
          "2020-03-12",
          "2020-03-13",
          "2020-03-14",
          "2020-03-15",
          "2020-03-16",
          "2020-03-17",
          "2020-03-18",
          "2020-03-19",
          "2020-03-20",
          "2020-03-21",
          "2020-03-22",
          "2020-03-23",
          "2020-03-24",
          "2020-03-25",
          "2020-03-26",
          "2020-03-27",
          "2020-03-28",
          "2020-03-29",
          "2020-03-30",
          "2020-03-31",
          "2020-04-01",
          "2020-04-02",
          "2020-04-03",
          "2020-04-04",
          "2020-04-05",
          "2020-04-06",
          "2020-04-07",
          "2020-04-08",
          "2020-04-09",
          "2020-04-10",
          "2020-04-11",
          "2020-04-12",
          "2020-04-13",
          "2020-04-14",
          "2020-04-15",
          "2020-04-16",
          "2020-04-17",
          "2020-04-18"
         ],
         "xaxis": "x15",
         "y": [
          0,
          0,
          0,
          0,
          0,
          0,
          0,
          0,
          0,
          0,
          0,
          0,
          0,
          0,
          0,
          0,
          0,
          0,
          0,
          0,
          0,
          0,
          0,
          0,
          0,
          0,
          0,
          0,
          0,
          0,
          0,
          0,
          0,
          0,
          0,
          0,
          0,
          0,
          0,
          0,
          0,
          0,
          0,
          0,
          0,
          0,
          0,
          0,
          0,
          0,
          0,
          0,
          0,
          0,
          0,
          0,
          0,
          0,
          0,
          0,
          0,
          0,
          0,
          0,
          0,
          0,
          0,
          0,
          0,
          0,
          0,
          0,
          0,
          0,
          0,
          0,
          0,
          0,
          0,
          0,
          0,
          0,
          0,
          0,
          0,
          0,
          0,
          0,
          0,
          0,
          0,
          0,
          0,
          0,
          0,
          0,
          0,
          0,
          0,
          0,
          0,
          0,
          0,
          0,
          0,
          0,
          0,
          0,
          7
         ],
         "yaxis": "y15"
        }
       ],
       "layout": {
        "template": {
         "data": {
          "bar": [
           {
            "error_x": {
             "color": "#2a3f5f"
            },
            "error_y": {
             "color": "#2a3f5f"
            },
            "marker": {
             "line": {
              "color": "#E5ECF6",
              "width": 0.5
             }
            },
            "type": "bar"
           }
          ],
          "barpolar": [
           {
            "marker": {
             "line": {
              "color": "#E5ECF6",
              "width": 0.5
             }
            },
            "type": "barpolar"
           }
          ],
          "carpet": [
           {
            "aaxis": {
             "endlinecolor": "#2a3f5f",
             "gridcolor": "white",
             "linecolor": "white",
             "minorgridcolor": "white",
             "startlinecolor": "#2a3f5f"
            },
            "baxis": {
             "endlinecolor": "#2a3f5f",
             "gridcolor": "white",
             "linecolor": "white",
             "minorgridcolor": "white",
             "startlinecolor": "#2a3f5f"
            },
            "type": "carpet"
           }
          ],
          "choropleth": [
           {
            "colorbar": {
             "outlinewidth": 0,
             "ticks": ""
            },
            "type": "choropleth"
           }
          ],
          "contour": [
           {
            "colorbar": {
             "outlinewidth": 0,
             "ticks": ""
            },
            "colorscale": [
             [
              0,
              "#0d0887"
             ],
             [
              0.1111111111111111,
              "#46039f"
             ],
             [
              0.2222222222222222,
              "#7201a8"
             ],
             [
              0.3333333333333333,
              "#9c179e"
             ],
             [
              0.4444444444444444,
              "#bd3786"
             ],
             [
              0.5555555555555556,
              "#d8576b"
             ],
             [
              0.6666666666666666,
              "#ed7953"
             ],
             [
              0.7777777777777778,
              "#fb9f3a"
             ],
             [
              0.8888888888888888,
              "#fdca26"
             ],
             [
              1,
              "#f0f921"
             ]
            ],
            "type": "contour"
           }
          ],
          "contourcarpet": [
           {
            "colorbar": {
             "outlinewidth": 0,
             "ticks": ""
            },
            "type": "contourcarpet"
           }
          ],
          "heatmap": [
           {
            "colorbar": {
             "outlinewidth": 0,
             "ticks": ""
            },
            "colorscale": [
             [
              0,
              "#0d0887"
             ],
             [
              0.1111111111111111,
              "#46039f"
             ],
             [
              0.2222222222222222,
              "#7201a8"
             ],
             [
              0.3333333333333333,
              "#9c179e"
             ],
             [
              0.4444444444444444,
              "#bd3786"
             ],
             [
              0.5555555555555556,
              "#d8576b"
             ],
             [
              0.6666666666666666,
              "#ed7953"
             ],
             [
              0.7777777777777778,
              "#fb9f3a"
             ],
             [
              0.8888888888888888,
              "#fdca26"
             ],
             [
              1,
              "#f0f921"
             ]
            ],
            "type": "heatmap"
           }
          ],
          "heatmapgl": [
           {
            "colorbar": {
             "outlinewidth": 0,
             "ticks": ""
            },
            "colorscale": [
             [
              0,
              "#0d0887"
             ],
             [
              0.1111111111111111,
              "#46039f"
             ],
             [
              0.2222222222222222,
              "#7201a8"
             ],
             [
              0.3333333333333333,
              "#9c179e"
             ],
             [
              0.4444444444444444,
              "#bd3786"
             ],
             [
              0.5555555555555556,
              "#d8576b"
             ],
             [
              0.6666666666666666,
              "#ed7953"
             ],
             [
              0.7777777777777778,
              "#fb9f3a"
             ],
             [
              0.8888888888888888,
              "#fdca26"
             ],
             [
              1,
              "#f0f921"
             ]
            ],
            "type": "heatmapgl"
           }
          ],
          "histogram": [
           {
            "marker": {
             "colorbar": {
              "outlinewidth": 0,
              "ticks": ""
             }
            },
            "type": "histogram"
           }
          ],
          "histogram2d": [
           {
            "colorbar": {
             "outlinewidth": 0,
             "ticks": ""
            },
            "colorscale": [
             [
              0,
              "#0d0887"
             ],
             [
              0.1111111111111111,
              "#46039f"
             ],
             [
              0.2222222222222222,
              "#7201a8"
             ],
             [
              0.3333333333333333,
              "#9c179e"
             ],
             [
              0.4444444444444444,
              "#bd3786"
             ],
             [
              0.5555555555555556,
              "#d8576b"
             ],
             [
              0.6666666666666666,
              "#ed7953"
             ],
             [
              0.7777777777777778,
              "#fb9f3a"
             ],
             [
              0.8888888888888888,
              "#fdca26"
             ],
             [
              1,
              "#f0f921"
             ]
            ],
            "type": "histogram2d"
           }
          ],
          "histogram2dcontour": [
           {
            "colorbar": {
             "outlinewidth": 0,
             "ticks": ""
            },
            "colorscale": [
             [
              0,
              "#0d0887"
             ],
             [
              0.1111111111111111,
              "#46039f"
             ],
             [
              0.2222222222222222,
              "#7201a8"
             ],
             [
              0.3333333333333333,
              "#9c179e"
             ],
             [
              0.4444444444444444,
              "#bd3786"
             ],
             [
              0.5555555555555556,
              "#d8576b"
             ],
             [
              0.6666666666666666,
              "#ed7953"
             ],
             [
              0.7777777777777778,
              "#fb9f3a"
             ],
             [
              0.8888888888888888,
              "#fdca26"
             ],
             [
              1,
              "#f0f921"
             ]
            ],
            "type": "histogram2dcontour"
           }
          ],
          "mesh3d": [
           {
            "colorbar": {
             "outlinewidth": 0,
             "ticks": ""
            },
            "type": "mesh3d"
           }
          ],
          "parcoords": [
           {
            "line": {
             "colorbar": {
              "outlinewidth": 0,
              "ticks": ""
             }
            },
            "type": "parcoords"
           }
          ],
          "pie": [
           {
            "automargin": true,
            "type": "pie"
           }
          ],
          "scatter": [
           {
            "marker": {
             "colorbar": {
              "outlinewidth": 0,
              "ticks": ""
             }
            },
            "type": "scatter"
           }
          ],
          "scatter3d": [
           {
            "line": {
             "colorbar": {
              "outlinewidth": 0,
              "ticks": ""
             }
            },
            "marker": {
             "colorbar": {
              "outlinewidth": 0,
              "ticks": ""
             }
            },
            "type": "scatter3d"
           }
          ],
          "scattercarpet": [
           {
            "marker": {
             "colorbar": {
              "outlinewidth": 0,
              "ticks": ""
             }
            },
            "type": "scattercarpet"
           }
          ],
          "scattergeo": [
           {
            "marker": {
             "colorbar": {
              "outlinewidth": 0,
              "ticks": ""
             }
            },
            "type": "scattergeo"
           }
          ],
          "scattergl": [
           {
            "marker": {
             "colorbar": {
              "outlinewidth": 0,
              "ticks": ""
             }
            },
            "type": "scattergl"
           }
          ],
          "scattermapbox": [
           {
            "marker": {
             "colorbar": {
              "outlinewidth": 0,
              "ticks": ""
             }
            },
            "type": "scattermapbox"
           }
          ],
          "scatterpolar": [
           {
            "marker": {
             "colorbar": {
              "outlinewidth": 0,
              "ticks": ""
             }
            },
            "type": "scatterpolar"
           }
          ],
          "scatterpolargl": [
           {
            "marker": {
             "colorbar": {
              "outlinewidth": 0,
              "ticks": ""
             }
            },
            "type": "scatterpolargl"
           }
          ],
          "scatterternary": [
           {
            "marker": {
             "colorbar": {
              "outlinewidth": 0,
              "ticks": ""
             }
            },
            "type": "scatterternary"
           }
          ],
          "surface": [
           {
            "colorbar": {
             "outlinewidth": 0,
             "ticks": ""
            },
            "colorscale": [
             [
              0,
              "#0d0887"
             ],
             [
              0.1111111111111111,
              "#46039f"
             ],
             [
              0.2222222222222222,
              "#7201a8"
             ],
             [
              0.3333333333333333,
              "#9c179e"
             ],
             [
              0.4444444444444444,
              "#bd3786"
             ],
             [
              0.5555555555555556,
              "#d8576b"
             ],
             [
              0.6666666666666666,
              "#ed7953"
             ],
             [
              0.7777777777777778,
              "#fb9f3a"
             ],
             [
              0.8888888888888888,
              "#fdca26"
             ],
             [
              1,
              "#f0f921"
             ]
            ],
            "type": "surface"
           }
          ],
          "table": [
           {
            "cells": {
             "fill": {
              "color": "#EBF0F8"
             },
             "line": {
              "color": "white"
             }
            },
            "header": {
             "fill": {
              "color": "#C8D4E3"
             },
             "line": {
              "color": "white"
             }
            },
            "type": "table"
           }
          ]
         },
         "layout": {
          "annotationdefaults": {
           "arrowcolor": "#2a3f5f",
           "arrowhead": 0,
           "arrowwidth": 1
          },
          "coloraxis": {
           "colorbar": {
            "outlinewidth": 0,
            "ticks": ""
           }
          },
          "colorscale": {
           "diverging": [
            [
             0,
             "#8e0152"
            ],
            [
             0.1,
             "#c51b7d"
            ],
            [
             0.2,
             "#de77ae"
            ],
            [
             0.3,
             "#f1b6da"
            ],
            [
             0.4,
             "#fde0ef"
            ],
            [
             0.5,
             "#f7f7f7"
            ],
            [
             0.6,
             "#e6f5d0"
            ],
            [
             0.7,
             "#b8e186"
            ],
            [
             0.8,
             "#7fbc41"
            ],
            [
             0.9,
             "#4d9221"
            ],
            [
             1,
             "#276419"
            ]
           ],
           "sequential": [
            [
             0,
             "#0d0887"
            ],
            [
             0.1111111111111111,
             "#46039f"
            ],
            [
             0.2222222222222222,
             "#7201a8"
            ],
            [
             0.3333333333333333,
             "#9c179e"
            ],
            [
             0.4444444444444444,
             "#bd3786"
            ],
            [
             0.5555555555555556,
             "#d8576b"
            ],
            [
             0.6666666666666666,
             "#ed7953"
            ],
            [
             0.7777777777777778,
             "#fb9f3a"
            ],
            [
             0.8888888888888888,
             "#fdca26"
            ],
            [
             1,
             "#f0f921"
            ]
           ],
           "sequentialminus": [
            [
             0,
             "#0d0887"
            ],
            [
             0.1111111111111111,
             "#46039f"
            ],
            [
             0.2222222222222222,
             "#7201a8"
            ],
            [
             0.3333333333333333,
             "#9c179e"
            ],
            [
             0.4444444444444444,
             "#bd3786"
            ],
            [
             0.5555555555555556,
             "#d8576b"
            ],
            [
             0.6666666666666666,
             "#ed7953"
            ],
            [
             0.7777777777777778,
             "#fb9f3a"
            ],
            [
             0.8888888888888888,
             "#fdca26"
            ],
            [
             1,
             "#f0f921"
            ]
           ]
          },
          "colorway": [
           "#636efa",
           "#EF553B",
           "#00cc96",
           "#ab63fa",
           "#FFA15A",
           "#19d3f3",
           "#FF6692",
           "#B6E880",
           "#FF97FF",
           "#FECB52"
          ],
          "font": {
           "color": "#2a3f5f"
          },
          "geo": {
           "bgcolor": "white",
           "lakecolor": "white",
           "landcolor": "#E5ECF6",
           "showlakes": true,
           "showland": true,
           "subunitcolor": "white"
          },
          "hoverlabel": {
           "align": "left"
          },
          "hovermode": "closest",
          "mapbox": {
           "style": "light"
          },
          "paper_bgcolor": "white",
          "plot_bgcolor": "#E5ECF6",
          "polar": {
           "angularaxis": {
            "gridcolor": "white",
            "linecolor": "white",
            "ticks": ""
           },
           "bgcolor": "#E5ECF6",
           "radialaxis": {
            "gridcolor": "white",
            "linecolor": "white",
            "ticks": ""
           }
          },
          "scene": {
           "xaxis": {
            "backgroundcolor": "#E5ECF6",
            "gridcolor": "white",
            "gridwidth": 2,
            "linecolor": "white",
            "showbackground": true,
            "ticks": "",
            "zerolinecolor": "white"
           },
           "yaxis": {
            "backgroundcolor": "#E5ECF6",
            "gridcolor": "white",
            "gridwidth": 2,
            "linecolor": "white",
            "showbackground": true,
            "ticks": "",
            "zerolinecolor": "white"
           },
           "zaxis": {
            "backgroundcolor": "#E5ECF6",
            "gridcolor": "white",
            "gridwidth": 2,
            "linecolor": "white",
            "showbackground": true,
            "ticks": "",
            "zerolinecolor": "white"
           }
          },
          "shapedefaults": {
           "line": {
            "color": "#2a3f5f"
           }
          },
          "ternary": {
           "aaxis": {
            "gridcolor": "white",
            "linecolor": "white",
            "ticks": ""
           },
           "baxis": {
            "gridcolor": "white",
            "linecolor": "white",
            "ticks": ""
           },
           "bgcolor": "#E5ECF6",
           "caxis": {
            "gridcolor": "white",
            "linecolor": "white",
            "ticks": ""
           }
          },
          "title": {
           "x": 0.05
          },
          "xaxis": {
           "automargin": true,
           "gridcolor": "white",
           "linecolor": "white",
           "ticks": "",
           "title": {
            "standoff": 15
           },
           "zerolinecolor": "white",
           "zerolinewidth": 2
          },
          "yaxis": {
           "automargin": true,
           "gridcolor": "white",
           "linecolor": "white",
           "ticks": "",
           "title": {
            "standoff": 15
           },
           "zerolinecolor": "white",
           "zerolinewidth": 2
          }
         }
        },
        "xaxis": {
         "anchor": "y",
         "domain": [
          0,
          0.2888888888888889
         ],
         "showticklabels": false
        },
        "xaxis10": {
         "anchor": "y10",
         "domain": [
          0,
          0.2888888888888889
         ],
         "showticklabels": false
        },
        "xaxis11": {
         "anchor": "y11",
         "domain": [
          0.35555555555555557,
          0.6444444444444445
         ],
         "showticklabels": false
        },
        "xaxis12": {
         "anchor": "y12",
         "domain": [
          0.7111111111111111,
          1
         ],
         "showticklabels": false
        },
        "xaxis13": {
         "anchor": "y13",
         "domain": [
          0,
          0.2888888888888889
         ],
         "showticklabels": false
        },
        "xaxis14": {
         "anchor": "y14",
         "domain": [
          0.35555555555555557,
          0.6444444444444445
         ],
         "showticklabels": false
        },
        "xaxis15": {
         "anchor": "y15",
         "domain": [
          0.7111111111111111,
          1
         ],
         "showticklabels": false
        },
        "xaxis2": {
         "anchor": "y2",
         "domain": [
          0.35555555555555557,
          0.6444444444444445
         ],
         "showticklabels": false
        },
        "xaxis3": {
         "anchor": "y3",
         "domain": [
          0.7111111111111111,
          1
         ],
         "showticklabels": false
        },
        "xaxis4": {
         "anchor": "y4",
         "domain": [
          0,
          0.2888888888888889
         ],
         "showticklabels": false
        },
        "xaxis5": {
         "anchor": "y5",
         "domain": [
          0.35555555555555557,
          0.6444444444444445
         ],
         "showticklabels": false
        },
        "xaxis6": {
         "anchor": "y6",
         "domain": [
          0.7111111111111111,
          1
         ],
         "showticklabels": false
        },
        "xaxis7": {
         "anchor": "y7",
         "domain": [
          0,
          0.2888888888888889
         ],
         "showticklabels": false
        },
        "xaxis8": {
         "anchor": "y8",
         "domain": [
          0.35555555555555557,
          0.6444444444444445
         ],
         "showticklabels": false
        },
        "xaxis9": {
         "anchor": "y9",
         "domain": [
          0.7111111111111111,
          1
         ],
         "showticklabels": false
        },
        "yaxis": {
         "anchor": "x",
         "domain": [
          0.848,
          1
         ]
        },
        "yaxis10": {
         "anchor": "x10",
         "domain": [
          0.212,
          0.364
         ]
        },
        "yaxis11": {
         "anchor": "x11",
         "domain": [
          0.212,
          0.364
         ]
        },
        "yaxis12": {
         "anchor": "x12",
         "domain": [
          0.212,
          0.364
         ]
        },
        "yaxis13": {
         "anchor": "x13",
         "domain": [
          0,
          0.152
         ]
        },
        "yaxis14": {
         "anchor": "x14",
         "domain": [
          0,
          0.152
         ]
        },
        "yaxis15": {
         "anchor": "x15",
         "domain": [
          0,
          0.152
         ]
        },
        "yaxis2": {
         "anchor": "x2",
         "domain": [
          0.848,
          1
         ]
        },
        "yaxis3": {
         "anchor": "x3",
         "domain": [
          0.848,
          1
         ]
        },
        "yaxis4": {
         "anchor": "x4",
         "domain": [
          0.6359999999999999,
          0.7879999999999999
         ]
        },
        "yaxis5": {
         "anchor": "x5",
         "domain": [
          0.6359999999999999,
          0.7879999999999999
         ]
        },
        "yaxis6": {
         "anchor": "x6",
         "domain": [
          0.6359999999999999,
          0.7879999999999999
         ]
        },
        "yaxis7": {
         "anchor": "x7",
         "domain": [
          0.424,
          0.576
         ]
        },
        "yaxis8": {
         "anchor": "x8",
         "domain": [
          0.424,
          0.576
         ]
        },
        "yaxis9": {
         "anchor": "x9",
         "domain": [
          0.424,
          0.576
         ]
        }
       }
      }
     },
     "metadata": {},
     "output_type": "display_data"
    }
   ],
   "source": [
    "fig = make_subplots(5,3)\n",
    "xdict = {}\n",
    "for i in range(len(list(sensor.columns)[1:-2])):\n",
    "    col = list(sensor.columns)[i+1]\n",
    "    fig.add_trace(\n",
    "        go.Scatter(name=col, y=sensor[col], x=sensor.date, showlegend=False),\n",
    "        row = i//3 + 1,\n",
    "        col = i%3 + 1\n",
    "    )\n",
    "    xaxis = 'xaxis{}'.format(i+1)\n",
    "    xdict[xaxis]= dict(showticklabels=False)\n",
    "fig.update_layout(xdict)\n",
    "fig.show()"
   ]
  },
  {
   "cell_type": "markdown",
   "metadata": {},
   "source": [
    "Uočavam značajnu aktivnost u posljednjih nekoliko tjedana za indikatore `stat_1/3/5/194/196/197_raw`. Također se vidi porast stanja u ostalim indikatorima u istom vremenskom trenutku (25.3.), odnosno pad u `stat_8_raw`, koji bi prema zadatku trebao biti što viši. Provjeravam popunjenost varijabli na cijelom datasetu:"
   ]
  },
  {
   "cell_type": "code",
   "execution_count": 34,
   "metadata": {},
   "outputs": [
    {
     "data": {
      "text/html": [
       "<div>\n",
       "<style scoped>\n",
       "    .dataframe tbody tr th:only-of-type {\n",
       "        vertical-align: middle;\n",
       "    }\n",
       "\n",
       "    .dataframe tbody tr th {\n",
       "        vertical-align: top;\n",
       "    }\n",
       "\n",
       "    .dataframe thead th {\n",
       "        text-align: right;\n",
       "    }\n",
       "</style>\n",
       "<table border=\"1\" class=\"dataframe\">\n",
       "  <thead>\n",
       "    <tr style=\"text-align: right;\">\n",
       "      <th></th>\n",
       "      <th>stat_1_raw</th>\n",
       "      <th>stat_2_raw</th>\n",
       "      <th>stat_3_raw</th>\n",
       "      <th>stat_4_raw</th>\n",
       "      <th>stat_5_raw</th>\n",
       "      <th>stat_7_raw</th>\n",
       "      <th>stat_8_raw</th>\n",
       "      <th>stat_9_raw</th>\n",
       "      <th>stat_10_raw</th>\n",
       "      <th>stat_11_raw</th>\n",
       "      <th>...</th>\n",
       "      <th>stat_225_raw</th>\n",
       "      <th>stat_226_raw</th>\n",
       "      <th>stat_240_raw</th>\n",
       "      <th>stat_241_raw</th>\n",
       "      <th>stat_242_raw</th>\n",
       "      <th>stat_250_raw</th>\n",
       "      <th>stat_251_raw</th>\n",
       "      <th>stat_252_raw</th>\n",
       "      <th>stat_254_raw</th>\n",
       "      <th>stat_255_raw</th>\n",
       "    </tr>\n",
       "    <tr>\n",
       "      <th>failure</th>\n",
       "      <th></th>\n",
       "      <th></th>\n",
       "      <th></th>\n",
       "      <th></th>\n",
       "      <th></th>\n",
       "      <th></th>\n",
       "      <th></th>\n",
       "      <th></th>\n",
       "      <th></th>\n",
       "      <th></th>\n",
       "      <th></th>\n",
       "      <th></th>\n",
       "      <th></th>\n",
       "      <th></th>\n",
       "      <th></th>\n",
       "      <th></th>\n",
       "      <th></th>\n",
       "      <th></th>\n",
       "      <th></th>\n",
       "      <th></th>\n",
       "      <th></th>\n",
       "    </tr>\n",
       "  </thead>\n",
       "  <tbody>\n",
       "    <tr>\n",
       "      <th>0</th>\n",
       "      <td>99.999791</td>\n",
       "      <td>39.782096</td>\n",
       "      <td>99.999791</td>\n",
       "      <td>99.999791</td>\n",
       "      <td>99.999791</td>\n",
       "      <td>99.999791</td>\n",
       "      <td>39.782142</td>\n",
       "      <td>99.999791</td>\n",
       "      <td>99.999791</td>\n",
       "      <td>4.570605</td>\n",
       "      <td>...</td>\n",
       "      <td>1.07321</td>\n",
       "      <td>0.30225</td>\n",
       "      <td>57.029988</td>\n",
       "      <td>56.631729</td>\n",
       "      <td>56.631729</td>\n",
       "      <td>0.073327</td>\n",
       "      <td>0.073327</td>\n",
       "      <td>0.073327</td>\n",
       "      <td>0.229224</td>\n",
       "      <td>0.0</td>\n",
       "    </tr>\n",
       "  </tbody>\n",
       "</table>\n",
       "<p>1 rows × 45 columns</p>\n",
       "</div>"
      ],
      "text/plain": [
       "         stat_1_raw  stat_2_raw  stat_3_raw  stat_4_raw  stat_5_raw  \\\n",
       "failure                                                               \n",
       "0         99.999791   39.782096   99.999791   99.999791   99.999791   \n",
       "\n",
       "         stat_7_raw  stat_8_raw  stat_9_raw  stat_10_raw  stat_11_raw  ...  \\\n",
       "failure                                                                ...   \n",
       "0         99.999791   39.782142   99.999791    99.999791     4.570605  ...   \n",
       "\n",
       "         stat_225_raw  stat_226_raw  stat_240_raw  stat_241_raw  stat_242_raw  \\\n",
       "failure                                                                         \n",
       "0             1.07321       0.30225     57.029988     56.631729     56.631729   \n",
       "\n",
       "         stat_250_raw  stat_251_raw  stat_252_raw  stat_254_raw  stat_255_raw  \n",
       "failure                                                                        \n",
       "0            0.073327      0.073327      0.073327      0.229224           0.0  \n",
       "\n",
       "[1 rows x 45 columns]"
      ]
     },
     "execution_count": 34,
     "metadata": {},
     "output_type": "execute_result"
    }
   ],
   "source": [
    "df.loc[df.failure==0, :].iloc[:, 4::2].groupby('failure').count().apply(lambda x: x/(10982984-697)*100)"
   ]
  },
  {
   "cell_type": "code",
   "execution_count": 35,
   "metadata": {},
   "outputs": [
    {
     "data": {
      "text/html": [
       "<div>\n",
       "<style scoped>\n",
       "    .dataframe tbody tr th:only-of-type {\n",
       "        vertical-align: middle;\n",
       "    }\n",
       "\n",
       "    .dataframe tbody tr th {\n",
       "        vertical-align: top;\n",
       "    }\n",
       "\n",
       "    .dataframe thead th {\n",
       "        text-align: right;\n",
       "    }\n",
       "</style>\n",
       "<table border=\"1\" class=\"dataframe\">\n",
       "  <thead>\n",
       "    <tr style=\"text-align: right;\">\n",
       "      <th></th>\n",
       "      <th>stat_1_raw</th>\n",
       "      <th>stat_2_raw</th>\n",
       "      <th>stat_3_raw</th>\n",
       "      <th>stat_4_raw</th>\n",
       "      <th>stat_5_raw</th>\n",
       "      <th>stat_7_raw</th>\n",
       "      <th>stat_8_raw</th>\n",
       "      <th>stat_9_raw</th>\n",
       "      <th>stat_10_raw</th>\n",
       "      <th>stat_11_raw</th>\n",
       "      <th>...</th>\n",
       "      <th>stat_225_raw</th>\n",
       "      <th>stat_226_raw</th>\n",
       "      <th>stat_240_raw</th>\n",
       "      <th>stat_241_raw</th>\n",
       "      <th>stat_242_raw</th>\n",
       "      <th>stat_250_raw</th>\n",
       "      <th>stat_251_raw</th>\n",
       "      <th>stat_252_raw</th>\n",
       "      <th>stat_254_raw</th>\n",
       "      <th>stat_255_raw</th>\n",
       "    </tr>\n",
       "    <tr>\n",
       "      <th>failure</th>\n",
       "      <th></th>\n",
       "      <th></th>\n",
       "      <th></th>\n",
       "      <th></th>\n",
       "      <th></th>\n",
       "      <th></th>\n",
       "      <th></th>\n",
       "      <th></th>\n",
       "      <th></th>\n",
       "      <th></th>\n",
       "      <th></th>\n",
       "      <th></th>\n",
       "      <th></th>\n",
       "      <th></th>\n",
       "      <th></th>\n",
       "      <th></th>\n",
       "      <th></th>\n",
       "      <th></th>\n",
       "      <th></th>\n",
       "      <th></th>\n",
       "      <th></th>\n",
       "    </tr>\n",
       "  </thead>\n",
       "  <tbody>\n",
       "    <tr>\n",
       "      <th>1</th>\n",
       "      <td>100.0</td>\n",
       "      <td>14.20373</td>\n",
       "      <td>100.0</td>\n",
       "      <td>100.0</td>\n",
       "      <td>100.0</td>\n",
       "      <td>100.0</td>\n",
       "      <td>14.20373</td>\n",
       "      <td>100.0</td>\n",
       "      <td>100.0</td>\n",
       "      <td>13.342898</td>\n",
       "      <td>...</td>\n",
       "      <td>0.71736</td>\n",
       "      <td>0.143472</td>\n",
       "      <td>73.02726</td>\n",
       "      <td>72.740316</td>\n",
       "      <td>72.740316</td>\n",
       "      <td>9.325681</td>\n",
       "      <td>9.325681</td>\n",
       "      <td>9.325681</td>\n",
       "      <td>10.043042</td>\n",
       "      <td>0.0</td>\n",
       "    </tr>\n",
       "  </tbody>\n",
       "</table>\n",
       "<p>1 rows × 45 columns</p>\n",
       "</div>"
      ],
      "text/plain": [
       "         stat_1_raw  stat_2_raw  stat_3_raw  stat_4_raw  stat_5_raw  \\\n",
       "failure                                                               \n",
       "1             100.0    14.20373       100.0       100.0       100.0   \n",
       "\n",
       "         stat_7_raw  stat_8_raw  stat_9_raw  stat_10_raw  stat_11_raw  ...  \\\n",
       "failure                                                                ...   \n",
       "1             100.0    14.20373       100.0        100.0    13.342898  ...   \n",
       "\n",
       "         stat_225_raw  stat_226_raw  stat_240_raw  stat_241_raw  stat_242_raw  \\\n",
       "failure                                                                         \n",
       "1             0.71736      0.143472      73.02726     72.740316     72.740316   \n",
       "\n",
       "         stat_250_raw  stat_251_raw  stat_252_raw  stat_254_raw  stat_255_raw  \n",
       "failure                                                                        \n",
       "1            9.325681      9.325681      9.325681     10.043042           0.0  \n",
       "\n",
       "[1 rows x 45 columns]"
      ]
     },
     "execution_count": 35,
     "metadata": {},
     "output_type": "execute_result"
    }
   ],
   "source": [
    "df.loc[df.failure==1, :].iloc[:, 4::2].groupby('failure').count().apply(lambda x: x/(697)*100)"
   ]
  },
  {
   "cell_type": "code",
   "execution_count": 37,
   "metadata": {},
   "outputs": [
    {
     "data": {
      "text/html": [
       "<div>\n",
       "<style scoped>\n",
       "    .dataframe tbody tr th:only-of-type {\n",
       "        vertical-align: middle;\n",
       "    }\n",
       "\n",
       "    .dataframe tbody tr th {\n",
       "        vertical-align: top;\n",
       "    }\n",
       "\n",
       "    .dataframe thead th {\n",
       "        text-align: right;\n",
       "    }\n",
       "</style>\n",
       "<table border=\"1\" class=\"dataframe\">\n",
       "  <thead>\n",
       "    <tr style=\"text-align: right;\">\n",
       "      <th></th>\n",
       "      <th>stat_13_raw</th>\n",
       "      <th>stat_15_raw</th>\n",
       "      <th>stat_201_raw</th>\n",
       "      <th>stat_255_raw</th>\n",
       "    </tr>\n",
       "    <tr>\n",
       "      <th>failure</th>\n",
       "      <th></th>\n",
       "      <th></th>\n",
       "      <th></th>\n",
       "      <th></th>\n",
       "    </tr>\n",
       "  </thead>\n",
       "  <tbody>\n",
       "    <tr>\n",
       "      <th>0</th>\n",
       "      <td>5</td>\n",
       "      <td>0</td>\n",
       "      <td>5</td>\n",
       "      <td>0</td>\n",
       "    </tr>\n",
       "    <tr>\n",
       "      <th>1</th>\n",
       "      <td>0</td>\n",
       "      <td>0</td>\n",
       "      <td>0</td>\n",
       "      <td>0</td>\n",
       "    </tr>\n",
       "  </tbody>\n",
       "</table>\n",
       "</div>"
      ],
      "text/plain": [
       "         stat_13_raw  stat_15_raw  stat_201_raw  stat_255_raw\n",
       "failure                                                      \n",
       "0                  5            0             5             0\n",
       "1                  0            0             0             0"
      ]
     },
     "execution_count": 37,
     "metadata": {},
     "output_type": "execute_result"
    }
   ],
   "source": [
    "df.loc[:, ['failure', 'stat_13_raw', 'stat_15_raw', 'stat_201_raw', 'stat_255_raw']].groupby('failure').count()"
   ]
  },
  {
   "cell_type": "markdown",
   "metadata": {},
   "source": [
    "Popunjenost varijabli na \"zdravom\" datasetu je gotovo identična onoj koja je prikazana na podacima jednog dana, što je i za očekivati, s obzirom da je taj dan imao samo jedan kvar. Kod kvarova, doduše, na nekim varijablama vidimo puno veću popunjenost, što znači da su vjerojatno dobri indikatori za predikciju greške. Varijable `stat_13/15/201/255` su i na cijelom datasetu gotovo poptuno prazne."
   ]
  },
  {
   "cell_type": "code",
   "execution_count": 38,
   "metadata": {},
   "outputs": [
    {
     "data": {
      "text/html": [
       "<div>\n",
       "<style scoped>\n",
       "    .dataframe tbody tr th:only-of-type {\n",
       "        vertical-align: middle;\n",
       "    }\n",
       "\n",
       "    .dataframe tbody tr th {\n",
       "        vertical-align: top;\n",
       "    }\n",
       "\n",
       "    .dataframe thead th {\n",
       "        text-align: right;\n",
       "    }\n",
       "</style>\n",
       "<table border=\"1\" class=\"dataframe\">\n",
       "  <thead>\n",
       "    <tr style=\"text-align: right;\">\n",
       "      <th></th>\n",
       "      <th>date</th>\n",
       "      <th>serial_number</th>\n",
       "    </tr>\n",
       "  </thead>\n",
       "  <tbody>\n",
       "    <tr>\n",
       "      <th>38119</th>\n",
       "      <td>2020-01-01</td>\n",
       "      <td>S2CHJR0ZA00093</td>\n",
       "    </tr>\n",
       "    <tr>\n",
       "      <th>95664</th>\n",
       "      <td>2020-01-02</td>\n",
       "      <td>S2CHJR0ZA00093</td>\n",
       "    </tr>\n",
       "    <tr>\n",
       "      <th>153249</th>\n",
       "      <td>2020-01-03</td>\n",
       "      <td>S2CHJR0ZA00093</td>\n",
       "    </tr>\n",
       "    <tr>\n",
       "      <th>210856</th>\n",
       "      <td>2020-01-04</td>\n",
       "      <td>S2CHJR0ZA00093</td>\n",
       "    </tr>\n",
       "    <tr>\n",
       "      <th>268429</th>\n",
       "      <td>2020-01-05</td>\n",
       "      <td>S2CHJR0ZA00093</td>\n",
       "    </tr>\n",
       "  </tbody>\n",
       "</table>\n",
       "</div>"
      ],
      "text/plain": [
       "              date   serial_number\n",
       "38119   2020-01-01  S2CHJR0ZA00093\n",
       "95664   2020-01-02  S2CHJR0ZA00093\n",
       "153249  2020-01-03  S2CHJR0ZA00093\n",
       "210856  2020-01-04  S2CHJR0ZA00093\n",
       "268429  2020-01-05  S2CHJR0ZA00093"
      ]
     },
     "execution_count": 38,
     "metadata": {},
     "output_type": "execute_result"
    }
   ],
   "source": [
    "df.loc[df.stat_201_raw.notna(), ['date', 'serial_number']]"
   ]
  },
  {
   "cell_type": "markdown",
   "metadata": {},
   "source": [
    "Varijabla `stat_201_raw` popunjena je samo za jedan senzor i to 5 puta. U zadatku piše da je prediktivna, no odlučujem ju izbaciti zajedno sa ostalim praznim varijablama.\n",
    "\n",
    "S obzirom da zadatak nalaže predikciju unutar 7 dana prije kvara, potrebno je prilagođavati podatke."
   ]
  },
  {
   "cell_type": "markdown",
   "metadata": {},
   "source": [
    "## Data Preparation\n",
    "Glavni zahtjev zadatka je ostvariti model koji predviđa kvar na senzoru u narednih 7 dana. U tom smislu potrebno je proširiti broj redaka kojima je *failure* = 1 na još 6 prethodnih redaka."
   ]
  },
  {
   "cell_type": "code",
   "execution_count": 39,
   "metadata": {},
   "outputs": [],
   "source": [
    "fails = pd.read_csv('2020_fails.csv', usecols=['type', 'serial_number', 'date'], parse_dates=[0])"
   ]
  },
  {
   "cell_type": "code",
   "execution_count": 40,
   "metadata": {},
   "outputs": [
    {
     "data": {
      "text/html": [
       "<div>\n",
       "<style scoped>\n",
       "    .dataframe tbody tr th:only-of-type {\n",
       "        vertical-align: middle;\n",
       "    }\n",
       "\n",
       "    .dataframe tbody tr th {\n",
       "        vertical-align: top;\n",
       "    }\n",
       "\n",
       "    .dataframe thead th {\n",
       "        text-align: right;\n",
       "    }\n",
       "</style>\n",
       "<table border=\"1\" class=\"dataframe\">\n",
       "  <thead>\n",
       "    <tr style=\"text-align: right;\">\n",
       "      <th></th>\n",
       "      <th>date</th>\n",
       "      <th>serial_number</th>\n",
       "      <th>type</th>\n",
       "      <th>dat_to</th>\n",
       "      <th>dat_from</th>\n",
       "    </tr>\n",
       "  </thead>\n",
       "  <tbody>\n",
       "    <tr>\n",
       "      <th>692</th>\n",
       "      <td>2020-06-22</td>\n",
       "      <td>Z3011WVE</td>\n",
       "      <td>ST4000DM000</td>\n",
       "      <td>2020-06-22</td>\n",
       "      <td>2020-06-16</td>\n",
       "    </tr>\n",
       "    <tr>\n",
       "      <th>693</th>\n",
       "      <td>2020-06-23</td>\n",
       "      <td>MK0311YHGHYWMA</td>\n",
       "      <td>HDS723030ALA640</td>\n",
       "      <td>2020-06-23</td>\n",
       "      <td>2020-06-17</td>\n",
       "    </tr>\n",
       "    <tr>\n",
       "      <th>694</th>\n",
       "      <td>2020-06-23</td>\n",
       "      <td>W300AZSC</td>\n",
       "      <td>ST4000DM000</td>\n",
       "      <td>2020-06-23</td>\n",
       "      <td>2020-06-17</td>\n",
       "    </tr>\n",
       "    <tr>\n",
       "      <th>695</th>\n",
       "      <td>2020-06-23</td>\n",
       "      <td>Z300PMDR</td>\n",
       "      <td>ST4000DM000</td>\n",
       "      <td>2020-06-23</td>\n",
       "      <td>2020-06-17</td>\n",
       "    </tr>\n",
       "    <tr>\n",
       "      <th>696</th>\n",
       "      <td>2020-06-23</td>\n",
       "      <td>Z3057N4A</td>\n",
       "      <td>ST4000DM000</td>\n",
       "      <td>2020-06-23</td>\n",
       "      <td>2020-06-17</td>\n",
       "    </tr>\n",
       "  </tbody>\n",
       "</table>\n",
       "</div>"
      ],
      "text/plain": [
       "          date   serial_number             type     dat_to   dat_from\n",
       "692 2020-06-22        Z3011WVE      ST4000DM000 2020-06-22 2020-06-16\n",
       "693 2020-06-23  MK0311YHGHYWMA  HDS723030ALA640 2020-06-23 2020-06-17\n",
       "694 2020-06-23        W300AZSC      ST4000DM000 2020-06-23 2020-06-17\n",
       "695 2020-06-23        Z300PMDR      ST4000DM000 2020-06-23 2020-06-17\n",
       "696 2020-06-23        Z3057N4A      ST4000DM000 2020-06-23 2020-06-17"
      ]
     },
     "execution_count": 40,
     "metadata": {},
     "output_type": "execute_result"
    }
   ],
   "source": [
    "fails['dat_to'] = fails['date']\n",
    "fails['dat_from'] = fails['date'] - pd.Timedelta(6, unit='D')\n",
    "fails.tail()\n",
    "# fails.loc[:, ['type', 'serial_number', 'dat_from', 'dat_to']].to_csv('2020_fails_periods.csv', index=False)"
   ]
  },
  {
   "cell_type": "markdown",
   "metadata": {},
   "source": [
    "Dobio sam tablicu sa \"prozorom\" od 7 dana prije kvara."
   ]
  },
  {
   "cell_type": "code",
   "execution_count": 6,
   "metadata": {},
   "outputs": [],
   "source": [
    "df = pd.read_csv('2020_all.csv', usecols=['type', 'serial_number', 'date'], parse_dates=[0], index_col='serial_number')"
   ]
  },
  {
   "cell_type": "code",
   "execution_count": 7,
   "metadata": {},
   "outputs": [],
   "source": [
    "fails_periods = pd.read_csv('2020_fails_periods.csv', parse_dates=[2, 3], index_col='serial_number')"
   ]
  },
  {
   "cell_type": "code",
   "execution_count": 8,
   "metadata": {},
   "outputs": [],
   "source": [
    "\n",
    "df_out = df.join(fails_periods, rsuffix='_p')\n"
   ]
  },
  {
   "cell_type": "code",
   "execution_count": 9,
   "metadata": {},
   "outputs": [],
   "source": [
    "df_out['dat_from'].fillna(datetime.datetime(2019,12,31), inplace=True)\n",
    "df_out['dat_to'].fillna(datetime.datetime(2019,12,31), inplace=True)\n",
    "df_out['failure'] = 0\n",
    "df_out.loc[(df_out.date >= df_out.dat_from) & (df_out.date <= df_out.dat_to), 'failure'] = 1\n",
    "df_out.reset_index().loc[:, ['date', 'serial_number', 'type', 'failure']].to_csv('2020_output.csv', index=False)"
   ]
  },
  {
   "cell_type": "markdown",
   "metadata": {},
   "source": [
    "Dodajem proširene prozore dana u target varijablu, koja se zbog spajanja zove `failure_r`.\n",
    "\n",
    "```python\n",
    "import pandas as pd  \n",
    "pd.read_csv('2020_all.csv', index_col=['date', 'serial_number']).join(pd.read_csv('2020_output.csv', index_col=['date', 'serial_number']), rsuffix='_r').reset_index().to_csv('2020_all_output.csv', index=False)\n",
    "```"
   ]
  },
  {
   "cell_type": "code",
   "execution_count": 3,
   "metadata": {},
   "outputs": [],
   "source": [
    "f = pd.read_csv('2020_all_output.csv', usecols=['failure_r'])"
   ]
  },
  {
   "cell_type": "markdown",
   "metadata": {},
   "source": [
    "Proširivanjem redaka koji moraju dati oznaku kvara do 7 dana prije kvara generirano je 4712 redaka sa kvarom, što iznosi 0.04% ukupnog dataseta, što je i dalje neznačajno. Postoji nekoliko metoda koje se mogu koristiti za rješenje ovaj problem, no najprije ću probati segmentirati senzore prema indikatorima. Ovo radim tako da najprije gledam distribucije varijabli po modelima i kvarovima."
   ]
  },
  {
   "cell_type": "code",
   "execution_count": 9,
   "metadata": {},
   "outputs": [],
   "source": [
    "statcols=[\n",
    "   'stat_1_normalized', 'stat_1_raw', 'stat_2_normalized', 'stat_2_raw',\n",
    "   'stat_3_normalized', 'stat_3_raw', 'stat_4_normalized', 'stat_4_raw',\n",
    "   'stat_5_normalized', 'stat_5_raw', 'stat_7_normalized', 'stat_7_raw',\n",
    "   'stat_8_normalized', 'stat_8_raw', 'stat_9_normalized', 'stat_9_raw',\n",
    "   'stat_10_normalized', 'stat_10_raw', 'stat_11_normalized',\n",
    "   'stat_11_raw', 'stat_12_normalized', 'stat_12_raw',\n",
    "   'stat_22_normalized', 'stat_22_raw',\n",
    "   'stat_183_normalized', 'stat_183_raw', 'stat_184_normalized',\n",
    "   'stat_184_raw', 'stat_187_normalized', 'stat_187_raw',\n",
    "   'stat_188_normalized', 'stat_188_raw', 'stat_189_normalized',\n",
    "   'stat_189_raw', 'stat_190_normalized', 'stat_190_raw',\n",
    "   'stat_191_normalized', 'stat_191_raw', 'stat_192_normalized',\n",
    "   'stat_192_raw', 'stat_193_normalized', 'stat_193_raw',\n",
    "   'stat_194_normalized', 'stat_194_raw', 'stat_195_normalized',\n",
    "   'stat_195_raw', 'stat_196_normalized', 'stat_196_raw',\n",
    "   'stat_197_normalized', 'stat_197_raw', 'stat_198_normalized',\n",
    "   'stat_198_raw', 'stat_199_normalized', 'stat_199_raw',\n",
    "   'stat_200_normalized', 'stat_200_raw', 'stat_220_normalized', 'stat_220_raw',\n",
    "   'stat_222_normalized', 'stat_222_raw', 'stat_223_normalized',\n",
    "   'stat_223_raw', 'stat_224_normalized', 'stat_224_raw',\n",
    "   'stat_225_normalized', 'stat_225_raw', 'stat_226_normalized',\n",
    "   'stat_226_raw', 'stat_240_normalized', 'stat_240_raw',\n",
    "   'stat_241_normalized', 'stat_241_raw', 'stat_242_normalized',\n",
    "   'stat_242_raw', 'stat_250_normalized', 'stat_250_raw',\n",
    "   'stat_251_normalized', 'stat_251_raw', 'stat_252_normalized',\n",
    "   'stat_252_raw', 'stat_254_normalized', 'stat_254_raw'\n",
    "]\n",
    "normcols = ['type', 'failure_r']+statcols[0::2]\n",
    "rawcols = ['type', 'failure_r']+statcols[1::2]"
   ]
  },
  {
   "cell_type": "code",
   "execution_count": 9,
   "metadata": {},
   "outputs": [],
   "source": [
    "dfn = pd.read_csv('2020_all_output.csv', usecols=normcols)\n",
    "dfn.groupby(['type', 'failure_r']).agg(func=['std', 'mean']).reset_index().to_csv('calc_model_fail_dist_norm.csv', index=False)\n",
    "dfr = pd.read_csv('2020_all_output.csv', usecols=rawcols)\n",
    "dfr.groupby(['type', 'failure_r']).agg(func=['std', 'mean']).reset_index().to_csv('calc_model_fail_dist_raw.csv', index=False)"
   ]
  },
  {
   "cell_type": "code",
   "execution_count": null,
   "metadata": {},
   "outputs": [],
   "source": []
  },
  {
   "cell_type": "code",
   "execution_count": 4,
   "metadata": {},
   "outputs": [
    {
     "name": "stderr",
     "output_type": "stream",
     "text": [
      "/Users/ndraganic/Code/Python/2020_sensor_data/sensor-env/lib/python3.8/site-packages/numba/np/ufunc/parallel.py:355: NumbaWarning: The TBB threading layer requires TBB version 2019.5 or later i.e., TBB_INTERFACE_VERSION >= 11005. Found TBB_INTERFACE_VERSION = 11000. The TBB threading layer is disabled.\n",
      "  warnings.warn(problem)\n"
     ]
    },
    {
     "data": {
      "application/vnd.plotly.v1+json": {
       "config": {
        "plotlyServerURL": "https://plot.ly"
       },
       "data": [
        {
         "hovertemplate": "<b>%{hovertext}</b><br><br>x=%{x}<br>y=%{y}<br>failure_r=%{marker.color}<extra></extra>",
         "hovertext": [
          "DT01ACA300",
          "DT01ACA300",
          "HD154UI",
          "HDS5C3030ALA630",
          "HDS5C3030ALA630",
          "HDS5C3030BLE630",
          "HDS5C4040ALE630",
          "HDS5C4040ALE630",
          "HDS722020ALA330",
          "HDS722020ALA330",
          "HDS723020BLA642",
          "HDS723030ALA640",
          "HDS723030ALA640",
          "HDS723030BLE640",
          "HDS724040ALE640",
          "HDT725025VLA380",
          "HMS5C4040ALE640",
          "HMS5C4040ALE640",
          "HMS5C4040BLE640",
          "HMS5C4040BLE640",
          "HN",
          "HN",
          "HUH728080ALE600",
          "MD04ABA400V",
          "MD04ABA500V",
          "MD04ABA500V",
          "MQ01ABF050",
          "ST2000VN000",
          "ST250LT007",
          "ST250LT007",
          "ST31500341AS",
          "ST31500541AS",
          "ST3160316AS",
          "ST3160316AS",
          "ST3160318AS",
          "ST3160318AS",
          "ST320LT007",
          "ST320LT007",
          "ST3500320AS",
          "ST4000DM000",
          "ST4000DM000",
          "ST4000DX000",
          "ST4000DX000",
          "ST4000DX002",
          "ST6000DX000",
          "ST6000DX000",
          "ST8000DM002",
          "ST8000DM002",
          "ST9250315AS",
          "ST9250315AS",
          "ST9320325AS",
          "ST9320325AS",
          "WD1001FALS",
          "WD10EACS",
          "WD10EACS",
          "WD10EADS",
          "WD10EADS",
          "WD10EADX",
          "WD10EALS",
          "WD10EARS",
          "WD10EARX",
          "WD15EARS",
          "WD1600AAJB",
          "WD1600AAJB",
          "WD1600AAJS",
          "WD1600AAJS",
          "WD1600BPVT",
          "WD1600BPVT",
          "WD20EFRX",
          "WD20EFRX",
          "WD2500AAJB",
          "WD2500AAJS",
          "WD2500BEVT",
          "WD2500BPVT",
          "WD30EFRX",
          "WD30EFRX",
          "WD3200AAJB",
          "WD3200AAJB",
          "WD3200AAJS",
          "WD3200AAKS",
          "WD3200BEKT",
          "WD3200BEKT",
          "WD3200BEKX",
          "WD3200BEKX",
          "WD3200LPVX",
          "WD40EFRX",
          "WD40EFRX",
          "WD5000BPKT",
          "WD5000LPVX",
          "WD5000LPVX",
          "WD5002ABYS",
          "WD5002ABYS",
          "WD5003ABYX",
          "WD60EFRX",
          "WD60EFRX",
          "WD800AAJB",
          "WD800AAJB",
          "WD800AAJS",
          "WD800AAJS",
          "WD800BB",
          "WD800BB",
          "WD800JB",
          "WD800JB",
          "WD800JD",
          "WD800JD",
          "WD800LB",
          "WD800LB"
         ],
         "legendgroup": "",
         "marker": {
          "color": [
           0,
           1,
           0,
           0,
           1,
           0,
           0,
           1,
           0,
           1,
           0,
           0,
           1,
           0,
           0,
           0,
           0,
           1,
           0,
           1,
           0,
           1,
           0,
           0,
           0,
           1,
           0,
           0,
           0,
           1,
           0,
           0,
           0,
           1,
           0,
           1,
           0,
           1,
           0,
           0,
           1,
           0,
           1,
           0,
           0,
           1,
           0,
           1,
           0,
           1,
           0,
           1,
           0,
           0,
           1,
           0,
           1,
           0,
           0,
           0,
           0,
           0,
           0,
           1,
           0,
           1,
           0,
           1,
           0,
           1,
           0,
           0,
           0,
           0,
           0,
           1,
           0,
           1,
           0,
           0,
           0,
           1,
           0,
           1,
           0,
           0,
           1,
           0,
           0,
           1,
           0,
           1,
           0,
           0,
           1,
           0,
           1,
           0,
           1,
           0,
           1,
           0,
           1,
           0,
           1,
           0,
           1
          ],
          "coloraxis": "coloraxis",
          "symbol": "circle"
         },
         "mode": "markers",
         "name": "",
         "orientation": "v",
         "showlegend": false,
         "type": "scatter",
         "x": [
          3.194281578063965,
          3.5058045387268066,
          18.018312454223633,
          3.8151259422302246,
          3.44126033782959,
          2.488807439804077,
          2.881331443786621,
          2.5882952213287354,
          3.6189703941345215,
          3.5133144855499268,
          3.7233011722564697,
          3.6867873668670654,
          3.0608394145965576,
          2.505620002746582,
          2.9646406173706055,
          3.1479406356811523,
          3.1564972400665283,
          3.247652530670166,
          2.939819097518921,
          2.8129630088806152,
          8.345475196838379,
          8.13084888458252,
          2.6807548999786377,
          2.3416011333465576,
          2.422133445739746,
          2.4671385288238525,
          2.5498218536376953,
          17.80754852294922,
          17.36517906188965,
          17.42539405822754,
          17.84674072265625,
          18.846067428588867,
          18.441160202026367,
          18.20030403137207,
          18.513368606567383,
          18.286460876464844,
          17.30097198486328,
          17.40498924255371,
          17.51906394958496,
          18.904983520507812,
          18.972496032714844,
          18.650169372558594,
          18.71686553955078,
          18.273990631103516,
          18.72756576538086,
          18.22911834716797,
          18.159156799316406,
          17.900270462036133,
          17.6083927154541,
          17.653810501098633,
          17.728017807006836,
          17.843730926513672,
          7.3869547843933105,
          7.097248077392578,
          7.271648406982422,
          7.602280616760254,
          6.899933338165283,
          7.708377838134766,
          8.001338005065918,
          8.037306785583496,
          7.160636901855469,
          7.776988506317139,
          5.695247650146484,
          5.737843036651611,
          5.990016460418701,
          5.944438934326172,
          8.049854278564453,
          8.053633689880371,
          8.644465446472168,
          8.690408706665039,
          8.246184349060059,
          6.046822547912598,
          8.630349159240723,
          7.948937892913818,
          8.039895057678223,
          8.17741584777832,
          8.092595100402832,
          8.523290634155273,
          6.201718807220459,
          9.15131950378418,
          9.027393341064453,
          8.895601272583008,
          8.520097732543945,
          8.359029769897461,
          8.235013008117676,
          8.452239036560059,
          8.49872875213623,
          8.875849723815918,
          8.288331031799316,
          8.363703727722168,
          6.250604629516602,
          7.436000347137451,
          8.159045219421387,
          8.656996726989746,
          8.87221622467041,
          8.8792142868042,
          8.835158348083496,
          6.307044982910156,
          6.409665584564209,
          6.837202072143555,
          6.697694301605225,
          6.23698091506958,
          6.291785717010498,
          7.420247554779053,
          7.3843817710876465,
          6.789288520812988,
          6.670384407043457
         ],
         "xaxis": "x",
         "y": [
          -1.3526304960250854,
          -1.1717032194137573,
          6.578317642211914,
          -0.8136695623397827,
          -0.3441088795661926,
          -1.337077021598816,
          -1.7610163688659668,
          -1.1416685581207275,
          -1.0805658102035522,
          -0.6858131289482117,
          -0.7742513418197632,
          -0.48646724224090576,
          -1.6230769157409668,
          -1.4659936428070068,
          -1.7354601621627808,
          -1.237762212753296,
          -1.533318281173706,
          -0.6497134566307068,
          -1.4439359903335571,
          -1.1722798347473145,
          8.70716381072998,
          8.878460884094238,
          -1.3737812042236328,
          -1.9923346042633057,
          -1.9555171728134155,
          -1.8500181436538696,
          -1.8284000158309937,
          6.327767372131348,
          5.7606329917907715,
          5.800332069396973,
          5.879332542419434,
          6.2135162353515625,
          6.018605709075928,
          6.149651050567627,
          5.643280506134033,
          5.769311428070068,
          5.8969807624816895,
          6.117752552032471,
          6.538871765136719,
          5.846709251403809,
          6.328135013580322,
          6.107168674468994,
          6.3080925941467285,
          6.250102519989014,
          5.887426376342773,
          5.638477802276611,
          5.925257682800293,
          6.054875373840332,
          6.453704833984375,
          6.457364559173584,
          6.245472431182861,
          6.629994869232178,
          10.507476806640625,
          10.456156730651855,
          10.288472175598145,
          11.284597396850586,
          11.105605125427246,
          11.180949211120605,
          10.071126937866211,
          10.680429458618164,
          10.219160079956055,
          9.338768005371094,
          10.722269058227539,
          10.688596725463867,
          11.189107894897461,
          11.185604095458984,
          9.218585014343262,
          9.128890037536621,
          10.937481880187988,
          10.44838809967041,
          9.575608253479004,
          11.051432609558105,
          9.951444625854492,
          8.941507339477539,
          11.29195499420166,
          11.353778839111328,
          9.76369857788086,
          9.21094036102295,
          11.001079559326172,
          9.600187301635742,
          9.428823471069336,
          9.279640197753906,
          11.205849647521973,
          11.312074661254883,
          9.341171264648438,
          10.630931854248047,
          10.124411582946777,
          9.278921127319336,
          10.158088684082031,
          9.518434524536133,
          10.927145957946777,
          9.941749572753906,
          10.293248176574707,
          11.070253372192383,
          10.943940162658691,
          9.894129753112793,
          10.182123184204102,
          10.697150230407715,
          10.7182035446167,
          9.791731834411621,
          9.680509567260742,
          10.251498222351074,
          10.320533752441406,
          9.214405059814453,
          9.188919067382812,
          9.724909782409668,
          9.620723724365234
         ],
         "yaxis": "y"
        }
       ],
       "layout": {
        "coloraxis": {
         "colorbar": {
          "title": {
           "text": "failure_r"
          }
         },
         "colorscale": [
          [
           0,
           "#0d0887"
          ],
          [
           0.1111111111111111,
           "#46039f"
          ],
          [
           0.2222222222222222,
           "#7201a8"
          ],
          [
           0.3333333333333333,
           "#9c179e"
          ],
          [
           0.4444444444444444,
           "#bd3786"
          ],
          [
           0.5555555555555556,
           "#d8576b"
          ],
          [
           0.6666666666666666,
           "#ed7953"
          ],
          [
           0.7777777777777778,
           "#fb9f3a"
          ],
          [
           0.8888888888888888,
           "#fdca26"
          ],
          [
           1,
           "#f0f921"
          ]
         ]
        },
        "legend": {
         "tracegroupgap": 0
        },
        "margin": {
         "t": 60
        },
        "template": {
         "data": {
          "bar": [
           {
            "error_x": {
             "color": "#2a3f5f"
            },
            "error_y": {
             "color": "#2a3f5f"
            },
            "marker": {
             "line": {
              "color": "#E5ECF6",
              "width": 0.5
             }
            },
            "type": "bar"
           }
          ],
          "barpolar": [
           {
            "marker": {
             "line": {
              "color": "#E5ECF6",
              "width": 0.5
             }
            },
            "type": "barpolar"
           }
          ],
          "carpet": [
           {
            "aaxis": {
             "endlinecolor": "#2a3f5f",
             "gridcolor": "white",
             "linecolor": "white",
             "minorgridcolor": "white",
             "startlinecolor": "#2a3f5f"
            },
            "baxis": {
             "endlinecolor": "#2a3f5f",
             "gridcolor": "white",
             "linecolor": "white",
             "minorgridcolor": "white",
             "startlinecolor": "#2a3f5f"
            },
            "type": "carpet"
           }
          ],
          "choropleth": [
           {
            "colorbar": {
             "outlinewidth": 0,
             "ticks": ""
            },
            "type": "choropleth"
           }
          ],
          "contour": [
           {
            "colorbar": {
             "outlinewidth": 0,
             "ticks": ""
            },
            "colorscale": [
             [
              0,
              "#0d0887"
             ],
             [
              0.1111111111111111,
              "#46039f"
             ],
             [
              0.2222222222222222,
              "#7201a8"
             ],
             [
              0.3333333333333333,
              "#9c179e"
             ],
             [
              0.4444444444444444,
              "#bd3786"
             ],
             [
              0.5555555555555556,
              "#d8576b"
             ],
             [
              0.6666666666666666,
              "#ed7953"
             ],
             [
              0.7777777777777778,
              "#fb9f3a"
             ],
             [
              0.8888888888888888,
              "#fdca26"
             ],
             [
              1,
              "#f0f921"
             ]
            ],
            "type": "contour"
           }
          ],
          "contourcarpet": [
           {
            "colorbar": {
             "outlinewidth": 0,
             "ticks": ""
            },
            "type": "contourcarpet"
           }
          ],
          "heatmap": [
           {
            "colorbar": {
             "outlinewidth": 0,
             "ticks": ""
            },
            "colorscale": [
             [
              0,
              "#0d0887"
             ],
             [
              0.1111111111111111,
              "#46039f"
             ],
             [
              0.2222222222222222,
              "#7201a8"
             ],
             [
              0.3333333333333333,
              "#9c179e"
             ],
             [
              0.4444444444444444,
              "#bd3786"
             ],
             [
              0.5555555555555556,
              "#d8576b"
             ],
             [
              0.6666666666666666,
              "#ed7953"
             ],
             [
              0.7777777777777778,
              "#fb9f3a"
             ],
             [
              0.8888888888888888,
              "#fdca26"
             ],
             [
              1,
              "#f0f921"
             ]
            ],
            "type": "heatmap"
           }
          ],
          "heatmapgl": [
           {
            "colorbar": {
             "outlinewidth": 0,
             "ticks": ""
            },
            "colorscale": [
             [
              0,
              "#0d0887"
             ],
             [
              0.1111111111111111,
              "#46039f"
             ],
             [
              0.2222222222222222,
              "#7201a8"
             ],
             [
              0.3333333333333333,
              "#9c179e"
             ],
             [
              0.4444444444444444,
              "#bd3786"
             ],
             [
              0.5555555555555556,
              "#d8576b"
             ],
             [
              0.6666666666666666,
              "#ed7953"
             ],
             [
              0.7777777777777778,
              "#fb9f3a"
             ],
             [
              0.8888888888888888,
              "#fdca26"
             ],
             [
              1,
              "#f0f921"
             ]
            ],
            "type": "heatmapgl"
           }
          ],
          "histogram": [
           {
            "marker": {
             "colorbar": {
              "outlinewidth": 0,
              "ticks": ""
             }
            },
            "type": "histogram"
           }
          ],
          "histogram2d": [
           {
            "colorbar": {
             "outlinewidth": 0,
             "ticks": ""
            },
            "colorscale": [
             [
              0,
              "#0d0887"
             ],
             [
              0.1111111111111111,
              "#46039f"
             ],
             [
              0.2222222222222222,
              "#7201a8"
             ],
             [
              0.3333333333333333,
              "#9c179e"
             ],
             [
              0.4444444444444444,
              "#bd3786"
             ],
             [
              0.5555555555555556,
              "#d8576b"
             ],
             [
              0.6666666666666666,
              "#ed7953"
             ],
             [
              0.7777777777777778,
              "#fb9f3a"
             ],
             [
              0.8888888888888888,
              "#fdca26"
             ],
             [
              1,
              "#f0f921"
             ]
            ],
            "type": "histogram2d"
           }
          ],
          "histogram2dcontour": [
           {
            "colorbar": {
             "outlinewidth": 0,
             "ticks": ""
            },
            "colorscale": [
             [
              0,
              "#0d0887"
             ],
             [
              0.1111111111111111,
              "#46039f"
             ],
             [
              0.2222222222222222,
              "#7201a8"
             ],
             [
              0.3333333333333333,
              "#9c179e"
             ],
             [
              0.4444444444444444,
              "#bd3786"
             ],
             [
              0.5555555555555556,
              "#d8576b"
             ],
             [
              0.6666666666666666,
              "#ed7953"
             ],
             [
              0.7777777777777778,
              "#fb9f3a"
             ],
             [
              0.8888888888888888,
              "#fdca26"
             ],
             [
              1,
              "#f0f921"
             ]
            ],
            "type": "histogram2dcontour"
           }
          ],
          "mesh3d": [
           {
            "colorbar": {
             "outlinewidth": 0,
             "ticks": ""
            },
            "type": "mesh3d"
           }
          ],
          "parcoords": [
           {
            "line": {
             "colorbar": {
              "outlinewidth": 0,
              "ticks": ""
             }
            },
            "type": "parcoords"
           }
          ],
          "pie": [
           {
            "automargin": true,
            "type": "pie"
           }
          ],
          "scatter": [
           {
            "marker": {
             "colorbar": {
              "outlinewidth": 0,
              "ticks": ""
             }
            },
            "type": "scatter"
           }
          ],
          "scatter3d": [
           {
            "line": {
             "colorbar": {
              "outlinewidth": 0,
              "ticks": ""
             }
            },
            "marker": {
             "colorbar": {
              "outlinewidth": 0,
              "ticks": ""
             }
            },
            "type": "scatter3d"
           }
          ],
          "scattercarpet": [
           {
            "marker": {
             "colorbar": {
              "outlinewidth": 0,
              "ticks": ""
             }
            },
            "type": "scattercarpet"
           }
          ],
          "scattergeo": [
           {
            "marker": {
             "colorbar": {
              "outlinewidth": 0,
              "ticks": ""
             }
            },
            "type": "scattergeo"
           }
          ],
          "scattergl": [
           {
            "marker": {
             "colorbar": {
              "outlinewidth": 0,
              "ticks": ""
             }
            },
            "type": "scattergl"
           }
          ],
          "scattermapbox": [
           {
            "marker": {
             "colorbar": {
              "outlinewidth": 0,
              "ticks": ""
             }
            },
            "type": "scattermapbox"
           }
          ],
          "scatterpolar": [
           {
            "marker": {
             "colorbar": {
              "outlinewidth": 0,
              "ticks": ""
             }
            },
            "type": "scatterpolar"
           }
          ],
          "scatterpolargl": [
           {
            "marker": {
             "colorbar": {
              "outlinewidth": 0,
              "ticks": ""
             }
            },
            "type": "scatterpolargl"
           }
          ],
          "scatterternary": [
           {
            "marker": {
             "colorbar": {
              "outlinewidth": 0,
              "ticks": ""
             }
            },
            "type": "scatterternary"
           }
          ],
          "surface": [
           {
            "colorbar": {
             "outlinewidth": 0,
             "ticks": ""
            },
            "colorscale": [
             [
              0,
              "#0d0887"
             ],
             [
              0.1111111111111111,
              "#46039f"
             ],
             [
              0.2222222222222222,
              "#7201a8"
             ],
             [
              0.3333333333333333,
              "#9c179e"
             ],
             [
              0.4444444444444444,
              "#bd3786"
             ],
             [
              0.5555555555555556,
              "#d8576b"
             ],
             [
              0.6666666666666666,
              "#ed7953"
             ],
             [
              0.7777777777777778,
              "#fb9f3a"
             ],
             [
              0.8888888888888888,
              "#fdca26"
             ],
             [
              1,
              "#f0f921"
             ]
            ],
            "type": "surface"
           }
          ],
          "table": [
           {
            "cells": {
             "fill": {
              "color": "#EBF0F8"
             },
             "line": {
              "color": "white"
             }
            },
            "header": {
             "fill": {
              "color": "#C8D4E3"
             },
             "line": {
              "color": "white"
             }
            },
            "type": "table"
           }
          ]
         },
         "layout": {
          "annotationdefaults": {
           "arrowcolor": "#2a3f5f",
           "arrowhead": 0,
           "arrowwidth": 1
          },
          "coloraxis": {
           "colorbar": {
            "outlinewidth": 0,
            "ticks": ""
           }
          },
          "colorscale": {
           "diverging": [
            [
             0,
             "#8e0152"
            ],
            [
             0.1,
             "#c51b7d"
            ],
            [
             0.2,
             "#de77ae"
            ],
            [
             0.3,
             "#f1b6da"
            ],
            [
             0.4,
             "#fde0ef"
            ],
            [
             0.5,
             "#f7f7f7"
            ],
            [
             0.6,
             "#e6f5d0"
            ],
            [
             0.7,
             "#b8e186"
            ],
            [
             0.8,
             "#7fbc41"
            ],
            [
             0.9,
             "#4d9221"
            ],
            [
             1,
             "#276419"
            ]
           ],
           "sequential": [
            [
             0,
             "#0d0887"
            ],
            [
             0.1111111111111111,
             "#46039f"
            ],
            [
             0.2222222222222222,
             "#7201a8"
            ],
            [
             0.3333333333333333,
             "#9c179e"
            ],
            [
             0.4444444444444444,
             "#bd3786"
            ],
            [
             0.5555555555555556,
             "#d8576b"
            ],
            [
             0.6666666666666666,
             "#ed7953"
            ],
            [
             0.7777777777777778,
             "#fb9f3a"
            ],
            [
             0.8888888888888888,
             "#fdca26"
            ],
            [
             1,
             "#f0f921"
            ]
           ],
           "sequentialminus": [
            [
             0,
             "#0d0887"
            ],
            [
             0.1111111111111111,
             "#46039f"
            ],
            [
             0.2222222222222222,
             "#7201a8"
            ],
            [
             0.3333333333333333,
             "#9c179e"
            ],
            [
             0.4444444444444444,
             "#bd3786"
            ],
            [
             0.5555555555555556,
             "#d8576b"
            ],
            [
             0.6666666666666666,
             "#ed7953"
            ],
            [
             0.7777777777777778,
             "#fb9f3a"
            ],
            [
             0.8888888888888888,
             "#fdca26"
            ],
            [
             1,
             "#f0f921"
            ]
           ]
          },
          "colorway": [
           "#636efa",
           "#EF553B",
           "#00cc96",
           "#ab63fa",
           "#FFA15A",
           "#19d3f3",
           "#FF6692",
           "#B6E880",
           "#FF97FF",
           "#FECB52"
          ],
          "font": {
           "color": "#2a3f5f"
          },
          "geo": {
           "bgcolor": "white",
           "lakecolor": "white",
           "landcolor": "#E5ECF6",
           "showlakes": true,
           "showland": true,
           "subunitcolor": "white"
          },
          "hoverlabel": {
           "align": "left"
          },
          "hovermode": "closest",
          "mapbox": {
           "style": "light"
          },
          "paper_bgcolor": "white",
          "plot_bgcolor": "#E5ECF6",
          "polar": {
           "angularaxis": {
            "gridcolor": "white",
            "linecolor": "white",
            "ticks": ""
           },
           "bgcolor": "#E5ECF6",
           "radialaxis": {
            "gridcolor": "white",
            "linecolor": "white",
            "ticks": ""
           }
          },
          "scene": {
           "xaxis": {
            "backgroundcolor": "#E5ECF6",
            "gridcolor": "white",
            "gridwidth": 2,
            "linecolor": "white",
            "showbackground": true,
            "ticks": "",
            "zerolinecolor": "white"
           },
           "yaxis": {
            "backgroundcolor": "#E5ECF6",
            "gridcolor": "white",
            "gridwidth": 2,
            "linecolor": "white",
            "showbackground": true,
            "ticks": "",
            "zerolinecolor": "white"
           },
           "zaxis": {
            "backgroundcolor": "#E5ECF6",
            "gridcolor": "white",
            "gridwidth": 2,
            "linecolor": "white",
            "showbackground": true,
            "ticks": "",
            "zerolinecolor": "white"
           }
          },
          "shapedefaults": {
           "line": {
            "color": "#2a3f5f"
           }
          },
          "ternary": {
           "aaxis": {
            "gridcolor": "white",
            "linecolor": "white",
            "ticks": ""
           },
           "baxis": {
            "gridcolor": "white",
            "linecolor": "white",
            "ticks": ""
           },
           "bgcolor": "#E5ECF6",
           "caxis": {
            "gridcolor": "white",
            "linecolor": "white",
            "ticks": ""
           }
          },
          "title": {
           "x": 0.05
          },
          "xaxis": {
           "automargin": true,
           "gridcolor": "white",
           "linecolor": "white",
           "ticks": "",
           "title": {
            "standoff": 15
           },
           "zerolinecolor": "white",
           "zerolinewidth": 2
          },
          "yaxis": {
           "automargin": true,
           "gridcolor": "white",
           "linecolor": "white",
           "ticks": "",
           "title": {
            "standoff": 15
           },
           "zerolinecolor": "white",
           "zerolinewidth": 2
          }
         }
        },
        "xaxis": {
         "anchor": "y",
         "domain": [
          0,
          1
         ],
         "title": {
          "text": "x"
         }
        },
        "yaxis": {
         "anchor": "x",
         "domain": [
          0,
          1
         ],
         "title": {
          "text": "y"
         }
        }
       }
      }
     },
     "metadata": {},
     "output_type": "display_data"
    }
   ],
   "source": [
    "dfs = pd.read_csv('calc_model_fail_dist_norm.csv', header=[0, 1])\n",
    "dfs.columns = ['type', 'failure_r']+ [i[0]+'_'+i[1] for i in dfs.columns.values][2:]\n",
    "dfs.set_index(['type', 'failure_r'], inplace=True)\n",
    "\n",
    "\n",
    "reducer = umap.UMAP(random_state=42)\n",
    "scaled_dfs = StandardScaler().fit_transform(dfs.iloc[:, 1::1].fillna(0).values)\n",
    "\n",
    "embedding = reducer.fit_transform(scaled_dfs)\n",
    "\n",
    "dfu = pd.DataFrame(embedding)\n",
    "dfu.index = dfs.index\n",
    "dfu.columns = ['x', 'y']\n",
    "px.scatter(dfu.reset_index(), x='x', y='y', color='failure_r', hover_name='type')"
   ]
  },
  {
   "cell_type": "code",
   "execution_count": 5,
   "metadata": {},
   "outputs": [
    {
     "data": {
      "application/vnd.plotly.v1+json": {
       "config": {
        "plotlyServerURL": "https://plot.ly"
       },
       "data": [
        {
         "hovertemplate": "<b>%{hovertext}</b><br><br>x=%{x}<br>y=%{y}<br>failure_r=%{marker.color}<extra></extra>",
         "hovertext": [
          "DT01ACA300",
          "DT01ACA300",
          "HD154UI",
          "HDS5C3030ALA630",
          "HDS5C3030ALA630",
          "HDS5C3030BLE630",
          "HDS5C4040ALE630",
          "HDS5C4040ALE630",
          "HDS722020ALA330",
          "HDS722020ALA330",
          "HDS723020BLA642",
          "HDS723030ALA640",
          "HDS723030ALA640",
          "HDS723030BLE640",
          "HDS724040ALE640",
          "HDT725025VLA380",
          "HMS5C4040ALE640",
          "HMS5C4040ALE640",
          "HMS5C4040BLE640",
          "HMS5C4040BLE640",
          "HN",
          "HN",
          "HUH728080ALE600",
          "MD04ABA400V",
          "MD04ABA500V",
          "MD04ABA500V",
          "MQ01ABF050",
          "ST2000VN000",
          "ST250LT007",
          "ST250LT007",
          "ST31500341AS",
          "ST31500541AS",
          "ST3160316AS",
          "ST3160316AS",
          "ST3160318AS",
          "ST3160318AS",
          "ST320LT007",
          "ST320LT007",
          "ST3500320AS",
          "ST4000DM000",
          "ST4000DM000",
          "ST4000DX000",
          "ST4000DX000",
          "ST4000DX002",
          "ST6000DX000",
          "ST6000DX000",
          "ST8000DM002",
          "ST8000DM002",
          "ST9250315AS",
          "ST9250315AS",
          "ST9320325AS",
          "ST9320325AS",
          "WD1001FALS",
          "WD10EACS",
          "WD10EACS",
          "WD10EADS",
          "WD10EADS",
          "WD10EADX",
          "WD10EALS",
          "WD10EARS",
          "WD10EARX",
          "WD15EARS",
          "WD1600AAJB",
          "WD1600AAJB",
          "WD1600AAJS",
          "WD1600AAJS",
          "WD1600BPVT",
          "WD1600BPVT",
          "WD20EFRX",
          "WD20EFRX",
          "WD2500AAJB",
          "WD2500AAJS",
          "WD2500BEVT",
          "WD2500BPVT",
          "WD30EFRX",
          "WD30EFRX",
          "WD3200AAJB",
          "WD3200AAJB",
          "WD3200AAJS",
          "WD3200AAKS",
          "WD3200BEKT",
          "WD3200BEKT",
          "WD3200BEKX",
          "WD3200BEKX",
          "WD3200LPVX",
          "WD40EFRX",
          "WD40EFRX",
          "WD5000BPKT",
          "WD5000LPVX",
          "WD5000LPVX",
          "WD5002ABYS",
          "WD5002ABYS",
          "WD5003ABYX",
          "WD60EFRX",
          "WD60EFRX",
          "WD800AAJB",
          "WD800AAJB",
          "WD800AAJS",
          "WD800AAJS",
          "WD800BB",
          "WD800BB",
          "WD800JB",
          "WD800JB",
          "WD800JD",
          "WD800JD",
          "WD800LB",
          "WD800LB"
         ],
         "legendgroup": "",
         "marker": {
          "color": [
           0,
           1,
           0,
           0,
           1,
           0,
           0,
           1,
           0,
           1,
           0,
           0,
           1,
           0,
           0,
           0,
           0,
           1,
           0,
           1,
           0,
           1,
           0,
           0,
           0,
           1,
           0,
           0,
           0,
           1,
           0,
           0,
           0,
           1,
           0,
           1,
           0,
           1,
           0,
           0,
           1,
           0,
           1,
           0,
           0,
           1,
           0,
           1,
           0,
           1,
           0,
           1,
           0,
           0,
           1,
           0,
           1,
           0,
           0,
           0,
           0,
           0,
           0,
           1,
           0,
           1,
           0,
           1,
           0,
           1,
           0,
           0,
           0,
           0,
           0,
           1,
           0,
           1,
           0,
           0,
           0,
           1,
           0,
           1,
           0,
           0,
           1,
           0,
           0,
           1,
           0,
           1,
           0,
           0,
           1,
           0,
           1,
           0,
           1,
           0,
           1,
           0,
           1,
           0,
           1,
           0,
           1
          ],
          "coloraxis": "coloraxis",
          "symbol": "circle"
         },
         "mode": "markers",
         "name": "",
         "orientation": "v",
         "showlegend": false,
         "type": "scatter",
         "x": [
          8.166505813598633,
          6.657541751861572,
          12.99043083190918,
          6.780335903167725,
          6.58582067489624,
          7.761185646057129,
          7.581803321838379,
          7.704100608825684,
          6.597194671630859,
          6.549631595611572,
          7.006327152252197,
          6.933525562286377,
          7.9436469078063965,
          7.7947869300842285,
          8.010021209716797,
          7.8305888175964355,
          7.442516326904297,
          7.4720258712768555,
          7.546849727630615,
          7.909663200378418,
          11.124402046203613,
          11.202204704284668,
          8.196525573730469,
          11.69225788116455,
          11.999585151672363,
          11.945527076721191,
          11.861604690551758,
          14.478859901428223,
          14.465099334716797,
          14.386561393737793,
          15.163475036621094,
          15.322062492370605,
          15.544751167297363,
          15.360559463500977,
          15.48208999633789,
          15.16427993774414,
          14.526838302612305,
          14.53510570526123,
          14.018058776855469,
          15.833600044250488,
          15.79145622253418,
          15.705341339111328,
          15.66711139678955,
          15.172872543334961,
          15.420265197753906,
          15.334012031555176,
          15.482348442077637,
          14.741118431091309,
          14.662039756774902,
          14.522093772888184,
          14.763936996459961,
          14.36530590057373,
          12.579272270202637,
          10.969369888305664,
          13.10090160369873,
          10.035126686096191,
          10.030096054077148,
          10.458096504211426,
          12.709404945373535,
          11.082589149475098,
          12.430135726928711,
          12.179533958435059,
          10.716851234436035,
          10.818215370178223,
          10.299698829650879,
          10.749754905700684,
          11.140007019042969,
          12.026576042175293,
          10.220513343811035,
          10.927600860595703,
          12.341174125671387,
          11.182459831237793,
          12.01089859008789,
          11.350897789001465,
          10.044196128845215,
          9.99830150604248,
          11.55832290649414,
          12.036856651306152,
          11.633503913879395,
          12.2319974899292,
          11.904411315917969,
          12.111154556274414,
          10.931987762451172,
          11.053933143615723,
          11.916617393493652,
          10.328083992004395,
          12.69550895690918,
          11.708489418029785,
          10.714679718017578,
          10.827874183654785,
          10.615180969238281,
          12.529133796691895,
          10.445255279541016,
          10.066707611083984,
          10.13712215423584,
          10.424708366394043,
          10.272472381591797,
          12.079974174499512,
          11.787789344787598,
          10.553284645080566,
          10.374285697937012,
          10.781021118164062,
          10.923578262329102,
          13.596927642822266,
          13.399760246276855,
          12.863337516784668,
          13.019386291503906
         ],
         "xaxis": "x",
         "y": [
          6.930848598480225,
          7.488431930541992,
          8.636817932128906,
          7.639684200286865,
          7.725214004516602,
          7.284341812133789,
          6.81611442565918,
          7.527021884918213,
          7.567795276641846,
          7.64949893951416,
          7.701530456542969,
          7.456276893615723,
          7.153324604034424,
          7.3507256507873535,
          7.456742286682129,
          7.218374729156494,
          6.870275974273682,
          7.546412467956543,
          6.753051280975342,
          7.384072303771973,
          8.845598220825195,
          8.783038139343262,
          7.275099754333496,
          9.121627807617188,
          9.354754447937012,
          9.227190971374512,
          8.862632751464844,
          6.769590377807617,
          5.8937201499938965,
          6.071075439453125,
          6.17667293548584,
          6.790076732635498,
          6.550906181335449,
          6.068784713745117,
          6.265269756317139,
          6.485190391540527,
          5.807687282562256,
          5.8612542152404785,
          7.355597496032715,
          7.1378254890441895,
          6.789600849151611,
          6.853993892669678,
          6.3234758377075195,
          6.490776538848877,
          7.070639610290527,
          6.711568832397461,
          6.447098255157471,
          7.038402557373047,
          6.617018699645996,
          6.860347270965576,
          6.649064064025879,
          7.127377510070801,
          9.141834259033203,
          9.355093955993652,
          8.445058822631836,
          9.046329498291016,
          9.264788627624512,
          7.97928524017334,
          9.079241752624512,
          7.866546630859375,
          8.587335586547852,
          8.798255920410156,
          10.10285758972168,
          10.212157249450684,
          10.086161613464355,
          9.544082641601562,
          7.720627784729004,
          8.18266487121582,
          8.414052963256836,
          8.320526123046875,
          9.337440490722656,
          9.533917427062988,
          8.147339820861816,
          7.745704174041748,
          8.279919624328613,
          8.16788101196289,
          9.72159481048584,
          9.728503227233887,
          9.593584060668945,
          7.741668224334717,
          7.5259552001953125,
          7.667153358459473,
          8.8748197555542,
          8.438475608825684,
          8.24400806427002,
          8.090725898742676,
          8.76406192779541,
          7.72938871383667,
          8.730670928955078,
          9.131268501281738,
          8.651941299438477,
          8.75954818725586,
          8.5142822265625,
          8.25960922241211,
          8.230996131896973,
          9.725967407226562,
          9.733991622924805,
          8.45904541015625,
          8.717740058898926,
          9.776037216186523,
          9.85321044921875,
          9.754420280456543,
          9.816323280334473,
          8.050065994262695,
          7.912855625152588,
          8.15863037109375,
          7.974435806274414
         ],
         "yaxis": "y"
        }
       ],
       "layout": {
        "coloraxis": {
         "colorbar": {
          "title": {
           "text": "failure_r"
          }
         },
         "colorscale": [
          [
           0,
           "#0d0887"
          ],
          [
           0.1111111111111111,
           "#46039f"
          ],
          [
           0.2222222222222222,
           "#7201a8"
          ],
          [
           0.3333333333333333,
           "#9c179e"
          ],
          [
           0.4444444444444444,
           "#bd3786"
          ],
          [
           0.5555555555555556,
           "#d8576b"
          ],
          [
           0.6666666666666666,
           "#ed7953"
          ],
          [
           0.7777777777777778,
           "#fb9f3a"
          ],
          [
           0.8888888888888888,
           "#fdca26"
          ],
          [
           1,
           "#f0f921"
          ]
         ]
        },
        "legend": {
         "tracegroupgap": 0
        },
        "margin": {
         "t": 60
        },
        "template": {
         "data": {
          "bar": [
           {
            "error_x": {
             "color": "#2a3f5f"
            },
            "error_y": {
             "color": "#2a3f5f"
            },
            "marker": {
             "line": {
              "color": "#E5ECF6",
              "width": 0.5
             }
            },
            "type": "bar"
           }
          ],
          "barpolar": [
           {
            "marker": {
             "line": {
              "color": "#E5ECF6",
              "width": 0.5
             }
            },
            "type": "barpolar"
           }
          ],
          "carpet": [
           {
            "aaxis": {
             "endlinecolor": "#2a3f5f",
             "gridcolor": "white",
             "linecolor": "white",
             "minorgridcolor": "white",
             "startlinecolor": "#2a3f5f"
            },
            "baxis": {
             "endlinecolor": "#2a3f5f",
             "gridcolor": "white",
             "linecolor": "white",
             "minorgridcolor": "white",
             "startlinecolor": "#2a3f5f"
            },
            "type": "carpet"
           }
          ],
          "choropleth": [
           {
            "colorbar": {
             "outlinewidth": 0,
             "ticks": ""
            },
            "type": "choropleth"
           }
          ],
          "contour": [
           {
            "colorbar": {
             "outlinewidth": 0,
             "ticks": ""
            },
            "colorscale": [
             [
              0,
              "#0d0887"
             ],
             [
              0.1111111111111111,
              "#46039f"
             ],
             [
              0.2222222222222222,
              "#7201a8"
             ],
             [
              0.3333333333333333,
              "#9c179e"
             ],
             [
              0.4444444444444444,
              "#bd3786"
             ],
             [
              0.5555555555555556,
              "#d8576b"
             ],
             [
              0.6666666666666666,
              "#ed7953"
             ],
             [
              0.7777777777777778,
              "#fb9f3a"
             ],
             [
              0.8888888888888888,
              "#fdca26"
             ],
             [
              1,
              "#f0f921"
             ]
            ],
            "type": "contour"
           }
          ],
          "contourcarpet": [
           {
            "colorbar": {
             "outlinewidth": 0,
             "ticks": ""
            },
            "type": "contourcarpet"
           }
          ],
          "heatmap": [
           {
            "colorbar": {
             "outlinewidth": 0,
             "ticks": ""
            },
            "colorscale": [
             [
              0,
              "#0d0887"
             ],
             [
              0.1111111111111111,
              "#46039f"
             ],
             [
              0.2222222222222222,
              "#7201a8"
             ],
             [
              0.3333333333333333,
              "#9c179e"
             ],
             [
              0.4444444444444444,
              "#bd3786"
             ],
             [
              0.5555555555555556,
              "#d8576b"
             ],
             [
              0.6666666666666666,
              "#ed7953"
             ],
             [
              0.7777777777777778,
              "#fb9f3a"
             ],
             [
              0.8888888888888888,
              "#fdca26"
             ],
             [
              1,
              "#f0f921"
             ]
            ],
            "type": "heatmap"
           }
          ],
          "heatmapgl": [
           {
            "colorbar": {
             "outlinewidth": 0,
             "ticks": ""
            },
            "colorscale": [
             [
              0,
              "#0d0887"
             ],
             [
              0.1111111111111111,
              "#46039f"
             ],
             [
              0.2222222222222222,
              "#7201a8"
             ],
             [
              0.3333333333333333,
              "#9c179e"
             ],
             [
              0.4444444444444444,
              "#bd3786"
             ],
             [
              0.5555555555555556,
              "#d8576b"
             ],
             [
              0.6666666666666666,
              "#ed7953"
             ],
             [
              0.7777777777777778,
              "#fb9f3a"
             ],
             [
              0.8888888888888888,
              "#fdca26"
             ],
             [
              1,
              "#f0f921"
             ]
            ],
            "type": "heatmapgl"
           }
          ],
          "histogram": [
           {
            "marker": {
             "colorbar": {
              "outlinewidth": 0,
              "ticks": ""
             }
            },
            "type": "histogram"
           }
          ],
          "histogram2d": [
           {
            "colorbar": {
             "outlinewidth": 0,
             "ticks": ""
            },
            "colorscale": [
             [
              0,
              "#0d0887"
             ],
             [
              0.1111111111111111,
              "#46039f"
             ],
             [
              0.2222222222222222,
              "#7201a8"
             ],
             [
              0.3333333333333333,
              "#9c179e"
             ],
             [
              0.4444444444444444,
              "#bd3786"
             ],
             [
              0.5555555555555556,
              "#d8576b"
             ],
             [
              0.6666666666666666,
              "#ed7953"
             ],
             [
              0.7777777777777778,
              "#fb9f3a"
             ],
             [
              0.8888888888888888,
              "#fdca26"
             ],
             [
              1,
              "#f0f921"
             ]
            ],
            "type": "histogram2d"
           }
          ],
          "histogram2dcontour": [
           {
            "colorbar": {
             "outlinewidth": 0,
             "ticks": ""
            },
            "colorscale": [
             [
              0,
              "#0d0887"
             ],
             [
              0.1111111111111111,
              "#46039f"
             ],
             [
              0.2222222222222222,
              "#7201a8"
             ],
             [
              0.3333333333333333,
              "#9c179e"
             ],
             [
              0.4444444444444444,
              "#bd3786"
             ],
             [
              0.5555555555555556,
              "#d8576b"
             ],
             [
              0.6666666666666666,
              "#ed7953"
             ],
             [
              0.7777777777777778,
              "#fb9f3a"
             ],
             [
              0.8888888888888888,
              "#fdca26"
             ],
             [
              1,
              "#f0f921"
             ]
            ],
            "type": "histogram2dcontour"
           }
          ],
          "mesh3d": [
           {
            "colorbar": {
             "outlinewidth": 0,
             "ticks": ""
            },
            "type": "mesh3d"
           }
          ],
          "parcoords": [
           {
            "line": {
             "colorbar": {
              "outlinewidth": 0,
              "ticks": ""
             }
            },
            "type": "parcoords"
           }
          ],
          "pie": [
           {
            "automargin": true,
            "type": "pie"
           }
          ],
          "scatter": [
           {
            "marker": {
             "colorbar": {
              "outlinewidth": 0,
              "ticks": ""
             }
            },
            "type": "scatter"
           }
          ],
          "scatter3d": [
           {
            "line": {
             "colorbar": {
              "outlinewidth": 0,
              "ticks": ""
             }
            },
            "marker": {
             "colorbar": {
              "outlinewidth": 0,
              "ticks": ""
             }
            },
            "type": "scatter3d"
           }
          ],
          "scattercarpet": [
           {
            "marker": {
             "colorbar": {
              "outlinewidth": 0,
              "ticks": ""
             }
            },
            "type": "scattercarpet"
           }
          ],
          "scattergeo": [
           {
            "marker": {
             "colorbar": {
              "outlinewidth": 0,
              "ticks": ""
             }
            },
            "type": "scattergeo"
           }
          ],
          "scattergl": [
           {
            "marker": {
             "colorbar": {
              "outlinewidth": 0,
              "ticks": ""
             }
            },
            "type": "scattergl"
           }
          ],
          "scattermapbox": [
           {
            "marker": {
             "colorbar": {
              "outlinewidth": 0,
              "ticks": ""
             }
            },
            "type": "scattermapbox"
           }
          ],
          "scatterpolar": [
           {
            "marker": {
             "colorbar": {
              "outlinewidth": 0,
              "ticks": ""
             }
            },
            "type": "scatterpolar"
           }
          ],
          "scatterpolargl": [
           {
            "marker": {
             "colorbar": {
              "outlinewidth": 0,
              "ticks": ""
             }
            },
            "type": "scatterpolargl"
           }
          ],
          "scatterternary": [
           {
            "marker": {
             "colorbar": {
              "outlinewidth": 0,
              "ticks": ""
             }
            },
            "type": "scatterternary"
           }
          ],
          "surface": [
           {
            "colorbar": {
             "outlinewidth": 0,
             "ticks": ""
            },
            "colorscale": [
             [
              0,
              "#0d0887"
             ],
             [
              0.1111111111111111,
              "#46039f"
             ],
             [
              0.2222222222222222,
              "#7201a8"
             ],
             [
              0.3333333333333333,
              "#9c179e"
             ],
             [
              0.4444444444444444,
              "#bd3786"
             ],
             [
              0.5555555555555556,
              "#d8576b"
             ],
             [
              0.6666666666666666,
              "#ed7953"
             ],
             [
              0.7777777777777778,
              "#fb9f3a"
             ],
             [
              0.8888888888888888,
              "#fdca26"
             ],
             [
              1,
              "#f0f921"
             ]
            ],
            "type": "surface"
           }
          ],
          "table": [
           {
            "cells": {
             "fill": {
              "color": "#EBF0F8"
             },
             "line": {
              "color": "white"
             }
            },
            "header": {
             "fill": {
              "color": "#C8D4E3"
             },
             "line": {
              "color": "white"
             }
            },
            "type": "table"
           }
          ]
         },
         "layout": {
          "annotationdefaults": {
           "arrowcolor": "#2a3f5f",
           "arrowhead": 0,
           "arrowwidth": 1
          },
          "coloraxis": {
           "colorbar": {
            "outlinewidth": 0,
            "ticks": ""
           }
          },
          "colorscale": {
           "diverging": [
            [
             0,
             "#8e0152"
            ],
            [
             0.1,
             "#c51b7d"
            ],
            [
             0.2,
             "#de77ae"
            ],
            [
             0.3,
             "#f1b6da"
            ],
            [
             0.4,
             "#fde0ef"
            ],
            [
             0.5,
             "#f7f7f7"
            ],
            [
             0.6,
             "#e6f5d0"
            ],
            [
             0.7,
             "#b8e186"
            ],
            [
             0.8,
             "#7fbc41"
            ],
            [
             0.9,
             "#4d9221"
            ],
            [
             1,
             "#276419"
            ]
           ],
           "sequential": [
            [
             0,
             "#0d0887"
            ],
            [
             0.1111111111111111,
             "#46039f"
            ],
            [
             0.2222222222222222,
             "#7201a8"
            ],
            [
             0.3333333333333333,
             "#9c179e"
            ],
            [
             0.4444444444444444,
             "#bd3786"
            ],
            [
             0.5555555555555556,
             "#d8576b"
            ],
            [
             0.6666666666666666,
             "#ed7953"
            ],
            [
             0.7777777777777778,
             "#fb9f3a"
            ],
            [
             0.8888888888888888,
             "#fdca26"
            ],
            [
             1,
             "#f0f921"
            ]
           ],
           "sequentialminus": [
            [
             0,
             "#0d0887"
            ],
            [
             0.1111111111111111,
             "#46039f"
            ],
            [
             0.2222222222222222,
             "#7201a8"
            ],
            [
             0.3333333333333333,
             "#9c179e"
            ],
            [
             0.4444444444444444,
             "#bd3786"
            ],
            [
             0.5555555555555556,
             "#d8576b"
            ],
            [
             0.6666666666666666,
             "#ed7953"
            ],
            [
             0.7777777777777778,
             "#fb9f3a"
            ],
            [
             0.8888888888888888,
             "#fdca26"
            ],
            [
             1,
             "#f0f921"
            ]
           ]
          },
          "colorway": [
           "#636efa",
           "#EF553B",
           "#00cc96",
           "#ab63fa",
           "#FFA15A",
           "#19d3f3",
           "#FF6692",
           "#B6E880",
           "#FF97FF",
           "#FECB52"
          ],
          "font": {
           "color": "#2a3f5f"
          },
          "geo": {
           "bgcolor": "white",
           "lakecolor": "white",
           "landcolor": "#E5ECF6",
           "showlakes": true,
           "showland": true,
           "subunitcolor": "white"
          },
          "hoverlabel": {
           "align": "left"
          },
          "hovermode": "closest",
          "mapbox": {
           "style": "light"
          },
          "paper_bgcolor": "white",
          "plot_bgcolor": "#E5ECF6",
          "polar": {
           "angularaxis": {
            "gridcolor": "white",
            "linecolor": "white",
            "ticks": ""
           },
           "bgcolor": "#E5ECF6",
           "radialaxis": {
            "gridcolor": "white",
            "linecolor": "white",
            "ticks": ""
           }
          },
          "scene": {
           "xaxis": {
            "backgroundcolor": "#E5ECF6",
            "gridcolor": "white",
            "gridwidth": 2,
            "linecolor": "white",
            "showbackground": true,
            "ticks": "",
            "zerolinecolor": "white"
           },
           "yaxis": {
            "backgroundcolor": "#E5ECF6",
            "gridcolor": "white",
            "gridwidth": 2,
            "linecolor": "white",
            "showbackground": true,
            "ticks": "",
            "zerolinecolor": "white"
           },
           "zaxis": {
            "backgroundcolor": "#E5ECF6",
            "gridcolor": "white",
            "gridwidth": 2,
            "linecolor": "white",
            "showbackground": true,
            "ticks": "",
            "zerolinecolor": "white"
           }
          },
          "shapedefaults": {
           "line": {
            "color": "#2a3f5f"
           }
          },
          "ternary": {
           "aaxis": {
            "gridcolor": "white",
            "linecolor": "white",
            "ticks": ""
           },
           "baxis": {
            "gridcolor": "white",
            "linecolor": "white",
            "ticks": ""
           },
           "bgcolor": "#E5ECF6",
           "caxis": {
            "gridcolor": "white",
            "linecolor": "white",
            "ticks": ""
           }
          },
          "title": {
           "x": 0.05
          },
          "xaxis": {
           "automargin": true,
           "gridcolor": "white",
           "linecolor": "white",
           "ticks": "",
           "title": {
            "standoff": 15
           },
           "zerolinecolor": "white",
           "zerolinewidth": 2
          },
          "yaxis": {
           "automargin": true,
           "gridcolor": "white",
           "linecolor": "white",
           "ticks": "",
           "title": {
            "standoff": 15
           },
           "zerolinecolor": "white",
           "zerolinewidth": 2
          }
         }
        },
        "xaxis": {
         "anchor": "y",
         "domain": [
          0,
          1
         ],
         "title": {
          "text": "x"
         }
        },
        "yaxis": {
         "anchor": "x",
         "domain": [
          0,
          1
         ],
         "title": {
          "text": "y"
         }
        }
       }
      }
     },
     "metadata": {},
     "output_type": "display_data"
    }
   ],
   "source": [
    "dfs = pd.read_csv('calc_model_fail_dist_raw.csv', header=[0, 1])\n",
    "dfs.columns = ['type', 'failure_r']+ [i[0]+'_'+i[1] for i in dfs.columns.values][2:]\n",
    "dfs.set_index(['type', 'failure_r'], inplace=True)\n",
    "\n",
    "\n",
    "reducer = umap.UMAP(random_state=22)\n",
    "scaled_dfs = StandardScaler().fit_transform(dfs.iloc[:, 1::1].fillna(0).values)\n",
    "\n",
    "embedding = reducer.fit_transform(scaled_dfs)\n",
    "\n",
    "dfu = pd.DataFrame(embedding)\n",
    "dfu.index = dfs.index\n",
    "dfu.columns = ['x', 'y']\n",
    "px.scatter(dfu.reset_index(), x='x', y='y', color='failure_r', hover_name='type')"
   ]
  },
  {
   "cell_type": "markdown",
   "metadata": {},
   "source": [
    "Modeli su dosta dobro razdvojeni po x-osi. Uz to se može vidjeti kako su *sirovi* podaci malo raspršeniji. U donjem je grafu prikazano kako su parametri modela grupirani prema grupi modela (proizvođaču) - grupe modela senzora, npr. `WD` ili `ST`, vrlo su dobro grupirane na grafu. "
   ]
  },
  {
   "cell_type": "code",
   "execution_count": 7,
   "metadata": {},
   "outputs": [
    {
     "data": {
      "application/vnd.plotly.v1+json": {
       "config": {
        "plotlyServerURL": "https://plot.ly"
       },
       "data": [
        {
         "hovertemplate": "<b>%{hovertext}</b><br><br>mdl_grp=DT0<br>x=%{x}<br>y=%{y}<extra></extra>",
         "hovertext": [
          "DT01ACA300",
          "DT01ACA300"
         ],
         "legendgroup": "DT0",
         "marker": {
          "color": "OrangeRed",
          "symbol": "circle"
         },
         "mode": "markers",
         "name": "DT0",
         "orientation": "v",
         "showlegend": true,
         "type": "scatter",
         "x": [
          8.166505813598633,
          6.657541751861572
         ],
         "xaxis": "x",
         "y": [
          6.930848598480225,
          7.488431930541992
         ],
         "yaxis": "y"
        },
        {
         "hovertemplate": "<b>%{hovertext}</b><br><br>mdl_grp=HD1<br>x=%{x}<br>y=%{y}<extra></extra>",
         "hovertext": [
          "HD154UI"
         ],
         "legendgroup": "HD1",
         "marker": {
          "color": "PaleVioletRed",
          "symbol": "circle"
         },
         "mode": "markers",
         "name": "HD1",
         "orientation": "v",
         "showlegend": true,
         "type": "scatter",
         "x": [
          12.99043083190918
         ],
         "xaxis": "x",
         "y": [
          8.636817932128906
         ],
         "yaxis": "y"
        },
        {
         "hovertemplate": "<b>%{hovertext}</b><br><br>mdl_grp=HDS5<br>x=%{x}<br>y=%{y}<extra></extra>",
         "hovertext": [
          "HDS5C3030ALA630",
          "HDS5C3030ALA630",
          "HDS5C3030BLE630",
          "HDS5C4040ALE630",
          "HDS5C4040ALE630"
         ],
         "legendgroup": "HDS5",
         "marker": {
          "color": "Fuchsia",
          "symbol": "circle"
         },
         "mode": "markers",
         "name": "HDS5",
         "orientation": "v",
         "showlegend": true,
         "type": "scatter",
         "x": [
          6.780335903167725,
          6.58582067489624,
          7.761185646057129,
          7.581803321838379,
          7.704100608825684
         ],
         "xaxis": "x",
         "y": [
          7.639684200286865,
          7.725214004516602,
          7.284341812133789,
          6.81611442565918,
          7.527021884918213
         ],
         "yaxis": "y"
        },
        {
         "hovertemplate": "<b>%{hovertext}</b><br><br>mdl_grp=HDS7<br>x=%{x}<br>y=%{y}<extra></extra>",
         "hovertext": [
          "HDS722020ALA330",
          "HDS722020ALA330",
          "HDS723020BLA642",
          "HDS723030ALA640",
          "HDS723030ALA640",
          "HDS723030BLE640",
          "HDS724040ALE640"
         ],
         "legendgroup": "HDS7",
         "marker": {
          "color": "Magenta",
          "symbol": "circle"
         },
         "mode": "markers",
         "name": "HDS7",
         "orientation": "v",
         "showlegend": true,
         "type": "scatter",
         "x": [
          6.597194671630859,
          6.549631595611572,
          7.006327152252197,
          6.933525562286377,
          7.9436469078063965,
          7.7947869300842285,
          8.010021209716797
         ],
         "xaxis": "x",
         "y": [
          7.567795276641846,
          7.64949893951416,
          7.701530456542969,
          7.456276893615723,
          7.153324604034424,
          7.3507256507873535,
          7.456742286682129
         ],
         "yaxis": "y"
        },
        {
         "hovertemplate": "<b>%{hovertext}</b><br><br>mdl_grp=HDT7<br>x=%{x}<br>y=%{y}<extra></extra>",
         "hovertext": [
          "HDT725025VLA380"
         ],
         "legendgroup": "HDT7",
         "marker": {
          "color": "DeepPink",
          "symbol": "circle"
         },
         "mode": "markers",
         "name": "HDT7",
         "orientation": "v",
         "showlegend": true,
         "type": "scatter",
         "x": [
          7.8305888175964355
         ],
         "xaxis": "x",
         "y": [
          7.218374729156494
         ],
         "yaxis": "y"
        },
        {
         "hovertemplate": "<b>%{hovertext}</b><br><br>mdl_grp=HMS5<br>x=%{x}<br>y=%{y}<extra></extra>",
         "hovertext": [
          "HMS5C4040ALE640",
          "HMS5C4040ALE640",
          "HMS5C4040BLE640",
          "HMS5C4040BLE640"
         ],
         "legendgroup": "HMS5",
         "marker": {
          "color": "Orchid",
          "symbol": "circle"
         },
         "mode": "markers",
         "name": "HMS5",
         "orientation": "v",
         "showlegend": true,
         "type": "scatter",
         "x": [
          7.442516326904297,
          7.4720258712768555,
          7.546849727630615,
          7.909663200378418
         ],
         "xaxis": "x",
         "y": [
          6.870275974273682,
          7.546412467956543,
          6.753051280975342,
          7.384072303771973
         ],
         "yaxis": "y"
        },
        {
         "hovertemplate": "<b>%{hovertext}</b><br><br>mdl_grp=HN<br>x=%{x}<br>y=%{y}<extra></extra>",
         "hovertext": [
          "HN",
          "HN"
         ],
         "legendgroup": "HN",
         "marker": {
          "color": "Plum",
          "symbol": "circle"
         },
         "mode": "markers",
         "name": "HN",
         "orientation": "v",
         "showlegend": true,
         "type": "scatter",
         "x": [
          11.124402046203613,
          11.202204704284668
         ],
         "xaxis": "x",
         "y": [
          8.845598220825195,
          8.783038139343262
         ],
         "yaxis": "y"
        },
        {
         "hovertemplate": "<b>%{hovertext}</b><br><br>mdl_grp=HUH7<br>x=%{x}<br>y=%{y}<extra></extra>",
         "hovertext": [
          "HUH728080ALE600"
         ],
         "legendgroup": "HUH7",
         "marker": {
          "color": "MediumVioletRed",
          "symbol": "circle"
         },
         "mode": "markers",
         "name": "HUH7",
         "orientation": "v",
         "showlegend": true,
         "type": "scatter",
         "x": [
          8.196525573730469
         ],
         "xaxis": "x",
         "y": [
          7.275099754333496
         ],
         "yaxis": "y"
        },
        {
         "hovertemplate": "<b>%{hovertext}</b><br><br>mdl_grp=MD0<br>x=%{x}<br>y=%{y}<extra></extra>",
         "hovertext": [
          "MD04ABA400V",
          "MD04ABA500V",
          "MD04ABA500V"
         ],
         "legendgroup": "MD0",
         "marker": {
          "color": "Cyan",
          "symbol": "circle"
         },
         "mode": "markers",
         "name": "MD0",
         "orientation": "v",
         "showlegend": true,
         "type": "scatter",
         "x": [
          11.69225788116455,
          11.999585151672363,
          11.945527076721191
         ],
         "xaxis": "x",
         "y": [
          9.121627807617188,
          9.354754447937012,
          9.227190971374512
         ],
         "yaxis": "y"
        },
        {
         "hovertemplate": "<b>%{hovertext}</b><br><br>mdl_grp=MQ0<br>x=%{x}<br>y=%{y}<extra></extra>",
         "hovertext": [
          "MQ01ABF050"
         ],
         "legendgroup": "MQ0",
         "marker": {
          "color": "Aqua",
          "symbol": "circle"
         },
         "mode": "markers",
         "name": "MQ0",
         "orientation": "v",
         "showlegend": true,
         "type": "scatter",
         "x": [
          11.861604690551758
         ],
         "xaxis": "x",
         "y": [
          8.862632751464844
         ],
         "yaxis": "y"
        },
        {
         "hovertemplate": "<b>%{hovertext}</b><br><br>mdl_grp=ST2<br>x=%{x}<br>y=%{y}<extra></extra>",
         "hovertext": [
          "ST2000VN000",
          "ST250LT007",
          "ST250LT007"
         ],
         "legendgroup": "ST2",
         "marker": {
          "color": "DarkGreen",
          "symbol": "circle"
         },
         "mode": "markers",
         "name": "ST2",
         "orientation": "v",
         "showlegend": true,
         "type": "scatter",
         "x": [
          14.478859901428223,
          14.465099334716797,
          14.386561393737793
         ],
         "xaxis": "x",
         "y": [
          6.769590377807617,
          5.8937201499938965,
          6.071075439453125
         ],
         "yaxis": "y"
        },
        {
         "hovertemplate": "<b>%{hovertext}</b><br><br>mdl_grp=ST3<br>x=%{x}<br>y=%{y}<extra></extra>",
         "hovertext": [
          "ST31500341AS",
          "ST31500541AS",
          "ST3160316AS",
          "ST3160316AS",
          "ST3160318AS",
          "ST3160318AS",
          "ST320LT007",
          "ST320LT007",
          "ST3500320AS"
         ],
         "legendgroup": "ST3",
         "marker": {
          "color": "ForestGreen",
          "symbol": "circle"
         },
         "mode": "markers",
         "name": "ST3",
         "orientation": "v",
         "showlegend": true,
         "type": "scatter",
         "x": [
          15.163475036621094,
          15.322062492370605,
          15.544751167297363,
          15.360559463500977,
          15.48208999633789,
          15.16427993774414,
          14.526838302612305,
          14.53510570526123,
          14.018058776855469
         ],
         "xaxis": "x",
         "y": [
          6.17667293548584,
          6.790076732635498,
          6.550906181335449,
          6.068784713745117,
          6.265269756317139,
          6.485190391540527,
          5.807687282562256,
          5.8612542152404785,
          7.355597496032715
         ],
         "yaxis": "y"
        },
        {
         "hovertemplate": "<b>%{hovertext}</b><br><br>mdl_grp=ST4<br>x=%{x}<br>y=%{y}<extra></extra>",
         "hovertext": [
          "ST4000DM000",
          "ST4000DM000",
          "ST4000DX000",
          "ST4000DX000",
          "ST4000DX002"
         ],
         "legendgroup": "ST4",
         "marker": {
          "color": "Green",
          "symbol": "circle"
         },
         "mode": "markers",
         "name": "ST4",
         "orientation": "v",
         "showlegend": true,
         "type": "scatter",
         "x": [
          15.833600044250488,
          15.79145622253418,
          15.705341339111328,
          15.66711139678955,
          15.172872543334961
         ],
         "xaxis": "x",
         "y": [
          7.1378254890441895,
          6.789600849151611,
          6.853993892669678,
          6.3234758377075195,
          6.490776538848877
         ],
         "yaxis": "y"
        },
        {
         "hovertemplate": "<b>%{hovertext}</b><br><br>mdl_grp=ST6<br>x=%{x}<br>y=%{y}<extra></extra>",
         "hovertext": [
          "ST6000DX000",
          "ST6000DX000"
         ],
         "legendgroup": "ST6",
         "marker": {
          "color": "LimeGreen",
          "symbol": "circle"
         },
         "mode": "markers",
         "name": "ST6",
         "orientation": "v",
         "showlegend": true,
         "type": "scatter",
         "x": [
          15.420265197753906,
          15.334012031555176
         ],
         "xaxis": "x",
         "y": [
          7.070639610290527,
          6.711568832397461
         ],
         "yaxis": "y"
        },
        {
         "hovertemplate": "<b>%{hovertext}</b><br><br>mdl_grp=ST8<br>x=%{x}<br>y=%{y}<extra></extra>",
         "hovertext": [
          "ST8000DM002",
          "ST8000DM002"
         ],
         "legendgroup": "ST8",
         "marker": {
          "color": "SeaGreen",
          "symbol": "circle"
         },
         "mode": "markers",
         "name": "ST8",
         "orientation": "v",
         "showlegend": true,
         "type": "scatter",
         "x": [
          15.482348442077637,
          14.741118431091309
         ],
         "xaxis": "x",
         "y": [
          6.447098255157471,
          7.038402557373047
         ],
         "yaxis": "y"
        },
        {
         "hovertemplate": "<b>%{hovertext}</b><br><br>mdl_grp=ST9<br>x=%{x}<br>y=%{y}<extra></extra>",
         "hovertext": [
          "ST9250315AS",
          "ST9250315AS",
          "ST9320325AS",
          "ST9320325AS"
         ],
         "legendgroup": "ST9",
         "marker": {
          "color": "MediumSeaGreen",
          "symbol": "circle"
         },
         "mode": "markers",
         "name": "ST9",
         "orientation": "v",
         "showlegend": true,
         "type": "scatter",
         "x": [
          14.662039756774902,
          14.522093772888184,
          14.763936996459961,
          14.36530590057373
         ],
         "xaxis": "x",
         "y": [
          6.617018699645996,
          6.860347270965576,
          6.649064064025879,
          7.127377510070801
         ],
         "yaxis": "y"
        },
        {
         "hovertemplate": "<b>%{hovertext}</b><br><br>mdl_grp=WD1<br>x=%{x}<br>y=%{y}<extra></extra>",
         "hovertext": [
          "WD1001FALS",
          "WD10EACS",
          "WD10EACS",
          "WD10EADS",
          "WD10EADS",
          "WD10EADX",
          "WD10EALS",
          "WD10EARS",
          "WD10EARX",
          "WD15EARS",
          "WD1600AAJB",
          "WD1600AAJB",
          "WD1600AAJS",
          "WD1600AAJS",
          "WD1600BPVT",
          "WD1600BPVT"
         ],
         "legendgroup": "WD1",
         "marker": {
          "color": "DarkBlue",
          "symbol": "circle"
         },
         "mode": "markers",
         "name": "WD1",
         "orientation": "v",
         "showlegend": true,
         "type": "scatter",
         "x": [
          12.579272270202637,
          10.969369888305664,
          13.10090160369873,
          10.035126686096191,
          10.030096054077148,
          10.458096504211426,
          12.709404945373535,
          11.082589149475098,
          12.430135726928711,
          12.179533958435059,
          10.716851234436035,
          10.818215370178223,
          10.299698829650879,
          10.749754905700684,
          11.140007019042969,
          12.026576042175293
         ],
         "xaxis": "x",
         "y": [
          9.141834259033203,
          9.355093955993652,
          8.445058822631836,
          9.046329498291016,
          9.264788627624512,
          7.97928524017334,
          9.079241752624512,
          7.866546630859375,
          8.587335586547852,
          8.798255920410156,
          10.10285758972168,
          10.212157249450684,
          10.086161613464355,
          9.544082641601562,
          7.720627784729004,
          8.18266487121582
         ],
         "yaxis": "y"
        },
        {
         "hovertemplate": "<b>%{hovertext}</b><br><br>mdl_grp=WD2<br>x=%{x}<br>y=%{y}<extra></extra>",
         "hovertext": [
          "WD20EFRX",
          "WD20EFRX",
          "WD2500AAJB",
          "WD2500AAJS",
          "WD2500BEVT",
          "WD2500BPVT"
         ],
         "legendgroup": "WD2",
         "marker": {
          "color": "MidnightBlue",
          "symbol": "circle"
         },
         "mode": "markers",
         "name": "WD2",
         "orientation": "v",
         "showlegend": true,
         "type": "scatter",
         "x": [
          10.220513343811035,
          10.927600860595703,
          12.341174125671387,
          11.182459831237793,
          12.01089859008789,
          11.350897789001465
         ],
         "xaxis": "x",
         "y": [
          8.414052963256836,
          8.320526123046875,
          9.337440490722656,
          9.533917427062988,
          8.147339820861816,
          7.745704174041748
         ],
         "yaxis": "y"
        },
        {
         "hovertemplate": "<b>%{hovertext}</b><br><br>mdl_grp=WD3<br>x=%{x}<br>y=%{y}<extra></extra>",
         "hovertext": [
          "WD30EFRX",
          "WD30EFRX",
          "WD3200AAJB",
          "WD3200AAJB",
          "WD3200AAJS",
          "WD3200AAKS",
          "WD3200BEKT",
          "WD3200BEKT",
          "WD3200BEKX",
          "WD3200BEKX",
          "WD3200LPVX"
         ],
         "legendgroup": "WD3",
         "marker": {
          "color": "Navy",
          "symbol": "circle"
         },
         "mode": "markers",
         "name": "WD3",
         "orientation": "v",
         "showlegend": true,
         "type": "scatter",
         "x": [
          10.044196128845215,
          9.99830150604248,
          11.55832290649414,
          12.036856651306152,
          11.633503913879395,
          12.2319974899292,
          11.904411315917969,
          12.111154556274414,
          10.931987762451172,
          11.053933143615723,
          11.916617393493652
         ],
         "xaxis": "x",
         "y": [
          8.279919624328613,
          8.16788101196289,
          9.72159481048584,
          9.728503227233887,
          9.593584060668945,
          7.741668224334717,
          7.5259552001953125,
          7.667153358459473,
          8.8748197555542,
          8.438475608825684,
          8.24400806427002
         ],
         "yaxis": "y"
        },
        {
         "hovertemplate": "<b>%{hovertext}</b><br><br>mdl_grp=WD4<br>x=%{x}<br>y=%{y}<extra></extra>",
         "hovertext": [
          "WD40EFRX",
          "WD40EFRX"
         ],
         "legendgroup": "WD4",
         "marker": {
          "color": "MediumBlue",
          "symbol": "circle"
         },
         "mode": "markers",
         "name": "WD4",
         "orientation": "v",
         "showlegend": true,
         "type": "scatter",
         "x": [
          10.328083992004395,
          12.69550895690918
         ],
         "xaxis": "x",
         "y": [
          8.090725898742676,
          8.76406192779541
         ],
         "yaxis": "y"
        },
        {
         "hovertemplate": "<b>%{hovertext}</b><br><br>mdl_grp=WD5<br>x=%{x}<br>y=%{y}<extra></extra>",
         "hovertext": [
          "WD5000BPKT",
          "WD5000LPVX",
          "WD5000LPVX",
          "WD5002ABYS",
          "WD5002ABYS",
          "WD5003ABYX"
         ],
         "legendgroup": "WD5",
         "marker": {
          "color": "DarkSlateBlue",
          "symbol": "circle"
         },
         "mode": "markers",
         "name": "WD5",
         "orientation": "v",
         "showlegend": true,
         "type": "scatter",
         "x": [
          11.708489418029785,
          10.714679718017578,
          10.827874183654785,
          10.615180969238281,
          12.529133796691895,
          10.445255279541016
         ],
         "xaxis": "x",
         "y": [
          7.72938871383667,
          8.730670928955078,
          9.131268501281738,
          8.651941299438477,
          8.75954818725586,
          8.5142822265625
         ],
         "yaxis": "y"
        },
        {
         "hovertemplate": "<b>%{hovertext}</b><br><br>mdl_grp=WD6<br>x=%{x}<br>y=%{y}<extra></extra>",
         "hovertext": [
          "WD60EFRX",
          "WD60EFRX"
         ],
         "legendgroup": "WD6",
         "marker": {
          "color": "Blue",
          "symbol": "circle"
         },
         "mode": "markers",
         "name": "WD6",
         "orientation": "v",
         "showlegend": true,
         "type": "scatter",
         "x": [
          10.066707611083984,
          10.13712215423584
         ],
         "xaxis": "x",
         "y": [
          8.25960922241211,
          8.230996131896973
         ],
         "yaxis": "y"
        },
        {
         "hovertemplate": "<b>%{hovertext}</b><br><br>mdl_grp=WD8<br>x=%{x}<br>y=%{y}<extra></extra>",
         "hovertext": [
          "WD800AAJB",
          "WD800AAJB",
          "WD800AAJS",
          "WD800AAJS",
          "WD800BB",
          "WD800BB",
          "WD800JB",
          "WD800JB",
          "WD800JD",
          "WD800JD",
          "WD800LB",
          "WD800LB"
         ],
         "legendgroup": "WD8",
         "marker": {
          "color": "RoyalBlue",
          "symbol": "circle"
         },
         "mode": "markers",
         "name": "WD8",
         "orientation": "v",
         "showlegend": true,
         "type": "scatter",
         "x": [
          10.424708366394043,
          10.272472381591797,
          12.079974174499512,
          11.787789344787598,
          10.553284645080566,
          10.374285697937012,
          10.781021118164062,
          10.923578262329102,
          13.596927642822266,
          13.399760246276855,
          12.863337516784668,
          13.019386291503906
         ],
         "xaxis": "x",
         "y": [
          9.725967407226562,
          9.733991622924805,
          8.45904541015625,
          8.717740058898926,
          9.776037216186523,
          9.85321044921875,
          9.754420280456543,
          9.816323280334473,
          8.050065994262695,
          7.912855625152588,
          8.15863037109375,
          7.974435806274414
         ],
         "yaxis": "y"
        }
       ],
       "layout": {
        "legend": {
         "title": {
          "text": "mdl_grp"
         },
         "tracegroupgap": 0
        },
        "margin": {
         "t": 60
        },
        "template": {
         "data": {
          "bar": [
           {
            "error_x": {
             "color": "#2a3f5f"
            },
            "error_y": {
             "color": "#2a3f5f"
            },
            "marker": {
             "line": {
              "color": "#E5ECF6",
              "width": 0.5
             }
            },
            "type": "bar"
           }
          ],
          "barpolar": [
           {
            "marker": {
             "line": {
              "color": "#E5ECF6",
              "width": 0.5
             }
            },
            "type": "barpolar"
           }
          ],
          "carpet": [
           {
            "aaxis": {
             "endlinecolor": "#2a3f5f",
             "gridcolor": "white",
             "linecolor": "white",
             "minorgridcolor": "white",
             "startlinecolor": "#2a3f5f"
            },
            "baxis": {
             "endlinecolor": "#2a3f5f",
             "gridcolor": "white",
             "linecolor": "white",
             "minorgridcolor": "white",
             "startlinecolor": "#2a3f5f"
            },
            "type": "carpet"
           }
          ],
          "choropleth": [
           {
            "colorbar": {
             "outlinewidth": 0,
             "ticks": ""
            },
            "type": "choropleth"
           }
          ],
          "contour": [
           {
            "colorbar": {
             "outlinewidth": 0,
             "ticks": ""
            },
            "colorscale": [
             [
              0,
              "#0d0887"
             ],
             [
              0.1111111111111111,
              "#46039f"
             ],
             [
              0.2222222222222222,
              "#7201a8"
             ],
             [
              0.3333333333333333,
              "#9c179e"
             ],
             [
              0.4444444444444444,
              "#bd3786"
             ],
             [
              0.5555555555555556,
              "#d8576b"
             ],
             [
              0.6666666666666666,
              "#ed7953"
             ],
             [
              0.7777777777777778,
              "#fb9f3a"
             ],
             [
              0.8888888888888888,
              "#fdca26"
             ],
             [
              1,
              "#f0f921"
             ]
            ],
            "type": "contour"
           }
          ],
          "contourcarpet": [
           {
            "colorbar": {
             "outlinewidth": 0,
             "ticks": ""
            },
            "type": "contourcarpet"
           }
          ],
          "heatmap": [
           {
            "colorbar": {
             "outlinewidth": 0,
             "ticks": ""
            },
            "colorscale": [
             [
              0,
              "#0d0887"
             ],
             [
              0.1111111111111111,
              "#46039f"
             ],
             [
              0.2222222222222222,
              "#7201a8"
             ],
             [
              0.3333333333333333,
              "#9c179e"
             ],
             [
              0.4444444444444444,
              "#bd3786"
             ],
             [
              0.5555555555555556,
              "#d8576b"
             ],
             [
              0.6666666666666666,
              "#ed7953"
             ],
             [
              0.7777777777777778,
              "#fb9f3a"
             ],
             [
              0.8888888888888888,
              "#fdca26"
             ],
             [
              1,
              "#f0f921"
             ]
            ],
            "type": "heatmap"
           }
          ],
          "heatmapgl": [
           {
            "colorbar": {
             "outlinewidth": 0,
             "ticks": ""
            },
            "colorscale": [
             [
              0,
              "#0d0887"
             ],
             [
              0.1111111111111111,
              "#46039f"
             ],
             [
              0.2222222222222222,
              "#7201a8"
             ],
             [
              0.3333333333333333,
              "#9c179e"
             ],
             [
              0.4444444444444444,
              "#bd3786"
             ],
             [
              0.5555555555555556,
              "#d8576b"
             ],
             [
              0.6666666666666666,
              "#ed7953"
             ],
             [
              0.7777777777777778,
              "#fb9f3a"
             ],
             [
              0.8888888888888888,
              "#fdca26"
             ],
             [
              1,
              "#f0f921"
             ]
            ],
            "type": "heatmapgl"
           }
          ],
          "histogram": [
           {
            "marker": {
             "colorbar": {
              "outlinewidth": 0,
              "ticks": ""
             }
            },
            "type": "histogram"
           }
          ],
          "histogram2d": [
           {
            "colorbar": {
             "outlinewidth": 0,
             "ticks": ""
            },
            "colorscale": [
             [
              0,
              "#0d0887"
             ],
             [
              0.1111111111111111,
              "#46039f"
             ],
             [
              0.2222222222222222,
              "#7201a8"
             ],
             [
              0.3333333333333333,
              "#9c179e"
             ],
             [
              0.4444444444444444,
              "#bd3786"
             ],
             [
              0.5555555555555556,
              "#d8576b"
             ],
             [
              0.6666666666666666,
              "#ed7953"
             ],
             [
              0.7777777777777778,
              "#fb9f3a"
             ],
             [
              0.8888888888888888,
              "#fdca26"
             ],
             [
              1,
              "#f0f921"
             ]
            ],
            "type": "histogram2d"
           }
          ],
          "histogram2dcontour": [
           {
            "colorbar": {
             "outlinewidth": 0,
             "ticks": ""
            },
            "colorscale": [
             [
              0,
              "#0d0887"
             ],
             [
              0.1111111111111111,
              "#46039f"
             ],
             [
              0.2222222222222222,
              "#7201a8"
             ],
             [
              0.3333333333333333,
              "#9c179e"
             ],
             [
              0.4444444444444444,
              "#bd3786"
             ],
             [
              0.5555555555555556,
              "#d8576b"
             ],
             [
              0.6666666666666666,
              "#ed7953"
             ],
             [
              0.7777777777777778,
              "#fb9f3a"
             ],
             [
              0.8888888888888888,
              "#fdca26"
             ],
             [
              1,
              "#f0f921"
             ]
            ],
            "type": "histogram2dcontour"
           }
          ],
          "mesh3d": [
           {
            "colorbar": {
             "outlinewidth": 0,
             "ticks": ""
            },
            "type": "mesh3d"
           }
          ],
          "parcoords": [
           {
            "line": {
             "colorbar": {
              "outlinewidth": 0,
              "ticks": ""
             }
            },
            "type": "parcoords"
           }
          ],
          "pie": [
           {
            "automargin": true,
            "type": "pie"
           }
          ],
          "scatter": [
           {
            "marker": {
             "colorbar": {
              "outlinewidth": 0,
              "ticks": ""
             }
            },
            "type": "scatter"
           }
          ],
          "scatter3d": [
           {
            "line": {
             "colorbar": {
              "outlinewidth": 0,
              "ticks": ""
             }
            },
            "marker": {
             "colorbar": {
              "outlinewidth": 0,
              "ticks": ""
             }
            },
            "type": "scatter3d"
           }
          ],
          "scattercarpet": [
           {
            "marker": {
             "colorbar": {
              "outlinewidth": 0,
              "ticks": ""
             }
            },
            "type": "scattercarpet"
           }
          ],
          "scattergeo": [
           {
            "marker": {
             "colorbar": {
              "outlinewidth": 0,
              "ticks": ""
             }
            },
            "type": "scattergeo"
           }
          ],
          "scattergl": [
           {
            "marker": {
             "colorbar": {
              "outlinewidth": 0,
              "ticks": ""
             }
            },
            "type": "scattergl"
           }
          ],
          "scattermapbox": [
           {
            "marker": {
             "colorbar": {
              "outlinewidth": 0,
              "ticks": ""
             }
            },
            "type": "scattermapbox"
           }
          ],
          "scatterpolar": [
           {
            "marker": {
             "colorbar": {
              "outlinewidth": 0,
              "ticks": ""
             }
            },
            "type": "scatterpolar"
           }
          ],
          "scatterpolargl": [
           {
            "marker": {
             "colorbar": {
              "outlinewidth": 0,
              "ticks": ""
             }
            },
            "type": "scatterpolargl"
           }
          ],
          "scatterternary": [
           {
            "marker": {
             "colorbar": {
              "outlinewidth": 0,
              "ticks": ""
             }
            },
            "type": "scatterternary"
           }
          ],
          "surface": [
           {
            "colorbar": {
             "outlinewidth": 0,
             "ticks": ""
            },
            "colorscale": [
             [
              0,
              "#0d0887"
             ],
             [
              0.1111111111111111,
              "#46039f"
             ],
             [
              0.2222222222222222,
              "#7201a8"
             ],
             [
              0.3333333333333333,
              "#9c179e"
             ],
             [
              0.4444444444444444,
              "#bd3786"
             ],
             [
              0.5555555555555556,
              "#d8576b"
             ],
             [
              0.6666666666666666,
              "#ed7953"
             ],
             [
              0.7777777777777778,
              "#fb9f3a"
             ],
             [
              0.8888888888888888,
              "#fdca26"
             ],
             [
              1,
              "#f0f921"
             ]
            ],
            "type": "surface"
           }
          ],
          "table": [
           {
            "cells": {
             "fill": {
              "color": "#EBF0F8"
             },
             "line": {
              "color": "white"
             }
            },
            "header": {
             "fill": {
              "color": "#C8D4E3"
             },
             "line": {
              "color": "white"
             }
            },
            "type": "table"
           }
          ]
         },
         "layout": {
          "annotationdefaults": {
           "arrowcolor": "#2a3f5f",
           "arrowhead": 0,
           "arrowwidth": 1
          },
          "coloraxis": {
           "colorbar": {
            "outlinewidth": 0,
            "ticks": ""
           }
          },
          "colorscale": {
           "diverging": [
            [
             0,
             "#8e0152"
            ],
            [
             0.1,
             "#c51b7d"
            ],
            [
             0.2,
             "#de77ae"
            ],
            [
             0.3,
             "#f1b6da"
            ],
            [
             0.4,
             "#fde0ef"
            ],
            [
             0.5,
             "#f7f7f7"
            ],
            [
             0.6,
             "#e6f5d0"
            ],
            [
             0.7,
             "#b8e186"
            ],
            [
             0.8,
             "#7fbc41"
            ],
            [
             0.9,
             "#4d9221"
            ],
            [
             1,
             "#276419"
            ]
           ],
           "sequential": [
            [
             0,
             "#0d0887"
            ],
            [
             0.1111111111111111,
             "#46039f"
            ],
            [
             0.2222222222222222,
             "#7201a8"
            ],
            [
             0.3333333333333333,
             "#9c179e"
            ],
            [
             0.4444444444444444,
             "#bd3786"
            ],
            [
             0.5555555555555556,
             "#d8576b"
            ],
            [
             0.6666666666666666,
             "#ed7953"
            ],
            [
             0.7777777777777778,
             "#fb9f3a"
            ],
            [
             0.8888888888888888,
             "#fdca26"
            ],
            [
             1,
             "#f0f921"
            ]
           ],
           "sequentialminus": [
            [
             0,
             "#0d0887"
            ],
            [
             0.1111111111111111,
             "#46039f"
            ],
            [
             0.2222222222222222,
             "#7201a8"
            ],
            [
             0.3333333333333333,
             "#9c179e"
            ],
            [
             0.4444444444444444,
             "#bd3786"
            ],
            [
             0.5555555555555556,
             "#d8576b"
            ],
            [
             0.6666666666666666,
             "#ed7953"
            ],
            [
             0.7777777777777778,
             "#fb9f3a"
            ],
            [
             0.8888888888888888,
             "#fdca26"
            ],
            [
             1,
             "#f0f921"
            ]
           ]
          },
          "colorway": [
           "#636efa",
           "#EF553B",
           "#00cc96",
           "#ab63fa",
           "#FFA15A",
           "#19d3f3",
           "#FF6692",
           "#B6E880",
           "#FF97FF",
           "#FECB52"
          ],
          "font": {
           "color": "#2a3f5f"
          },
          "geo": {
           "bgcolor": "white",
           "lakecolor": "white",
           "landcolor": "#E5ECF6",
           "showlakes": true,
           "showland": true,
           "subunitcolor": "white"
          },
          "hoverlabel": {
           "align": "left"
          },
          "hovermode": "closest",
          "mapbox": {
           "style": "light"
          },
          "paper_bgcolor": "white",
          "plot_bgcolor": "#E5ECF6",
          "polar": {
           "angularaxis": {
            "gridcolor": "white",
            "linecolor": "white",
            "ticks": ""
           },
           "bgcolor": "#E5ECF6",
           "radialaxis": {
            "gridcolor": "white",
            "linecolor": "white",
            "ticks": ""
           }
          },
          "scene": {
           "xaxis": {
            "backgroundcolor": "#E5ECF6",
            "gridcolor": "white",
            "gridwidth": 2,
            "linecolor": "white",
            "showbackground": true,
            "ticks": "",
            "zerolinecolor": "white"
           },
           "yaxis": {
            "backgroundcolor": "#E5ECF6",
            "gridcolor": "white",
            "gridwidth": 2,
            "linecolor": "white",
            "showbackground": true,
            "ticks": "",
            "zerolinecolor": "white"
           },
           "zaxis": {
            "backgroundcolor": "#E5ECF6",
            "gridcolor": "white",
            "gridwidth": 2,
            "linecolor": "white",
            "showbackground": true,
            "ticks": "",
            "zerolinecolor": "white"
           }
          },
          "shapedefaults": {
           "line": {
            "color": "#2a3f5f"
           }
          },
          "ternary": {
           "aaxis": {
            "gridcolor": "white",
            "linecolor": "white",
            "ticks": ""
           },
           "baxis": {
            "gridcolor": "white",
            "linecolor": "white",
            "ticks": ""
           },
           "bgcolor": "#E5ECF6",
           "caxis": {
            "gridcolor": "white",
            "linecolor": "white",
            "ticks": ""
           }
          },
          "title": {
           "x": 0.05
          },
          "xaxis": {
           "automargin": true,
           "gridcolor": "white",
           "linecolor": "white",
           "ticks": "",
           "title": {
            "standoff": 15
           },
           "zerolinecolor": "white",
           "zerolinewidth": 2
          },
          "yaxis": {
           "automargin": true,
           "gridcolor": "white",
           "linecolor": "white",
           "ticks": "",
           "title": {
            "standoff": 15
           },
           "zerolinecolor": "white",
           "zerolinewidth": 2
          }
         }
        },
        "xaxis": {
         "anchor": "y",
         "domain": [
          0,
          1
         ],
         "title": {
          "text": "x"
         }
        },
        "yaxis": {
         "anchor": "x",
         "domain": [
          0,
          1
         ],
         "title": {
          "text": "y"
         }
        }
       }
      }
     },
     "metadata": {},
     "output_type": "display_data"
    }
   ],
   "source": [
    "colormap = dict(\n",
    "    WD1 = 'DarkBlue', WD2 = 'MidnightBlue', WD3 = 'Navy', WD4 = 'MediumBlue', WD5 = 'DarkSlateBlue', WD6 = 'Blue',\n",
    "    WD8 = 'RoyalBlue', ST2 = 'DarkGreen', ST3 = 'ForestGreen', ST4 = 'Green', ST6 = 'LimeGreen', ST8 = 'SeaGreen',\n",
    "    ST9 = 'MediumSeaGreen', HDS5 = 'Fuchsia', HDS7 = 'Magenta', HDT7 = 'DeepPink', HMS5 = 'Orchid', HN = 'Plum',\n",
    "    HD1 = 'PaleVioletRed', HUH7 = 'MediumVioletRed', MD0 = 'Cyan', MQ0 = 'Aqua', DT0 = 'OrangeRed'\n",
    ")\n",
    "pat = r\"^([A-Z]+\\d?).*?$\"\n",
    "repl = lambda m: m.group(1)\n",
    "dfu.reset_index(inplace=True)\n",
    "dfu['mdl_grp'] = dfu['type'].str.replace(pat, repl)\n",
    "px.scatter(dfu, x='x', y='y', color='mdl_grp', color_discrete_map=colormap, hover_name='type')"
   ]
  },
  {
   "cell_type": "markdown",
   "metadata": {},
   "source": [
    "Ovo svojstvo može se iskoristiti kako bi iz UMAP transformacije *sirovih* pokazatelja dobili 4 grupe:\n",
    "```json\n",
    "{\n",
    "    'group1': 'x<=9',\n",
    "    'group2': 'x>9 & x<14 & y<9',\n",
    "    'group3': 'x>9 & x<14 & y>=9',\n",
    "    'group4': 'y>=14'\n",
    "}\n",
    "```"
   ]
  },
  {
   "cell_type": "code",
   "execution_count": 8,
   "metadata": {},
   "outputs": [],
   "source": [
    "dfu['group'] = 'group2'\n",
    "dfu.loc[dfu.x<=9, 'group'] = 'group1'\n",
    "dfu.loc[(dfu.x>9)&(dfu.x<14)&(dfu.y>=9), 'group'] = 'group3'\n",
    "dfu.loc[dfu.x>=14, 'group'] = 'group4'\n",
    "dfu.to_csv('calc_model_group.csv', index=False)\n"
   ]
  },
  {
   "cell_type": "markdown",
   "metadata": {},
   "source": [
    "## Data Sampling\n",
    "S obzirom na disproporcionalnost broja kvarova u odnosu na populaciju, potrebno je napraviti neke *sampling* predradnje prije treniranja modela. Zbog izrazite disproporcionalnosti, klasične metode *oversamplinga* i *undersamplinga* su isključene. Odabrana je tehnika SMOTE koja radi interpolaciju manjinjskih uzoraka na temelju KNN, a nju ćemo raditi posebno za svaku od grupa modela."
   ]
  },
  {
   "cell_type": "code",
   "execution_count": 16,
   "metadata": {},
   "outputs": [],
   "source": [
    "import pandas as pd\n",
    "dfu = pd.read_csv('calc_model_group.csv')\n",
    "smote = SMOTE(random_state=42)\n",
    "rawcols.append('serial_number')\n",
    "\n",
    "# Sampling by groups\n",
    "for grp in dfu.group.unique():\n",
    "    types = []\n",
    "    for t in list(dfu.loc[(dfu['group']==grp), 'type'].values):\n",
    "        types.append(t)\n",
    "    df = pd.read_csv('2020_all_output.csv', usecols=rawcols).query('type in @types')\n",
    "    cols = df.columns\n",
    "    df.to_csv('2020_{}_all.csv'.format(grp), index=False)\n",
    "    df_x = np.array(df.iloc[:, 2:-1].fillna(0).values)\n",
    "    df_y = np.array(df.iloc[:, [-1]].values)\n",
    "    df_x_rs, df_y_rs = smote.fit_resample(df_x, df_y)\n",
    "    pd.DataFrame(df_x_rs, columns=cols[2:-1]).to_csv('2020_{}_inp_rs.csv'.format(grp), index=False)\n",
    "    pd.DataFrame(df_y_rs, columns=['failure']).to_csv('2020_{}_out_rs.csv'.format(grp), index=False)\n"
   ]
  },
  {
   "cell_type": "markdown",
   "metadata": {},
   "source": [
    "## Model Training\n",
    "Na redu je treniranje modela, pri čemu koristim `XGBoost`. S obzirom na veličinu ovih *resampleanih* podataka, trenirat ću jedan po jedan model po grupi. Ideja je da bi model koji radi na grupi trebao davati bolje performanse nego onaj nad cijelim datasetom."
   ]
  },
  {
   "cell_type": "markdown",
   "metadata": {},
   "source": [
    "### Modeling group1"
   ]
  },
  {
   "cell_type": "code",
   "execution_count": 17,
   "metadata": {},
   "outputs": [],
   "source": [
    "df_x_rs = pd.read_csv('2020_group1_inp_rs.csv').values\n",
    "df_y_rs = pd.read_csv('2020_group1_out_rs.csv').values"
   ]
  },
  {
   "cell_type": "code",
   "execution_count": 18,
   "metadata": {},
   "outputs": [],
   "source": [
    "x_train, x_test, y_train, y_test = train_test_split(df_x_rs, df_y_rs, test_size=0.4, random_state=112)"
   ]
  },
  {
   "cell_type": "code",
   "execution_count": 19,
   "metadata": {},
   "outputs": [],
   "source": [
    "dtrain = xgb.DMatrix(x_train, label=y_train)\n",
    "dtest = xgb.DMatrix(x_test, label=y_test)"
   ]
  },
  {
   "cell_type": "code",
   "execution_count": 20,
   "metadata": {},
   "outputs": [],
   "source": [
    "param = {\n",
    "    'max_depth': 4, \n",
    "    'eta': 0.3, \n",
    "    'objective': 'binary:hinge',\n",
    "    'nthread': 4,\n",
    "    'eval_metric': 'auc'\n",
    "}\n",
    "\n",
    "evallist = [(dtest, 'eval'), (dtrain, 'train')]\n",
    "\n",
    "epochs = 10"
   ]
  },
  {
   "cell_type": "code",
   "execution_count": 21,
   "metadata": {
    "tags": []
   },
   "outputs": [
    {
     "name": "stdout",
     "output_type": "stream",
     "text": [
      "[22:25:36] WARNING: /Users/travis/build/dmlc/xgboost/src/gbm/gbtree.cc:139: Tree method is automatically selected to be 'approx' for faster speed. To use old behavior (exact greedy algorithm on single machine), set tree_method to 'exact'.\n",
      "[0]\teval-error:0.50021\teval-auc:0.50000\ttrain-error:0.49986\ttrain-auc:0.50000\n",
      "[1]\teval-error:0.49977\teval-auc:0.50044\ttrain-error:0.49942\ttrain-auc:0.50044\n",
      "[2]\teval-error:0.14298\teval-auc:0.85703\ttrain-error:0.14282\ttrain-auc:0.85716\n",
      "[3]\teval-error:0.13586\teval-auc:0.86414\ttrain-error:0.13585\ttrain-auc:0.86415\n",
      "[4]\teval-error:0.12768\teval-auc:0.87230\ttrain-error:0.12769\ttrain-auc:0.87232\n",
      "[5]\teval-error:0.12309\teval-auc:0.87690\ttrain-error:0.12314\ttrain-auc:0.87687\n",
      "[6]\teval-error:0.12198\teval-auc:0.87801\ttrain-error:0.12202\ttrain-auc:0.87799\n",
      "[7]\teval-error:0.12211\teval-auc:0.87788\ttrain-error:0.12215\ttrain-auc:0.87786\n",
      "[8]\teval-error:0.11421\teval-auc:0.88577\ttrain-error:0.11431\ttrain-auc:0.88570\n",
      "[9]\teval-error:0.11263\teval-auc:0.88735\ttrain-error:0.11265\ttrain-auc:0.88736\n"
     ]
    }
   ],
   "source": [
    "# XGB Train\n",
    "booster = xgb.train(param, dtrain, epochs, evallist)"
   ]
  },
  {
   "cell_type": "code",
   "execution_count": 22,
   "metadata": {},
   "outputs": [
    {
     "data": {
      "text/plain": [
       "array([0., 0., 1., ..., 0., 0., 0.], dtype=float32)"
      ]
     },
     "execution_count": 22,
     "metadata": {},
     "output_type": "execute_result"
    }
   ],
   "source": [
    "y_pred = booster.predict(dtest)\n",
    "y_pred"
   ]
  },
  {
   "cell_type": "code",
   "execution_count": 23,
   "metadata": {},
   "outputs": [
    {
     "data": {
      "image/png": "[encoded data removed]",
      "text/plain": [
       "<Figure size 432x288 with 1 Axes>"
      ]
     },
     "metadata": {
      "needs_background": "light"
     },
     "output_type": "display_data"
    }
   ],
   "source": [
    "xgb.plot_importance(booster);"
   ]
  },
  {
   "cell_type": "code",
   "execution_count": 24,
   "metadata": {},
   "outputs": [
    {
     "data": {
      "text/plain": [
       "0.8873732073115104"
      ]
     },
     "execution_count": 24,
     "metadata": {},
     "output_type": "execute_result"
    }
   ],
   "source": [
    "accuracy_score(y_test, y_pred)"
   ]
  },
  {
   "cell_type": "markdown",
   "metadata": {},
   "source": [
    "Za grupu 1 dobili smo točnost predikcije od 88.74%. Najvažniji indikatori su redom: `stat_194`, `stat_9`, `stat_1`, `stat_5`, `stat_2`, `stat_3`, `stat_4`, `stat_197`, `stat_192`, `stat_12`, `stat_8`, `stat_193` i `stat_196`."
   ]
  },
  {
   "cell_type": "markdown",
   "metadata": {},
   "source": [
    "### Modeling group2\n",
    "\n",
    "Ponavljam isti postupak za grupu 2. Promijenio sam hiperparametre za treniranje jer je dataset za grupu 2 puno manji, pa mogu ići u veću dubinu stabla i zavrtiti više epoha."
   ]
  },
  {
   "cell_type": "code",
   "execution_count": 27,
   "metadata": {},
   "outputs": [
    {
     "name": "stdout",
     "output_type": "stream",
     "text": [
      "[0]\teval-auc:0.50000\ttrain-auc:0.50000\n",
      "[1]\teval-auc:0.50000\ttrain-auc:0.50000\n",
      "[2]\teval-auc:0.70371\ttrain-auc:0.70270\n",
      "[3]\teval-auc:0.70073\ttrain-auc:0.70008\n",
      "[4]\teval-auc:0.76372\ttrain-auc:0.76225\n",
      "[5]\teval-auc:0.79667\ttrain-auc:0.79469\n",
      "[6]\teval-auc:0.88463\ttrain-auc:0.88532\n",
      "[7]\teval-auc:0.87876\ttrain-auc:0.87933\n",
      "[8]\teval-auc:0.88212\ttrain-auc:0.88261\n",
      "[9]\teval-auc:0.89939\ttrain-auc:0.90032\n",
      "[10]\teval-auc:0.88509\ttrain-auc:0.88559\n",
      "[11]\teval-auc:0.90411\ttrain-auc:0.90486\n",
      "[12]\teval-auc:0.90723\ttrain-auc:0.90791\n",
      "[13]\teval-auc:0.90770\ttrain-auc:0.90827\n",
      "[14]\teval-auc:0.91634\ttrain-auc:0.91691\n"
     ]
    }
   ],
   "source": [
    "df_x_rs = pd.read_csv('2020_group2_inp_rs.csv').values\n",
    "df_y_rs = pd.read_csv('2020_group2_out_rs.csv').values\n",
    "x_train, x_test, y_train, y_test = train_test_split(df_x_rs, df_y_rs, test_size=0.2, random_state=57)\n",
    "dtrain = xgb.DMatrix(x_train, label=y_train)\n",
    "dtest = xgb.DMatrix(x_test, label=y_test)\n",
    "param = {\n",
    "    'max_depth': 6, \n",
    "    'eta': 0.2, \n",
    "    'objective': 'binary:hinge',\n",
    "    'nthread': 4,\n",
    "    'eval_metric': 'auc'\n",
    "}\n",
    "evallist = [(dtest, 'eval'), (dtrain, 'train')]\n",
    "epochs = 15\n",
    "booster = xgb.train(param, dtrain, epochs, evallist)"
   ]
  },
  {
   "cell_type": "code",
   "execution_count": 28,
   "metadata": {},
   "outputs": [
    {
     "data": {
      "image/png": "[encoded data removed]",
      "text/plain": [
       "<Figure size 432x288 with 1 Axes>"
      ]
     },
     "metadata": {
      "needs_background": "light"
     },
     "output_type": "display_data"
    }
   ],
   "source": [
    "y_pred = booster.predict(dtest)\n",
    "xgb.plot_importance(booster);"
   ]
  },
  {
   "cell_type": "code",
   "execution_count": 29,
   "metadata": {},
   "outputs": [
    {
     "data": {
      "text/plain": [
       "0.916176617163361"
      ]
     },
     "execution_count": 29,
     "metadata": {},
     "output_type": "execute_result"
    }
   ],
   "source": [
    "accuracy_score(y_test, y_pred)"
   ]
  },
  {
   "cell_type": "markdown",
   "metadata": {},
   "source": [
    " Točnost sa 15 epoha i *etom* = 0.2 iznosi 91.62%. Najvažniji indikatori su: `stat_9`, `stat_1`, `stat_3`, `stat_4`, `stat_193`, `stat_194`, `stat_192`, `stat_191`, `stat_12`, `stat_200`, `stat_197`, `stat_5` i `stat_199`.\n"
   ]
  },
  {
   "cell_type": "markdown",
   "metadata": {},
   "source": [
    "### Modeling group3\n",
    "Ponovo manji dataset, pa prilagođavam broj epoha na 45, da vidim kako se kreće točnost."
   ]
  },
  {
   "cell_type": "code",
   "execution_count": 33,
   "metadata": {},
   "outputs": [
    {
     "name": "stdout",
     "output_type": "stream",
     "text": [
      "[0]\teval-auc:0.50000\ttrain-auc:0.50000\n",
      "[1]\teval-auc:0.50000\ttrain-auc:0.50000\n",
      "[2]\teval-auc:0.91656\ttrain-auc:0.91770\n",
      "[3]\teval-auc:0.94596\ttrain-auc:0.94773\n",
      "[4]\teval-auc:0.94601\ttrain-auc:0.94780\n",
      "[5]\teval-auc:0.94617\ttrain-auc:0.94793\n",
      "[6]\teval-auc:0.94632\ttrain-auc:0.94806\n",
      "[7]\teval-auc:0.94617\ttrain-auc:0.94790\n",
      "[8]\teval-auc:0.94617\ttrain-auc:0.94790\n",
      "[9]\teval-auc:0.95576\ttrain-auc:0.95733\n",
      "[10]\teval-auc:0.95605\ttrain-auc:0.95752\n",
      "[11]\teval-auc:0.96379\ttrain-auc:0.96447\n",
      "[12]\teval-auc:0.96391\ttrain-auc:0.96459\n",
      "[13]\teval-auc:0.96410\ttrain-auc:0.96477\n",
      "[14]\teval-auc:0.96527\ttrain-auc:0.96605\n",
      "[15]\teval-auc:0.96515\ttrain-auc:0.96589\n",
      "[16]\teval-auc:0.96645\ttrain-auc:0.96724\n",
      "[17]\teval-auc:0.96774\ttrain-auc:0.96814\n",
      "[18]\teval-auc:0.97212\ttrain-auc:0.97253\n",
      "[19]\teval-auc:0.97329\ttrain-auc:0.97377\n",
      "[20]\teval-auc:0.97336\ttrain-auc:0.97379\n",
      "[21]\teval-auc:0.97613\ttrain-auc:0.97659\n",
      "[22]\teval-auc:0.97728\ttrain-auc:0.97765\n",
      "[23]\teval-auc:0.97934\ttrain-auc:0.97952\n",
      "[24]\teval-auc:0.98148\ttrain-auc:0.98180\n",
      "[25]\teval-auc:0.98282\ttrain-auc:0.98317\n",
      "[26]\teval-auc:0.98415\ttrain-auc:0.98427\n",
      "[27]\teval-auc:0.98328\ttrain-auc:0.98371\n",
      "[28]\teval-auc:0.98669\ttrain-auc:0.98669\n",
      "[29]\teval-auc:0.98769\ttrain-auc:0.98779\n",
      "[30]\teval-auc:0.98843\ttrain-auc:0.98828\n",
      "[31]\teval-auc:0.98894\ttrain-auc:0.98874\n",
      "[32]\teval-auc:0.98903\ttrain-auc:0.98874\n",
      "[33]\teval-auc:0.98956\ttrain-auc:0.98933\n",
      "[34]\teval-auc:0.98974\ttrain-auc:0.98941\n",
      "[35]\teval-auc:0.99046\ttrain-auc:0.99010\n",
      "[36]\teval-auc:0.99159\ttrain-auc:0.99128\n",
      "[37]\teval-auc:0.99158\ttrain-auc:0.99130\n",
      "[38]\teval-auc:0.99179\ttrain-auc:0.99141\n",
      "[39]\teval-auc:0.99255\ttrain-auc:0.99223\n",
      "[40]\teval-auc:0.99204\ttrain-auc:0.99185\n",
      "[41]\teval-auc:0.99269\ttrain-auc:0.99248\n",
      "[42]\teval-auc:0.99237\ttrain-auc:0.99229\n",
      "[43]\teval-auc:0.99330\ttrain-auc:0.99315\n",
      "[44]\teval-auc:0.99303\ttrain-auc:0.99292\n"
     ]
    }
   ],
   "source": [
    "df_x_rs = pd.read_csv('2020_group3_inp_rs.csv').values\n",
    "df_y_rs = pd.read_csv('2020_group3_out_rs.csv').values\n",
    "x_train, x_test, y_train, y_test = train_test_split(df_x_rs, df_y_rs, test_size=0.4, random_state=22)\n",
    "dtrain = xgb.DMatrix(x_train, label=y_train)\n",
    "dtest = xgb.DMatrix(x_test, label=y_test)\n",
    "param = {\n",
    "    'max_depth': 4, \n",
    "    'eta': 0.22, \n",
    "    'objective': 'binary:hinge',\n",
    "    'nthread': 4,\n",
    "    'eval_metric': 'auc'\n",
    "}\n",
    "evallist = [(dtest, 'eval'), (dtrain, 'train')]\n",
    "epochs = 45\n",
    "booster = xgb.train(param, dtrain, epochs, evallist)"
   ]
  },
  {
   "cell_type": "code",
   "execution_count": 34,
   "metadata": {},
   "outputs": [
    {
     "data": {
      "image/png": "[encoded data removed]",
      "text/plain": [
       "<Figure size 432x288 with 1 Axes>"
      ]
     },
     "metadata": {
      "needs_background": "light"
     },
     "output_type": "display_data"
    }
   ],
   "source": [
    "y_pred = booster.predict(dtest)\n",
    "xgb.plot_importance(booster);"
   ]
  },
  {
   "cell_type": "code",
   "execution_count": 35,
   "metadata": {},
   "outputs": [
    {
     "data": {
      "text/plain": [
       "0.9930354033662218"
      ]
     },
     "execution_count": 35,
     "metadata": {},
     "output_type": "execute_result"
    }
   ],
   "source": [
    "accuracy_score(y_test, y_pred)"
   ]
  },
  {
   "cell_type": "markdown",
   "metadata": {},
   "source": [
    "Za ovu skupinu dolazim do preko 99% točnosti. Najvažniji parametri su `stat_9`, `stat_3`, `stat_194`, `stat_1`, `stat_192`, `stat_4`, `stat_12`, `stat_193`, `stat_199` i `stat_5`."
   ]
  },
  {
   "cell_type": "markdown",
   "metadata": {},
   "source": [
    "### Modeling group4"
   ]
  },
  {
   "cell_type": "code",
   "execution_count": 36,
   "metadata": {},
   "outputs": [
    {
     "name": "stdout",
     "output_type": "stream",
     "text": [
      "[22:54:24] WARNING: /Users/travis/build/dmlc/xgboost/src/gbm/gbtree.cc:139: Tree method is automatically selected to be 'approx' for faster speed. To use old behavior (exact greedy algorithm on single machine), set tree_method to 'exact'.\n",
      "[0]\teval-auc:0.50000\ttrain-auc:0.50000\n",
      "[1]\teval-auc:0.50002\ttrain-auc:0.50002\n",
      "[2]\teval-auc:0.73245\ttrain-auc:0.73230\n",
      "[3]\teval-auc:0.76492\ttrain-auc:0.76486\n",
      "[4]\teval-auc:0.77022\ttrain-auc:0.77016\n",
      "[5]\teval-auc:0.84282\ttrain-auc:0.84252\n",
      "[6]\teval-auc:0.84193\ttrain-auc:0.84167\n",
      "[7]\teval-auc:0.84225\ttrain-auc:0.84201\n",
      "[8]\teval-auc:0.84410\ttrain-auc:0.84385\n",
      "[9]\teval-auc:0.84416\ttrain-auc:0.84393\n"
     ]
    }
   ],
   "source": [
    "df_x_rs = pd.read_csv('2020_group4_inp_rs.csv').values\n",
    "df_y_rs = pd.read_csv('2020_group4_out_rs.csv').values\n",
    "x_train, x_test, y_train, y_test = train_test_split(df_x_rs, df_y_rs, test_size=0.4, random_state=42)\n",
    "dtrain = xgb.DMatrix(x_train, label=y_train)\n",
    "dtest = xgb.DMatrix(x_test, label=y_test)\n",
    "param = {\n",
    "    'max_depth': 4, \n",
    "    'eta': 0.275, \n",
    "    'objective': 'binary:hinge',\n",
    "    'nthread': 4,\n",
    "    'eval_metric': 'auc'\n",
    "}\n",
    "evallist = [(dtest, 'eval'), (dtrain, 'train')]\n",
    "epochs = 10\n",
    "booster = xgb.train(param, dtrain, epochs, evallist)"
   ]
  },
  {
   "cell_type": "code",
   "execution_count": 37,
   "metadata": {},
   "outputs": [
    {
     "data": {
      "image/png": "[encoded data removed]",
      "text/plain": [
       "<Figure size 432x288 with 1 Axes>"
      ]
     },
     "metadata": {
      "needs_background": "light"
     },
     "output_type": "display_data"
    }
   ],
   "source": [
    "y_pred = booster.predict(dtest)\n",
    "xgb.plot_importance(booster);"
   ]
  },
  {
   "cell_type": "code",
   "execution_count": 38,
   "metadata": {},
   "outputs": [
    {
     "data": {
      "text/plain": [
       "0.8441305218964591"
      ]
     },
     "execution_count": 38,
     "metadata": {},
     "output_type": "execute_result"
    }
   ],
   "source": [
    "accuracy_score(y_test, y_pred)"
   ]
  },
  {
   "cell_type": "markdown",
   "metadata": {},
   "source": [
    "Za ovu, podacima najbogatiju skupinu, bilo je potrebno vratiti se na 10 epoha. Konačna točnost je 84.41%, a imamo i neke nove indikatore: `stat_242`, `stat_9`, `stat_7`, `stat_197`, `stat_187`, `stat_193`, `stat_240` i `stat_5`."
   ]
  },
  {
   "cell_type": "markdown",
   "metadata": {},
   "source": [
    "### Results by group\n",
    "\n",
    "Uočavam da je jedan parametar u samome vrhu važnosti kod svakog grupnog modela, a to je `stat_9`. S obzirom da se radi o parametru koji uvijek samo raste s vremenom, dolazim do prirodnog zaključka da je **vjerojatnost kvara veća što je senzor dulje u uporabi**, s time da je uporaba ovog indikatora bolja nego primjena vremena, jer primjenom vremena gubimo informaciju koliki broj dana je senzor radio prije 1.1.2020.\n",
    "\n",
    "Neki od ostalih važnijih indikatora su `stat_194`, `stat_197`, `stat_4` i `stat_5`."
   ]
  },
  {
   "cell_type": "markdown",
   "metadata": {},
   "source": [
    "### Modeling all\n",
    "Za usporedbu, napravljen je SMOTE nad cjelovitim uzorkom, bez grupiranja, ali samo sa indikatorima koji su u zadatku navedeni kao prediktivni. Kod za generiranje podataka je sličan onome iznad, a podaci su pohranjeni u 2 datoteke, spremne za boosting model. Treniram:"
   ]
  },
  {
   "cell_type": "code",
   "execution_count": 2,
   "metadata": {},
   "outputs": [
    {
     "name": "stdout",
     "output_type": "stream",
     "text": [
      "[23:23:06] WARNING: /Users/travis/build/dmlc/xgboost/src/gbm/gbtree.cc:139: Tree method is automatically selected to be 'approx' for faster speed. To use old behavior (exact greedy algorithm on single machine), set tree_method to 'exact'.\n",
      "[0]\teval-auc:0.50000\ttrain-auc:0.50000\n",
      "[1]\teval-auc:0.50002\ttrain-auc:0.50002\n",
      "[2]\teval-auc:0.87043\ttrain-auc:0.87054\n",
      "[3]\teval-auc:0.87601\ttrain-auc:0.87607\n",
      "[4]\teval-auc:0.87406\ttrain-auc:0.87413\n",
      "[5]\teval-auc:0.88020\ttrain-auc:0.88033\n",
      "[6]\teval-auc:0.88020\ttrain-auc:0.88033\n",
      "[7]\teval-auc:0.88022\ttrain-auc:0.88035\n",
      "[8]\teval-auc:0.88883\ttrain-auc:0.88894\n",
      "[9]\teval-auc:0.88886\ttrain-auc:0.88897\n"
     ]
    }
   ],
   "source": [
    "df_x_rs = pd.read_csv('2020_reduced_inp_rs.csv').values\n",
    "df_y_rs = pd.read_csv('2020_reduced_out_rs.csv').values\n",
    "x_train, x_test, y_train, y_test = train_test_split(df_x_rs, df_y_rs, test_size=0.4, random_state=42)\n",
    "dtrain = xgb.DMatrix(x_train, label=y_train)\n",
    "dtest = xgb.DMatrix(x_test, label=y_test)\n",
    "param = {\n",
    "    'max_depth': 4, \n",
    "    'eta': 0.3, \n",
    "    'objective': 'binary:hinge',\n",
    "    'nthread': 4,\n",
    "    'eval_metric': 'auc'\n",
    "}\n",
    "evallist = [(dtest, 'eval'), (dtrain, 'train')]\n",
    "epochs = 10\n",
    "booster = xgb.train(param, dtrain, epochs, evallist)"
   ]
  },
  {
   "cell_type": "code",
   "execution_count": 3,
   "metadata": {},
   "outputs": [
    {
     "data": {
      "image/png": "[encoded data removed]",
      "text/plain": [
       "<Figure size 432x288 with 1 Axes>"
      ]
     },
     "metadata": {
      "needs_background": "light"
     },
     "output_type": "display_data"
    }
   ],
   "source": [
    "y_pred = booster.predict(dtest)\n",
    "xgb.plot_importance(booster);"
   ]
  },
  {
   "cell_type": "code",
   "execution_count": 4,
   "metadata": {},
   "outputs": [
    {
     "data": {
      "text/plain": [
       "0.888872771194193"
      ]
     },
     "execution_count": 4,
     "metadata": {},
     "output_type": "execute_result"
    }
   ],
   "source": [
    "accuracy_score(y_test, y_pred)"
   ]
  },
  {
   "cell_type": "markdown",
   "metadata": {},
   "source": [
    "Treniranjem nad prediktivnim indikatorima dobijem sličnu točnost kao i kad se ponderiraju točnosti po grupama, ukupno 88.89%. Glavni indikatori ovog pristupa su: `stat_3`, `stat_188`, `stat_4`, `stat_5`, `stat_197` i `stat_187`."
   ]
  },
  {
   "cell_type": "code",
   "execution_count": null,
   "metadata": {},
   "outputs": [],
   "source": []
  }
 ],
 "metadata": {
  "kernelspec": {
   "display_name": "Python 3.8.3 64-bit ('sensor-env')",
   "language": "python",
   "name": "python38364bitsensorenv9226f5fad7984dac8c8a5ac50ec4019b"
  },
  "language_info": {
   "codemirror_mode": {
    "name": "ipython",
    "version": 3
   },
   "file_extension": ".py",
   "mimetype": "text/x-python",
   "name": "python",
   "nbconvert_exporter": "python",
   "pygments_lexer": "ipython3",
   "version": "3.8.3"
  }
 },
 "nbformat": 4,
 "nbformat_minor": 2
}
